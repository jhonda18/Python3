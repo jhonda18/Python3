{
  "nbformat": 4,
  "nbformat_minor": 0,
  "metadata": {
    "colab": {
      "name": "Clase_3-20210424.ipynb",
      "provenance": [],
      "include_colab_link": true
    },
    "kernelspec": {
      "name": "python3",
      "display_name": "Python 3"
    },
    "language_info": {
      "name": "python"
    }
  },
  "cells": [
    {
      "cell_type": "markdown",
      "metadata": {
        "id": "view-in-github",
        "colab_type": "text"
      },
      "source": [
        "<a href=\"https://colab.research.google.com/github/jhonda18/Python3/blob/main/Clase_3_20210424.ipynb\" target=\"_parent\"><img src=\"https://colab.research.google.com/assets/colab-badge.svg\" alt=\"Open In Colab\"/></a>"
      ]
    },
    {
      "cell_type": "markdown",
      "metadata": {
        "id": "dndg1nPK-hgv"
      },
      "source": [
        "# Carga de módulos (Librerías)\n",
        "\n",
        "\n",
        "### Inspeccionar un DataFrame\n",
        "\n",
        "Cuando tiene un DataFrame para trabajar, lo primero que debemos hacer es explorarlo y ver que contiene. Hay varios métodos y atributos para esto:\n",
        "\n",
        "* **.head()** devuelve las primeras filas del DataFrame\n",
        "* **.info()** muestra información sobre cada una de las columnas, como el tipo de datos y el número de valores missing (nulos).\n",
        "* **.shape** devuelve una tupla con el número de filas y columnas del DataFrame\n",
        "* **.describe()** calcula algunas estadísticas de resumen para cada columna."
      ]
    },
    {
      "cell_type": "code",
      "metadata": {
        "id": "SL0sGh1g-LA3"
      },
      "source": [
        "import numpy as np\n",
        "import pandas as pd"
      ],
      "execution_count": null,
      "outputs": []
    },
    {
      "cell_type": "code",
      "metadata": {
        "colab": {
          "base_uri": "https://localhost:8080/",
          "height": 219
        },
        "id": "r3naKPrHAk49",
        "outputId": "adb71f05-b164-43c8-d2b3-6fae8709a5b6"
      },
      "source": [
        "path = \"https://raw.githubusercontent.com/stivenlopezg/Modulo-Python-3/master/data/diabetes.csv\"\n",
        "\n",
        "schema = {'PatientID': 'category',\n",
        "          'Diabetic': 'category'}\n",
        "\n",
        "diabetes = pd.read_csv(path, dtype=schema)\n",
        "print(f\"El set de datos tiene {diabetes.shape[0]} observaciones, y {diabetes.shape[1]} variables.\")\n",
        "diabetes.head()"
      ],
      "execution_count": null,
      "outputs": [
        {
          "output_type": "stream",
          "text": [
            "El set de datos tiene 15000 observaciones, y 10 variables.\n"
          ],
          "name": "stdout"
        },
        {
          "output_type": "execute_result",
          "data": {
            "text/html": [
              "<div>\n",
              "<style scoped>\n",
              "    .dataframe tbody tr th:only-of-type {\n",
              "        vertical-align: middle;\n",
              "    }\n",
              "\n",
              "    .dataframe tbody tr th {\n",
              "        vertical-align: top;\n",
              "    }\n",
              "\n",
              "    .dataframe thead th {\n",
              "        text-align: right;\n",
              "    }\n",
              "</style>\n",
              "<table border=\"1\" class=\"dataframe\">\n",
              "  <thead>\n",
              "    <tr style=\"text-align: right;\">\n",
              "      <th></th>\n",
              "      <th>PatientID</th>\n",
              "      <th>Pregnancies</th>\n",
              "      <th>PlasmaGlucose</th>\n",
              "      <th>DiastolicBloodPressure</th>\n",
              "      <th>TricepsThickness</th>\n",
              "      <th>SerumInsulin</th>\n",
              "      <th>BMI</th>\n",
              "      <th>DiabetesPedigree</th>\n",
              "      <th>Age</th>\n",
              "      <th>Diabetic</th>\n",
              "    </tr>\n",
              "  </thead>\n",
              "  <tbody>\n",
              "    <tr>\n",
              "      <th>0</th>\n",
              "      <td>1354778</td>\n",
              "      <td>0</td>\n",
              "      <td>171</td>\n",
              "      <td>80</td>\n",
              "      <td>34</td>\n",
              "      <td>23</td>\n",
              "      <td>43.509726</td>\n",
              "      <td>1.213191</td>\n",
              "      <td>21</td>\n",
              "      <td>0</td>\n",
              "    </tr>\n",
              "    <tr>\n",
              "      <th>1</th>\n",
              "      <td>1147438</td>\n",
              "      <td>8</td>\n",
              "      <td>92</td>\n",
              "      <td>93</td>\n",
              "      <td>47</td>\n",
              "      <td>36</td>\n",
              "      <td>21.240576</td>\n",
              "      <td>0.158365</td>\n",
              "      <td>23</td>\n",
              "      <td>0</td>\n",
              "    </tr>\n",
              "    <tr>\n",
              "      <th>2</th>\n",
              "      <td>1640031</td>\n",
              "      <td>7</td>\n",
              "      <td>115</td>\n",
              "      <td>47</td>\n",
              "      <td>52</td>\n",
              "      <td>35</td>\n",
              "      <td>41.511523</td>\n",
              "      <td>0.079019</td>\n",
              "      <td>23</td>\n",
              "      <td>0</td>\n",
              "    </tr>\n",
              "    <tr>\n",
              "      <th>3</th>\n",
              "      <td>1883350</td>\n",
              "      <td>9</td>\n",
              "      <td>103</td>\n",
              "      <td>78</td>\n",
              "      <td>25</td>\n",
              "      <td>304</td>\n",
              "      <td>29.582192</td>\n",
              "      <td>1.282870</td>\n",
              "      <td>43</td>\n",
              "      <td>1</td>\n",
              "    </tr>\n",
              "    <tr>\n",
              "      <th>4</th>\n",
              "      <td>1424119</td>\n",
              "      <td>1</td>\n",
              "      <td>85</td>\n",
              "      <td>59</td>\n",
              "      <td>27</td>\n",
              "      <td>35</td>\n",
              "      <td>42.604536</td>\n",
              "      <td>0.549542</td>\n",
              "      <td>22</td>\n",
              "      <td>0</td>\n",
              "    </tr>\n",
              "  </tbody>\n",
              "</table>\n",
              "</div>"
            ],
            "text/plain": [
              "  PatientID  Pregnancies  PlasmaGlucose  ...  DiabetesPedigree  Age  Diabetic\n",
              "0   1354778            0            171  ...          1.213191   21         0\n",
              "1   1147438            8             92  ...          0.158365   23         0\n",
              "2   1640031            7            115  ...          0.079019   23         0\n",
              "3   1883350            9            103  ...          1.282870   43         1\n",
              "4   1424119            1             85  ...          0.549542   22         0\n",
              "\n",
              "[5 rows x 10 columns]"
            ]
          },
          "metadata": {
            "tags": []
          },
          "execution_count": 7
        }
      ]
    },
    {
      "cell_type": "code",
      "metadata": {
        "colab": {
          "base_uri": "https://localhost:8080/"
        },
        "id": "g2bAy6EkCcKH",
        "outputId": "cd0f6d7c-aaec-4103-8ced-76fd36cfe7e8"
      },
      "source": [
        "diabetes.info()"
      ],
      "execution_count": null,
      "outputs": [
        {
          "output_type": "stream",
          "text": [
            "<class 'pandas.core.frame.DataFrame'>\n",
            "RangeIndex: 15000 entries, 0 to 14999\n",
            "Data columns (total 10 columns):\n",
            " #   Column                  Non-Null Count  Dtype   \n",
            "---  ------                  --------------  -----   \n",
            " 0   PatientID               15000 non-null  category\n",
            " 1   Pregnancies             15000 non-null  int64   \n",
            " 2   PlasmaGlucose           15000 non-null  int64   \n",
            " 3   DiastolicBloodPressure  15000 non-null  int64   \n",
            " 4   TricepsThickness        15000 non-null  int64   \n",
            " 5   SerumInsulin            15000 non-null  int64   \n",
            " 6   BMI                     15000 non-null  float64 \n",
            " 7   DiabetesPedigree        15000 non-null  float64 \n",
            " 8   Age                     15000 non-null  int64   \n",
            " 9   Diabetic                15000 non-null  category\n",
            "dtypes: category(2), float64(2), int64(6)\n",
            "memory usage: 1.7 MB\n"
          ],
          "name": "stdout"
        }
      ]
    },
    {
      "cell_type": "code",
      "metadata": {
        "colab": {
          "base_uri": "https://localhost:8080/",
          "height": 294
        },
        "id": "6lFC0awME3Vf",
        "outputId": "51ce375a-ec32-4236-f43d-e4b1eaaa35c4"
      },
      "source": [
        "diabetes.describe()"
      ],
      "execution_count": null,
      "outputs": [
        {
          "output_type": "execute_result",
          "data": {
            "text/html": [
              "<div>\n",
              "<style scoped>\n",
              "    .dataframe tbody tr th:only-of-type {\n",
              "        vertical-align: middle;\n",
              "    }\n",
              "\n",
              "    .dataframe tbody tr th {\n",
              "        vertical-align: top;\n",
              "    }\n",
              "\n",
              "    .dataframe thead th {\n",
              "        text-align: right;\n",
              "    }\n",
              "</style>\n",
              "<table border=\"1\" class=\"dataframe\">\n",
              "  <thead>\n",
              "    <tr style=\"text-align: right;\">\n",
              "      <th></th>\n",
              "      <th>Pregnancies</th>\n",
              "      <th>PlasmaGlucose</th>\n",
              "      <th>DiastolicBloodPressure</th>\n",
              "      <th>TricepsThickness</th>\n",
              "      <th>SerumInsulin</th>\n",
              "      <th>BMI</th>\n",
              "      <th>DiabetesPedigree</th>\n",
              "      <th>Age</th>\n",
              "    </tr>\n",
              "  </thead>\n",
              "  <tbody>\n",
              "    <tr>\n",
              "      <th>count</th>\n",
              "      <td>15000.000000</td>\n",
              "      <td>15000.000000</td>\n",
              "      <td>15000.000000</td>\n",
              "      <td>15000.000000</td>\n",
              "      <td>15000.000000</td>\n",
              "      <td>15000.000000</td>\n",
              "      <td>15000.000000</td>\n",
              "      <td>15000.000000</td>\n",
              "    </tr>\n",
              "    <tr>\n",
              "      <th>mean</th>\n",
              "      <td>3.224533</td>\n",
              "      <td>107.856867</td>\n",
              "      <td>71.220667</td>\n",
              "      <td>28.814000</td>\n",
              "      <td>137.852133</td>\n",
              "      <td>31.509646</td>\n",
              "      <td>0.398968</td>\n",
              "      <td>30.137733</td>\n",
              "    </tr>\n",
              "    <tr>\n",
              "      <th>std</th>\n",
              "      <td>3.391020</td>\n",
              "      <td>31.981975</td>\n",
              "      <td>16.758716</td>\n",
              "      <td>14.555716</td>\n",
              "      <td>133.068252</td>\n",
              "      <td>9.759000</td>\n",
              "      <td>0.377944</td>\n",
              "      <td>12.089703</td>\n",
              "    </tr>\n",
              "    <tr>\n",
              "      <th>min</th>\n",
              "      <td>0.000000</td>\n",
              "      <td>44.000000</td>\n",
              "      <td>24.000000</td>\n",
              "      <td>7.000000</td>\n",
              "      <td>14.000000</td>\n",
              "      <td>18.200512</td>\n",
              "      <td>0.078044</td>\n",
              "      <td>21.000000</td>\n",
              "    </tr>\n",
              "    <tr>\n",
              "      <th>25%</th>\n",
              "      <td>0.000000</td>\n",
              "      <td>84.000000</td>\n",
              "      <td>58.000000</td>\n",
              "      <td>15.000000</td>\n",
              "      <td>39.000000</td>\n",
              "      <td>21.259887</td>\n",
              "      <td>0.137743</td>\n",
              "      <td>22.000000</td>\n",
              "    </tr>\n",
              "    <tr>\n",
              "      <th>50%</th>\n",
              "      <td>2.000000</td>\n",
              "      <td>104.000000</td>\n",
              "      <td>72.000000</td>\n",
              "      <td>31.000000</td>\n",
              "      <td>83.000000</td>\n",
              "      <td>31.767940</td>\n",
              "      <td>0.200297</td>\n",
              "      <td>24.000000</td>\n",
              "    </tr>\n",
              "    <tr>\n",
              "      <th>75%</th>\n",
              "      <td>6.000000</td>\n",
              "      <td>129.000000</td>\n",
              "      <td>85.000000</td>\n",
              "      <td>41.000000</td>\n",
              "      <td>195.000000</td>\n",
              "      <td>39.259692</td>\n",
              "      <td>0.616285</td>\n",
              "      <td>35.000000</td>\n",
              "    </tr>\n",
              "    <tr>\n",
              "      <th>max</th>\n",
              "      <td>14.000000</td>\n",
              "      <td>192.000000</td>\n",
              "      <td>117.000000</td>\n",
              "      <td>93.000000</td>\n",
              "      <td>799.000000</td>\n",
              "      <td>56.034628</td>\n",
              "      <td>2.301594</td>\n",
              "      <td>77.000000</td>\n",
              "    </tr>\n",
              "  </tbody>\n",
              "</table>\n",
              "</div>"
            ],
            "text/plain": [
              "        Pregnancies  PlasmaGlucose  ...  DiabetesPedigree           Age\n",
              "count  15000.000000   15000.000000  ...      15000.000000  15000.000000\n",
              "mean       3.224533     107.856867  ...          0.398968     30.137733\n",
              "std        3.391020      31.981975  ...          0.377944     12.089703\n",
              "min        0.000000      44.000000  ...          0.078044     21.000000\n",
              "25%        0.000000      84.000000  ...          0.137743     22.000000\n",
              "50%        2.000000     104.000000  ...          0.200297     24.000000\n",
              "75%        6.000000     129.000000  ...          0.616285     35.000000\n",
              "max       14.000000     192.000000  ...          2.301594     77.000000\n",
              "\n",
              "[8 rows x 8 columns]"
            ]
          },
          "metadata": {
            "tags": []
          },
          "execution_count": 8
        }
      ]
    },
    {
      "cell_type": "code",
      "metadata": {
        "colab": {
          "base_uri": "https://localhost:8080/",
          "height": 171
        },
        "id": "5Gud9mqqFVx9",
        "outputId": "a86c3120-ab82-4268-d590-5cbc6c74550c"
      },
      "source": [
        "diabetes.describe(exclude='number')"
      ],
      "execution_count": null,
      "outputs": [
        {
          "output_type": "execute_result",
          "data": {
            "text/html": [
              "<div>\n",
              "<style scoped>\n",
              "    .dataframe tbody tr th:only-of-type {\n",
              "        vertical-align: middle;\n",
              "    }\n",
              "\n",
              "    .dataframe tbody tr th {\n",
              "        vertical-align: top;\n",
              "    }\n",
              "\n",
              "    .dataframe thead th {\n",
              "        text-align: right;\n",
              "    }\n",
              "</style>\n",
              "<table border=\"1\" class=\"dataframe\">\n",
              "  <thead>\n",
              "    <tr style=\"text-align: right;\">\n",
              "      <th></th>\n",
              "      <th>PatientID</th>\n",
              "      <th>Diabetic</th>\n",
              "    </tr>\n",
              "  </thead>\n",
              "  <tbody>\n",
              "    <tr>\n",
              "      <th>count</th>\n",
              "      <td>15000</td>\n",
              "      <td>15000</td>\n",
              "    </tr>\n",
              "    <tr>\n",
              "      <th>unique</th>\n",
              "      <td>14895</td>\n",
              "      <td>2</td>\n",
              "    </tr>\n",
              "    <tr>\n",
              "      <th>top</th>\n",
              "      <td>1127499</td>\n",
              "      <td>0</td>\n",
              "    </tr>\n",
              "    <tr>\n",
              "      <th>freq</th>\n",
              "      <td>2</td>\n",
              "      <td>10000</td>\n",
              "    </tr>\n",
              "  </tbody>\n",
              "</table>\n",
              "</div>"
            ],
            "text/plain": [
              "       PatientID Diabetic\n",
              "count      15000    15000\n",
              "unique     14895        2\n",
              "top      1127499        0\n",
              "freq           2    10000"
            ]
          },
          "metadata": {
            "tags": []
          },
          "execution_count": 9
        }
      ]
    },
    {
      "cell_type": "markdown",
      "metadata": {
        "id": "-sus0ZPOGg2u"
      },
      "source": [
        "El conjunto de datos tiene 11 variables y 15000 registros, donde estas variables son:\n",
        "\n",
        "* *PatientID*: El ID del paciente.\n",
        "* *Pregnancies*: El número de embarazos.\n",
        "* *PlasmaGlucose*: Concentración de glucosa a 2 horas, en una prueba de tolerancia oral a la glucosa.\n",
        "* *DiastolicBloodPressure*: Presión arterial diastólica.\n",
        "* *TricepsThickness*: Espesor del pliegue cutaneo del triceps.\n",
        "* *SerumInsulin*: Insulina Sérica de dos horas.\n",
        "* *BMI*: Indice de masa corporal.\n",
        "* *DiabetesPedigree*: Función pedigree de la diabetes.\n",
        "* *Age*: Edad expresada en años.\n",
        "* *Diabetic*: Si la persona tiene diabetes o no (Si=1, No=0).\n",
        "\n",
        "### Partes de un DataFrame\n",
        "\n",
        "Es útil saber que los DataFrames constan de tres componentes, almacenados como atributos:\n",
        "\n",
        "* **.values**: Una matriz de valores *Numpy* bidimensional.\n",
        "* **.columns**: Un índice de columnas: los nombres de las columnas.\n",
        "* **.index**: Un índice para las filas: números de fila o nombres de fila."
      ]
    },
    {
      "cell_type": "code",
      "metadata": {
        "colab": {
          "base_uri": "https://localhost:8080/"
        },
        "id": "_T1-NM--GGyD",
        "outputId": "002efcad-6ce8-4f4e-e64e-6f6cda0d9551"
      },
      "source": [
        "diabetes.index"
      ],
      "execution_count": null,
      "outputs": [
        {
          "output_type": "execute_result",
          "data": {
            "text/plain": [
              "RangeIndex(start=0, stop=15000, step=1)"
            ]
          },
          "metadata": {
            "tags": []
          },
          "execution_count": 10
        }
      ]
    },
    {
      "cell_type": "code",
      "metadata": {
        "colab": {
          "base_uri": "https://localhost:8080/"
        },
        "id": "saQF9OMwHAwU",
        "outputId": "8b61a447-6abd-4c90-f7d1-6808b65ae52f"
      },
      "source": [
        "diabetes.columns"
      ],
      "execution_count": null,
      "outputs": [
        {
          "output_type": "execute_result",
          "data": {
            "text/plain": [
              "Index(['PatientID', 'Pregnancies', 'PlasmaGlucose', 'DiastolicBloodPressure',\n",
              "       'TricepsThickness', 'SerumInsulin', 'BMI', 'DiabetesPedigree', 'Age',\n",
              "       'Diabetic'],\n",
              "      dtype='object')"
            ]
          },
          "metadata": {
            "tags": []
          },
          "execution_count": 11
        }
      ]
    },
    {
      "cell_type": "code",
      "metadata": {
        "colab": {
          "base_uri": "https://localhost:8080/"
        },
        "id": "art7PGPLHJ3d",
        "outputId": "20c3bbc8-6798-4c8e-be82-2a1e6b70f4fc"
      },
      "source": [
        "diabetes.values"
      ],
      "execution_count": null,
      "outputs": [
        {
          "output_type": "execute_result",
          "data": {
            "text/plain": [
              "array([['1354778', 0, 171, ..., 1.213191354, 21, '0'],\n",
              "       ['1147438', 8, 92, ..., 0.158364981, 23, '0'],\n",
              "       ['1640031', 7, 115, ..., 0.079018568, 23, '0'],\n",
              "       ...,\n",
              "       ['1742742', 0, 93, ..., 0.427048955, 24, '0'],\n",
              "       ['1099353', 0, 132, ..., 0.302257208, 23, '0'],\n",
              "       ['1386396', 3, 114, ..., 0.14736285, 34, '1']], dtype=object)"
            ]
          },
          "metadata": {
            "tags": []
          },
          "execution_count": 12
        }
      ]
    },
    {
      "cell_type": "markdown",
      "metadata": {
        "id": "E1GxTOKXHvQM"
      },
      "source": [
        "### Ordenar filas\n",
        "\n",
        "Para entender un poco más los datos, podemos ordenar las filas usando el método **.sort_values()**.\n"
      ]
    },
    {
      "cell_type": "code",
      "metadata": {
        "id": "Z6RPMHhwHYrS"
      },
      "source": [
        "diabetes.sort_values(by=['PatientID', 'Age'], ascending=[True, True], inplace=True)\n",
        "\n",
        "# diabetes = diabetes.sort_values(by=['PatientID', 'Age'], ascending=[True, True])"
      ],
      "execution_count": null,
      "outputs": []
    },
    {
      "cell_type": "code",
      "metadata": {
        "colab": {
          "base_uri": "https://localhost:8080/",
          "height": 355
        },
        "id": "1MS8MRa8IuV6",
        "outputId": "747871eb-aec4-4e9a-f270-af5d4f3eefd0"
      },
      "source": [
        "diabetes.head(10)"
      ],
      "execution_count": null,
      "outputs": [
        {
          "output_type": "execute_result",
          "data": {
            "text/html": [
              "<div>\n",
              "<style scoped>\n",
              "    .dataframe tbody tr th:only-of-type {\n",
              "        vertical-align: middle;\n",
              "    }\n",
              "\n",
              "    .dataframe tbody tr th {\n",
              "        vertical-align: top;\n",
              "    }\n",
              "\n",
              "    .dataframe thead th {\n",
              "        text-align: right;\n",
              "    }\n",
              "</style>\n",
              "<table border=\"1\" class=\"dataframe\">\n",
              "  <thead>\n",
              "    <tr style=\"text-align: right;\">\n",
              "      <th></th>\n",
              "      <th>PatientID</th>\n",
              "      <th>Pregnancies</th>\n",
              "      <th>PlasmaGlucose</th>\n",
              "      <th>DiastolicBloodPressure</th>\n",
              "      <th>TricepsThickness</th>\n",
              "      <th>SerumInsulin</th>\n",
              "      <th>BMI</th>\n",
              "      <th>DiabetesPedigree</th>\n",
              "      <th>Age</th>\n",
              "      <th>Diabetic</th>\n",
              "    </tr>\n",
              "  </thead>\n",
              "  <tbody>\n",
              "    <tr>\n",
              "      <th>2294</th>\n",
              "      <td>1000038</td>\n",
              "      <td>0</td>\n",
              "      <td>117</td>\n",
              "      <td>88</td>\n",
              "      <td>32</td>\n",
              "      <td>607</td>\n",
              "      <td>43.906257</td>\n",
              "      <td>0.810828</td>\n",
              "      <td>23</td>\n",
              "      <td>0</td>\n",
              "    </tr>\n",
              "    <tr>\n",
              "      <th>12189</th>\n",
              "      <td>1000069</td>\n",
              "      <td>3</td>\n",
              "      <td>76</td>\n",
              "      <td>81</td>\n",
              "      <td>19</td>\n",
              "      <td>47</td>\n",
              "      <td>36.775178</td>\n",
              "      <td>0.084195</td>\n",
              "      <td>38</td>\n",
              "      <td>0</td>\n",
              "    </tr>\n",
              "    <tr>\n",
              "      <th>12633</th>\n",
              "      <td>1000118</td>\n",
              "      <td>0</td>\n",
              "      <td>144</td>\n",
              "      <td>95</td>\n",
              "      <td>7</td>\n",
              "      <td>34</td>\n",
              "      <td>37.317559</td>\n",
              "      <td>0.166225</td>\n",
              "      <td>21</td>\n",
              "      <td>0</td>\n",
              "    </tr>\n",
              "    <tr>\n",
              "      <th>1515</th>\n",
              "      <td>1000183</td>\n",
              "      <td>1</td>\n",
              "      <td>164</td>\n",
              "      <td>102</td>\n",
              "      <td>22</td>\n",
              "      <td>40</td>\n",
              "      <td>49.822233</td>\n",
              "      <td>0.294454</td>\n",
              "      <td>24</td>\n",
              "      <td>0</td>\n",
              "    </tr>\n",
              "    <tr>\n",
              "      <th>5928</th>\n",
              "      <td>1000326</td>\n",
              "      <td>3</td>\n",
              "      <td>116</td>\n",
              "      <td>43</td>\n",
              "      <td>45</td>\n",
              "      <td>207</td>\n",
              "      <td>29.833780</td>\n",
              "      <td>1.344658</td>\n",
              "      <td>46</td>\n",
              "      <td>1</td>\n",
              "    </tr>\n",
              "    <tr>\n",
              "      <th>3986</th>\n",
              "      <td>1000340</td>\n",
              "      <td>0</td>\n",
              "      <td>92</td>\n",
              "      <td>24</td>\n",
              "      <td>11</td>\n",
              "      <td>37</td>\n",
              "      <td>31.619982</td>\n",
              "      <td>0.124932</td>\n",
              "      <td>23</td>\n",
              "      <td>0</td>\n",
              "    </tr>\n",
              "    <tr>\n",
              "      <th>3532</th>\n",
              "      <td>1000471</td>\n",
              "      <td>1</td>\n",
              "      <td>53</td>\n",
              "      <td>59</td>\n",
              "      <td>37</td>\n",
              "      <td>51</td>\n",
              "      <td>35.250901</td>\n",
              "      <td>0.618805</td>\n",
              "      <td>22</td>\n",
              "      <td>0</td>\n",
              "    </tr>\n",
              "    <tr>\n",
              "      <th>11262</th>\n",
              "      <td>1000482</td>\n",
              "      <td>7</td>\n",
              "      <td>90</td>\n",
              "      <td>52</td>\n",
              "      <td>33</td>\n",
              "      <td>190</td>\n",
              "      <td>19.080371</td>\n",
              "      <td>0.250355</td>\n",
              "      <td>35</td>\n",
              "      <td>0</td>\n",
              "    </tr>\n",
              "    <tr>\n",
              "      <th>9611</th>\n",
              "      <td>1000510</td>\n",
              "      <td>1</td>\n",
              "      <td>88</td>\n",
              "      <td>60</td>\n",
              "      <td>8</td>\n",
              "      <td>20</td>\n",
              "      <td>21.141686</td>\n",
              "      <td>0.268369</td>\n",
              "      <td>23</td>\n",
              "      <td>0</td>\n",
              "    </tr>\n",
              "    <tr>\n",
              "      <th>6255</th>\n",
              "      <td>1000652</td>\n",
              "      <td>2</td>\n",
              "      <td>131</td>\n",
              "      <td>74</td>\n",
              "      <td>42</td>\n",
              "      <td>206</td>\n",
              "      <td>28.126824</td>\n",
              "      <td>0.196287</td>\n",
              "      <td>44</td>\n",
              "      <td>1</td>\n",
              "    </tr>\n",
              "  </tbody>\n",
              "</table>\n",
              "</div>"
            ],
            "text/plain": [
              "      PatientID  Pregnancies  PlasmaGlucose  ...  DiabetesPedigree  Age  Diabetic\n",
              "2294    1000038            0            117  ...          0.810828   23         0\n",
              "12189   1000069            3             76  ...          0.084195   38         0\n",
              "12633   1000118            0            144  ...          0.166225   21         0\n",
              "1515    1000183            1            164  ...          0.294454   24         0\n",
              "5928    1000326            3            116  ...          1.344658   46         1\n",
              "3986    1000340            0             92  ...          0.124932   23         0\n",
              "3532    1000471            1             53  ...          0.618805   22         0\n",
              "11262   1000482            7             90  ...          0.250355   35         0\n",
              "9611    1000510            1             88  ...          0.268369   23         0\n",
              "6255    1000652            2            131  ...          0.196287   44         1\n",
              "\n",
              "[10 rows x 10 columns]"
            ]
          },
          "metadata": {
            "tags": []
          },
          "execution_count": 14
        }
      ]
    },
    {
      "cell_type": "markdown",
      "metadata": {
        "id": "cs8_G9dcJJ2p"
      },
      "source": [
        "### Seleccionar columnas\n",
        "\n",
        "En muchas ocasiones no necesitará todas las variables en su set de datos, o incluso experimentará con unas pocas. Los corchetes (**[]**) se pueden utilizar para seleccionar solo las columnas de interés. Por ejemplo, para seleccionar la columna `salary` del DataFrame `data`, puede hacer lo siguiente: `data[\"salary\"]`\n"
      ]
    },
    {
      "cell_type": "code",
      "metadata": {
        "colab": {
          "base_uri": "https://localhost:8080/"
        },
        "id": "npFboCquI_1A",
        "outputId": "20674c22-3d4c-484e-d35e-a67b333a4b6c"
      },
      "source": [
        "diabetes.Diabetic\n",
        "diabetes[\"Diabetic\"]"
      ],
      "execution_count": null,
      "outputs": [
        {
          "output_type": "execute_result",
          "data": {
            "text/plain": [
              "2294     0\n",
              "12189    0\n",
              "12633    0\n",
              "1515     0\n",
              "5928     1\n",
              "        ..\n",
              "11580    1\n",
              "3473     1\n",
              "1326     0\n",
              "11026    0\n",
              "4012     0\n",
              "Name: Diabetic, Length: 15000, dtype: category\n",
              "Categories (2, object): ['0', '1']"
            ]
          },
          "metadata": {
            "tags": []
          },
          "execution_count": 17
        }
      ]
    },
    {
      "cell_type": "code",
      "metadata": {
        "colab": {
          "base_uri": "https://localhost:8080/",
          "height": 355
        },
        "id": "g8pDL1FDJbHm",
        "outputId": "998ede2a-0e99-4b0d-b1ff-64be152b0095"
      },
      "source": [
        "diabetes[[\"Age\", \"Diabetic\"]].sample(n=10, random_state=42)"
      ],
      "execution_count": null,
      "outputs": [
        {
          "output_type": "execute_result",
          "data": {
            "text/html": [
              "<div>\n",
              "<style scoped>\n",
              "    .dataframe tbody tr th:only-of-type {\n",
              "        vertical-align: middle;\n",
              "    }\n",
              "\n",
              "    .dataframe tbody tr th {\n",
              "        vertical-align: top;\n",
              "    }\n",
              "\n",
              "    .dataframe thead th {\n",
              "        text-align: right;\n",
              "    }\n",
              "</style>\n",
              "<table border=\"1\" class=\"dataframe\">\n",
              "  <thead>\n",
              "    <tr style=\"text-align: right;\">\n",
              "      <th></th>\n",
              "      <th>Age</th>\n",
              "      <th>Diabetic</th>\n",
              "    </tr>\n",
              "  </thead>\n",
              "  <tbody>\n",
              "    <tr>\n",
              "      <th>6327</th>\n",
              "      <td>22</td>\n",
              "      <td>0</td>\n",
              "    </tr>\n",
              "    <tr>\n",
              "      <th>2484</th>\n",
              "      <td>25</td>\n",
              "      <td>0</td>\n",
              "    </tr>\n",
              "    <tr>\n",
              "      <th>14206</th>\n",
              "      <td>57</td>\n",
              "      <td>1</td>\n",
              "    </tr>\n",
              "    <tr>\n",
              "      <th>2796</th>\n",
              "      <td>46</td>\n",
              "      <td>1</td>\n",
              "    </tr>\n",
              "    <tr>\n",
              "      <th>10299</th>\n",
              "      <td>23</td>\n",
              "      <td>1</td>\n",
              "    </tr>\n",
              "    <tr>\n",
              "      <th>3946</th>\n",
              "      <td>46</td>\n",
              "      <td>1</td>\n",
              "    </tr>\n",
              "    <tr>\n",
              "      <th>808</th>\n",
              "      <td>35</td>\n",
              "      <td>0</td>\n",
              "    </tr>\n",
              "    <tr>\n",
              "      <th>14709</th>\n",
              "      <td>30</td>\n",
              "      <td>1</td>\n",
              "    </tr>\n",
              "    <tr>\n",
              "      <th>7915</th>\n",
              "      <td>39</td>\n",
              "      <td>1</td>\n",
              "    </tr>\n",
              "    <tr>\n",
              "      <th>12416</th>\n",
              "      <td>21</td>\n",
              "      <td>0</td>\n",
              "    </tr>\n",
              "  </tbody>\n",
              "</table>\n",
              "</div>"
            ],
            "text/plain": [
              "       Age Diabetic\n",
              "6327    22        0\n",
              "2484    25        0\n",
              "14206   57        1\n",
              "2796    46        1\n",
              "10299   23        1\n",
              "3946    46        1\n",
              "808     35        0\n",
              "14709   30        1\n",
              "7915    39        1\n",
              "12416   21        0"
            ]
          },
          "metadata": {
            "tags": []
          },
          "execution_count": 18
        }
      ]
    },
    {
      "cell_type": "code",
      "metadata": {
        "colab": {
          "base_uri": "https://localhost:8080/"
        },
        "id": "tklgUC9TKSQg",
        "outputId": "e9f881c0-8fd8-4e8e-c550-de44bb87ccd0"
      },
      "source": [
        "import time\n",
        "\n",
        "start = time.time()\n",
        "\n",
        "diabetes.iloc[:, [5, 9]]\n",
        "\n",
        "end = time.time() - start\n",
        "print(end)"
      ],
      "execution_count": null,
      "outputs": [
        {
          "output_type": "stream",
          "text": [
            "0.001051187515258789\n"
          ],
          "name": "stdout"
        }
      ]
    },
    {
      "cell_type": "code",
      "metadata": {
        "colab": {
          "base_uri": "https://localhost:8080/"
        },
        "id": "l19pn7bIMHba",
        "outputId": "9856513c-d6b7-4f0f-cede-fc950bb7c629"
      },
      "source": [
        "start = time.time()\n",
        "\n",
        "diabetes.loc[:, [\"SerumInsulin\", \"Diabetic\"]]\n",
        "\n",
        "end = time.time() - start\n",
        "print(end)"
      ],
      "execution_count": null,
      "outputs": [
        {
          "output_type": "stream",
          "text": [
            "0.0009334087371826172\n"
          ],
          "name": "stdout"
        }
      ]
    },
    {
      "cell_type": "markdown",
      "metadata": {
        "id": "L7EULsmlNizv"
      },
      "source": [
        "\n",
        "### Seleccionar filas\n",
        "\n",
        "Para encontrar un subconjunto de filas que coincida con algún criterio, quizás la forma más común es usar operadores lógicos que devuelvan **True** o **False** para cada fila, y luego pasarlo entre corchetes.\n"
      ]
    },
    {
      "cell_type": "code",
      "metadata": {
        "id": "AHSrTmYYOlgC"
      },
      "source": [
        "diabetes.reset_index(drop=True, inplace=True)"
      ],
      "execution_count": null,
      "outputs": []
    },
    {
      "cell_type": "code",
      "metadata": {
        "colab": {
          "base_uri": "https://localhost:8080/",
          "height": 415
        },
        "id": "e8ZOkue8Mv0N",
        "outputId": "e6dd917f-2294-4bf4-e44c-2c4ac5ab9e7b"
      },
      "source": [
        "indices = diabetes[(diabetes[\"Age\"] >= 21) & (diabetes['Age'] < 28) & (diabetes[\"BMI\"] < 30)].index\n",
        "\n",
        "diabetes.iloc[indices, :]"
      ],
      "execution_count": null,
      "outputs": [
        {
          "output_type": "execute_result",
          "data": {
            "text/html": [
              "<div>\n",
              "<style scoped>\n",
              "    .dataframe tbody tr th:only-of-type {\n",
              "        vertical-align: middle;\n",
              "    }\n",
              "\n",
              "    .dataframe tbody tr th {\n",
              "        vertical-align: top;\n",
              "    }\n",
              "\n",
              "    .dataframe thead th {\n",
              "        text-align: right;\n",
              "    }\n",
              "</style>\n",
              "<table border=\"1\" class=\"dataframe\">\n",
              "  <thead>\n",
              "    <tr style=\"text-align: right;\">\n",
              "      <th></th>\n",
              "      <th>PatientID</th>\n",
              "      <th>Pregnancies</th>\n",
              "      <th>PlasmaGlucose</th>\n",
              "      <th>DiastolicBloodPressure</th>\n",
              "      <th>TricepsThickness</th>\n",
              "      <th>SerumInsulin</th>\n",
              "      <th>BMI</th>\n",
              "      <th>DiabetesPedigree</th>\n",
              "      <th>Age</th>\n",
              "      <th>Diabetic</th>\n",
              "    </tr>\n",
              "  </thead>\n",
              "  <tbody>\n",
              "    <tr>\n",
              "      <th>8</th>\n",
              "      <td>1000510</td>\n",
              "      <td>1</td>\n",
              "      <td>88</td>\n",
              "      <td>60</td>\n",
              "      <td>8</td>\n",
              "      <td>20</td>\n",
              "      <td>21.141686</td>\n",
              "      <td>0.268369</td>\n",
              "      <td>23</td>\n",
              "      <td>0</td>\n",
              "    </tr>\n",
              "    <tr>\n",
              "      <th>10</th>\n",
              "      <td>1000677</td>\n",
              "      <td>10</td>\n",
              "      <td>114</td>\n",
              "      <td>79</td>\n",
              "      <td>35</td>\n",
              "      <td>161</td>\n",
              "      <td>21.295850</td>\n",
              "      <td>0.181434</td>\n",
              "      <td>23</td>\n",
              "      <td>0</td>\n",
              "    </tr>\n",
              "    <tr>\n",
              "      <th>12</th>\n",
              "      <td>1000963</td>\n",
              "      <td>0</td>\n",
              "      <td>101</td>\n",
              "      <td>53</td>\n",
              "      <td>8</td>\n",
              "      <td>28</td>\n",
              "      <td>20.415181</td>\n",
              "      <td>0.502161</td>\n",
              "      <td>24</td>\n",
              "      <td>0</td>\n",
              "    </tr>\n",
              "    <tr>\n",
              "      <th>19</th>\n",
              "      <td>1001867</td>\n",
              "      <td>6</td>\n",
              "      <td>166</td>\n",
              "      <td>55</td>\n",
              "      <td>42</td>\n",
              "      <td>38</td>\n",
              "      <td>21.899396</td>\n",
              "      <td>0.116333</td>\n",
              "      <td>22</td>\n",
              "      <td>0</td>\n",
              "    </tr>\n",
              "    <tr>\n",
              "      <th>25</th>\n",
              "      <td>1002229</td>\n",
              "      <td>1</td>\n",
              "      <td>73</td>\n",
              "      <td>96</td>\n",
              "      <td>35</td>\n",
              "      <td>498</td>\n",
              "      <td>20.846682</td>\n",
              "      <td>0.738083</td>\n",
              "      <td>22</td>\n",
              "      <td>0</td>\n",
              "    </tr>\n",
              "    <tr>\n",
              "      <th>...</th>\n",
              "      <td>...</td>\n",
              "      <td>...</td>\n",
              "      <td>...</td>\n",
              "      <td>...</td>\n",
              "      <td>...</td>\n",
              "      <td>...</td>\n",
              "      <td>...</td>\n",
              "      <td>...</td>\n",
              "      <td>...</td>\n",
              "      <td>...</td>\n",
              "    </tr>\n",
              "    <tr>\n",
              "      <th>14980</th>\n",
              "      <td>1998920</td>\n",
              "      <td>3</td>\n",
              "      <td>144</td>\n",
              "      <td>90</td>\n",
              "      <td>35</td>\n",
              "      <td>162</td>\n",
              "      <td>19.147830</td>\n",
              "      <td>0.290215</td>\n",
              "      <td>23</td>\n",
              "      <td>0</td>\n",
              "    </tr>\n",
              "    <tr>\n",
              "      <th>14993</th>\n",
              "      <td>1999551</td>\n",
              "      <td>0</td>\n",
              "      <td>129</td>\n",
              "      <td>49</td>\n",
              "      <td>10</td>\n",
              "      <td>169</td>\n",
              "      <td>20.197111</td>\n",
              "      <td>0.175101</td>\n",
              "      <td>24</td>\n",
              "      <td>0</td>\n",
              "    </tr>\n",
              "    <tr>\n",
              "      <th>14995</th>\n",
              "      <td>1999765</td>\n",
              "      <td>14</td>\n",
              "      <td>146</td>\n",
              "      <td>75</td>\n",
              "      <td>44</td>\n",
              "      <td>57</td>\n",
              "      <td>22.873571</td>\n",
              "      <td>0.098536</td>\n",
              "      <td>22</td>\n",
              "      <td>1</td>\n",
              "    </tr>\n",
              "    <tr>\n",
              "      <th>14997</th>\n",
              "      <td>1999864</td>\n",
              "      <td>7</td>\n",
              "      <td>84</td>\n",
              "      <td>48</td>\n",
              "      <td>21</td>\n",
              "      <td>152</td>\n",
              "      <td>29.801928</td>\n",
              "      <td>0.098014</td>\n",
              "      <td>26</td>\n",
              "      <td>0</td>\n",
              "    </tr>\n",
              "    <tr>\n",
              "      <th>14998</th>\n",
              "      <td>1999940</td>\n",
              "      <td>1</td>\n",
              "      <td>77</td>\n",
              "      <td>83</td>\n",
              "      <td>31</td>\n",
              "      <td>168</td>\n",
              "      <td>20.263874</td>\n",
              "      <td>0.164245</td>\n",
              "      <td>23</td>\n",
              "      <td>0</td>\n",
              "    </tr>\n",
              "  </tbody>\n",
              "</table>\n",
              "<p>4704 rows × 10 columns</p>\n",
              "</div>"
            ],
            "text/plain": [
              "      PatientID  Pregnancies  PlasmaGlucose  ...  DiabetesPedigree  Age  Diabetic\n",
              "8       1000510            1             88  ...          0.268369   23         0\n",
              "10      1000677           10            114  ...          0.181434   23         0\n",
              "12      1000963            0            101  ...          0.502161   24         0\n",
              "19      1001867            6            166  ...          0.116333   22         0\n",
              "25      1002229            1             73  ...          0.738083   22         0\n",
              "...         ...          ...            ...  ...               ...  ...       ...\n",
              "14980   1998920            3            144  ...          0.290215   23         0\n",
              "14993   1999551            0            129  ...          0.175101   24         0\n",
              "14995   1999765           14            146  ...          0.098536   22         1\n",
              "14997   1999864            7             84  ...          0.098014   26         0\n",
              "14998   1999940            1             77  ...          0.164245   23         0\n",
              "\n",
              "[4704 rows x 10 columns]"
            ]
          },
          "metadata": {
            "tags": []
          },
          "execution_count": 42
        }
      ]
    },
    {
      "cell_type": "code",
      "metadata": {
        "colab": {
          "base_uri": "https://localhost:8080/",
          "height": 415
        },
        "id": "i95e3WmyRX69",
        "outputId": "a0fa27b9-39df-4789-cbc7-59ae9cc49104"
      },
      "source": [
        "diabetes.loc[(diabetes[\"Age\"] >= 21) & (diabetes['Age'] < 28) & (diabetes[\"BMI\"] < 30), [\"Age\", \"BMI\", \"Diabetic\"]]"
      ],
      "execution_count": null,
      "outputs": [
        {
          "output_type": "execute_result",
          "data": {
            "text/html": [
              "<div>\n",
              "<style scoped>\n",
              "    .dataframe tbody tr th:only-of-type {\n",
              "        vertical-align: middle;\n",
              "    }\n",
              "\n",
              "    .dataframe tbody tr th {\n",
              "        vertical-align: top;\n",
              "    }\n",
              "\n",
              "    .dataframe thead th {\n",
              "        text-align: right;\n",
              "    }\n",
              "</style>\n",
              "<table border=\"1\" class=\"dataframe\">\n",
              "  <thead>\n",
              "    <tr style=\"text-align: right;\">\n",
              "      <th></th>\n",
              "      <th>Age</th>\n",
              "      <th>BMI</th>\n",
              "      <th>Diabetic</th>\n",
              "    </tr>\n",
              "  </thead>\n",
              "  <tbody>\n",
              "    <tr>\n",
              "      <th>8</th>\n",
              "      <td>23</td>\n",
              "      <td>21.141686</td>\n",
              "      <td>0</td>\n",
              "    </tr>\n",
              "    <tr>\n",
              "      <th>10</th>\n",
              "      <td>23</td>\n",
              "      <td>21.295850</td>\n",
              "      <td>0</td>\n",
              "    </tr>\n",
              "    <tr>\n",
              "      <th>12</th>\n",
              "      <td>24</td>\n",
              "      <td>20.415181</td>\n",
              "      <td>0</td>\n",
              "    </tr>\n",
              "    <tr>\n",
              "      <th>19</th>\n",
              "      <td>22</td>\n",
              "      <td>21.899396</td>\n",
              "      <td>0</td>\n",
              "    </tr>\n",
              "    <tr>\n",
              "      <th>25</th>\n",
              "      <td>22</td>\n",
              "      <td>20.846682</td>\n",
              "      <td>0</td>\n",
              "    </tr>\n",
              "    <tr>\n",
              "      <th>...</th>\n",
              "      <td>...</td>\n",
              "      <td>...</td>\n",
              "      <td>...</td>\n",
              "    </tr>\n",
              "    <tr>\n",
              "      <th>14980</th>\n",
              "      <td>23</td>\n",
              "      <td>19.147830</td>\n",
              "      <td>0</td>\n",
              "    </tr>\n",
              "    <tr>\n",
              "      <th>14993</th>\n",
              "      <td>24</td>\n",
              "      <td>20.197111</td>\n",
              "      <td>0</td>\n",
              "    </tr>\n",
              "    <tr>\n",
              "      <th>14995</th>\n",
              "      <td>22</td>\n",
              "      <td>22.873571</td>\n",
              "      <td>1</td>\n",
              "    </tr>\n",
              "    <tr>\n",
              "      <th>14997</th>\n",
              "      <td>26</td>\n",
              "      <td>29.801928</td>\n",
              "      <td>0</td>\n",
              "    </tr>\n",
              "    <tr>\n",
              "      <th>14998</th>\n",
              "      <td>23</td>\n",
              "      <td>20.263874</td>\n",
              "      <td>0</td>\n",
              "    </tr>\n",
              "  </tbody>\n",
              "</table>\n",
              "<p>4704 rows × 3 columns</p>\n",
              "</div>"
            ],
            "text/plain": [
              "       Age        BMI Diabetic\n",
              "8       23  21.141686        0\n",
              "10      23  21.295850        0\n",
              "12      24  20.415181        0\n",
              "19      22  21.899396        0\n",
              "25      22  20.846682        0\n",
              "...    ...        ...      ...\n",
              "14980   23  19.147830        0\n",
              "14993   24  20.197111        0\n",
              "14995   22  22.873571        1\n",
              "14997   26  29.801928        0\n",
              "14998   23  20.263874        0\n",
              "\n",
              "[4704 rows x 3 columns]"
            ]
          },
          "metadata": {
            "tags": []
          },
          "execution_count": 43
        }
      ]
    },
    {
      "cell_type": "code",
      "metadata": {
        "colab": {
          "base_uri": "https://localhost:8080/",
          "height": 415
        },
        "id": "nhMM_GYQNs9u",
        "outputId": "6a884e9a-4306-4b92-b0be-cdc2b8034bf2"
      },
      "source": [
        "diabetes.query(\"21 < Age <= 28 & BMI < 30\")"
      ],
      "execution_count": null,
      "outputs": [
        {
          "output_type": "execute_result",
          "data": {
            "text/html": [
              "<div>\n",
              "<style scoped>\n",
              "    .dataframe tbody tr th:only-of-type {\n",
              "        vertical-align: middle;\n",
              "    }\n",
              "\n",
              "    .dataframe tbody tr th {\n",
              "        vertical-align: top;\n",
              "    }\n",
              "\n",
              "    .dataframe thead th {\n",
              "        text-align: right;\n",
              "    }\n",
              "</style>\n",
              "<table border=\"1\" class=\"dataframe\">\n",
              "  <thead>\n",
              "    <tr style=\"text-align: right;\">\n",
              "      <th></th>\n",
              "      <th>PatientID</th>\n",
              "      <th>Pregnancies</th>\n",
              "      <th>PlasmaGlucose</th>\n",
              "      <th>DiastolicBloodPressure</th>\n",
              "      <th>TricepsThickness</th>\n",
              "      <th>SerumInsulin</th>\n",
              "      <th>BMI</th>\n",
              "      <th>DiabetesPedigree</th>\n",
              "      <th>Age</th>\n",
              "      <th>Diabetic</th>\n",
              "    </tr>\n",
              "  </thead>\n",
              "  <tbody>\n",
              "    <tr>\n",
              "      <th>8</th>\n",
              "      <td>1000510</td>\n",
              "      <td>1</td>\n",
              "      <td>88</td>\n",
              "      <td>60</td>\n",
              "      <td>8</td>\n",
              "      <td>20</td>\n",
              "      <td>21.141686</td>\n",
              "      <td>0.268369</td>\n",
              "      <td>23</td>\n",
              "      <td>0</td>\n",
              "    </tr>\n",
              "    <tr>\n",
              "      <th>10</th>\n",
              "      <td>1000677</td>\n",
              "      <td>10</td>\n",
              "      <td>114</td>\n",
              "      <td>79</td>\n",
              "      <td>35</td>\n",
              "      <td>161</td>\n",
              "      <td>21.295850</td>\n",
              "      <td>0.181434</td>\n",
              "      <td>23</td>\n",
              "      <td>0</td>\n",
              "    </tr>\n",
              "    <tr>\n",
              "      <th>12</th>\n",
              "      <td>1000963</td>\n",
              "      <td>0</td>\n",
              "      <td>101</td>\n",
              "      <td>53</td>\n",
              "      <td>8</td>\n",
              "      <td>28</td>\n",
              "      <td>20.415181</td>\n",
              "      <td>0.502161</td>\n",
              "      <td>24</td>\n",
              "      <td>0</td>\n",
              "    </tr>\n",
              "    <tr>\n",
              "      <th>19</th>\n",
              "      <td>1001867</td>\n",
              "      <td>6</td>\n",
              "      <td>166</td>\n",
              "      <td>55</td>\n",
              "      <td>42</td>\n",
              "      <td>38</td>\n",
              "      <td>21.899396</td>\n",
              "      <td>0.116333</td>\n",
              "      <td>22</td>\n",
              "      <td>0</td>\n",
              "    </tr>\n",
              "    <tr>\n",
              "      <th>25</th>\n",
              "      <td>1002229</td>\n",
              "      <td>1</td>\n",
              "      <td>73</td>\n",
              "      <td>96</td>\n",
              "      <td>35</td>\n",
              "      <td>498</td>\n",
              "      <td>20.846682</td>\n",
              "      <td>0.738083</td>\n",
              "      <td>22</td>\n",
              "      <td>0</td>\n",
              "    </tr>\n",
              "    <tr>\n",
              "      <th>...</th>\n",
              "      <td>...</td>\n",
              "      <td>...</td>\n",
              "      <td>...</td>\n",
              "      <td>...</td>\n",
              "      <td>...</td>\n",
              "      <td>...</td>\n",
              "      <td>...</td>\n",
              "      <td>...</td>\n",
              "      <td>...</td>\n",
              "      <td>...</td>\n",
              "    </tr>\n",
              "    <tr>\n",
              "      <th>14980</th>\n",
              "      <td>1998920</td>\n",
              "      <td>3</td>\n",
              "      <td>144</td>\n",
              "      <td>90</td>\n",
              "      <td>35</td>\n",
              "      <td>162</td>\n",
              "      <td>19.147830</td>\n",
              "      <td>0.290215</td>\n",
              "      <td>23</td>\n",
              "      <td>0</td>\n",
              "    </tr>\n",
              "    <tr>\n",
              "      <th>14993</th>\n",
              "      <td>1999551</td>\n",
              "      <td>0</td>\n",
              "      <td>129</td>\n",
              "      <td>49</td>\n",
              "      <td>10</td>\n",
              "      <td>169</td>\n",
              "      <td>20.197111</td>\n",
              "      <td>0.175101</td>\n",
              "      <td>24</td>\n",
              "      <td>0</td>\n",
              "    </tr>\n",
              "    <tr>\n",
              "      <th>14995</th>\n",
              "      <td>1999765</td>\n",
              "      <td>14</td>\n",
              "      <td>146</td>\n",
              "      <td>75</td>\n",
              "      <td>44</td>\n",
              "      <td>57</td>\n",
              "      <td>22.873571</td>\n",
              "      <td>0.098536</td>\n",
              "      <td>22</td>\n",
              "      <td>1</td>\n",
              "    </tr>\n",
              "    <tr>\n",
              "      <th>14997</th>\n",
              "      <td>1999864</td>\n",
              "      <td>7</td>\n",
              "      <td>84</td>\n",
              "      <td>48</td>\n",
              "      <td>21</td>\n",
              "      <td>152</td>\n",
              "      <td>29.801928</td>\n",
              "      <td>0.098014</td>\n",
              "      <td>26</td>\n",
              "      <td>0</td>\n",
              "    </tr>\n",
              "    <tr>\n",
              "      <th>14998</th>\n",
              "      <td>1999940</td>\n",
              "      <td>1</td>\n",
              "      <td>77</td>\n",
              "      <td>83</td>\n",
              "      <td>31</td>\n",
              "      <td>168</td>\n",
              "      <td>20.263874</td>\n",
              "      <td>0.164245</td>\n",
              "      <td>23</td>\n",
              "      <td>0</td>\n",
              "    </tr>\n",
              "  </tbody>\n",
              "</table>\n",
              "<p>3544 rows × 10 columns</p>\n",
              "</div>"
            ],
            "text/plain": [
              "      PatientID  Pregnancies  PlasmaGlucose  ...  DiabetesPedigree  Age  Diabetic\n",
              "8       1000510            1             88  ...          0.268369   23         0\n",
              "10      1000677           10            114  ...          0.181434   23         0\n",
              "12      1000963            0            101  ...          0.502161   24         0\n",
              "19      1001867            6            166  ...          0.116333   22         0\n",
              "25      1002229            1             73  ...          0.738083   22         0\n",
              "...         ...          ...            ...  ...               ...  ...       ...\n",
              "14980   1998920            3            144  ...          0.290215   23         0\n",
              "14993   1999551            0            129  ...          0.175101   24         0\n",
              "14995   1999765           14            146  ...          0.098536   22         1\n",
              "14997   1999864            7             84  ...          0.098014   26         0\n",
              "14998   1999940            1             77  ...          0.164245   23         0\n",
              "\n",
              "[3544 rows x 10 columns]"
            ]
          },
          "metadata": {
            "tags": []
          },
          "execution_count": 44
        }
      ]
    },
    {
      "cell_type": "markdown",
      "metadata": {
        "id": "znCablzzVQIo"
      },
      "source": [
        "### Agregar nuevas columnas\n",
        "\n",
        "Una de las prácticas más comunes es agregar nuevas columnas a un DataFrame. Esta etapa en el proceso de construir un modelo usando algoritmos de Machine Learning o estadísticos se llama ingeniería de características.\n",
        "\n",
        "Podemos crear columnas desde cero, o derivarla de otra columna, por ejemplo, agregando columnas o cambiando sus unidades.\n"
      ]
    },
    {
      "cell_type": "code",
      "metadata": {
        "id": "Cp8OiQ2mYujt"
      },
      "source": [
        "diabetes.drop(labels=\"A\", axis=1, inplace=True)"
      ],
      "execution_count": null,
      "outputs": []
    },
    {
      "cell_type": "code",
      "metadata": {
        "colab": {
          "base_uri": "https://localhost:8080/",
          "height": 202
        },
        "id": "09LtLBDuY2qX",
        "outputId": "3f7677bf-b6a7-4657-ccc4-796718e70ea7"
      },
      "source": [
        "diabetes.head()"
      ],
      "execution_count": null,
      "outputs": [
        {
          "output_type": "execute_result",
          "data": {
            "text/html": [
              "<div>\n",
              "<style scoped>\n",
              "    .dataframe tbody tr th:only-of-type {\n",
              "        vertical-align: middle;\n",
              "    }\n",
              "\n",
              "    .dataframe tbody tr th {\n",
              "        vertical-align: top;\n",
              "    }\n",
              "\n",
              "    .dataframe thead th {\n",
              "        text-align: right;\n",
              "    }\n",
              "</style>\n",
              "<table border=\"1\" class=\"dataframe\">\n",
              "  <thead>\n",
              "    <tr style=\"text-align: right;\">\n",
              "      <th></th>\n",
              "      <th>PatientID</th>\n",
              "      <th>Pregnancies</th>\n",
              "      <th>PlasmaGlucose</th>\n",
              "      <th>DiastolicBloodPressure</th>\n",
              "      <th>TricepsThickness</th>\n",
              "      <th>SerumInsulin</th>\n",
              "      <th>BMI</th>\n",
              "      <th>DiabetesPedigree</th>\n",
              "      <th>Age</th>\n",
              "      <th>Diabetic</th>\n",
              "    </tr>\n",
              "  </thead>\n",
              "  <tbody>\n",
              "    <tr>\n",
              "      <th>0</th>\n",
              "      <td>1000038</td>\n",
              "      <td>0</td>\n",
              "      <td>117</td>\n",
              "      <td>88</td>\n",
              "      <td>32</td>\n",
              "      <td>607</td>\n",
              "      <td>43.906257</td>\n",
              "      <td>0.810828</td>\n",
              "      <td>23</td>\n",
              "      <td>0</td>\n",
              "    </tr>\n",
              "    <tr>\n",
              "      <th>1</th>\n",
              "      <td>1000069</td>\n",
              "      <td>3</td>\n",
              "      <td>76</td>\n",
              "      <td>81</td>\n",
              "      <td>19</td>\n",
              "      <td>47</td>\n",
              "      <td>36.775178</td>\n",
              "      <td>0.084195</td>\n",
              "      <td>38</td>\n",
              "      <td>0</td>\n",
              "    </tr>\n",
              "    <tr>\n",
              "      <th>2</th>\n",
              "      <td>1000118</td>\n",
              "      <td>0</td>\n",
              "      <td>144</td>\n",
              "      <td>95</td>\n",
              "      <td>7</td>\n",
              "      <td>34</td>\n",
              "      <td>37.317559</td>\n",
              "      <td>0.166225</td>\n",
              "      <td>21</td>\n",
              "      <td>0</td>\n",
              "    </tr>\n",
              "    <tr>\n",
              "      <th>3</th>\n",
              "      <td>1000183</td>\n",
              "      <td>1</td>\n",
              "      <td>164</td>\n",
              "      <td>102</td>\n",
              "      <td>22</td>\n",
              "      <td>40</td>\n",
              "      <td>49.822233</td>\n",
              "      <td>0.294454</td>\n",
              "      <td>24</td>\n",
              "      <td>0</td>\n",
              "    </tr>\n",
              "    <tr>\n",
              "      <th>4</th>\n",
              "      <td>1000326</td>\n",
              "      <td>3</td>\n",
              "      <td>116</td>\n",
              "      <td>43</td>\n",
              "      <td>45</td>\n",
              "      <td>207</td>\n",
              "      <td>29.833780</td>\n",
              "      <td>1.344658</td>\n",
              "      <td>46</td>\n",
              "      <td>1</td>\n",
              "    </tr>\n",
              "  </tbody>\n",
              "</table>\n",
              "</div>"
            ],
            "text/plain": [
              "  PatientID  Pregnancies  PlasmaGlucose  ...  DiabetesPedigree  Age  Diabetic\n",
              "0   1000038            0            117  ...          0.810828   23         0\n",
              "1   1000069            3             76  ...          0.084195   38         0\n",
              "2   1000118            0            144  ...          0.166225   21         0\n",
              "3   1000183            1            164  ...          0.294454   24         0\n",
              "4   1000326            3            116  ...          1.344658   46         1\n",
              "\n",
              "[5 rows x 10 columns]"
            ]
          },
          "metadata": {
            "tags": []
          },
          "execution_count": 57
        }
      ]
    },
    {
      "cell_type": "code",
      "metadata": {
        "colab": {
          "base_uri": "https://localhost:8080/",
          "height": 202
        },
        "id": "ox-1VQFgQf2w",
        "outputId": "37d8021c-751f-4021-908d-8c46df8ae512"
      },
      "source": [
        "diabetes['A'] = np.nan\n",
        "\n",
        "diabetes.head()"
      ],
      "execution_count": null,
      "outputs": [
        {
          "output_type": "execute_result",
          "data": {
            "text/html": [
              "<div>\n",
              "<style scoped>\n",
              "    .dataframe tbody tr th:only-of-type {\n",
              "        vertical-align: middle;\n",
              "    }\n",
              "\n",
              "    .dataframe tbody tr th {\n",
              "        vertical-align: top;\n",
              "    }\n",
              "\n",
              "    .dataframe thead th {\n",
              "        text-align: right;\n",
              "    }\n",
              "</style>\n",
              "<table border=\"1\" class=\"dataframe\">\n",
              "  <thead>\n",
              "    <tr style=\"text-align: right;\">\n",
              "      <th></th>\n",
              "      <th>PatientID</th>\n",
              "      <th>Pregnancies</th>\n",
              "      <th>PlasmaGlucose</th>\n",
              "      <th>DiastolicBloodPressure</th>\n",
              "      <th>TricepsThickness</th>\n",
              "      <th>SerumInsulin</th>\n",
              "      <th>BMI</th>\n",
              "      <th>DiabetesPedigree</th>\n",
              "      <th>Age</th>\n",
              "      <th>Diabetic</th>\n",
              "      <th>A</th>\n",
              "    </tr>\n",
              "  </thead>\n",
              "  <tbody>\n",
              "    <tr>\n",
              "      <th>0</th>\n",
              "      <td>1000038</td>\n",
              "      <td>0</td>\n",
              "      <td>117</td>\n",
              "      <td>88</td>\n",
              "      <td>32</td>\n",
              "      <td>607</td>\n",
              "      <td>43.906257</td>\n",
              "      <td>0.810828</td>\n",
              "      <td>23</td>\n",
              "      <td>0</td>\n",
              "      <td>NaN</td>\n",
              "    </tr>\n",
              "    <tr>\n",
              "      <th>1</th>\n",
              "      <td>1000069</td>\n",
              "      <td>3</td>\n",
              "      <td>76</td>\n",
              "      <td>81</td>\n",
              "      <td>19</td>\n",
              "      <td>47</td>\n",
              "      <td>36.775178</td>\n",
              "      <td>0.084195</td>\n",
              "      <td>38</td>\n",
              "      <td>0</td>\n",
              "      <td>NaN</td>\n",
              "    </tr>\n",
              "    <tr>\n",
              "      <th>2</th>\n",
              "      <td>1000118</td>\n",
              "      <td>0</td>\n",
              "      <td>144</td>\n",
              "      <td>95</td>\n",
              "      <td>7</td>\n",
              "      <td>34</td>\n",
              "      <td>37.317559</td>\n",
              "      <td>0.166225</td>\n",
              "      <td>21</td>\n",
              "      <td>0</td>\n",
              "      <td>NaN</td>\n",
              "    </tr>\n",
              "    <tr>\n",
              "      <th>3</th>\n",
              "      <td>1000183</td>\n",
              "      <td>1</td>\n",
              "      <td>164</td>\n",
              "      <td>102</td>\n",
              "      <td>22</td>\n",
              "      <td>40</td>\n",
              "      <td>49.822233</td>\n",
              "      <td>0.294454</td>\n",
              "      <td>24</td>\n",
              "      <td>0</td>\n",
              "      <td>NaN</td>\n",
              "    </tr>\n",
              "    <tr>\n",
              "      <th>4</th>\n",
              "      <td>1000326</td>\n",
              "      <td>3</td>\n",
              "      <td>116</td>\n",
              "      <td>43</td>\n",
              "      <td>45</td>\n",
              "      <td>207</td>\n",
              "      <td>29.833780</td>\n",
              "      <td>1.344658</td>\n",
              "      <td>46</td>\n",
              "      <td>1</td>\n",
              "      <td>NaN</td>\n",
              "    </tr>\n",
              "  </tbody>\n",
              "</table>\n",
              "</div>"
            ],
            "text/plain": [
              "  PatientID  Pregnancies  PlasmaGlucose  ...  Age  Diabetic   A\n",
              "0   1000038            0            117  ...   23         0 NaN\n",
              "1   1000069            3             76  ...   38         0 NaN\n",
              "2   1000118            0            144  ...   21         0 NaN\n",
              "3   1000183            1            164  ...   24         0 NaN\n",
              "4   1000326            3            116  ...   46         1 NaN\n",
              "\n",
              "[5 rows x 11 columns]"
            ]
          },
          "metadata": {
            "tags": []
          },
          "execution_count": 58
        }
      ]
    },
    {
      "cell_type": "code",
      "metadata": {
        "id": "pY8d0ReoVse2"
      },
      "source": [
        "diabetes.drop(labels='A', axis=1, inplace=True) # Opcional"
      ],
      "execution_count": null,
      "outputs": []
    },
    {
      "cell_type": "code",
      "metadata": {
        "colab": {
          "base_uri": "https://localhost:8080/"
        },
        "id": "9yfWtK75WOFf",
        "outputId": "66249b13-5062-4b08-e77d-cb12535525c3"
      },
      "source": [
        "# diabetes['A'] = np.nan\n",
        "\n",
        "a = diabetes.pop(\"A\")\n",
        "\n",
        "type(a)"
      ],
      "execution_count": null,
      "outputs": [
        {
          "output_type": "execute_result",
          "data": {
            "text/plain": [
              "pandas.core.series.Series"
            ]
          },
          "metadata": {
            "tags": []
          },
          "execution_count": 59
        }
      ]
    },
    {
      "cell_type": "code",
      "metadata": {
        "colab": {
          "base_uri": "https://localhost:8080/",
          "height": 202
        },
        "id": "j4rkY2-qXdTk",
        "outputId": "09957c5d-cfae-437d-ebc5-4788fefbb88b"
      },
      "source": [
        "diabetes.insert(loc=0, column=\"A\", value=a)\n",
        "\n",
        "diabetes.head()"
      ],
      "execution_count": null,
      "outputs": [
        {
          "output_type": "execute_result",
          "data": {
            "text/html": [
              "<div>\n",
              "<style scoped>\n",
              "    .dataframe tbody tr th:only-of-type {\n",
              "        vertical-align: middle;\n",
              "    }\n",
              "\n",
              "    .dataframe tbody tr th {\n",
              "        vertical-align: top;\n",
              "    }\n",
              "\n",
              "    .dataframe thead th {\n",
              "        text-align: right;\n",
              "    }\n",
              "</style>\n",
              "<table border=\"1\" class=\"dataframe\">\n",
              "  <thead>\n",
              "    <tr style=\"text-align: right;\">\n",
              "      <th></th>\n",
              "      <th>A</th>\n",
              "      <th>PatientID</th>\n",
              "      <th>Pregnancies</th>\n",
              "      <th>PlasmaGlucose</th>\n",
              "      <th>DiastolicBloodPressure</th>\n",
              "      <th>TricepsThickness</th>\n",
              "      <th>SerumInsulin</th>\n",
              "      <th>BMI</th>\n",
              "      <th>DiabetesPedigree</th>\n",
              "      <th>Age</th>\n",
              "      <th>Diabetic</th>\n",
              "    </tr>\n",
              "  </thead>\n",
              "  <tbody>\n",
              "    <tr>\n",
              "      <th>0</th>\n",
              "      <td>NaN</td>\n",
              "      <td>1000038</td>\n",
              "      <td>0</td>\n",
              "      <td>117</td>\n",
              "      <td>88</td>\n",
              "      <td>32</td>\n",
              "      <td>607</td>\n",
              "      <td>43.906257</td>\n",
              "      <td>0.810828</td>\n",
              "      <td>23</td>\n",
              "      <td>0</td>\n",
              "    </tr>\n",
              "    <tr>\n",
              "      <th>1</th>\n",
              "      <td>NaN</td>\n",
              "      <td>1000069</td>\n",
              "      <td>3</td>\n",
              "      <td>76</td>\n",
              "      <td>81</td>\n",
              "      <td>19</td>\n",
              "      <td>47</td>\n",
              "      <td>36.775178</td>\n",
              "      <td>0.084195</td>\n",
              "      <td>38</td>\n",
              "      <td>0</td>\n",
              "    </tr>\n",
              "    <tr>\n",
              "      <th>2</th>\n",
              "      <td>NaN</td>\n",
              "      <td>1000118</td>\n",
              "      <td>0</td>\n",
              "      <td>144</td>\n",
              "      <td>95</td>\n",
              "      <td>7</td>\n",
              "      <td>34</td>\n",
              "      <td>37.317559</td>\n",
              "      <td>0.166225</td>\n",
              "      <td>21</td>\n",
              "      <td>0</td>\n",
              "    </tr>\n",
              "    <tr>\n",
              "      <th>3</th>\n",
              "      <td>NaN</td>\n",
              "      <td>1000183</td>\n",
              "      <td>1</td>\n",
              "      <td>164</td>\n",
              "      <td>102</td>\n",
              "      <td>22</td>\n",
              "      <td>40</td>\n",
              "      <td>49.822233</td>\n",
              "      <td>0.294454</td>\n",
              "      <td>24</td>\n",
              "      <td>0</td>\n",
              "    </tr>\n",
              "    <tr>\n",
              "      <th>4</th>\n",
              "      <td>NaN</td>\n",
              "      <td>1000326</td>\n",
              "      <td>3</td>\n",
              "      <td>116</td>\n",
              "      <td>43</td>\n",
              "      <td>45</td>\n",
              "      <td>207</td>\n",
              "      <td>29.833780</td>\n",
              "      <td>1.344658</td>\n",
              "      <td>46</td>\n",
              "      <td>1</td>\n",
              "    </tr>\n",
              "  </tbody>\n",
              "</table>\n",
              "</div>"
            ],
            "text/plain": [
              "    A PatientID  Pregnancies  ...  DiabetesPedigree  Age  Diabetic\n",
              "0 NaN   1000038            0  ...          0.810828   23         0\n",
              "1 NaN   1000069            3  ...          0.084195   38         0\n",
              "2 NaN   1000118            0  ...          0.166225   21         0\n",
              "3 NaN   1000183            1  ...          0.294454   24         0\n",
              "4 NaN   1000326            3  ...          1.344658   46         1\n",
              "\n",
              "[5 rows x 11 columns]"
            ]
          },
          "metadata": {
            "tags": []
          },
          "execution_count": 60
        }
      ]
    },
    {
      "cell_type": "markdown",
      "metadata": {
        "id": "0edyqTDRZ0N3"
      },
      "source": [
        "### Funciones lambda\n",
        "\n",
        "Son funciones anonimas."
      ]
    },
    {
      "cell_type": "code",
      "metadata": {
        "colab": {
          "base_uri": "https://localhost:8080/"
        },
        "id": "VkzuUAGeZzAA",
        "outputId": "5cd4df31-d171-445e-b44c-a5f78a78af52"
      },
      "source": [
        "calculate_square = lambda x: x ** 2\n",
        "\n",
        "calculate_square(2)"
      ],
      "execution_count": null,
      "outputs": [
        {
          "output_type": "execute_result",
          "data": {
            "text/plain": [
              "4"
            ]
          },
          "metadata": {
            "tags": []
          },
          "execution_count": 61
        }
      ]
    },
    {
      "cell_type": "code",
      "metadata": {
        "colab": {
          "base_uri": "https://localhost:8080/"
        },
        "id": "wkFfF18samd7",
        "outputId": "e944e9be-a7d8-4185-8157-61c5c43e63d9"
      },
      "source": [
        "suma = lambda x, y: x + y\n",
        "\n",
        "suma(5, 7)"
      ],
      "execution_count": null,
      "outputs": [
        {
          "output_type": "execute_result",
          "data": {
            "text/plain": [
              "12"
            ]
          },
          "metadata": {
            "tags": []
          },
          "execution_count": 62
        }
      ]
    },
    {
      "cell_type": "code",
      "metadata": {
        "colab": {
          "base_uri": "https://localhost:8080/",
          "height": 222
        },
        "id": "HoK34QvOXl7g",
        "outputId": "657c30aa-a34a-426e-90dd-3945291cff4d"
      },
      "source": [
        "diabetes[\"diabetes_apply\"] = diabetes[\"Diabetic\"].apply(lambda x: \"Si\" if x == \"1\" else \"No\")\n",
        "diabetes.head()"
      ],
      "execution_count": null,
      "outputs": [
        {
          "output_type": "execute_result",
          "data": {
            "text/html": [
              "<div>\n",
              "<style scoped>\n",
              "    .dataframe tbody tr th:only-of-type {\n",
              "        vertical-align: middle;\n",
              "    }\n",
              "\n",
              "    .dataframe tbody tr th {\n",
              "        vertical-align: top;\n",
              "    }\n",
              "\n",
              "    .dataframe thead th {\n",
              "        text-align: right;\n",
              "    }\n",
              "</style>\n",
              "<table border=\"1\" class=\"dataframe\">\n",
              "  <thead>\n",
              "    <tr style=\"text-align: right;\">\n",
              "      <th></th>\n",
              "      <th>A</th>\n",
              "      <th>PatientID</th>\n",
              "      <th>Pregnancies</th>\n",
              "      <th>PlasmaGlucose</th>\n",
              "      <th>DiastolicBloodPressure</th>\n",
              "      <th>TricepsThickness</th>\n",
              "      <th>SerumInsulin</th>\n",
              "      <th>BMI</th>\n",
              "      <th>DiabetesPedigree</th>\n",
              "      <th>Age</th>\n",
              "      <th>Diabetic</th>\n",
              "      <th>diabetes_apply</th>\n",
              "    </tr>\n",
              "  </thead>\n",
              "  <tbody>\n",
              "    <tr>\n",
              "      <th>0</th>\n",
              "      <td>NaN</td>\n",
              "      <td>1000038</td>\n",
              "      <td>0</td>\n",
              "      <td>117</td>\n",
              "      <td>88</td>\n",
              "      <td>32</td>\n",
              "      <td>607</td>\n",
              "      <td>43.906257</td>\n",
              "      <td>0.810828</td>\n",
              "      <td>23</td>\n",
              "      <td>0</td>\n",
              "      <td>No</td>\n",
              "    </tr>\n",
              "    <tr>\n",
              "      <th>1</th>\n",
              "      <td>NaN</td>\n",
              "      <td>1000069</td>\n",
              "      <td>3</td>\n",
              "      <td>76</td>\n",
              "      <td>81</td>\n",
              "      <td>19</td>\n",
              "      <td>47</td>\n",
              "      <td>36.775178</td>\n",
              "      <td>0.084195</td>\n",
              "      <td>38</td>\n",
              "      <td>0</td>\n",
              "      <td>No</td>\n",
              "    </tr>\n",
              "    <tr>\n",
              "      <th>2</th>\n",
              "      <td>NaN</td>\n",
              "      <td>1000118</td>\n",
              "      <td>0</td>\n",
              "      <td>144</td>\n",
              "      <td>95</td>\n",
              "      <td>7</td>\n",
              "      <td>34</td>\n",
              "      <td>37.317559</td>\n",
              "      <td>0.166225</td>\n",
              "      <td>21</td>\n",
              "      <td>0</td>\n",
              "      <td>No</td>\n",
              "    </tr>\n",
              "    <tr>\n",
              "      <th>3</th>\n",
              "      <td>NaN</td>\n",
              "      <td>1000183</td>\n",
              "      <td>1</td>\n",
              "      <td>164</td>\n",
              "      <td>102</td>\n",
              "      <td>22</td>\n",
              "      <td>40</td>\n",
              "      <td>49.822233</td>\n",
              "      <td>0.294454</td>\n",
              "      <td>24</td>\n",
              "      <td>0</td>\n",
              "      <td>No</td>\n",
              "    </tr>\n",
              "    <tr>\n",
              "      <th>4</th>\n",
              "      <td>NaN</td>\n",
              "      <td>1000326</td>\n",
              "      <td>3</td>\n",
              "      <td>116</td>\n",
              "      <td>43</td>\n",
              "      <td>45</td>\n",
              "      <td>207</td>\n",
              "      <td>29.833780</td>\n",
              "      <td>1.344658</td>\n",
              "      <td>46</td>\n",
              "      <td>1</td>\n",
              "      <td>Si</td>\n",
              "    </tr>\n",
              "  </tbody>\n",
              "</table>\n",
              "</div>"
            ],
            "text/plain": [
              "    A PatientID  Pregnancies  ...  Age  Diabetic  diabetes_apply\n",
              "0 NaN   1000038            0  ...   23         0              No\n",
              "1 NaN   1000069            3  ...   38         0              No\n",
              "2 NaN   1000118            0  ...   21         0              No\n",
              "3 NaN   1000183            1  ...   24         0              No\n",
              "4 NaN   1000326            3  ...   46         1              Si\n",
              "\n",
              "[5 rows x 12 columns]"
            ]
          },
          "metadata": {
            "tags": []
          },
          "execution_count": 63
        }
      ]
    },
    {
      "cell_type": "code",
      "metadata": {
        "colab": {
          "base_uri": "https://localhost:8080/",
          "height": 222
        },
        "id": "6S0eV0inbN4k",
        "outputId": "a92b078d-8c81-40fb-da81-bf77f3a73435"
      },
      "source": [
        "diabetes[\"diabetes_map\"] = diabetes[\"Diabetic\"].map({'1': \"Si\", \"0\": \"No\"})\n",
        "diabetes.head()"
      ],
      "execution_count": null,
      "outputs": [
        {
          "output_type": "execute_result",
          "data": {
            "text/html": [
              "<div>\n",
              "<style scoped>\n",
              "    .dataframe tbody tr th:only-of-type {\n",
              "        vertical-align: middle;\n",
              "    }\n",
              "\n",
              "    .dataframe tbody tr th {\n",
              "        vertical-align: top;\n",
              "    }\n",
              "\n",
              "    .dataframe thead th {\n",
              "        text-align: right;\n",
              "    }\n",
              "</style>\n",
              "<table border=\"1\" class=\"dataframe\">\n",
              "  <thead>\n",
              "    <tr style=\"text-align: right;\">\n",
              "      <th></th>\n",
              "      <th>A</th>\n",
              "      <th>PatientID</th>\n",
              "      <th>Pregnancies</th>\n",
              "      <th>PlasmaGlucose</th>\n",
              "      <th>DiastolicBloodPressure</th>\n",
              "      <th>TricepsThickness</th>\n",
              "      <th>SerumInsulin</th>\n",
              "      <th>BMI</th>\n",
              "      <th>DiabetesPedigree</th>\n",
              "      <th>Age</th>\n",
              "      <th>Diabetic</th>\n",
              "      <th>diabetes_apply</th>\n",
              "      <th>diabetes_map</th>\n",
              "    </tr>\n",
              "  </thead>\n",
              "  <tbody>\n",
              "    <tr>\n",
              "      <th>0</th>\n",
              "      <td>NaN</td>\n",
              "      <td>1000038</td>\n",
              "      <td>0</td>\n",
              "      <td>117</td>\n",
              "      <td>88</td>\n",
              "      <td>32</td>\n",
              "      <td>607</td>\n",
              "      <td>43.906257</td>\n",
              "      <td>0.810828</td>\n",
              "      <td>23</td>\n",
              "      <td>0</td>\n",
              "      <td>No</td>\n",
              "      <td>No</td>\n",
              "    </tr>\n",
              "    <tr>\n",
              "      <th>1</th>\n",
              "      <td>NaN</td>\n",
              "      <td>1000069</td>\n",
              "      <td>3</td>\n",
              "      <td>76</td>\n",
              "      <td>81</td>\n",
              "      <td>19</td>\n",
              "      <td>47</td>\n",
              "      <td>36.775178</td>\n",
              "      <td>0.084195</td>\n",
              "      <td>38</td>\n",
              "      <td>0</td>\n",
              "      <td>No</td>\n",
              "      <td>No</td>\n",
              "    </tr>\n",
              "    <tr>\n",
              "      <th>2</th>\n",
              "      <td>NaN</td>\n",
              "      <td>1000118</td>\n",
              "      <td>0</td>\n",
              "      <td>144</td>\n",
              "      <td>95</td>\n",
              "      <td>7</td>\n",
              "      <td>34</td>\n",
              "      <td>37.317559</td>\n",
              "      <td>0.166225</td>\n",
              "      <td>21</td>\n",
              "      <td>0</td>\n",
              "      <td>No</td>\n",
              "      <td>No</td>\n",
              "    </tr>\n",
              "    <tr>\n",
              "      <th>3</th>\n",
              "      <td>NaN</td>\n",
              "      <td>1000183</td>\n",
              "      <td>1</td>\n",
              "      <td>164</td>\n",
              "      <td>102</td>\n",
              "      <td>22</td>\n",
              "      <td>40</td>\n",
              "      <td>49.822233</td>\n",
              "      <td>0.294454</td>\n",
              "      <td>24</td>\n",
              "      <td>0</td>\n",
              "      <td>No</td>\n",
              "      <td>No</td>\n",
              "    </tr>\n",
              "    <tr>\n",
              "      <th>4</th>\n",
              "      <td>NaN</td>\n",
              "      <td>1000326</td>\n",
              "      <td>3</td>\n",
              "      <td>116</td>\n",
              "      <td>43</td>\n",
              "      <td>45</td>\n",
              "      <td>207</td>\n",
              "      <td>29.833780</td>\n",
              "      <td>1.344658</td>\n",
              "      <td>46</td>\n",
              "      <td>1</td>\n",
              "      <td>Si</td>\n",
              "      <td>Si</td>\n",
              "    </tr>\n",
              "  </tbody>\n",
              "</table>\n",
              "</div>"
            ],
            "text/plain": [
              "    A PatientID  Pregnancies  ...  Diabetic  diabetes_apply  diabetes_map\n",
              "0 NaN   1000038            0  ...         0              No            No\n",
              "1 NaN   1000069            3  ...         0              No            No\n",
              "2 NaN   1000118            0  ...         0              No            No\n",
              "3 NaN   1000183            1  ...         0              No            No\n",
              "4 NaN   1000326            3  ...         1              Si            Si\n",
              "\n",
              "[5 rows x 13 columns]"
            ]
          },
          "metadata": {
            "tags": []
          },
          "execution_count": 64
        }
      ]
    },
    {
      "cell_type": "markdown",
      "metadata": {
        "id": "DuhSQGGgb0am"
      },
      "source": [
        "\n",
        "### Estadísticas descriptivas\n",
        "\n",
        "Puede utilizar diferentes métodos como:\n",
        "\n",
        "* **.mean()**\n",
        "* **.median()**\n",
        "* **.min()**\n",
        "* **.max()**\n",
        "* **.quantile()**\n",
        "\n",
        "Y muchos otros más para calcular estadísticas sobre los datos, sin embargo, en algunos casos necesitará crear sus propias funciones personalizadas. Para esto el método **.agg()** le permite aplicar sus propias funciones personalizadas a un DataFrame, así como también aplicar funciones a más de una columna, lo que hace que sus agregaciones sean más eficientes.\n"
      ]
    },
    {
      "cell_type": "code",
      "metadata": {
        "colab": {
          "base_uri": "https://localhost:8080/",
          "height": 222
        },
        "id": "uNV3IrS8cO9r",
        "outputId": "4ffadff3-e4b8-4e4d-c689-d810aa835831"
      },
      "source": [
        "diabetes[\"sum_age_serum_insulin\"] = diabetes[[\"Age\", \"SerumInsulin\"]].sum(axis=1)\n",
        "diabetes.head()"
      ],
      "execution_count": null,
      "outputs": [
        {
          "output_type": "execute_result",
          "data": {
            "text/html": [
              "<div>\n",
              "<style scoped>\n",
              "    .dataframe tbody tr th:only-of-type {\n",
              "        vertical-align: middle;\n",
              "    }\n",
              "\n",
              "    .dataframe tbody tr th {\n",
              "        vertical-align: top;\n",
              "    }\n",
              "\n",
              "    .dataframe thead th {\n",
              "        text-align: right;\n",
              "    }\n",
              "</style>\n",
              "<table border=\"1\" class=\"dataframe\">\n",
              "  <thead>\n",
              "    <tr style=\"text-align: right;\">\n",
              "      <th></th>\n",
              "      <th>A</th>\n",
              "      <th>PatientID</th>\n",
              "      <th>Pregnancies</th>\n",
              "      <th>PlasmaGlucose</th>\n",
              "      <th>DiastolicBloodPressure</th>\n",
              "      <th>TricepsThickness</th>\n",
              "      <th>SerumInsulin</th>\n",
              "      <th>BMI</th>\n",
              "      <th>DiabetesPedigree</th>\n",
              "      <th>Age</th>\n",
              "      <th>Diabetic</th>\n",
              "      <th>diabetes_apply</th>\n",
              "      <th>diabetes_map</th>\n",
              "      <th>sum_age_serum_insulin</th>\n",
              "    </tr>\n",
              "  </thead>\n",
              "  <tbody>\n",
              "    <tr>\n",
              "      <th>0</th>\n",
              "      <td>NaN</td>\n",
              "      <td>1000038</td>\n",
              "      <td>0</td>\n",
              "      <td>117</td>\n",
              "      <td>88</td>\n",
              "      <td>32</td>\n",
              "      <td>607</td>\n",
              "      <td>43.906257</td>\n",
              "      <td>0.810828</td>\n",
              "      <td>23</td>\n",
              "      <td>0</td>\n",
              "      <td>No</td>\n",
              "      <td>No</td>\n",
              "      <td>630</td>\n",
              "    </tr>\n",
              "    <tr>\n",
              "      <th>1</th>\n",
              "      <td>NaN</td>\n",
              "      <td>1000069</td>\n",
              "      <td>3</td>\n",
              "      <td>76</td>\n",
              "      <td>81</td>\n",
              "      <td>19</td>\n",
              "      <td>47</td>\n",
              "      <td>36.775178</td>\n",
              "      <td>0.084195</td>\n",
              "      <td>38</td>\n",
              "      <td>0</td>\n",
              "      <td>No</td>\n",
              "      <td>No</td>\n",
              "      <td>85</td>\n",
              "    </tr>\n",
              "    <tr>\n",
              "      <th>2</th>\n",
              "      <td>NaN</td>\n",
              "      <td>1000118</td>\n",
              "      <td>0</td>\n",
              "      <td>144</td>\n",
              "      <td>95</td>\n",
              "      <td>7</td>\n",
              "      <td>34</td>\n",
              "      <td>37.317559</td>\n",
              "      <td>0.166225</td>\n",
              "      <td>21</td>\n",
              "      <td>0</td>\n",
              "      <td>No</td>\n",
              "      <td>No</td>\n",
              "      <td>55</td>\n",
              "    </tr>\n",
              "    <tr>\n",
              "      <th>3</th>\n",
              "      <td>NaN</td>\n",
              "      <td>1000183</td>\n",
              "      <td>1</td>\n",
              "      <td>164</td>\n",
              "      <td>102</td>\n",
              "      <td>22</td>\n",
              "      <td>40</td>\n",
              "      <td>49.822233</td>\n",
              "      <td>0.294454</td>\n",
              "      <td>24</td>\n",
              "      <td>0</td>\n",
              "      <td>No</td>\n",
              "      <td>No</td>\n",
              "      <td>64</td>\n",
              "    </tr>\n",
              "    <tr>\n",
              "      <th>4</th>\n",
              "      <td>NaN</td>\n",
              "      <td>1000326</td>\n",
              "      <td>3</td>\n",
              "      <td>116</td>\n",
              "      <td>43</td>\n",
              "      <td>45</td>\n",
              "      <td>207</td>\n",
              "      <td>29.833780</td>\n",
              "      <td>1.344658</td>\n",
              "      <td>46</td>\n",
              "      <td>1</td>\n",
              "      <td>Si</td>\n",
              "      <td>Si</td>\n",
              "      <td>253</td>\n",
              "    </tr>\n",
              "  </tbody>\n",
              "</table>\n",
              "</div>"
            ],
            "text/plain": [
              "    A PatientID  Pregnancies  ...  diabetes_apply  diabetes_map  sum_age_serum_insulin\n",
              "0 NaN   1000038            0  ...              No            No                    630\n",
              "1 NaN   1000069            3  ...              No            No                     85\n",
              "2 NaN   1000118            0  ...              No            No                     55\n",
              "3 NaN   1000183            1  ...              No            No                     64\n",
              "4 NaN   1000326            3  ...              Si            Si                    253\n",
              "\n",
              "[5 rows x 14 columns]"
            ]
          },
          "metadata": {
            "tags": []
          },
          "execution_count": 70
        }
      ]
    },
    {
      "cell_type": "code",
      "metadata": {
        "colab": {
          "base_uri": "https://localhost:8080/"
        },
        "id": "-rRm_xaEbf5A",
        "outputId": "1b03ab7d-d794-4b7b-fcc5-089b7b5c8582"
      },
      "source": [
        "diabetes[[\"Age\", \"SerumInsulin\"]].mean(axis=1)"
      ],
      "execution_count": null,
      "outputs": [
        {
          "output_type": "execute_result",
          "data": {
            "text/plain": [
              "0        315.0\n",
              "1         42.5\n",
              "2         27.5\n",
              "3         32.0\n",
              "4        126.5\n",
              "         ...  \n",
              "14995     39.5\n",
              "14996     72.5\n",
              "14997     89.0\n",
              "14998     95.5\n",
              "14999    117.5\n",
              "Length: 15000, dtype: float64"
            ]
          },
          "metadata": {
            "tags": []
          },
          "execution_count": 69
        }
      ]
    },
    {
      "cell_type": "markdown",
      "metadata": {
        "id": "_yhBNS7jdCwO"
      },
      "source": [
        "### Eliminar datos duplicados\n",
        "\n",
        "Cuando queremos ver si hay datos duplicados, dos métodos interesantes son:\n",
        "\n",
        "* **.duplicated()**\n",
        "* **.drop_duplicates()**\n",
        "\n",
        "Ambos métodos comparten dos argumentos muy importantes, el primero es *subset* que considera solo las columnas que se le pasen para buscar datos duplicados; el segundo es *keep* que determina que duplicado dejar o eliminar.\n"
      ]
    },
    {
      "cell_type": "code",
      "metadata": {
        "colab": {
          "base_uri": "https://localhost:8080/"
        },
        "id": "U_9Ut78XcBp-",
        "outputId": "924ce84f-e991-44b1-9613-13141633c32e"
      },
      "source": [
        "diabetes[diabetes.duplicated(subset=[\"PatientID\"], keep=False)].shape[0]/diabetes.shape[0]"
      ],
      "execution_count": null,
      "outputs": [
        {
          "output_type": "execute_result",
          "data": {
            "text/plain": [
              "0.014"
            ]
          },
          "metadata": {
            "tags": []
          },
          "execution_count": 76
        }
      ]
    },
    {
      "cell_type": "code",
      "metadata": {
        "id": "aqJB70VtdOzu"
      },
      "source": [
        "diabetes.drop_duplicates(subset=[\"PatientID\"], keep=False, inplace=True)"
      ],
      "execution_count": null,
      "outputs": []
    },
    {
      "cell_type": "markdown",
      "metadata": {
        "id": "DvU6QlK0fOPJ"
      },
      "source": [
        "### Agrupaciones\n",
        "\n",
        "Podemos hacer agrupaciones usando el método **.groupby()**, donde el primer argumento es *by* que recibe un str o una lista de las columnas por las cuales se desea agrupar.\n"
      ]
    },
    {
      "cell_type": "code",
      "metadata": {
        "colab": {
          "base_uri": "https://localhost:8080/",
          "height": 165
        },
        "id": "kIoyK2qefCFA",
        "outputId": "09cc604a-50c2-4122-cc67-79f269b12710"
      },
      "source": [
        "table = diabetes.groupby(by=\"Diabetic\", as_index=False)[\"Pregnancies\", \"BMI\"].mean()\n",
        "table"
      ],
      "execution_count": null,
      "outputs": [
        {
          "output_type": "stream",
          "text": [
            "/usr/local/lib/python3.7/dist-packages/ipykernel_launcher.py:1: FutureWarning: Indexing with multiple keys (implicitly converted to a tuple of keys) will be deprecated, use a list instead.\n",
            "  \"\"\"Entry point for launching an IPython kernel.\n"
          ],
          "name": "stderr"
        },
        {
          "output_type": "execute_result",
          "data": {
            "text/html": [
              "<div>\n",
              "<style scoped>\n",
              "    .dataframe tbody tr th:only-of-type {\n",
              "        vertical-align: middle;\n",
              "    }\n",
              "\n",
              "    .dataframe tbody tr th {\n",
              "        vertical-align: top;\n",
              "    }\n",
              "\n",
              "    .dataframe thead th {\n",
              "        text-align: right;\n",
              "    }\n",
              "</style>\n",
              "<table border=\"1\" class=\"dataframe\">\n",
              "  <thead>\n",
              "    <tr style=\"text-align: right;\">\n",
              "      <th></th>\n",
              "      <th>Diabetic</th>\n",
              "      <th>Pregnancies</th>\n",
              "      <th>BMI</th>\n",
              "    </tr>\n",
              "  </thead>\n",
              "  <tbody>\n",
              "    <tr>\n",
              "      <th>0</th>\n",
              "      <td>0</td>\n",
              "      <td>2.251927</td>\n",
              "      <td>30.063947</td>\n",
              "    </tr>\n",
              "    <tr>\n",
              "      <th>1</th>\n",
              "      <td>1</td>\n",
              "      <td>5.175862</td>\n",
              "      <td>34.441364</td>\n",
              "    </tr>\n",
              "  </tbody>\n",
              "</table>\n",
              "</div>"
            ],
            "text/plain": [
              "  Diabetic  Pregnancies        BMI\n",
              "0        0     2.251927  30.063947\n",
              "1        1     5.175862  34.441364"
            ]
          },
          "metadata": {
            "tags": []
          },
          "execution_count": 83
        }
      ]
    },
    {
      "cell_type": "code",
      "metadata": {
        "colab": {
          "base_uri": "https://localhost:8080/",
          "height": 165
        },
        "id": "-xrfLFGdhYF3",
        "outputId": "79a97728-8379-4997-8caa-c0e6c957a43a"
      },
      "source": [
        "diabetes.groupby(by=\"Diabetic\")[\"Pregnancies\", \"BMI\"].mean().reset_index()"
      ],
      "execution_count": null,
      "outputs": [
        {
          "output_type": "stream",
          "text": [
            "/usr/local/lib/python3.7/dist-packages/ipykernel_launcher.py:1: FutureWarning: Indexing with multiple keys (implicitly converted to a tuple of keys) will be deprecated, use a list instead.\n",
            "  \"\"\"Entry point for launching an IPython kernel.\n"
          ],
          "name": "stderr"
        },
        {
          "output_type": "execute_result",
          "data": {
            "text/html": [
              "<div>\n",
              "<style scoped>\n",
              "    .dataframe tbody tr th:only-of-type {\n",
              "        vertical-align: middle;\n",
              "    }\n",
              "\n",
              "    .dataframe tbody tr th {\n",
              "        vertical-align: top;\n",
              "    }\n",
              "\n",
              "    .dataframe thead th {\n",
              "        text-align: right;\n",
              "    }\n",
              "</style>\n",
              "<table border=\"1\" class=\"dataframe\">\n",
              "  <thead>\n",
              "    <tr style=\"text-align: right;\">\n",
              "      <th></th>\n",
              "      <th>Diabetic</th>\n",
              "      <th>Pregnancies</th>\n",
              "      <th>BMI</th>\n",
              "    </tr>\n",
              "  </thead>\n",
              "  <tbody>\n",
              "    <tr>\n",
              "      <th>0</th>\n",
              "      <td>0</td>\n",
              "      <td>2.251927</td>\n",
              "      <td>30.063947</td>\n",
              "    </tr>\n",
              "    <tr>\n",
              "      <th>1</th>\n",
              "      <td>1</td>\n",
              "      <td>5.175862</td>\n",
              "      <td>34.441364</td>\n",
              "    </tr>\n",
              "  </tbody>\n",
              "</table>\n",
              "</div>"
            ],
            "text/plain": [
              "  Diabetic  Pregnancies        BMI\n",
              "0        0     2.251927  30.063947\n",
              "1        1     5.175862  34.441364"
            ]
          },
          "metadata": {
            "tags": []
          },
          "execution_count": 87
        }
      ]
    },
    {
      "cell_type": "code",
      "metadata": {
        "colab": {
          "base_uri": "https://localhost:8080/"
        },
        "id": "o8ZKy9zdgd1h",
        "outputId": "d61c7e82-8114-4dcf-ac4f-28bb3f136c1e"
      },
      "source": [
        "table = diabetes.groupby(by=[\"Diabetic\", \"diabetes_map\"])[\"Pregnancies\", \"BMI\"].median()"
      ],
      "execution_count": null,
      "outputs": [
        {
          "output_type": "stream",
          "text": [
            "/usr/local/lib/python3.7/dist-packages/ipykernel_launcher.py:1: FutureWarning: Indexing with multiple keys (implicitly converted to a tuple of keys) will be deprecated, use a list instead.\n",
            "  \"\"\"Entry point for launching an IPython kernel.\n"
          ],
          "name": "stderr"
        }
      ]
    },
    {
      "cell_type": "code",
      "metadata": {
        "colab": {
          "base_uri": "https://localhost:8080/"
        },
        "id": "dzGFGVM-hKmp",
        "outputId": "4161e9be-c2df-460a-bc21-54105fd5ee1b"
      },
      "source": [
        "table.index"
      ],
      "execution_count": null,
      "outputs": [
        {
          "output_type": "execute_result",
          "data": {
            "text/plain": [
              "MultiIndex([('0', 'No'),\n",
              "            ('0', 'Si'),\n",
              "            ('1', 'No'),\n",
              "            ('1', 'Si')],\n",
              "           names=['Diabetic', 'diabetes_map'])"
            ]
          },
          "metadata": {
            "tags": []
          },
          "execution_count": 90
        }
      ]
    },
    {
      "cell_type": "code",
      "metadata": {
        "colab": {
          "base_uri": "https://localhost:8080/",
          "height": 202
        },
        "id": "vsVog6hBiLHm",
        "outputId": "48185a6c-b064-45b4-d286-96f24f13f0ba"
      },
      "source": [
        "table"
      ],
      "execution_count": null,
      "outputs": [
        {
          "output_type": "execute_result",
          "data": {
            "text/html": [
              "<div>\n",
              "<style scoped>\n",
              "    .dataframe tbody tr th:only-of-type {\n",
              "        vertical-align: middle;\n",
              "    }\n",
              "\n",
              "    .dataframe tbody tr th {\n",
              "        vertical-align: top;\n",
              "    }\n",
              "\n",
              "    .dataframe thead th {\n",
              "        text-align: right;\n",
              "    }\n",
              "</style>\n",
              "<table border=\"1\" class=\"dataframe\">\n",
              "  <thead>\n",
              "    <tr style=\"text-align: right;\">\n",
              "      <th></th>\n",
              "      <th></th>\n",
              "      <th>Pregnancies</th>\n",
              "      <th>BMI</th>\n",
              "    </tr>\n",
              "    <tr>\n",
              "      <th>Diabetic</th>\n",
              "      <th>diabetes_map</th>\n",
              "      <th></th>\n",
              "      <th></th>\n",
              "    </tr>\n",
              "  </thead>\n",
              "  <tbody>\n",
              "    <tr>\n",
              "      <th rowspan=\"2\" valign=\"top\">0</th>\n",
              "      <th>No</th>\n",
              "      <td>1.0</td>\n",
              "      <td>28.453579</td>\n",
              "    </tr>\n",
              "    <tr>\n",
              "      <th>Si</th>\n",
              "      <td>NaN</td>\n",
              "      <td>NaN</td>\n",
              "    </tr>\n",
              "    <tr>\n",
              "      <th rowspan=\"2\" valign=\"top\">1</th>\n",
              "      <th>No</th>\n",
              "      <td>NaN</td>\n",
              "      <td>NaN</td>\n",
              "    </tr>\n",
              "    <tr>\n",
              "      <th>Si</th>\n",
              "      <td>5.0</td>\n",
              "      <td>33.727606</td>\n",
              "    </tr>\n",
              "  </tbody>\n",
              "</table>\n",
              "</div>"
            ],
            "text/plain": [
              "                       Pregnancies        BMI\n",
              "Diabetic diabetes_map                        \n",
              "0        No                    1.0  28.453579\n",
              "         Si                    NaN        NaN\n",
              "1        No                    NaN        NaN\n",
              "         Si                    5.0  33.727606"
            ]
          },
          "metadata": {
            "tags": []
          },
          "execution_count": 91
        }
      ]
    },
    {
      "cell_type": "code",
      "metadata": {
        "colab": {
          "base_uri": "https://localhost:8080/"
        },
        "id": "eREnPMkGiSi6",
        "outputId": "75577c1f-72d8-4cae-ad31-57b61b80c639"
      },
      "source": [
        "table.loc[[('0', 'No')], \"Pregnancies\"]"
      ],
      "execution_count": null,
      "outputs": [
        {
          "output_type": "execute_result",
          "data": {
            "text/plain": [
              "Diabetic  diabetes_map\n",
              "0         No              1.0\n",
              "Name: Pregnancies, dtype: float64"
            ]
          },
          "metadata": {
            "tags": []
          },
          "execution_count": 92
        }
      ]
    },
    {
      "cell_type": "code",
      "metadata": {
        "colab": {
          "base_uri": "https://localhost:8080/",
          "height": 226
        },
        "id": "XdFU1yKSil06",
        "outputId": "d07ee14a-e66d-42ee-8406-c4b41a7fc990"
      },
      "source": [
        "table = diabetes.groupby(by=[\"Diabetic\"])[\"Pregnancies\", \"BMI\"].agg(['min', 'max', 'mean'])\n",
        "table"
      ],
      "execution_count": null,
      "outputs": [
        {
          "output_type": "stream",
          "text": [
            "/usr/local/lib/python3.7/dist-packages/ipykernel_launcher.py:1: FutureWarning: Indexing with multiple keys (implicitly converted to a tuple of keys) will be deprecated, use a list instead.\n",
            "  \"\"\"Entry point for launching an IPython kernel.\n"
          ],
          "name": "stderr"
        },
        {
          "output_type": "execute_result",
          "data": {
            "text/html": [
              "<div>\n",
              "<style scoped>\n",
              "    .dataframe tbody tr th:only-of-type {\n",
              "        vertical-align: middle;\n",
              "    }\n",
              "\n",
              "    .dataframe tbody tr th {\n",
              "        vertical-align: top;\n",
              "    }\n",
              "\n",
              "    .dataframe thead tr th {\n",
              "        text-align: left;\n",
              "    }\n",
              "\n",
              "    .dataframe thead tr:last-of-type th {\n",
              "        text-align: right;\n",
              "    }\n",
              "</style>\n",
              "<table border=\"1\" class=\"dataframe\">\n",
              "  <thead>\n",
              "    <tr>\n",
              "      <th></th>\n",
              "      <th colspan=\"3\" halign=\"left\">Pregnancies</th>\n",
              "      <th colspan=\"3\" halign=\"left\">BMI</th>\n",
              "    </tr>\n",
              "    <tr>\n",
              "      <th></th>\n",
              "      <th>min</th>\n",
              "      <th>max</th>\n",
              "      <th>mean</th>\n",
              "      <th>min</th>\n",
              "      <th>max</th>\n",
              "      <th>mean</th>\n",
              "    </tr>\n",
              "    <tr>\n",
              "      <th>Diabetic</th>\n",
              "      <th></th>\n",
              "      <th></th>\n",
              "      <th></th>\n",
              "      <th></th>\n",
              "      <th></th>\n",
              "      <th></th>\n",
              "    </tr>\n",
              "  </thead>\n",
              "  <tbody>\n",
              "    <tr>\n",
              "      <th>0</th>\n",
              "      <td>0</td>\n",
              "      <td>11</td>\n",
              "      <td>2.251927</td>\n",
              "      <td>18.200512</td>\n",
              "      <td>51.418626</td>\n",
              "      <td>30.063947</td>\n",
              "    </tr>\n",
              "    <tr>\n",
              "      <th>1</th>\n",
              "      <td>0</td>\n",
              "      <td>14</td>\n",
              "      <td>5.175862</td>\n",
              "      <td>18.218614</td>\n",
              "      <td>56.034628</td>\n",
              "      <td>34.441364</td>\n",
              "    </tr>\n",
              "  </tbody>\n",
              "</table>\n",
              "</div>"
            ],
            "text/plain": [
              "         Pregnancies                      BMI                      \n",
              "                 min max      mean        min        max       mean\n",
              "Diabetic                                                           \n",
              "0                  0  11  2.251927  18.200512  51.418626  30.063947\n",
              "1                  0  14  5.175862  18.218614  56.034628  34.441364"
            ]
          },
          "metadata": {
            "tags": []
          },
          "execution_count": 95
        }
      ]
    },
    {
      "cell_type": "code",
      "metadata": {
        "colab": {
          "base_uri": "https://localhost:8080/"
        },
        "id": "L4E3IRHFi9xY",
        "outputId": "a7545ab8-2a1d-441a-9821-e37568c373bb"
      },
      "source": [
        "table.columns"
      ],
      "execution_count": null,
      "outputs": [
        {
          "output_type": "execute_result",
          "data": {
            "text/plain": [
              "MultiIndex([('Pregnancies',  'min'),\n",
              "            ('Pregnancies',  'max'),\n",
              "            ('Pregnancies', 'mean'),\n",
              "            (        'BMI',  'min'),\n",
              "            (        'BMI',  'max'),\n",
              "            (        'BMI', 'mean')],\n",
              "           )"
            ]
          },
          "metadata": {
            "tags": []
          },
          "execution_count": 96
        }
      ]
    },
    {
      "cell_type": "code",
      "metadata": {
        "colab": {
          "base_uri": "https://localhost:8080/"
        },
        "id": "yNy3lWOYjywn",
        "outputId": "aab2c92e-4aa1-4cc9-9efd-8e1da828d79a"
      },
      "source": [
        "table.index"
      ],
      "execution_count": null,
      "outputs": [
        {
          "output_type": "execute_result",
          "data": {
            "text/plain": [
              "CategoricalIndex(['0', '1'], categories=['0', '1'], ordered=False, name='Diabetic', dtype='category')"
            ]
          },
          "metadata": {
            "tags": []
          },
          "execution_count": 97
        }
      ]
    },
    {
      "cell_type": "code",
      "metadata": {
        "colab": {
          "base_uri": "https://localhost:8080/"
        },
        "id": "WkHBdc-8jIlp",
        "outputId": "75154fee-92e0-4bb7-f74d-75f077681baa"
      },
      "source": [
        "table.loc[[\"0\"], \"Pregnancies\"].agg(\"min\")[0]"
      ],
      "execution_count": null,
      "outputs": [
        {
          "output_type": "execute_result",
          "data": {
            "text/plain": [
              "0.0"
            ]
          },
          "metadata": {
            "tags": []
          },
          "execution_count": 101
        }
      ]
    },
    {
      "cell_type": "code",
      "metadata": {
        "colab": {
          "base_uri": "https://localhost:8080/"
        },
        "id": "UpON5JWBkTqg",
        "outputId": "79b4461a-165b-4e43-f56d-2ba76cea68b4"
      },
      "source": [
        "table.loc[\"0\", [(\"Pregnancies\", \"min\"), (\"BMI\", 'max')]]"
      ],
      "execution_count": null,
      "outputs": [
        {
          "output_type": "execute_result",
          "data": {
            "text/plain": [
              "Pregnancies  min     0.000000\n",
              "BMI          max    51.418626\n",
              "Name: 0, dtype: float64"
            ]
          },
          "metadata": {
            "tags": []
          },
          "execution_count": 103
        }
      ]
    },
    {
      "cell_type": "code",
      "metadata": {
        "id": "-fWbsR4lkzOf"
      },
      "source": [
        ""
      ],
      "execution_count": null,
      "outputs": []
    }
  ]
}