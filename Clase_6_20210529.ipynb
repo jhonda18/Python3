{
  "nbformat": 4,
  "nbformat_minor": 0,
  "metadata": {
    "colab": {
      "name": "Clase_6-20210529.ipynb",
      "provenance": [],
      "include_colab_link": true
    },
    "kernelspec": {
      "name": "python3",
      "display_name": "Python 3"
    },
    "language_info": {
      "name": "python"
    }
  },
  "cells": [
    {
      "cell_type": "markdown",
      "metadata": {
        "id": "view-in-github",
        "colab_type": "text"
      },
      "source": [
        "<a href=\"https://colab.research.google.com/github/jhonda18/Python3/blob/main/Clase_6_20210529.ipynb\" target=\"_parent\"><img src=\"https://colab.research.google.com/assets/colab-badge.svg\" alt=\"Open In Colab\"/></a>"
      ]
    },
    {
      "cell_type": "markdown",
      "metadata": {
        "id": "oaFVNxJEUHBW"
      },
      "source": [
        "# Clase de hoy\n",
        "\n",
        "* Hoy vamos a ver Outliers, como detectarlos y como tratarlos.\n",
        "\n",
        "## Outliers\n",
        "En estadística, un valor atípico es un punto de observación que está distante de otras observaciones.\n",
        "\n",
        "### Identificar Outlier un enfoque univariado\n",
        "* Diagrama de caja y bigotes (Boxplot).\n",
        "* Z-Score (La regla de las tres sigmas).\n",
        "* IQR Score"
      ]
    },
    {
      "cell_type": "code",
      "metadata": {
        "id": "QDlleV3fNege"
      },
      "source": [
        "import warnings\n",
        "import numpy as np\n",
        "import pandas as pd\n",
        "import seaborn as sns\n",
        "import matplotlib.pyplot as plt\n",
        "\n",
        "warnings.filterwarnings(action=\"ignore\")\n",
        "pd.set_option(\"float_format\", \"{:.2f}\".format)"
      ],
      "execution_count": null,
      "outputs": []
    },
    {
      "cell_type": "code",
      "metadata": {
        "colab": {
          "base_uri": "https://localhost:8080/",
          "height": 202
        },
        "id": "lxQBJWZNUwqA",
        "outputId": "90fd4bdb-a904-43e5-fe5f-7456b3e324c8"
      },
      "source": [
        "diabetes = pd.read_csv(\"https://raw.githubusercontent.com/stivenlopezg/Modulo-Python-3/master/data/diabetes.csv\",\n",
        "                       dtype={\"PatientID\": \"category\", \"Diabetic\": \"category\"})\n",
        "diabetes.head()"
      ],
      "execution_count": null,
      "outputs": [
        {
          "output_type": "execute_result",
          "data": {
            "text/html": [
              "<div>\n",
              "<style scoped>\n",
              "    .dataframe tbody tr th:only-of-type {\n",
              "        vertical-align: middle;\n",
              "    }\n",
              "\n",
              "    .dataframe tbody tr th {\n",
              "        vertical-align: top;\n",
              "    }\n",
              "\n",
              "    .dataframe thead th {\n",
              "        text-align: right;\n",
              "    }\n",
              "</style>\n",
              "<table border=\"1\" class=\"dataframe\">\n",
              "  <thead>\n",
              "    <tr style=\"text-align: right;\">\n",
              "      <th></th>\n",
              "      <th>PatientID</th>\n",
              "      <th>Pregnancies</th>\n",
              "      <th>PlasmaGlucose</th>\n",
              "      <th>DiastolicBloodPressure</th>\n",
              "      <th>TricepsThickness</th>\n",
              "      <th>SerumInsulin</th>\n",
              "      <th>BMI</th>\n",
              "      <th>DiabetesPedigree</th>\n",
              "      <th>Age</th>\n",
              "      <th>Diabetic</th>\n",
              "    </tr>\n",
              "  </thead>\n",
              "  <tbody>\n",
              "    <tr>\n",
              "      <th>0</th>\n",
              "      <td>1354778</td>\n",
              "      <td>0</td>\n",
              "      <td>171</td>\n",
              "      <td>80</td>\n",
              "      <td>34</td>\n",
              "      <td>23</td>\n",
              "      <td>43.51</td>\n",
              "      <td>1.21</td>\n",
              "      <td>21</td>\n",
              "      <td>0</td>\n",
              "    </tr>\n",
              "    <tr>\n",
              "      <th>1</th>\n",
              "      <td>1147438</td>\n",
              "      <td>8</td>\n",
              "      <td>92</td>\n",
              "      <td>93</td>\n",
              "      <td>47</td>\n",
              "      <td>36</td>\n",
              "      <td>21.24</td>\n",
              "      <td>0.16</td>\n",
              "      <td>23</td>\n",
              "      <td>0</td>\n",
              "    </tr>\n",
              "    <tr>\n",
              "      <th>2</th>\n",
              "      <td>1640031</td>\n",
              "      <td>7</td>\n",
              "      <td>115</td>\n",
              "      <td>47</td>\n",
              "      <td>52</td>\n",
              "      <td>35</td>\n",
              "      <td>41.51</td>\n",
              "      <td>0.08</td>\n",
              "      <td>23</td>\n",
              "      <td>0</td>\n",
              "    </tr>\n",
              "    <tr>\n",
              "      <th>3</th>\n",
              "      <td>1883350</td>\n",
              "      <td>9</td>\n",
              "      <td>103</td>\n",
              "      <td>78</td>\n",
              "      <td>25</td>\n",
              "      <td>304</td>\n",
              "      <td>29.58</td>\n",
              "      <td>1.28</td>\n",
              "      <td>43</td>\n",
              "      <td>1</td>\n",
              "    </tr>\n",
              "    <tr>\n",
              "      <th>4</th>\n",
              "      <td>1424119</td>\n",
              "      <td>1</td>\n",
              "      <td>85</td>\n",
              "      <td>59</td>\n",
              "      <td>27</td>\n",
              "      <td>35</td>\n",
              "      <td>42.60</td>\n",
              "      <td>0.55</td>\n",
              "      <td>22</td>\n",
              "      <td>0</td>\n",
              "    </tr>\n",
              "  </tbody>\n",
              "</table>\n",
              "</div>"
            ],
            "text/plain": [
              "  PatientID  Pregnancies  PlasmaGlucose  ...  DiabetesPedigree  Age  Diabetic\n",
              "0   1354778            0            171  ...              1.21   21         0\n",
              "1   1147438            8             92  ...              0.16   23         0\n",
              "2   1640031            7            115  ...              0.08   23         0\n",
              "3   1883350            9            103  ...              1.28   43         1\n",
              "4   1424119            1             85  ...              0.55   22         0\n",
              "\n",
              "[5 rows x 10 columns]"
            ]
          },
          "metadata": {
            "tags": []
          },
          "execution_count": 4
        }
      ]
    },
    {
      "cell_type": "code",
      "metadata": {
        "id": "Fvx8SIDhU42O"
      },
      "source": [
        "# map, apply\n",
        "\n",
        "diabetes[\"Diabetic\"] = diabetes[\"Diabetic\"].map({\"0\": \"No\", \"1\": \"Si\"})"
      ],
      "execution_count": null,
      "outputs": []
    },
    {
      "cell_type": "code",
      "metadata": {
        "colab": {
          "base_uri": "https://localhost:8080/"
        },
        "id": "pxzDr-owXRHF",
        "outputId": "e75863f2-ff4e-4f97-e81a-c86df3363fb0"
      },
      "source": [
        "diabetes.info()"
      ],
      "execution_count": null,
      "outputs": [
        {
          "output_type": "stream",
          "text": [
            "<class 'pandas.core.frame.DataFrame'>\n",
            "RangeIndex: 15000 entries, 0 to 14999\n",
            "Data columns (total 10 columns):\n",
            " #   Column                  Non-Null Count  Dtype   \n",
            "---  ------                  --------------  -----   \n",
            " 0   PatientID               15000 non-null  category\n",
            " 1   Pregnancies             15000 non-null  int64   \n",
            " 2   PlasmaGlucose           15000 non-null  int64   \n",
            " 3   DiastolicBloodPressure  15000 non-null  int64   \n",
            " 4   TricepsThickness        15000 non-null  int64   \n",
            " 5   SerumInsulin            15000 non-null  int64   \n",
            " 6   BMI                     15000 non-null  float64 \n",
            " 7   DiabetesPedigree        15000 non-null  float64 \n",
            " 8   Age                     15000 non-null  int64   \n",
            " 9   Diabetic                15000 non-null  category\n",
            "dtypes: category(2), float64(2), int64(6)\n",
            "memory usage: 1.7 MB\n"
          ],
          "name": "stdout"
        }
      ]
    },
    {
      "cell_type": "code",
      "metadata": {
        "colab": {
          "base_uri": "https://localhost:8080/"
        },
        "id": "Vb2MLiOvXVcd",
        "outputId": "f8fd9e81-e949-4227-91b4-707755f9a726"
      },
      "source": [
        "numerical_features = diabetes.select_dtypes(include=\"number\").columns.tolist()\n",
        "numerical_features"
      ],
      "execution_count": null,
      "outputs": [
        {
          "output_type": "execute_result",
          "data": {
            "text/plain": [
              "['Pregnancies',\n",
              " 'PlasmaGlucose',\n",
              " 'DiastolicBloodPressure',\n",
              " 'TricepsThickness',\n",
              " 'SerumInsulin',\n",
              " 'BMI',\n",
              " 'DiabetesPedigree',\n",
              " 'Age']"
            ]
          },
          "metadata": {
            "tags": []
          },
          "execution_count": 7
        }
      ]
    },
    {
      "cell_type": "markdown",
      "metadata": {
        "id": "yl7uCbpUX1zL"
      },
      "source": [
        "Sobre las variables numericas:\n",
        "\n",
        "* Histogramas.\n",
        "* Boxplot."
      ]
    },
    {
      "cell_type": "code",
      "metadata": {
        "colab": {
          "base_uri": "https://localhost:8080/",
          "height": 1000
        },
        "id": "bAwCGSYIXumN",
        "outputId": "2b673ba2-294c-4efd-9b1e-d9eb100cb555"
      },
      "source": [
        "for col in numerical_features:\n",
        "  if col in [\"Pregnancies\", \"Age\"]:\n",
        "    continue\n",
        "  else:\n",
        "    print(f\"Para la columna {col}: \\n\")\n",
        "    sns.displot(data=diabetes, x=col)\n",
        "    plt.show()\n",
        "    sns.boxplot(data=diabetes, y=col)\n",
        "    plt.show()\n",
        "    print(\"-----------------------------------------------------------------\")"
      ],
      "execution_count": null,
      "outputs": [
        {
          "output_type": "stream",
          "text": [
            "Para la columna PlasmaGlucose: \n",
            "\n"
          ],
          "name": "stdout"
        },
        {
          "output_type": "display_data",
          "data": {
            "image/png": "[encoded data removed]",
            "text/plain": [
              "<Figure size 360x360 with 1 Axes>"
            ]
          },
          "metadata": {
            "tags": [],
            "needs_background": "light"
          }
        },
        {
          "output_type": "display_data",
          "data": {
            "image/png": "[encoded data removed]",
            "text/plain": [
              "<Figure size 432x288 with 1 Axes>"
            ]
          },
          "metadata": {
            "tags": [],
            "needs_background": "light"
          }
        },
        {
          "output_type": "stream",
          "text": [
            "-----------------------------------------------------------------\n",
            "Para la columna DiastolicBloodPressure: \n",
            "\n"
          ],
          "name": "stdout"
        },
        {
          "output_type": "display_data",
          "data": {
            "image/png": "[encoded data removed]",
            "text/plain": [
              "<Figure size 360x360 with 1 Axes>"
            ]
          },
          "metadata": {
            "tags": [],
            "needs_background": "light"
          }
        },
        {
          "output_type": "display_data",
          "data": {
            "image/png": "[encoded data removed]",
            "text/plain": [
              "<Figure size 432x288 with 1 Axes>"
            ]
          },
          "metadata": {
            "tags": [],
            "needs_background": "light"
          }
        },
        {
          "output_type": "stream",
          "text": [
            "-----------------------------------------------------------------\n",
            "Para la columna TricepsThickness: \n",
            "\n"
          ],
          "name": "stdout"
        },
        {
          "output_type": "display_data",
          "data": {
            "image/png": "[encoded data removed]",
            "text/plain": [
              "<Figure size 360x360 with 1 Axes>"
            ]
          },
          "metadata": {
            "tags": [],
            "needs_background": "light"
          }
        },
        {
          "output_type": "display_data",
          "data": {
            "image/png": "[encoded data removed]",
            "text/plain": [
              "<Figure size 432x288 with 1 Axes>"
            ]
          },
          "metadata": {
            "tags": [],
            "needs_background": "light"
          }
        },
        {
          "output_type": "stream",
          "text": [
            "-----------------------------------------------------------------\n",
            "Para la columna SerumInsulin: \n",
            "\n"
          ],
          "name": "stdout"
        },
        {
          "output_type": "display_data",
          "data": {
            "image/png": "[encoded data removed]",
            "text/plain": [
              "<Figure size 360x360 with 1 Axes>"
            ]
          },
          "metadata": {
            "tags": [],
            "needs_background": "light"
          }
        },
        {
          "output_type": "display_data",
          "data": {
            "image/png": "[encoded data removed]",
            "text/plain": [
              "<Figure size 432x288 with 1 Axes>"
            ]
          },
          "metadata": {
            "tags": [],
            "needs_background": "light"
          }
        },
        {
          "output_type": "stream",
          "text": [
            "-----------------------------------------------------------------\n",
            "Para la columna BMI: \n",
            "\n"
          ],
          "name": "stdout"
        },
        {
          "output_type": "display_data",
          "data": {
            "image/png": "[encoded data removed]",
            "text/plain": [
              "<Figure size 360x360 with 1 Axes>"
            ]
          },
          "metadata": {
            "tags": [],
            "needs_background": "light"
          }
        },
        {
          "output_type": "display_data",
          "data": {
            "image/png": "[encoded data removed]",
            "text/plain": [
              "<Figure size 432x288 with 1 Axes>"
            ]
          },
          "metadata": {
            "tags": [],
            "needs_background": "light"
          }
        },
        {
          "output_type": "stream",
          "text": [
            "-----------------------------------------------------------------\n",
            "Para la columna DiabetesPedigree: \n",
            "\n"
          ],
          "name": "stdout"
        },
        {
          "output_type": "display_data",
          "data": {
            "image/png": "[encoded data removed]",
            "text/plain": [
              "<Figure size 360x360 with 1 Axes>"
            ]
          },
          "metadata": {
            "tags": [],
            "needs_background": "light"
          }
        },
        {
          "output_type": "display_data",
          "data": {
            "image/png": "[encoded data removed]",
            "text/plain": [
              "<Figure size 432x288 with 1 Axes>"
            ]
          },
          "metadata": {
            "tags": [],
            "needs_background": "light"
          }
        },
        {
          "output_type": "stream",
          "text": [
            "-----------------------------------------------------------------\n"
          ],
          "name": "stdout"
        }
      ]
    },
    {
      "cell_type": "code",
      "metadata": {
        "id": "bw6agLljZg1a"
      },
      "source": [
        "iqr_features = [\"DiabetesPedigree\", \"SerumInsulin\", \"TricepsThickness\"]\n",
        "zscore_features = [col for col in numerical_features if col not in iqr_features]"
      ],
      "execution_count": null,
      "outputs": []
    },
    {
      "cell_type": "code",
      "metadata": {
        "colab": {
          "base_uri": "https://localhost:8080/"
        },
        "id": "BnnzXINxdeFx",
        "outputId": "c99dc5e1-7915-4561-ae95-0034c128be4e"
      },
      "source": [
        "iqr_features"
      ],
      "execution_count": null,
      "outputs": [
        {
          "output_type": "execute_result",
          "data": {
            "text/plain": [
              "['DiabetesPedigree', 'SerumInsulin', 'TricepsThickness']"
            ]
          },
          "metadata": {
            "tags": []
          },
          "execution_count": 21
        }
      ]
    },
    {
      "cell_type": "code",
      "metadata": {
        "id": "P9929rVQdwZE"
      },
      "source": [
        "for col in [\"Pregnancies\", \"Age\"]:\n",
        "  zscore_features.remove(col)"
      ],
      "execution_count": null,
      "outputs": []
    },
    {
      "cell_type": "code",
      "metadata": {
        "colab": {
          "base_uri": "https://localhost:8080/"
        },
        "id": "WXeg4LqBdx6Z",
        "outputId": "866020cb-d252-4e70-dfae-4dc079df5cfb"
      },
      "source": [
        "zscore_features"
      ],
      "execution_count": null,
      "outputs": [
        {
          "output_type": "execute_result",
          "data": {
            "text/plain": [
              "['PlasmaGlucose', 'DiastolicBloodPressure', 'BMI']"
            ]
          },
          "metadata": {
            "tags": []
          },
          "execution_count": 24
        }
      ]
    },
    {
      "cell_type": "markdown",
      "metadata": {
        "id": "iBOvyGq_eBdB"
      },
      "source": [
        "## Z-Score"
      ]
    },
    {
      "cell_type": "code",
      "metadata": {
        "id": "xVLcH1mCd8xQ"
      },
      "source": [
        "# upper = mean(datos) + 3 * std(datos)\n",
        "# lower = mean(datos) - 3 * std(datos)\n",
        "\n",
        "from sklearn.preprocessing import StandardScaler"
      ],
      "execution_count": null,
      "outputs": []
    },
    {
      "cell_type": "code",
      "metadata": {
        "colab": {
          "base_uri": "https://localhost:8080/"
        },
        "id": "7TJ0kj_leiDy",
        "outputId": "c2e69c3d-1b37-4a55-d7ed-bdb78d71af7e"
      },
      "source": [
        "standard = StandardScaler()\n",
        "\n",
        "standard.fit(diabetes[zscore_features])"
      ],
      "execution_count": null,
      "outputs": [
        {
          "output_type": "execute_result",
          "data": {
            "text/plain": [
              "StandardScaler(copy=True, with_mean=True, with_std=True)"
            ]
          },
          "metadata": {
            "tags": []
          },
          "execution_count": 92
        }
      ]
    },
    {
      "cell_type": "code",
      "metadata": {
        "colab": {
          "base_uri": "https://localhost:8080/"
        },
        "id": "x1U93cNEe0ze",
        "outputId": "15310d44-e36b-4251-d0b6-7d2cc079d2e5"
      },
      "source": [
        "for col, mean, std in zip(zscore_features, standard.mean_, standard.scale_):\n",
        "  print(f\"Para la columna {col}:\")\n",
        "  print(f\"El promedio es: {mean}\")\n",
        "  print(f\"La desviacion es: {std} \\n\")"
      ],
      "execution_count": null,
      "outputs": [
        {
          "output_type": "stream",
          "text": [
            "Para la columna PlasmaGlucose:\n",
            "El promedio es: 107.85686666666666\n",
            "La desviacion es: 31.98090856822065 \n",
            "\n",
            "Para la columna DiastolicBloodPressure:\n",
            "El promedio es: 71.22066666666667\n",
            "La desviacion es: 16.758157403353017 \n",
            "\n",
            "Para la columna BMI:\n",
            "El promedio es: 31.509646041017337\n",
            "La desviacion es: 9.758674428638933 \n",
            "\n"
          ],
          "name": "stdout"
        }
      ]
    },
    {
      "cell_type": "code",
      "metadata": {
        "id": "MTNk5Z7le4O1"
      },
      "source": [
        "diabetes.loc[:, zscore_features] = standard.transform(diabetes[zscore_features])"
      ],
      "execution_count": null,
      "outputs": []
    },
    {
      "cell_type": "code",
      "metadata": {
        "colab": {
          "base_uri": "https://localhost:8080/",
          "height": 202
        },
        "id": "5bqKRRLigIlJ",
        "outputId": "06a7d382-528c-424f-8b5e-9ff66d35b6ae"
      },
      "source": [
        "diabetes.head()"
      ],
      "execution_count": null,
      "outputs": [
        {
          "output_type": "execute_result",
          "data": {
            "text/html": [
              "<div>\n",
              "<style scoped>\n",
              "    .dataframe tbody tr th:only-of-type {\n",
              "        vertical-align: middle;\n",
              "    }\n",
              "\n",
              "    .dataframe tbody tr th {\n",
              "        vertical-align: top;\n",
              "    }\n",
              "\n",
              "    .dataframe thead th {\n",
              "        text-align: right;\n",
              "    }\n",
              "</style>\n",
              "<table border=\"1\" class=\"dataframe\">\n",
              "  <thead>\n",
              "    <tr style=\"text-align: right;\">\n",
              "      <th></th>\n",
              "      <th>PatientID</th>\n",
              "      <th>Pregnancies</th>\n",
              "      <th>PlasmaGlucose</th>\n",
              "      <th>DiastolicBloodPressure</th>\n",
              "      <th>TricepsThickness</th>\n",
              "      <th>SerumInsulin</th>\n",
              "      <th>BMI</th>\n",
              "      <th>DiabetesPedigree</th>\n",
              "      <th>Age</th>\n",
              "      <th>Diabetic</th>\n",
              "    </tr>\n",
              "  </thead>\n",
              "  <tbody>\n",
              "    <tr>\n",
              "      <th>0</th>\n",
              "      <td>1354778</td>\n",
              "      <td>0</td>\n",
              "      <td>1.97</td>\n",
              "      <td>0.52</td>\n",
              "      <td>34</td>\n",
              "      <td>23</td>\n",
              "      <td>1.23</td>\n",
              "      <td>1.21</td>\n",
              "      <td>21</td>\n",
              "      <td>No</td>\n",
              "    </tr>\n",
              "    <tr>\n",
              "      <th>1</th>\n",
              "      <td>1147438</td>\n",
              "      <td>8</td>\n",
              "      <td>-0.50</td>\n",
              "      <td>1.30</td>\n",
              "      <td>47</td>\n",
              "      <td>36</td>\n",
              "      <td>-1.05</td>\n",
              "      <td>0.16</td>\n",
              "      <td>23</td>\n",
              "      <td>No</td>\n",
              "    </tr>\n",
              "    <tr>\n",
              "      <th>2</th>\n",
              "      <td>1640031</td>\n",
              "      <td>7</td>\n",
              "      <td>0.22</td>\n",
              "      <td>-1.45</td>\n",
              "      <td>52</td>\n",
              "      <td>35</td>\n",
              "      <td>1.02</td>\n",
              "      <td>0.08</td>\n",
              "      <td>23</td>\n",
              "      <td>No</td>\n",
              "    </tr>\n",
              "    <tr>\n",
              "      <th>3</th>\n",
              "      <td>1883350</td>\n",
              "      <td>9</td>\n",
              "      <td>-0.15</td>\n",
              "      <td>0.40</td>\n",
              "      <td>25</td>\n",
              "      <td>304</td>\n",
              "      <td>-0.20</td>\n",
              "      <td>1.28</td>\n",
              "      <td>43</td>\n",
              "      <td>Si</td>\n",
              "    </tr>\n",
              "    <tr>\n",
              "      <th>4</th>\n",
              "      <td>1424119</td>\n",
              "      <td>1</td>\n",
              "      <td>-0.71</td>\n",
              "      <td>-0.73</td>\n",
              "      <td>27</td>\n",
              "      <td>35</td>\n",
              "      <td>1.14</td>\n",
              "      <td>0.55</td>\n",
              "      <td>22</td>\n",
              "      <td>No</td>\n",
              "    </tr>\n",
              "  </tbody>\n",
              "</table>\n",
              "</div>"
            ],
            "text/plain": [
              "  PatientID  Pregnancies  PlasmaGlucose  ...  DiabetesPedigree  Age  Diabetic\n",
              "0   1354778            0           1.97  ...              1.21   21        No\n",
              "1   1147438            8          -0.50  ...              0.16   23        No\n",
              "2   1640031            7           0.22  ...              0.08   23        No\n",
              "3   1883350            9          -0.15  ...              1.28   43        Si\n",
              "4   1424119            1          -0.71  ...              0.55   22        No\n",
              "\n",
              "[5 rows x 10 columns]"
            ]
          },
          "metadata": {
            "tags": []
          },
          "execution_count": 34
        }
      ]
    },
    {
      "cell_type": "code",
      "metadata": {
        "colab": {
          "base_uri": "https://localhost:8080/",
          "height": 222
        },
        "id": "SmBumf9-gK4G",
        "outputId": "1f4b6f07-6847-4cd1-d78c-be2c105846a6"
      },
      "source": [
        "for col in zscore_features:\n",
        "  diabetes[f\"{col}_dummy\"] = diabetes[col].apply(lambda x: 0 if -3 <= x <= 3 else 1)\n",
        "\n",
        "diabetes.head()"
      ],
      "execution_count": null,
      "outputs": [
        {
          "output_type": "execute_result",
          "data": {
            "text/html": [
              "<div>\n",
              "<style scoped>\n",
              "    .dataframe tbody tr th:only-of-type {\n",
              "        vertical-align: middle;\n",
              "    }\n",
              "\n",
              "    .dataframe tbody tr th {\n",
              "        vertical-align: top;\n",
              "    }\n",
              "\n",
              "    .dataframe thead th {\n",
              "        text-align: right;\n",
              "    }\n",
              "</style>\n",
              "<table border=\"1\" class=\"dataframe\">\n",
              "  <thead>\n",
              "    <tr style=\"text-align: right;\">\n",
              "      <th></th>\n",
              "      <th>PatientID</th>\n",
              "      <th>Pregnancies</th>\n",
              "      <th>PlasmaGlucose</th>\n",
              "      <th>DiastolicBloodPressure</th>\n",
              "      <th>TricepsThickness</th>\n",
              "      <th>SerumInsulin</th>\n",
              "      <th>BMI</th>\n",
              "      <th>DiabetesPedigree</th>\n",
              "      <th>Age</th>\n",
              "      <th>Diabetic</th>\n",
              "      <th>PlasmaGlucose_dummy</th>\n",
              "      <th>DiastolicBloodPressure_dummy</th>\n",
              "      <th>BMI_dummy</th>\n",
              "    </tr>\n",
              "  </thead>\n",
              "  <tbody>\n",
              "    <tr>\n",
              "      <th>0</th>\n",
              "      <td>1354778</td>\n",
              "      <td>0</td>\n",
              "      <td>1.97</td>\n",
              "      <td>0.52</td>\n",
              "      <td>34</td>\n",
              "      <td>23</td>\n",
              "      <td>1.23</td>\n",
              "      <td>1.21</td>\n",
              "      <td>21</td>\n",
              "      <td>0</td>\n",
              "      <td>0</td>\n",
              "      <td>0</td>\n",
              "      <td>0</td>\n",
              "    </tr>\n",
              "    <tr>\n",
              "      <th>1</th>\n",
              "      <td>1147438</td>\n",
              "      <td>8</td>\n",
              "      <td>-0.50</td>\n",
              "      <td>1.30</td>\n",
              "      <td>47</td>\n",
              "      <td>36</td>\n",
              "      <td>-1.05</td>\n",
              "      <td>0.16</td>\n",
              "      <td>23</td>\n",
              "      <td>0</td>\n",
              "      <td>0</td>\n",
              "      <td>0</td>\n",
              "      <td>0</td>\n",
              "    </tr>\n",
              "    <tr>\n",
              "      <th>2</th>\n",
              "      <td>1640031</td>\n",
              "      <td>7</td>\n",
              "      <td>0.22</td>\n",
              "      <td>-1.45</td>\n",
              "      <td>52</td>\n",
              "      <td>35</td>\n",
              "      <td>1.02</td>\n",
              "      <td>0.08</td>\n",
              "      <td>23</td>\n",
              "      <td>0</td>\n",
              "      <td>0</td>\n",
              "      <td>0</td>\n",
              "      <td>0</td>\n",
              "    </tr>\n",
              "    <tr>\n",
              "      <th>3</th>\n",
              "      <td>1883350</td>\n",
              "      <td>9</td>\n",
              "      <td>-0.15</td>\n",
              "      <td>0.40</td>\n",
              "      <td>25</td>\n",
              "      <td>304</td>\n",
              "      <td>-0.20</td>\n",
              "      <td>1.28</td>\n",
              "      <td>43</td>\n",
              "      <td>1</td>\n",
              "      <td>0</td>\n",
              "      <td>0</td>\n",
              "      <td>0</td>\n",
              "    </tr>\n",
              "    <tr>\n",
              "      <th>4</th>\n",
              "      <td>1424119</td>\n",
              "      <td>1</td>\n",
              "      <td>-0.71</td>\n",
              "      <td>-0.73</td>\n",
              "      <td>27</td>\n",
              "      <td>35</td>\n",
              "      <td>1.14</td>\n",
              "      <td>0.55</td>\n",
              "      <td>22</td>\n",
              "      <td>0</td>\n",
              "      <td>0</td>\n",
              "      <td>0</td>\n",
              "      <td>0</td>\n",
              "    </tr>\n",
              "  </tbody>\n",
              "</table>\n",
              "</div>"
            ],
            "text/plain": [
              "  PatientID  Pregnancies  ...  DiastolicBloodPressure_dummy  BMI_dummy\n",
              "0   1354778            0  ...                             0          0\n",
              "1   1147438            8  ...                             0          0\n",
              "2   1640031            7  ...                             0          0\n",
              "3   1883350            9  ...                             0          0\n",
              "4   1424119            1  ...                             0          0\n",
              "\n",
              "[5 rows x 13 columns]"
            ]
          },
          "metadata": {
            "tags": []
          },
          "execution_count": 94
        }
      ]
    },
    {
      "cell_type": "code",
      "metadata": {
        "colab": {
          "base_uri": "https://localhost:8080/",
          "height": 222
        },
        "id": "60hyIn8YhRZL",
        "outputId": "c92f2827-e35e-4cb9-94a5-4343b55705b1"
      },
      "source": [
        "diabetes.loc[:, zscore_features] = standard.inverse_transform(diabetes[zscore_features])\n",
        "\n",
        "diabetes.head()"
      ],
      "execution_count": null,
      "outputs": [
        {
          "output_type": "execute_result",
          "data": {
            "text/html": [
              "<div>\n",
              "<style scoped>\n",
              "    .dataframe tbody tr th:only-of-type {\n",
              "        vertical-align: middle;\n",
              "    }\n",
              "\n",
              "    .dataframe tbody tr th {\n",
              "        vertical-align: top;\n",
              "    }\n",
              "\n",
              "    .dataframe thead th {\n",
              "        text-align: right;\n",
              "    }\n",
              "</style>\n",
              "<table border=\"1\" class=\"dataframe\">\n",
              "  <thead>\n",
              "    <tr style=\"text-align: right;\">\n",
              "      <th></th>\n",
              "      <th>PatientID</th>\n",
              "      <th>Pregnancies</th>\n",
              "      <th>PlasmaGlucose</th>\n",
              "      <th>DiastolicBloodPressure</th>\n",
              "      <th>TricepsThickness</th>\n",
              "      <th>SerumInsulin</th>\n",
              "      <th>BMI</th>\n",
              "      <th>DiabetesPedigree</th>\n",
              "      <th>Age</th>\n",
              "      <th>Diabetic</th>\n",
              "      <th>PlasmaGlucose_dummy</th>\n",
              "      <th>DiastolicBloodPressure_dummy</th>\n",
              "      <th>BMI_dummy</th>\n",
              "    </tr>\n",
              "  </thead>\n",
              "  <tbody>\n",
              "    <tr>\n",
              "      <th>0</th>\n",
              "      <td>1354778</td>\n",
              "      <td>0</td>\n",
              "      <td>171.00</td>\n",
              "      <td>80.00</td>\n",
              "      <td>34</td>\n",
              "      <td>23</td>\n",
              "      <td>43.51</td>\n",
              "      <td>1.21</td>\n",
              "      <td>21</td>\n",
              "      <td>0</td>\n",
              "      <td>0</td>\n",
              "      <td>0</td>\n",
              "      <td>0</td>\n",
              "    </tr>\n",
              "    <tr>\n",
              "      <th>1</th>\n",
              "      <td>1147438</td>\n",
              "      <td>8</td>\n",
              "      <td>92.00</td>\n",
              "      <td>93.00</td>\n",
              "      <td>47</td>\n",
              "      <td>36</td>\n",
              "      <td>21.24</td>\n",
              "      <td>0.16</td>\n",
              "      <td>23</td>\n",
              "      <td>0</td>\n",
              "      <td>0</td>\n",
              "      <td>0</td>\n",
              "      <td>0</td>\n",
              "    </tr>\n",
              "    <tr>\n",
              "      <th>2</th>\n",
              "      <td>1640031</td>\n",
              "      <td>7</td>\n",
              "      <td>115.00</td>\n",
              "      <td>47.00</td>\n",
              "      <td>52</td>\n",
              "      <td>35</td>\n",
              "      <td>41.51</td>\n",
              "      <td>0.08</td>\n",
              "      <td>23</td>\n",
              "      <td>0</td>\n",
              "      <td>0</td>\n",
              "      <td>0</td>\n",
              "      <td>0</td>\n",
              "    </tr>\n",
              "    <tr>\n",
              "      <th>3</th>\n",
              "      <td>1883350</td>\n",
              "      <td>9</td>\n",
              "      <td>103.00</td>\n",
              "      <td>78.00</td>\n",
              "      <td>25</td>\n",
              "      <td>304</td>\n",
              "      <td>29.58</td>\n",
              "      <td>1.28</td>\n",
              "      <td>43</td>\n",
              "      <td>1</td>\n",
              "      <td>0</td>\n",
              "      <td>0</td>\n",
              "      <td>0</td>\n",
              "    </tr>\n",
              "    <tr>\n",
              "      <th>4</th>\n",
              "      <td>1424119</td>\n",
              "      <td>1</td>\n",
              "      <td>85.00</td>\n",
              "      <td>59.00</td>\n",
              "      <td>27</td>\n",
              "      <td>35</td>\n",
              "      <td>42.60</td>\n",
              "      <td>0.55</td>\n",
              "      <td>22</td>\n",
              "      <td>0</td>\n",
              "      <td>0</td>\n",
              "      <td>0</td>\n",
              "      <td>0</td>\n",
              "    </tr>\n",
              "  </tbody>\n",
              "</table>\n",
              "</div>"
            ],
            "text/plain": [
              "  PatientID  Pregnancies  ...  DiastolicBloodPressure_dummy  BMI_dummy\n",
              "0   1354778            0  ...                             0          0\n",
              "1   1147438            8  ...                             0          0\n",
              "2   1640031            7  ...                             0          0\n",
              "3   1883350            9  ...                             0          0\n",
              "4   1424119            1  ...                             0          0\n",
              "\n",
              "[5 rows x 13 columns]"
            ]
          },
          "metadata": {
            "tags": []
          },
          "execution_count": 95
        }
      ]
    },
    {
      "cell_type": "markdown",
      "metadata": {
        "id": "PiyaQW0NmSel"
      },
      "source": [
        "## IQR"
      ]
    },
    {
      "cell_type": "code",
      "metadata": {
        "id": "6vypM9Zhn7F8"
      },
      "source": [
        "from collections import Counter"
      ],
      "execution_count": null,
      "outputs": []
    },
    {
      "cell_type": "code",
      "metadata": {
        "colab": {
          "base_uri": "https://localhost:8080/"
        },
        "id": "Hnpntqr5hviz",
        "outputId": "d2975d63-5fd8-4b51-cc93-ac63d8d9772c"
      },
      "source": [
        "# upper = q3 + 1.5 * iqr\n",
        "# lower = q1 - 1.5 * iqr\n",
        "\n",
        "# iqr = q3 - q1\n",
        "\n",
        "q3 = diabetes[iqr_features].quantile(0.75).to_dict()\n",
        "q1 = diabetes[iqr_features].quantile(0.25).to_dict()\n",
        "\n",
        "iqr = dict(Counter(q3) - Counter(q1))\n",
        "\n",
        "print(q3)\n",
        "print(q1)\n",
        "print(iqr)"
      ],
      "execution_count": null,
      "outputs": [
        {
          "output_type": "stream",
          "text": [
            "{'DiabetesPedigree': 0.61628511875, 'SerumInsulin': 195.0, 'TricepsThickness': 41.0}\n",
            "{'DiabetesPedigree': 0.137743321, 'SerumInsulin': 39.0, 'TricepsThickness': 15.0}\n",
            "{'DiabetesPedigree': 0.47854179775000005, 'SerumInsulin': 156.0, 'TricepsThickness': 26.0}\n"
          ],
          "name": "stdout"
        }
      ]
    },
    {
      "cell_type": "code",
      "metadata": {
        "colab": {
          "base_uri": "https://localhost:8080/"
        },
        "id": "1eW3XgQrpfz8",
        "outputId": "5cc8cc9a-117e-4c76-fa70-f0d07f454e3f"
      },
      "source": [
        "q3[\"SerumInsulin\"]"
      ],
      "execution_count": null,
      "outputs": [
        {
          "output_type": "execute_result",
          "data": {
            "text/plain": [
              "195.0"
            ]
          },
          "metadata": {
            "tags": []
          },
          "execution_count": 48
        }
      ]
    },
    {
      "cell_type": "code",
      "metadata": {
        "id": "8k_LJ-Jdnh7y"
      },
      "source": [
        " for col in iqr.keys():\n",
        "   diabetes[f\"{col}_dummy\"] = diabetes[col].apply(lambda x: 1 if x > q3[col] + 1.5 * iqr[col] else \n",
        "                                                  (1 if x < q1[col] - 1.5 * iqr[col] else 0))"
      ],
      "execution_count": null,
      "outputs": []
    },
    {
      "cell_type": "code",
      "metadata": {
        "colab": {
          "base_uri": "https://localhost:8080/",
          "height": 222
        },
        "id": "5lMZdPOqpAg0",
        "outputId": "33a549ac-63c5-4673-a12b-c1ebd991030d"
      },
      "source": [
        "diabetes.head()"
      ],
      "execution_count": null,
      "outputs": [
        {
          "output_type": "execute_result",
          "data": {
            "text/html": [
              "<div>\n",
              "<style scoped>\n",
              "    .dataframe tbody tr th:only-of-type {\n",
              "        vertical-align: middle;\n",
              "    }\n",
              "\n",
              "    .dataframe tbody tr th {\n",
              "        vertical-align: top;\n",
              "    }\n",
              "\n",
              "    .dataframe thead th {\n",
              "        text-align: right;\n",
              "    }\n",
              "</style>\n",
              "<table border=\"1\" class=\"dataframe\">\n",
              "  <thead>\n",
              "    <tr style=\"text-align: right;\">\n",
              "      <th></th>\n",
              "      <th>PatientID</th>\n",
              "      <th>Pregnancies</th>\n",
              "      <th>PlasmaGlucose</th>\n",
              "      <th>DiastolicBloodPressure</th>\n",
              "      <th>TricepsThickness</th>\n",
              "      <th>SerumInsulin</th>\n",
              "      <th>BMI</th>\n",
              "      <th>DiabetesPedigree</th>\n",
              "      <th>Age</th>\n",
              "      <th>Diabetic</th>\n",
              "      <th>PlasmaGlucose_dummy</th>\n",
              "      <th>DiastolicBloodPressure_dummy</th>\n",
              "      <th>BMI_dummy</th>\n",
              "      <th>DiabetesPedigree_dummy</th>\n",
              "      <th>SerumInsulin_dummy</th>\n",
              "      <th>TricepsThickness_dummy</th>\n",
              "    </tr>\n",
              "  </thead>\n",
              "  <tbody>\n",
              "    <tr>\n",
              "      <th>0</th>\n",
              "      <td>1354778</td>\n",
              "      <td>0</td>\n",
              "      <td>171.00</td>\n",
              "      <td>80.00</td>\n",
              "      <td>34</td>\n",
              "      <td>23</td>\n",
              "      <td>43.51</td>\n",
              "      <td>1.21</td>\n",
              "      <td>21</td>\n",
              "      <td>No</td>\n",
              "      <td>0</td>\n",
              "      <td>0</td>\n",
              "      <td>0</td>\n",
              "      <td>0</td>\n",
              "      <td>0</td>\n",
              "      <td>0</td>\n",
              "    </tr>\n",
              "    <tr>\n",
              "      <th>1</th>\n",
              "      <td>1147438</td>\n",
              "      <td>8</td>\n",
              "      <td>92.00</td>\n",
              "      <td>93.00</td>\n",
              "      <td>47</td>\n",
              "      <td>36</td>\n",
              "      <td>21.24</td>\n",
              "      <td>0.16</td>\n",
              "      <td>23</td>\n",
              "      <td>No</td>\n",
              "      <td>0</td>\n",
              "      <td>0</td>\n",
              "      <td>0</td>\n",
              "      <td>0</td>\n",
              "      <td>0</td>\n",
              "      <td>0</td>\n",
              "    </tr>\n",
              "    <tr>\n",
              "      <th>2</th>\n",
              "      <td>1640031</td>\n",
              "      <td>7</td>\n",
              "      <td>115.00</td>\n",
              "      <td>47.00</td>\n",
              "      <td>52</td>\n",
              "      <td>35</td>\n",
              "      <td>41.51</td>\n",
              "      <td>0.08</td>\n",
              "      <td>23</td>\n",
              "      <td>No</td>\n",
              "      <td>0</td>\n",
              "      <td>0</td>\n",
              "      <td>0</td>\n",
              "      <td>0</td>\n",
              "      <td>0</td>\n",
              "      <td>0</td>\n",
              "    </tr>\n",
              "    <tr>\n",
              "      <th>3</th>\n",
              "      <td>1883350</td>\n",
              "      <td>9</td>\n",
              "      <td>103.00</td>\n",
              "      <td>78.00</td>\n",
              "      <td>25</td>\n",
              "      <td>304</td>\n",
              "      <td>29.58</td>\n",
              "      <td>1.28</td>\n",
              "      <td>43</td>\n",
              "      <td>Si</td>\n",
              "      <td>0</td>\n",
              "      <td>0</td>\n",
              "      <td>0</td>\n",
              "      <td>0</td>\n",
              "      <td>0</td>\n",
              "      <td>0</td>\n",
              "    </tr>\n",
              "    <tr>\n",
              "      <th>4</th>\n",
              "      <td>1424119</td>\n",
              "      <td>1</td>\n",
              "      <td>85.00</td>\n",
              "      <td>59.00</td>\n",
              "      <td>27</td>\n",
              "      <td>35</td>\n",
              "      <td>42.60</td>\n",
              "      <td>0.55</td>\n",
              "      <td>22</td>\n",
              "      <td>No</td>\n",
              "      <td>0</td>\n",
              "      <td>0</td>\n",
              "      <td>0</td>\n",
              "      <td>0</td>\n",
              "      <td>0</td>\n",
              "      <td>0</td>\n",
              "    </tr>\n",
              "  </tbody>\n",
              "</table>\n",
              "</div>"
            ],
            "text/plain": [
              "  PatientID  Pregnancies  ...  SerumInsulin_dummy  TricepsThickness_dummy\n",
              "0   1354778            0  ...                   0                       0\n",
              "1   1147438            8  ...                   0                       0\n",
              "2   1640031            7  ...                   0                       0\n",
              "3   1883350            9  ...                   0                       0\n",
              "4   1424119            1  ...                   0                       0\n",
              "\n",
              "[5 rows x 16 columns]"
            ]
          },
          "metadata": {
            "tags": []
          },
          "execution_count": 50
        }
      ]
    },
    {
      "cell_type": "markdown",
      "metadata": {
        "id": "vd3F1aGmqcuo"
      },
      "source": [
        "## Tratamiento\n",
        "* Elimine los datos atípicos si está seguro de que son errores.\n",
        "* Impute los datos atípicos.\n",
        "* Cree variables dummy.\n",
        "* Si su objetivo es construir un modelo, usando algoritmos de ML, use modelos que sean robustos a los datos atípicos, como modelos basados en árbol o desde la econometría usar regresiones robustas.\n"
      ]
    },
    {
      "cell_type": "code",
      "metadata": {
        "colab": {
          "base_uri": "https://localhost:8080/"
        },
        "id": "yc-B2wryqFVt",
        "outputId": "f7e9813f-df94-4740-9238-25eb9eb448c7"
      },
      "source": [
        "diabetes[\"TricepsThickness_dummy\"].value_counts(normalize=True) * 100"
      ],
      "execution_count": null,
      "outputs": [
        {
          "output_type": "execute_result",
          "data": {
            "text/plain": [
              "0   99.79\n",
              "1    0.21\n",
              "Name: TricepsThickness_dummy, dtype: float64"
            ]
          },
          "metadata": {
            "tags": []
          },
          "execution_count": 54
        }
      ]
    },
    {
      "cell_type": "code",
      "metadata": {
        "colab": {
          "base_uri": "https://localhost:8080/"
        },
        "id": "8fD39fpRrnEx",
        "outputId": "46a65d88-ee6c-4cf9-c080-a001987e41b6"
      },
      "source": [
        "idx = diabetes[diabetes[\"TricepsThickness_dummy\"] == 1].index.tolist()\n",
        "idx "
      ],
      "execution_count": null,
      "outputs": [
        {
          "output_type": "execute_result",
          "data": {
            "text/plain": [
              "[67,\n",
              " 409,\n",
              " 493,\n",
              " 534,\n",
              " 947,\n",
              " 1092,\n",
              " 1206,\n",
              " 2386,\n",
              " 2752,\n",
              " 3237,\n",
              " 5671,\n",
              " 5717,\n",
              " 8005,\n",
              " 8769,\n",
              " 8933,\n",
              " 9286,\n",
              " 10010,\n",
              " 10658,\n",
              " 11311,\n",
              " 11507,\n",
              " 11887,\n",
              " 11889,\n",
              " 12210,\n",
              " 12466,\n",
              " 12559,\n",
              " 12761,\n",
              " 12994,\n",
              " 13309,\n",
              " 13382,\n",
              " 13742,\n",
              " 14132]"
            ]
          },
          "metadata": {
            "tags": []
          },
          "execution_count": 55
        }
      ]
    },
    {
      "cell_type": "code",
      "metadata": {
        "id": "k96bweYOtfhr"
      },
      "source": [
        "# Eliminar\n",
        "\n",
        "diabetes_cleaned = diabetes.drop(idx, axis=0)"
      ],
      "execution_count": null,
      "outputs": []
    },
    {
      "cell_type": "code",
      "metadata": {
        "colab": {
          "base_uri": "https://localhost:8080/"
        },
        "id": "quEC2tLitvhb",
        "outputId": "5b048605-a632-4051-be2f-3c86f7884521"
      },
      "source": [
        "diabetes_cleaned.shape[0]"
      ],
      "execution_count": null,
      "outputs": [
        {
          "output_type": "execute_result",
          "data": {
            "text/plain": [
              "14969"
            ]
          },
          "metadata": {
            "tags": []
          },
          "execution_count": 57
        }
      ]
    },
    {
      "cell_type": "code",
      "metadata": {
        "colab": {
          "base_uri": "https://localhost:8080/"
        },
        "id": "q5UGC-EztyMS",
        "outputId": "51219d40-391f-4f5d-f3b5-a7ee251c00f4"
      },
      "source": [
        "diabetes.shape[0]"
      ],
      "execution_count": null,
      "outputs": [
        {
          "output_type": "execute_result",
          "data": {
            "text/plain": [
              "15000"
            ]
          },
          "metadata": {
            "tags": []
          },
          "execution_count": 58
        }
      ]
    },
    {
      "cell_type": "code",
      "metadata": {
        "id": "qMFm2Jcot1gK"
      },
      "source": [
        "dummies = [col for col in diabetes.columns if col.endswith(\"dummy\")]\n",
        "\n",
        "for col in dummies:\n",
        "  idx = diabetes[diabetes[col] == 1].index.tolist()\n",
        "  diabetes.drop(idx, axis=0, inplace=True)"
      ],
      "execution_count": null,
      "outputs": []
    },
    {
      "cell_type": "code",
      "metadata": {
        "colab": {
          "base_uri": "https://localhost:8080/"
        },
        "id": "ZP8xn5NFuYQo",
        "outputId": "bf7cdb1b-f28d-472e-b256-a2afb9cfd0b9"
      },
      "source": [
        "diabetes.shape[0]"
      ],
      "execution_count": null,
      "outputs": [
        {
          "output_type": "execute_result",
          "data": {
            "text/plain": [
              "13867"
            ]
          },
          "metadata": {
            "tags": []
          },
          "execution_count": 66
        }
      ]
    },
    {
      "cell_type": "code",
      "metadata": {
        "id": "PwPQLzMwuvjv"
      },
      "source": [
        "diabetes_cleaned = diabetes.copy()"
      ],
      "execution_count": null,
      "outputs": []
    },
    {
      "cell_type": "code",
      "metadata": {
        "colab": {
          "base_uri": "https://localhost:8080/"
        },
        "id": "yiIEL74bwqXC",
        "outputId": "129dfc73-c32c-47f5-a689-edd0c718b860"
      },
      "source": [
        "diabetes_cleaned[dummies].sum(axis=1).value_counts()"
      ],
      "execution_count": null,
      "outputs": [
        {
          "output_type": "execute_result",
          "data": {
            "text/plain": [
              "0    13867\n",
              "dtype: int64"
            ]
          },
          "metadata": {
            "tags": []
          },
          "execution_count": 76
        }
      ]
    },
    {
      "cell_type": "code",
      "metadata": {
        "id": "eyM9tFVcwIhf"
      },
      "source": [
        "diabetes = pd.read_csv(\"https://raw.githubusercontent.com/stivenlopezg/Modulo-Python-3/master/data/diabetes.csv\",\n",
        "                       dtype={\"PatientID\": \"category\", \"Diabetic\": \"category\"})"
      ],
      "execution_count": null,
      "outputs": []
    },
    {
      "cell_type": "code",
      "metadata": {
        "colab": {
          "base_uri": "https://localhost:8080/",
          "height": 222
        },
        "id": "oEzxHzxowPw5",
        "outputId": "384561f7-58ac-4bba-e306-a99a0dd015b7"
      },
      "source": [
        "diabetes.head()"
      ],
      "execution_count": null,
      "outputs": [
        {
          "output_type": "execute_result",
          "data": {
            "text/html": [
              "<div>\n",
              "<style scoped>\n",
              "    .dataframe tbody tr th:only-of-type {\n",
              "        vertical-align: middle;\n",
              "    }\n",
              "\n",
              "    .dataframe tbody tr th {\n",
              "        vertical-align: top;\n",
              "    }\n",
              "\n",
              "    .dataframe thead th {\n",
              "        text-align: right;\n",
              "    }\n",
              "</style>\n",
              "<table border=\"1\" class=\"dataframe\">\n",
              "  <thead>\n",
              "    <tr style=\"text-align: right;\">\n",
              "      <th></th>\n",
              "      <th>PatientID</th>\n",
              "      <th>Pregnancies</th>\n",
              "      <th>PlasmaGlucose</th>\n",
              "      <th>DiastolicBloodPressure</th>\n",
              "      <th>TricepsThickness</th>\n",
              "      <th>SerumInsulin</th>\n",
              "      <th>BMI</th>\n",
              "      <th>DiabetesPedigree</th>\n",
              "      <th>Age</th>\n",
              "      <th>Diabetic</th>\n",
              "      <th>PlasmaGlucose_dummy</th>\n",
              "      <th>DiastolicBloodPressure_dummy</th>\n",
              "      <th>BMI_dummy</th>\n",
              "      <th>DiabetesPedigree_dummy</th>\n",
              "      <th>SerumInsulin_dummy</th>\n",
              "      <th>TricepsThickness_dummy</th>\n",
              "    </tr>\n",
              "  </thead>\n",
              "  <tbody>\n",
              "    <tr>\n",
              "      <th>0</th>\n",
              "      <td>1354778</td>\n",
              "      <td>0</td>\n",
              "      <td>171.00</td>\n",
              "      <td>80.00</td>\n",
              "      <td>34</td>\n",
              "      <td>23</td>\n",
              "      <td>43.51</td>\n",
              "      <td>1.21</td>\n",
              "      <td>21</td>\n",
              "      <td>0</td>\n",
              "      <td>0</td>\n",
              "      <td>0</td>\n",
              "      <td>0</td>\n",
              "      <td>0</td>\n",
              "      <td>0</td>\n",
              "      <td>0</td>\n",
              "    </tr>\n",
              "    <tr>\n",
              "      <th>1</th>\n",
              "      <td>1147438</td>\n",
              "      <td>8</td>\n",
              "      <td>92.00</td>\n",
              "      <td>93.00</td>\n",
              "      <td>47</td>\n",
              "      <td>36</td>\n",
              "      <td>21.24</td>\n",
              "      <td>0.16</td>\n",
              "      <td>23</td>\n",
              "      <td>0</td>\n",
              "      <td>0</td>\n",
              "      <td>0</td>\n",
              "      <td>0</td>\n",
              "      <td>0</td>\n",
              "      <td>0</td>\n",
              "      <td>0</td>\n",
              "    </tr>\n",
              "    <tr>\n",
              "      <th>2</th>\n",
              "      <td>1640031</td>\n",
              "      <td>7</td>\n",
              "      <td>115.00</td>\n",
              "      <td>47.00</td>\n",
              "      <td>52</td>\n",
              "      <td>35</td>\n",
              "      <td>41.51</td>\n",
              "      <td>0.08</td>\n",
              "      <td>23</td>\n",
              "      <td>0</td>\n",
              "      <td>0</td>\n",
              "      <td>0</td>\n",
              "      <td>0</td>\n",
              "      <td>0</td>\n",
              "      <td>0</td>\n",
              "      <td>0</td>\n",
              "    </tr>\n",
              "    <tr>\n",
              "      <th>3</th>\n",
              "      <td>1883350</td>\n",
              "      <td>9</td>\n",
              "      <td>103.00</td>\n",
              "      <td>78.00</td>\n",
              "      <td>25</td>\n",
              "      <td>304</td>\n",
              "      <td>29.58</td>\n",
              "      <td>1.28</td>\n",
              "      <td>43</td>\n",
              "      <td>1</td>\n",
              "      <td>0</td>\n",
              "      <td>0</td>\n",
              "      <td>0</td>\n",
              "      <td>0</td>\n",
              "      <td>0</td>\n",
              "      <td>0</td>\n",
              "    </tr>\n",
              "    <tr>\n",
              "      <th>4</th>\n",
              "      <td>1424119</td>\n",
              "      <td>1</td>\n",
              "      <td>85.00</td>\n",
              "      <td>59.00</td>\n",
              "      <td>27</td>\n",
              "      <td>35</td>\n",
              "      <td>42.60</td>\n",
              "      <td>0.55</td>\n",
              "      <td>22</td>\n",
              "      <td>0</td>\n",
              "      <td>0</td>\n",
              "      <td>0</td>\n",
              "      <td>0</td>\n",
              "      <td>0</td>\n",
              "      <td>0</td>\n",
              "      <td>0</td>\n",
              "    </tr>\n",
              "  </tbody>\n",
              "</table>\n",
              "</div>"
            ],
            "text/plain": [
              "  PatientID  Pregnancies  ...  SerumInsulin_dummy  TricepsThickness_dummy\n",
              "0   1354778            0  ...                   0                       0\n",
              "1   1147438            8  ...                   0                       0\n",
              "2   1640031            7  ...                   0                       0\n",
              "3   1883350            9  ...                   0                       0\n",
              "4   1424119            1  ...                   0                       0\n",
              "\n",
              "[5 rows x 16 columns]"
            ]
          },
          "metadata": {
            "tags": []
          },
          "execution_count": 97
        }
      ]
    },
    {
      "cell_type": "code",
      "metadata": {
        "id": "AL_DISmmwk0I"
      },
      "source": [
        "# Imputarlos\n",
        "\n",
        "# 1. Volver los atipicos en NaN's\n",
        "# 2. Imputarlos con alguna estrategia que hayamos visto (media, mediana, moda, algun algoritmo)\n",
        "\n",
        "idx = diabetes[diabetes[\"TricepsThickness_dummy\"] == 1].index"
      ],
      "execution_count": null,
      "outputs": []
    },
    {
      "cell_type": "code",
      "metadata": {
        "id": "xaQukNd1xVPS"
      },
      "source": [
        "diabetes.loc[idx, \"TricepsThickness\"] = np.nan"
      ],
      "execution_count": null,
      "outputs": []
    },
    {
      "cell_type": "code",
      "metadata": {
        "colab": {
          "base_uri": "https://localhost:8080/"
        },
        "id": "DuUWb_sFxgJL",
        "outputId": "1d93a7b0-91fb-4d87-b35e-5200c52258c4"
      },
      "source": [
        "diabetes.isna().sum()"
      ],
      "execution_count": null,
      "outputs": [
        {
          "output_type": "execute_result",
          "data": {
            "text/plain": [
              "PatientID                        0\n",
              "Pregnancies                      0\n",
              "PlasmaGlucose                    0\n",
              "DiastolicBloodPressure           0\n",
              "TricepsThickness                31\n",
              "SerumInsulin                     0\n",
              "BMI                              0\n",
              "DiabetesPedigree                 0\n",
              "Age                              0\n",
              "Diabetic                         0\n",
              "PlasmaGlucose_dummy              0\n",
              "DiastolicBloodPressure_dummy     0\n",
              "BMI_dummy                        0\n",
              "DiabetesPedigree_dummy           0\n",
              "SerumInsulin_dummy               0\n",
              "TricepsThickness_dummy           0\n",
              "dtype: int64"
            ]
          },
          "metadata": {
            "tags": []
          },
          "execution_count": 100
        }
      ]
    },
    {
      "cell_type": "code",
      "metadata": {
        "id": "4jzsjzP-xibM"
      },
      "source": [
        "for col in dummies:\n",
        "  aux = col.split(\"_\")[0]\n",
        "  idx = diabetes[diabetes[col] == 1].index\n",
        "  diabetes.loc[idx, aux] = np.nan"
      ],
      "execution_count": null,
      "outputs": []
    },
    {
      "cell_type": "code",
      "metadata": {
        "colab": {
          "base_uri": "https://localhost:8080/"
        },
        "id": "GVxOrSvLx8qf",
        "outputId": "aa16328c-071c-4901-c3f5-9db217278690"
      },
      "source": [
        "diabetes.isna().mean() * 100"
      ],
      "execution_count": null,
      "outputs": [
        {
          "output_type": "execute_result",
          "data": {
            "text/plain": [
              "PatientID                      0.00\n",
              "Pregnancies                    0.00\n",
              "PlasmaGlucose                  0.00\n",
              "DiastolicBloodPressure         0.00\n",
              "TricepsThickness               0.21\n",
              "SerumInsulin                   4.44\n",
              "BMI                            0.00\n",
              "DiabetesPedigree               3.17\n",
              "Age                            0.00\n",
              "Diabetic                       0.00\n",
              "PlasmaGlucose_dummy            0.00\n",
              "DiastolicBloodPressure_dummy   0.00\n",
              "BMI_dummy                      0.00\n",
              "DiabetesPedigree_dummy         0.00\n",
              "SerumInsulin_dummy             0.00\n",
              "TricepsThickness_dummy         0.00\n",
              "dtype: float64"
            ]
          },
          "metadata": {
            "tags": []
          },
          "execution_count": 102
        }
      ]
    },
    {
      "cell_type": "code",
      "metadata": {
        "id": "-P9ZQj17yedW"
      },
      "source": [
        "from sklearn.impute import SimpleImputer\n",
        "\n",
        "imputer = SimpleImputer(strategy='median').fit(diabetes)"
      ],
      "execution_count": null,
      "outputs": []
    },
    {
      "cell_type": "code",
      "metadata": {
        "id": "w7IvUAYPy6X-"
      },
      "source": [
        "diabetes = pd.DataFrame(imputer.transform(diabetes), columns=diabetes.columns)"
      ],
      "execution_count": null,
      "outputs": []
    },
    {
      "cell_type": "code",
      "metadata": {
        "colab": {
          "base_uri": "https://localhost:8080/"
        },
        "id": "h2cwDcQhzA-j",
        "outputId": "944d2bf3-77c9-48fa-af13-6f5cc48e55c7"
      },
      "source": [
        "diabetes.isna().sum()"
      ],
      "execution_count": null,
      "outputs": [
        {
          "output_type": "execute_result",
          "data": {
            "text/plain": [
              "PatientID                       0\n",
              "Pregnancies                     0\n",
              "PlasmaGlucose                   0\n",
              "DiastolicBloodPressure          0\n",
              "TricepsThickness                0\n",
              "SerumInsulin                    0\n",
              "BMI                             0\n",
              "DiabetesPedigree                0\n",
              "Age                             0\n",
              "Diabetic                        0\n",
              "PlasmaGlucose_dummy             0\n",
              "DiastolicBloodPressure_dummy    0\n",
              "BMI_dummy                       0\n",
              "DiabetesPedigree_dummy          0\n",
              "SerumInsulin_dummy              0\n",
              "TricepsThickness_dummy          0\n",
              "dtype: int64"
            ]
          },
          "metadata": {
            "tags": []
          },
          "execution_count": 105
        }
      ]
    },
    {
      "cell_type": "code",
      "metadata": {
        "id": "oWSpFyuEzGw4"
      },
      "source": [
        "diabetes_cleaned.drop(labels=dummies, axis=1, inplace=True)\n",
        "diabetes.drop(labels=dummies, axis=1, inplace=True)"
      ],
      "execution_count": null,
      "outputs": []
    },
    {
      "cell_type": "code",
      "metadata": {
        "colab": {
          "base_uri": "https://localhost:8080/",
          "height": 415
        },
        "id": "CrDUKLfYz_3i",
        "outputId": "4a7491a5-554b-4f5d-dc3f-06c25f0c5516"
      },
      "source": [
        "diabetes_cleaned"
      ],
      "execution_count": null,
      "outputs": [
        {
          "output_type": "execute_result",
          "data": {
            "text/html": [
              "<div>\n",
              "<style scoped>\n",
              "    .dataframe tbody tr th:only-of-type {\n",
              "        vertical-align: middle;\n",
              "    }\n",
              "\n",
              "    .dataframe tbody tr th {\n",
              "        vertical-align: top;\n",
              "    }\n",
              "\n",
              "    .dataframe thead th {\n",
              "        text-align: right;\n",
              "    }\n",
              "</style>\n",
              "<table border=\"1\" class=\"dataframe\">\n",
              "  <thead>\n",
              "    <tr style=\"text-align: right;\">\n",
              "      <th></th>\n",
              "      <th>PatientID</th>\n",
              "      <th>Pregnancies</th>\n",
              "      <th>PlasmaGlucose</th>\n",
              "      <th>DiastolicBloodPressure</th>\n",
              "      <th>TricepsThickness</th>\n",
              "      <th>SerumInsulin</th>\n",
              "      <th>BMI</th>\n",
              "      <th>DiabetesPedigree</th>\n",
              "      <th>Age</th>\n",
              "      <th>Diabetic</th>\n",
              "    </tr>\n",
              "  </thead>\n",
              "  <tbody>\n",
              "    <tr>\n",
              "      <th>0</th>\n",
              "      <td>1354778</td>\n",
              "      <td>0</td>\n",
              "      <td>171.00</td>\n",
              "      <td>80.00</td>\n",
              "      <td>34</td>\n",
              "      <td>23</td>\n",
              "      <td>43.51</td>\n",
              "      <td>1.21</td>\n",
              "      <td>21</td>\n",
              "      <td>No</td>\n",
              "    </tr>\n",
              "    <tr>\n",
              "      <th>1</th>\n",
              "      <td>1147438</td>\n",
              "      <td>8</td>\n",
              "      <td>92.00</td>\n",
              "      <td>93.00</td>\n",
              "      <td>47</td>\n",
              "      <td>36</td>\n",
              "      <td>21.24</td>\n",
              "      <td>0.16</td>\n",
              "      <td>23</td>\n",
              "      <td>No</td>\n",
              "    </tr>\n",
              "    <tr>\n",
              "      <th>2</th>\n",
              "      <td>1640031</td>\n",
              "      <td>7</td>\n",
              "      <td>115.00</td>\n",
              "      <td>47.00</td>\n",
              "      <td>52</td>\n",
              "      <td>35</td>\n",
              "      <td>41.51</td>\n",
              "      <td>0.08</td>\n",
              "      <td>23</td>\n",
              "      <td>No</td>\n",
              "    </tr>\n",
              "    <tr>\n",
              "      <th>3</th>\n",
              "      <td>1883350</td>\n",
              "      <td>9</td>\n",
              "      <td>103.00</td>\n",
              "      <td>78.00</td>\n",
              "      <td>25</td>\n",
              "      <td>304</td>\n",
              "      <td>29.58</td>\n",
              "      <td>1.28</td>\n",
              "      <td>43</td>\n",
              "      <td>Si</td>\n",
              "    </tr>\n",
              "    <tr>\n",
              "      <th>4</th>\n",
              "      <td>1424119</td>\n",
              "      <td>1</td>\n",
              "      <td>85.00</td>\n",
              "      <td>59.00</td>\n",
              "      <td>27</td>\n",
              "      <td>35</td>\n",
              "      <td>42.60</td>\n",
              "      <td>0.55</td>\n",
              "      <td>22</td>\n",
              "      <td>No</td>\n",
              "    </tr>\n",
              "    <tr>\n",
              "      <th>...</th>\n",
              "      <td>...</td>\n",
              "      <td>...</td>\n",
              "      <td>...</td>\n",
              "      <td>...</td>\n",
              "      <td>...</td>\n",
              "      <td>...</td>\n",
              "      <td>...</td>\n",
              "      <td>...</td>\n",
              "      <td>...</td>\n",
              "      <td>...</td>\n",
              "    </tr>\n",
              "    <tr>\n",
              "      <th>14994</th>\n",
              "      <td>1453189</td>\n",
              "      <td>0</td>\n",
              "      <td>72.00</td>\n",
              "      <td>99.00</td>\n",
              "      <td>32</td>\n",
              "      <td>32</td>\n",
              "      <td>20.93</td>\n",
              "      <td>0.55</td>\n",
              "      <td>22</td>\n",
              "      <td>No</td>\n",
              "    </tr>\n",
              "    <tr>\n",
              "      <th>14995</th>\n",
              "      <td>1490300</td>\n",
              "      <td>10</td>\n",
              "      <td>65.00</td>\n",
              "      <td>60.00</td>\n",
              "      <td>46</td>\n",
              "      <td>177</td>\n",
              "      <td>33.51</td>\n",
              "      <td>0.15</td>\n",
              "      <td>41</td>\n",
              "      <td>Si</td>\n",
              "    </tr>\n",
              "    <tr>\n",
              "      <th>14996</th>\n",
              "      <td>1744410</td>\n",
              "      <td>2</td>\n",
              "      <td>73.00</td>\n",
              "      <td>66.00</td>\n",
              "      <td>27</td>\n",
              "      <td>168</td>\n",
              "      <td>30.13</td>\n",
              "      <td>0.86</td>\n",
              "      <td>38</td>\n",
              "      <td>Si</td>\n",
              "    </tr>\n",
              "    <tr>\n",
              "      <th>14997</th>\n",
              "      <td>1742742</td>\n",
              "      <td>0</td>\n",
              "      <td>93.00</td>\n",
              "      <td>89.00</td>\n",
              "      <td>43</td>\n",
              "      <td>57</td>\n",
              "      <td>18.69</td>\n",
              "      <td>0.43</td>\n",
              "      <td>24</td>\n",
              "      <td>No</td>\n",
              "    </tr>\n",
              "    <tr>\n",
              "      <th>14998</th>\n",
              "      <td>1099353</td>\n",
              "      <td>0</td>\n",
              "      <td>132.00</td>\n",
              "      <td>98.00</td>\n",
              "      <td>18</td>\n",
              "      <td>161</td>\n",
              "      <td>19.79</td>\n",
              "      <td>0.30</td>\n",
              "      <td>23</td>\n",
              "      <td>No</td>\n",
              "    </tr>\n",
              "  </tbody>\n",
              "</table>\n",
              "<p>13867 rows × 10 columns</p>\n",
              "</div>"
            ],
            "text/plain": [
              "      PatientID  Pregnancies  PlasmaGlucose  ...  DiabetesPedigree  Age  Diabetic\n",
              "0       1354778            0         171.00  ...              1.21   21        No\n",
              "1       1147438            8          92.00  ...              0.16   23        No\n",
              "2       1640031            7         115.00  ...              0.08   23        No\n",
              "3       1883350            9         103.00  ...              1.28   43        Si\n",
              "4       1424119            1          85.00  ...              0.55   22        No\n",
              "...         ...          ...            ...  ...               ...  ...       ...\n",
              "14994   1453189            0          72.00  ...              0.55   22        No\n",
              "14995   1490300           10          65.00  ...              0.15   41        Si\n",
              "14996   1744410            2          73.00  ...              0.86   38        Si\n",
              "14997   1742742            0          93.00  ...              0.43   24        No\n",
              "14998   1099353            0         132.00  ...              0.30   23        No\n",
              "\n",
              "[13867 rows x 10 columns]"
            ]
          },
          "metadata": {
            "tags": []
          },
          "execution_count": 107
        }
      ]
    },
    {
      "cell_type": "code",
      "metadata": {
        "colab": {
          "base_uri": "https://localhost:8080/",
          "height": 415
        },
        "id": "T1_--Hbg0BOP",
        "outputId": "8016dca4-646d-458e-9419-c4db9c9260f6"
      },
      "source": [
        "diabetes"
      ],
      "execution_count": null,
      "outputs": [
        {
          "output_type": "execute_result",
          "data": {
            "text/html": [
              "<div>\n",
              "<style scoped>\n",
              "    .dataframe tbody tr th:only-of-type {\n",
              "        vertical-align: middle;\n",
              "    }\n",
              "\n",
              "    .dataframe tbody tr th {\n",
              "        vertical-align: top;\n",
              "    }\n",
              "\n",
              "    .dataframe thead th {\n",
              "        text-align: right;\n",
              "    }\n",
              "</style>\n",
              "<table border=\"1\" class=\"dataframe\">\n",
              "  <thead>\n",
              "    <tr style=\"text-align: right;\">\n",
              "      <th></th>\n",
              "      <th>PatientID</th>\n",
              "      <th>Pregnancies</th>\n",
              "      <th>PlasmaGlucose</th>\n",
              "      <th>DiastolicBloodPressure</th>\n",
              "      <th>TricepsThickness</th>\n",
              "      <th>SerumInsulin</th>\n",
              "      <th>BMI</th>\n",
              "      <th>DiabetesPedigree</th>\n",
              "      <th>Age</th>\n",
              "      <th>Diabetic</th>\n",
              "    </tr>\n",
              "  </thead>\n",
              "  <tbody>\n",
              "    <tr>\n",
              "      <th>0</th>\n",
              "      <td>1354778.00</td>\n",
              "      <td>0.00</td>\n",
              "      <td>171.00</td>\n",
              "      <td>80.00</td>\n",
              "      <td>34.00</td>\n",
              "      <td>23.00</td>\n",
              "      <td>43.51</td>\n",
              "      <td>1.21</td>\n",
              "      <td>21.00</td>\n",
              "      <td>0.00</td>\n",
              "    </tr>\n",
              "    <tr>\n",
              "      <th>1</th>\n",
              "      <td>1147438.00</td>\n",
              "      <td>8.00</td>\n",
              "      <td>92.00</td>\n",
              "      <td>93.00</td>\n",
              "      <td>47.00</td>\n",
              "      <td>36.00</td>\n",
              "      <td>21.24</td>\n",
              "      <td>0.16</td>\n",
              "      <td>23.00</td>\n",
              "      <td>0.00</td>\n",
              "    </tr>\n",
              "    <tr>\n",
              "      <th>2</th>\n",
              "      <td>1640031.00</td>\n",
              "      <td>7.00</td>\n",
              "      <td>115.00</td>\n",
              "      <td>47.00</td>\n",
              "      <td>52.00</td>\n",
              "      <td>35.00</td>\n",
              "      <td>41.51</td>\n",
              "      <td>0.08</td>\n",
              "      <td>23.00</td>\n",
              "      <td>0.00</td>\n",
              "    </tr>\n",
              "    <tr>\n",
              "      <th>3</th>\n",
              "      <td>1883350.00</td>\n",
              "      <td>9.00</td>\n",
              "      <td>103.00</td>\n",
              "      <td>78.00</td>\n",
              "      <td>25.00</td>\n",
              "      <td>304.00</td>\n",
              "      <td>29.58</td>\n",
              "      <td>1.28</td>\n",
              "      <td>43.00</td>\n",
              "      <td>1.00</td>\n",
              "    </tr>\n",
              "    <tr>\n",
              "      <th>4</th>\n",
              "      <td>1424119.00</td>\n",
              "      <td>1.00</td>\n",
              "      <td>85.00</td>\n",
              "      <td>59.00</td>\n",
              "      <td>27.00</td>\n",
              "      <td>35.00</td>\n",
              "      <td>42.60</td>\n",
              "      <td>0.55</td>\n",
              "      <td>22.00</td>\n",
              "      <td>0.00</td>\n",
              "    </tr>\n",
              "    <tr>\n",
              "      <th>...</th>\n",
              "      <td>...</td>\n",
              "      <td>...</td>\n",
              "      <td>...</td>\n",
              "      <td>...</td>\n",
              "      <td>...</td>\n",
              "      <td>...</td>\n",
              "      <td>...</td>\n",
              "      <td>...</td>\n",
              "      <td>...</td>\n",
              "      <td>...</td>\n",
              "    </tr>\n",
              "    <tr>\n",
              "      <th>14995</th>\n",
              "      <td>1490300.00</td>\n",
              "      <td>10.00</td>\n",
              "      <td>65.00</td>\n",
              "      <td>60.00</td>\n",
              "      <td>46.00</td>\n",
              "      <td>177.00</td>\n",
              "      <td>33.51</td>\n",
              "      <td>0.15</td>\n",
              "      <td>41.00</td>\n",
              "      <td>1.00</td>\n",
              "    </tr>\n",
              "    <tr>\n",
              "      <th>14996</th>\n",
              "      <td>1744410.00</td>\n",
              "      <td>2.00</td>\n",
              "      <td>73.00</td>\n",
              "      <td>66.00</td>\n",
              "      <td>27.00</td>\n",
              "      <td>168.00</td>\n",
              "      <td>30.13</td>\n",
              "      <td>0.86</td>\n",
              "      <td>38.00</td>\n",
              "      <td>1.00</td>\n",
              "    </tr>\n",
              "    <tr>\n",
              "      <th>14997</th>\n",
              "      <td>1742742.00</td>\n",
              "      <td>0.00</td>\n",
              "      <td>93.00</td>\n",
              "      <td>89.00</td>\n",
              "      <td>43.00</td>\n",
              "      <td>57.00</td>\n",
              "      <td>18.69</td>\n",
              "      <td>0.43</td>\n",
              "      <td>24.00</td>\n",
              "      <td>0.00</td>\n",
              "    </tr>\n",
              "    <tr>\n",
              "      <th>14998</th>\n",
              "      <td>1099353.00</td>\n",
              "      <td>0.00</td>\n",
              "      <td>132.00</td>\n",
              "      <td>98.00</td>\n",
              "      <td>18.00</td>\n",
              "      <td>161.00</td>\n",
              "      <td>19.79</td>\n",
              "      <td>0.30</td>\n",
              "      <td>23.00</td>\n",
              "      <td>0.00</td>\n",
              "    </tr>\n",
              "    <tr>\n",
              "      <th>14999</th>\n",
              "      <td>1386396.00</td>\n",
              "      <td>3.00</td>\n",
              "      <td>114.00</td>\n",
              "      <td>65.00</td>\n",
              "      <td>47.00</td>\n",
              "      <td>78.00</td>\n",
              "      <td>36.22</td>\n",
              "      <td>0.15</td>\n",
              "      <td>34.00</td>\n",
              "      <td>1.00</td>\n",
              "    </tr>\n",
              "  </tbody>\n",
              "</table>\n",
              "<p>15000 rows × 10 columns</p>\n",
              "</div>"
            ],
            "text/plain": [
              "       PatientID  Pregnancies  PlasmaGlucose  ...  DiabetesPedigree   Age  Diabetic\n",
              "0     1354778.00         0.00         171.00  ...              1.21 21.00      0.00\n",
              "1     1147438.00         8.00          92.00  ...              0.16 23.00      0.00\n",
              "2     1640031.00         7.00         115.00  ...              0.08 23.00      0.00\n",
              "3     1883350.00         9.00         103.00  ...              1.28 43.00      1.00\n",
              "4     1424119.00         1.00          85.00  ...              0.55 22.00      0.00\n",
              "...          ...          ...            ...  ...               ...   ...       ...\n",
              "14995 1490300.00        10.00          65.00  ...              0.15 41.00      1.00\n",
              "14996 1744410.00         2.00          73.00  ...              0.86 38.00      1.00\n",
              "14997 1742742.00         0.00          93.00  ...              0.43 24.00      0.00\n",
              "14998 1099353.00         0.00         132.00  ...              0.30 23.00      0.00\n",
              "14999 1386396.00         3.00         114.00  ...              0.15 34.00      1.00\n",
              "\n",
              "[15000 rows x 10 columns]"
            ]
          },
          "metadata": {
            "tags": []
          },
          "execution_count": 108
        }
      ]
    },
    {
      "cell_type": "code",
      "metadata": {
        "id": "vmDUhcsS0FZ5"
      },
      "source": [
        ""
      ],
      "execution_count": null,
      "outputs": []
    }
  ]
}