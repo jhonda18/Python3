{
  "nbformat": 4,
  "nbformat_minor": 0,
  "metadata": {
    "colab": {
      "name": "Clase_5-20210515.ipynb",
      "provenance": [],
      "include_colab_link": true
    },
    "kernelspec": {
      "name": "python3",
      "display_name": "Python 3"
    },
    "language_info": {
      "name": "python"
    }
  },
  "cells": [
    {
      "cell_type": "markdown",
      "metadata": {
        "id": "view-in-github",
        "colab_type": "text"
      },
      "source": [
        "<a href=\"https://colab.research.google.com/github/jhonda18/Python3/blob/main/Clase_5_20210515.ipynb\" target=\"_parent\"><img src=\"https://colab.research.google.com/assets/colab-badge.svg\" alt=\"Open In Colab\"/></a>"
      ]
    },
    {
      "cell_type": "markdown",
      "metadata": {
        "id": "vsbXTHWiI-Y9"
      },
      "source": [
        "## La clase pasada\n",
        "\n",
        "* Terminamos de ver Pandas\n",
        "* Empezamos a ver la detección y tratamiento de datos missing.\n",
        "\n",
        "Y hoy vamos a continuar con la detección y tratamiento de datos missing, y adicional, vamos a trabajar en la detección de datos atípicos y su tratamiento."
      ]
    },
    {
      "cell_type": "code",
      "metadata": {
        "id": "383ZX_wmJhtd"
      },
      "source": [
        "import numpy as np\n",
        "import pandas as pd\n",
        "import seaborn as sns\n",
        "import matplotlib.pyplot as plt"
      ],
      "execution_count": null,
      "outputs": []
    },
    {
      "cell_type": "code",
      "metadata": {
        "colab": {
          "base_uri": "https://localhost:8080/",
          "height": 202
        },
        "id": "0CO8CAYaEtMC",
        "outputId": "98219ba8-1366-4306-99dc-ffd10205df3c"
      },
      "source": [
        "diabetes = pd.read_csv(\"https://raw.githubusercontent.com/stivenlopezg/Modulo-Python-3/master/data/pima-indians-diabetes%20data.csv\",\n",
        "                       dtype={\"Class\": \"category\"})\n",
        "diabetes.head()"
      ],
      "execution_count": null,
      "outputs": [
        {
          "output_type": "execute_result",
          "data": {
            "text/html": [
              "<div>\n",
              "<style scoped>\n",
              "    .dataframe tbody tr th:only-of-type {\n",
              "        vertical-align: middle;\n",
              "    }\n",
              "\n",
              "    .dataframe tbody tr th {\n",
              "        vertical-align: top;\n",
              "    }\n",
              "\n",
              "    .dataframe thead th {\n",
              "        text-align: right;\n",
              "    }\n",
              "</style>\n",
              "<table border=\"1\" class=\"dataframe\">\n",
              "  <thead>\n",
              "    <tr style=\"text-align: right;\">\n",
              "      <th></th>\n",
              "      <th>Pregnant</th>\n",
              "      <th>Glucose</th>\n",
              "      <th>Diastolic_BP</th>\n",
              "      <th>Skin_Fold</th>\n",
              "      <th>Serum_Insulin</th>\n",
              "      <th>BMI</th>\n",
              "      <th>Diabetes_Pedigree</th>\n",
              "      <th>Age</th>\n",
              "      <th>Class</th>\n",
              "    </tr>\n",
              "  </thead>\n",
              "  <tbody>\n",
              "    <tr>\n",
              "      <th>0</th>\n",
              "      <td>6.0</td>\n",
              "      <td>148.0</td>\n",
              "      <td>72.0</td>\n",
              "      <td>35.0</td>\n",
              "      <td>NaN</td>\n",
              "      <td>33.6</td>\n",
              "      <td>0.627</td>\n",
              "      <td>50</td>\n",
              "      <td>1.0</td>\n",
              "    </tr>\n",
              "    <tr>\n",
              "      <th>1</th>\n",
              "      <td>1.0</td>\n",
              "      <td>85.0</td>\n",
              "      <td>66.0</td>\n",
              "      <td>29.0</td>\n",
              "      <td>NaN</td>\n",
              "      <td>26.6</td>\n",
              "      <td>0.351</td>\n",
              "      <td>31</td>\n",
              "      <td>0.0</td>\n",
              "    </tr>\n",
              "    <tr>\n",
              "      <th>2</th>\n",
              "      <td>8.0</td>\n",
              "      <td>183.0</td>\n",
              "      <td>64.0</td>\n",
              "      <td>NaN</td>\n",
              "      <td>NaN</td>\n",
              "      <td>23.3</td>\n",
              "      <td>0.672</td>\n",
              "      <td>32</td>\n",
              "      <td>1.0</td>\n",
              "    </tr>\n",
              "    <tr>\n",
              "      <th>3</th>\n",
              "      <td>1.0</td>\n",
              "      <td>89.0</td>\n",
              "      <td>66.0</td>\n",
              "      <td>23.0</td>\n",
              "      <td>94.0</td>\n",
              "      <td>28.1</td>\n",
              "      <td>0.167</td>\n",
              "      <td>21</td>\n",
              "      <td>0.0</td>\n",
              "    </tr>\n",
              "    <tr>\n",
              "      <th>4</th>\n",
              "      <td>0.0</td>\n",
              "      <td>137.0</td>\n",
              "      <td>40.0</td>\n",
              "      <td>35.0</td>\n",
              "      <td>168.0</td>\n",
              "      <td>43.1</td>\n",
              "      <td>2.288</td>\n",
              "      <td>33</td>\n",
              "      <td>1.0</td>\n",
              "    </tr>\n",
              "  </tbody>\n",
              "</table>\n",
              "</div>"
            ],
            "text/plain": [
              "   Pregnant  Glucose  Diastolic_BP  ...  Diabetes_Pedigree  Age  Class\n",
              "0       6.0    148.0          72.0  ...              0.627   50    1.0\n",
              "1       1.0     85.0          66.0  ...              0.351   31    0.0\n",
              "2       8.0    183.0          64.0  ...              0.672   32    1.0\n",
              "3       1.0     89.0          66.0  ...              0.167   21    0.0\n",
              "4       0.0    137.0          40.0  ...              2.288   33    1.0\n",
              "\n",
              "[5 rows x 9 columns]"
            ]
          },
          "metadata": {
            "tags": []
          },
          "execution_count": 3
        }
      ]
    },
    {
      "cell_type": "code",
      "metadata": {
        "id": "-VwBdMa6JgrK"
      },
      "source": [
        "cols_to_drop = diabetes.columns[[True if i > 0.2 else False for i in diabetes.isna().mean().values.tolist()]]\n",
        "\n",
        "diabetes = diabetes.drop(labels=cols_to_drop, axis=1)"
      ],
      "execution_count": null,
      "outputs": []
    },
    {
      "cell_type": "code",
      "metadata": {
        "colab": {
          "base_uri": "https://localhost:8080/"
        },
        "id": "Z1Dn5TqRKP2z",
        "outputId": "a641a5b4-78f2-4d72-d992-c8b23f10f57e"
      },
      "source": [
        "cols_to_drop"
      ],
      "execution_count": null,
      "outputs": [
        {
          "output_type": "execute_result",
          "data": {
            "text/plain": [
              "Index(['Skin_Fold', 'Serum_Insulin'], dtype='object')"
            ]
          },
          "metadata": {
            "tags": []
          },
          "execution_count": 6
        }
      ]
    },
    {
      "cell_type": "code",
      "metadata": {
        "colab": {
          "base_uri": "https://localhost:8080/"
        },
        "id": "2LTcwjhiKL84",
        "outputId": "d3ab41bb-1517-4954-c98f-ea2de143d759"
      },
      "source": [
        "diabetes.isna().mean()"
      ],
      "execution_count": null,
      "outputs": [
        {
          "output_type": "execute_result",
          "data": {
            "text/plain": [
              "Pregnant             0.000000\n",
              "Glucose              0.006510\n",
              "Diastolic_BP         0.045573\n",
              "BMI                  0.014323\n",
              "Diabetes_Pedigree    0.000000\n",
              "Age                  0.000000\n",
              "Class                0.000000\n",
              "dtype: float64"
            ]
          },
          "metadata": {
            "tags": []
          },
          "execution_count": 8
        }
      ]
    },
    {
      "cell_type": "code",
      "metadata": {
        "id": "UwikgZY-KN8S"
      },
      "source": [
        "# Funcion para ver la distribución antes y después de imputar\n",
        "\n",
        "# def plot_imputations(dataframe: pd.DataFrame, column: str, method: str = \"median\", **kwargs):\n",
        "#   plt.subplot(1, 2, 1)\n",
        "#   sns.displot(data=dataframe, x=column, **kwargs)\n",
        "#   plt.subplot(1, 2, 2)\n",
        "#   if method == \"median\":\n",
        "#     dataframe[column] = dataframe[column].fillna(dataframe[column].median())\n",
        "#     sns.displot(data=dataframe, x=column, **kwargs)\n",
        "#   elif method == \"mean\":\n",
        "#     dataframe[column] = dataframe[column].fillna(dataframe[column].mean())\n",
        "#     sns.displot(data=dataframe, x=column, **kwargs)\n",
        "#   else:\n",
        "#     dataframe[column] = dataframe[column].fillna(dataframe[column].mode())\n",
        "#     sns.displot(data=dataframe, x=column, **kwargs)\n",
        "#   return plt.show()"
      ],
      "execution_count": null,
      "outputs": []
    },
    {
      "cell_type": "code",
      "metadata": {
        "id": "ZSe0BNJhO8Xt"
      },
      "source": [
        "def plot_imputations(df: pd.DataFrame, column: str, method: str = 'median', **kwargs):\n",
        "  plt.subplot(1, 2, 1)\n",
        "  sns.distplot(df[column], **kwargs)\n",
        "  plt.subplot(1, 2, 2)\n",
        "  if method == 'median':\n",
        "    sns.distplot(df[column].fillna(df[column].median()), **kwargs)\n",
        "  elif method == 'mean':\n",
        "    sns.distplot(df[column].fillna(df[column].mean()), **kwargs)\n",
        "  else:\n",
        "    sns.distplot(df[column].fillna(df[column].mode()), **kwargs)\n",
        "  return plt.show()"
      ],
      "execution_count": null,
      "outputs": []
    },
    {
      "cell_type": "code",
      "metadata": {
        "id": "aSXHrBz4Pckp"
      },
      "source": [
        "import warnings\n",
        "\n",
        "warnings.filterwarnings(action=\"ignore\")"
      ],
      "execution_count": null,
      "outputs": []
    },
    {
      "cell_type": "code",
      "metadata": {
        "colab": {
          "base_uri": "https://localhost:8080/",
          "height": 280
        },
        "id": "dL0BMnhxN2iA",
        "outputId": "f36c4f04-d6a1-4005-cc7f-66f5f1c3305e"
      },
      "source": [
        "aux = diabetes.copy()\n",
        "\n",
        "plot_imputations(df=aux, column=\"Diastolic_BP\", hist=False)"
      ],
      "execution_count": null,
      "outputs": [
        {
          "output_type": "display_data",
          "data": {
            "image/png": "[encoded data removed]",
            "text/plain": [
              "<Figure size 432x288 with 2 Axes>"
            ]
          },
          "metadata": {
            "tags": [],
            "needs_background": "light"
          }
        }
      ]
    },
    {
      "cell_type": "code",
      "metadata": {
        "colab": {
          "base_uri": "https://localhost:8080/",
          "height": 280
        },
        "id": "uHbU-WJ4OqU0",
        "outputId": "456d5945-ecc4-4311-a6ef-4a8bf6bd6309"
      },
      "source": [
        "plot_imputations(df=aux, column=\"Diastolic_BP\", method=\"mean\", hist=False)"
      ],
      "execution_count": null,
      "outputs": [
        {
          "output_type": "display_data",
          "data": {
            "image/png": "[encoded data removed]",
            "text/plain": [
              "<Figure size 432x288 with 2 Axes>"
            ]
          },
          "metadata": {
            "tags": [],
            "needs_background": "light"
          }
        }
      ]
    },
    {
      "cell_type": "code",
      "metadata": {
        "colab": {
          "base_uri": "https://localhost:8080/"
        },
        "id": "QuKjqY5rQnnf",
        "outputId": "20e73423-fcc1-4bcf-dd90-a364c059cdf4"
      },
      "source": [
        "diabetes.isna().sum()"
      ],
      "execution_count": null,
      "outputs": [
        {
          "output_type": "execute_result",
          "data": {
            "text/plain": [
              "Pregnant              0\n",
              "Glucose               5\n",
              "Diastolic_BP         35\n",
              "BMI                  11\n",
              "Diabetes_Pedigree     0\n",
              "Age                   0\n",
              "Class                 0\n",
              "dtype: int64"
            ]
          },
          "metadata": {
            "tags": []
          },
          "execution_count": 19
        }
      ]
    },
    {
      "cell_type": "code",
      "metadata": {
        "colab": {
          "base_uri": "https://localhost:8080/"
        },
        "id": "lqfRtBimQjOQ",
        "outputId": "c780c07a-15e5-4575-eeb1-88cc96a4f00f"
      },
      "source": [
        "aux.isna().sum()"
      ],
      "execution_count": null,
      "outputs": [
        {
          "output_type": "execute_result",
          "data": {
            "text/plain": [
              "Pregnant              0\n",
              "Glucose               5\n",
              "Diastolic_BP         35\n",
              "BMI                  11\n",
              "Diabetes_Pedigree     0\n",
              "Age                   0\n",
              "Class                 0\n",
              "dtype: int64"
            ]
          },
          "metadata": {
            "tags": []
          },
          "execution_count": 20
        }
      ]
    },
    {
      "cell_type": "code",
      "metadata": {
        "colab": {
          "base_uri": "https://localhost:8080/"
        },
        "id": "5RLUHBSzQuSh",
        "outputId": "1e3794c4-0717-4f20-8c40-e66937ff8482"
      },
      "source": [
        "cols_to_impute = diabetes.columns[[True if col > 0 else False for col in diabetes.isna().sum().values.tolist()]]\n",
        "cols_to_impute"
      ],
      "execution_count": null,
      "outputs": [
        {
          "output_type": "execute_result",
          "data": {
            "text/plain": [
              "Index(['Glucose', 'Diastolic_BP', 'BMI'], dtype='object')"
            ]
          },
          "metadata": {
            "tags": []
          },
          "execution_count": 22
        }
      ]
    },
    {
      "cell_type": "code",
      "metadata": {
        "colab": {
          "base_uri": "https://localhost:8080/"
        },
        "id": "agFXAd9iSJIG",
        "outputId": "27c507c2-5661-43aa-981b-a2a1bc436da7"
      },
      "source": [
        "for col in cols_to_impute:\n",
        "  diabetes[col] = diabetes[col].fillna(diabetes[col].median())\n",
        "\n",
        "diabetes.isna().sum()"
      ],
      "execution_count": null,
      "outputs": [
        {
          "output_type": "execute_result",
          "data": {
            "text/plain": [
              "Pregnant             0\n",
              "Glucose              0\n",
              "Diastolic_BP         0\n",
              "BMI                  0\n",
              "Diabetes_Pedigree    0\n",
              "Age                  0\n",
              "Class                0\n",
              "dtype: int64"
            ]
          },
          "metadata": {
            "tags": []
          },
          "execution_count": 23
        }
      ]
    },
    {
      "cell_type": "markdown",
      "metadata": {
        "id": "sKqlxv_2Sk94"
      },
      "source": [
        "## Diseño de Scikit-Learn\n",
        "Estos son los principios de diseño más importantes:\n",
        "\n",
        "* Consistencia: Todos los objetos comparten una interfaz simple y consistente:\n",
        "\n",
        "  * Estimadores: Cualquier objeto que pueda estimar algunos parámetros basándose en un set de datos se llama \"estimador\" (por ejemplo, imputer es un estimador). La estimación en si la realiza el método **.fit()** y solo toma un conjunto de datos como parámetro (o dos para algoritmos de aprendizaje supervisado; el segundo set de datos contiene las etiquetas). Cualquier otro parámetro necesario para guiar el proceso de estimación se considera un hiperparámetro (como strategy de imputer) y debe establecerse como una variable de instancia (por lo general, mediante un parametro constructor).\n",
        "  * Transformadores: Algunos estimadores (como imputer) también pueden transformar un conjunto de datos; se denominan transformadores. De nuevo, la API es sencilla: la transformación la lleva a cabo el método **.transform()** con el conjunto de datos para transformar como parámetro. Devuelve el conjunto de datos transformado. Esta transformación suele depender de los parámetros aprendidos, como es el caso de imputer.\n",
        "  * Predictores: Por últimos, algunos estimadores, cuando se les da un conjunto de datos, son capaces de hacer predicciones; se llaman predictores. Por ejemplo, el modelo LinearRegression. Un predictor tiene un método **.predict()** que toma un conjunto de datos de observaciones nuevas y devuelve un conjunto de datos de predicciones correspondientes. También tiene un método .score() que mide la calidad de las predicciones correspondientes, dado un conjunto de prueba (y las etiquetas correspondientes, en el caso de algoritmos de aprendizaje supervisado).\n",
        "* Inspección: Todos los hiperparámetros del estimador son accesibles de forma directa mediante variables de instancia públicas (por ejemplo, imputer.strategy) y todos los parámetros aprendidos del estimador son accesibles mediante variables de instancia pública con un guion bajo como sufijo (por ejemplo, imputer.statistics_).\n",
        "\n",
        "* Composición: Los bloques de construcción existentes se reutilizan tanto como sea posible. Por ejemplo, es fácil crear un estimador Pipeline a partir de una secuencia de transformadores seguida de un estimador final, como veremos más adelante.\n"
      ]
    },
    {
      "cell_type": "code",
      "metadata": {
        "id": "8aL8uDXiScWl"
      },
      "source": [
        "class StandardScaler:\n",
        "  def __init__(self, data: list):\n",
        "    self.data = data\n",
        "    self.mu = None\n",
        "    self.sd = None\n",
        "\n",
        "  def fit(self):\n",
        "    self.mu = np.mean(self.data)\n",
        "    self.sd = np.std(self.data)\n",
        "    return self\n",
        "\n",
        "  def transform(self):\n",
        "    if self.mu is None:\n",
        "      print(\"No se puede hacer la operacion, porque no se han calculado los parametros.\")\n",
        "    else:\n",
        "      z = [(x - self.mu)/self.sd for x in self.data]\n",
        "      return z"
      ],
      "execution_count": null,
      "outputs": []
    },
    {
      "cell_type": "code",
      "metadata": {
        "colab": {
          "base_uri": "https://localhost:8080/"
        },
        "id": "_SUN6FgQV2-5",
        "outputId": "64f14a6b-64f2-472d-a28f-b0f045b9ea51"
      },
      "source": [
        "datos = np.random.normal(loc=1000, scale=100, size=100).tolist()\n",
        "datos[:10]"
      ],
      "execution_count": null,
      "outputs": [
        {
          "output_type": "execute_result",
          "data": {
            "text/plain": [
              "[1029.2807981310368,\n",
              " 967.5030666327351,\n",
              " 1079.9164176932488,\n",
              " 1008.4996119123822,\n",
              " 1106.5813932852343,\n",
              " 853.1033662264878,\n",
              " 1070.017913409,\n",
              " 1190.7104511787895,\n",
              " 927.8209771575529,\n",
              " 1020.4081199758139]"
            ]
          },
          "metadata": {
            "tags": []
          },
          "execution_count": 25
        }
      ]
    },
    {
      "cell_type": "code",
      "metadata": {
        "id": "Gpqp3lQ6WE4A"
      },
      "source": [
        "scaler = StandardScaler(data=datos)"
      ],
      "execution_count": null,
      "outputs": []
    },
    {
      "cell_type": "code",
      "metadata": {
        "id": "k8bcyGslWUlv"
      },
      "source": [
        "scaler.mu"
      ],
      "execution_count": null,
      "outputs": []
    },
    {
      "cell_type": "code",
      "metadata": {
        "colab": {
          "base_uri": "https://localhost:8080/"
        },
        "id": "ro-l5AAaXFVE",
        "outputId": "6035ca69-4e90-45b8-bcf7-557fcc42168d"
      },
      "source": [
        "scaler.fit()"
      ],
      "execution_count": null,
      "outputs": [
        {
          "output_type": "execute_result",
          "data": {
            "text/plain": [
              "<__main__.StandardScaler at 0x7f9c003f2110>"
            ]
          },
          "metadata": {
            "tags": []
          },
          "execution_count": 65
        }
      ]
    },
    {
      "cell_type": "code",
      "metadata": {
        "colab": {
          "base_uri": "https://localhost:8080/"
        },
        "id": "7HlILCqzXkB2",
        "outputId": "e124e010-65e5-4965-8599-2f8abf043fd9"
      },
      "source": [
        "print(f\"La media de los datos es: {scaler.mu}\")\n",
        "print(f\"La desviacion de los datos es: {scaler.sd}\")"
      ],
      "execution_count": null,
      "outputs": [
        {
          "output_type": "stream",
          "text": [
            "La media de los datos es: None\n",
            "La desviacion de los datos es: None\n"
          ],
          "name": "stdout"
        }
      ]
    },
    {
      "cell_type": "code",
      "metadata": {
        "colab": {
          "base_uri": "https://localhost:8080/"
        },
        "id": "r6E4IdUoZRTr",
        "outputId": "3a0fbcfe-3bc5-4857-8950-26b5c82eb510"
      },
      "source": [
        "(datos[0] - scaler.mu)/scaler.sd"
      ],
      "execution_count": null,
      "outputs": [
        {
          "output_type": "execute_result",
          "data": {
            "text/plain": [
              "0.3657770453703107"
            ]
          },
          "metadata": {
            "tags": []
          },
          "execution_count": 47
        }
      ]
    },
    {
      "cell_type": "code",
      "metadata": {
        "colab": {
          "base_uri": "https://localhost:8080/"
        },
        "id": "pL3qbpizX5JC",
        "outputId": "2bb345b7-bfdd-456c-9903-f938f403dbb4"
      },
      "source": [
        "z = scaler.transform()\n",
        "z[:10]"
      ],
      "execution_count": null,
      "outputs": [
        {
          "output_type": "execute_result",
          "data": {
            "text/plain": [
              "[0.3657770453703107,\n",
              " -0.31929688735470957,\n",
              " 0.9272923711702905,\n",
              " 0.1353275189111514,\n",
              " 1.2229892064501735,\n",
              " -1.5879134383205937,\n",
              " 0.8175245455535098,\n",
              " 2.1559244753532276,\n",
              " -0.7593448534451537,\n",
              " 0.2673849488950773]"
            ]
          },
          "metadata": {
            "tags": []
          },
          "execution_count": 66
        }
      ]
    },
    {
      "cell_type": "code",
      "metadata": {
        "id": "vtjfwvlvZNX-"
      },
      "source": [
        "from sklearn.impute import SimpleImputer"
      ],
      "execution_count": null,
      "outputs": []
    },
    {
      "cell_type": "markdown",
      "metadata": {
        "id": "bGl7Wq3ThHYG"
      },
      "source": [
        "* strategy (mean, median, most_frequent)"
      ]
    },
    {
      "cell_type": "code",
      "metadata": {
        "colab": {
          "base_uri": "https://localhost:8080/"
        },
        "id": "aftP5UZBhtcS",
        "outputId": "835c1a5d-8220-40e8-9042-350a2ecb20a8"
      },
      "source": [
        "aux.isna().sum()"
      ],
      "execution_count": null,
      "outputs": [
        {
          "output_type": "execute_result",
          "data": {
            "text/plain": [
              "Pregnant              0\n",
              "Glucose               5\n",
              "Diastolic_BP         35\n",
              "BMI                  11\n",
              "Diabetes_Pedigree     0\n",
              "Age                   0\n",
              "Class                 0\n",
              "dtype: int64"
            ]
          },
          "metadata": {
            "tags": []
          },
          "execution_count": 69
        }
      ]
    },
    {
      "cell_type": "code",
      "metadata": {
        "id": "7U5CfxNhguKf"
      },
      "source": [
        "imputer = SimpleImputer(strategy='median')"
      ],
      "execution_count": null,
      "outputs": []
    },
    {
      "cell_type": "code",
      "metadata": {
        "colab": {
          "base_uri": "https://localhost:8080/",
          "height": 35
        },
        "id": "eUYAlnBbh1nE",
        "outputId": "7b2cf412-9073-42a6-f4ea-688190afd36e"
      },
      "source": [
        "columns = aux.columns.tolist()\n",
        "columns.pop()"
      ],
      "execution_count": null,
      "outputs": [
        {
          "output_type": "execute_result",
          "data": {
            "application/vnd.google.colaboratory.intrinsic+json": {
              "type": "string"
            },
            "text/plain": [
              "'Class'"
            ]
          },
          "metadata": {
            "tags": []
          },
          "execution_count": 71
        }
      ]
    },
    {
      "cell_type": "code",
      "metadata": {
        "colab": {
          "base_uri": "https://localhost:8080/"
        },
        "id": "lB0x7GkAhTVa",
        "outputId": "aae3e698-6010-4386-f562-bd74c570d82c"
      },
      "source": [
        "imputer.fit(X=aux.loc[:, columns])"
      ],
      "execution_count": null,
      "outputs": [
        {
          "output_type": "execute_result",
          "data": {
            "text/plain": [
              "SimpleImputer(add_indicator=False, copy=True, fill_value=None,\n",
              "              missing_values=nan, strategy='median', verbose=0)"
            ]
          },
          "metadata": {
            "tags": []
          },
          "execution_count": 72
        }
      ]
    },
    {
      "cell_type": "code",
      "metadata": {
        "colab": {
          "base_uri": "https://localhost:8080/"
        },
        "id": "skCedLFAiZHl",
        "outputId": "e756256f-ab0f-4a28-8b31-2575c9f28057"
      },
      "source": [
        "for col, median in zip(columns, imputer.statistics_):\n",
        "  print(f\"Para la variable {col}, la mediana es: {median}\")"
      ],
      "execution_count": null,
      "outputs": [
        {
          "output_type": "stream",
          "text": [
            "Para la variable Pregnant, la mediana es: 3.0\n",
            "Para la variable Glucose, la mediana es: 117.0\n",
            "Para la variable Diastolic_BP, la mediana es: 72.0\n",
            "Para la variable BMI, la mediana es: 32.3\n",
            "Para la variable Diabetes_Pedigree, la mediana es: 0.3725\n",
            "Para la variable Age, la mediana es: 29.0\n"
          ],
          "name": "stdout"
        }
      ]
    },
    {
      "cell_type": "code",
      "metadata": {
        "id": "u1tbtYN-ic9l"
      },
      "source": [
        "aux.loc[:, columns] = imputer.transform(aux[columns])"
      ],
      "execution_count": null,
      "outputs": []
    },
    {
      "cell_type": "code",
      "metadata": {
        "colab": {
          "base_uri": "https://localhost:8080/"
        },
        "id": "5-S5HU3JjTvb",
        "outputId": "16146f30-be06-4394-b3d1-920128d6cbd2"
      },
      "source": [
        "aux.isna().sum()"
      ],
      "execution_count": null,
      "outputs": [
        {
          "output_type": "execute_result",
          "data": {
            "text/plain": [
              "Pregnant             0\n",
              "Glucose              0\n",
              "Diastolic_BP         0\n",
              "BMI                  0\n",
              "Diabetes_Pedigree    0\n",
              "Age                  0\n",
              "Class                0\n",
              "dtype: int64"
            ]
          },
          "metadata": {
            "tags": []
          },
          "execution_count": 76
        }
      ]
    },
    {
      "cell_type": "code",
      "metadata": {
        "id": "2ii76jQXjVz1"
      },
      "source": [
        "import joblib"
      ],
      "execution_count": null,
      "outputs": []
    },
    {
      "cell_type": "code",
      "metadata": {
        "colab": {
          "base_uri": "https://localhost:8080/"
        },
        "id": "TkB8Pyf3nbXX",
        "outputId": "7779368f-e782-46e4-cab5-ae63a555b6ac"
      },
      "source": [
        "joblib.dump(imputer, filename=\"imputer.joblib\")"
      ],
      "execution_count": null,
      "outputs": [
        {
          "output_type": "execute_result",
          "data": {
            "text/plain": [
              "['imputer.joblib']"
            ]
          },
          "metadata": {
            "tags": []
          },
          "execution_count": 78
        }
      ]
    },
    {
      "cell_type": "code",
      "metadata": {
        "id": "lEq9GPeFnotS"
      },
      "source": [
        "imputer = None"
      ],
      "execution_count": null,
      "outputs": []
    },
    {
      "cell_type": "code",
      "metadata": {
        "colab": {
          "base_uri": "https://localhost:8080/",
          "height": 166
        },
        "id": "68rt6-ROnuei",
        "outputId": "d0a0ae83-b6cf-41cb-e6b8-d823d1133ecc"
      },
      "source": [
        "imputer.transform(aux[columns])"
      ],
      "execution_count": null,
      "outputs": [
        {
          "output_type": "error",
          "ename": "AttributeError",
          "evalue": "ignored",
          "traceback": [
            "\u001b[0;31m---------------------------------------------------------------------------\u001b[0m",
            "\u001b[0;31mAttributeError\u001b[0m                            Traceback (most recent call last)",
            "\u001b[0;32m<ipython-input-80-bddda54d6207>\u001b[0m in \u001b[0;36m<module>\u001b[0;34m()\u001b[0m\n\u001b[0;32m----> 1\u001b[0;31m \u001b[0mimputer\u001b[0m\u001b[0;34m.\u001b[0m\u001b[0mtransform\u001b[0m\u001b[0;34m(\u001b[0m\u001b[0maux\u001b[0m\u001b[0;34m[\u001b[0m\u001b[0mcolumns\u001b[0m\u001b[0;34m]\u001b[0m\u001b[0;34m)\u001b[0m\u001b[0;34m\u001b[0m\u001b[0;34m\u001b[0m\u001b[0m\n\u001b[0m",
            "\u001b[0;31mAttributeError\u001b[0m: 'NoneType' object has no attribute 'transform'"
          ]
        }
      ]
    },
    {
      "cell_type": "code",
      "metadata": {
        "id": "ViD3ga26ny4J"
      },
      "source": [
        "imputer = joblib.load(filename=\"imputer.joblib\")"
      ],
      "execution_count": null,
      "outputs": []
    },
    {
      "cell_type": "code",
      "metadata": {
        "colab": {
          "base_uri": "https://localhost:8080/"
        },
        "id": "Tf99YjUqoBAK",
        "outputId": "ff309d66-98d0-4639-c3ed-1842d0d81f5b"
      },
      "source": [
        "for col, median in zip(columns, imputer.statistics_):\n",
        "  print(f\"Para la variable {col}, la mediana es: {median}\")"
      ],
      "execution_count": null,
      "outputs": [
        {
          "output_type": "stream",
          "text": [
            "Para la variable Pregnant, la mediana es: 3.0\n",
            "Para la variable Glucose, la mediana es: 117.0\n",
            "Para la variable Diastolic_BP, la mediana es: 72.0\n",
            "Para la variable BMI, la mediana es: 32.3\n",
            "Para la variable Diabetes_Pedigree, la mediana es: 0.3725\n",
            "Para la variable Age, la mediana es: 29.0\n"
          ],
          "name": "stdout"
        }
      ]
    },
    {
      "cell_type": "code",
      "metadata": {
        "colab": {
          "base_uri": "https://localhost:8080/",
          "height": 294
        },
        "id": "q-yvByE3oZve",
        "outputId": "1b31591c-723d-4ccf-fcc8-984ed6674e32"
      },
      "source": [
        "aux.describe()"
      ],
      "execution_count": null,
      "outputs": [
        {
          "output_type": "execute_result",
          "data": {
            "text/html": [
              "<div>\n",
              "<style scoped>\n",
              "    .dataframe tbody tr th:only-of-type {\n",
              "        vertical-align: middle;\n",
              "    }\n",
              "\n",
              "    .dataframe tbody tr th {\n",
              "        vertical-align: top;\n",
              "    }\n",
              "\n",
              "    .dataframe thead th {\n",
              "        text-align: right;\n",
              "    }\n",
              "</style>\n",
              "<table border=\"1\" class=\"dataframe\">\n",
              "  <thead>\n",
              "    <tr style=\"text-align: right;\">\n",
              "      <th></th>\n",
              "      <th>Pregnant</th>\n",
              "      <th>Glucose</th>\n",
              "      <th>Diastolic_BP</th>\n",
              "      <th>BMI</th>\n",
              "      <th>Diabetes_Pedigree</th>\n",
              "      <th>Age</th>\n",
              "    </tr>\n",
              "  </thead>\n",
              "  <tbody>\n",
              "    <tr>\n",
              "      <th>count</th>\n",
              "      <td>768.000000</td>\n",
              "      <td>768.000000</td>\n",
              "      <td>768.000000</td>\n",
              "      <td>768.000000</td>\n",
              "      <td>768.000000</td>\n",
              "      <td>768.000000</td>\n",
              "    </tr>\n",
              "    <tr>\n",
              "      <th>mean</th>\n",
              "      <td>3.845052</td>\n",
              "      <td>121.656250</td>\n",
              "      <td>72.386719</td>\n",
              "      <td>32.455208</td>\n",
              "      <td>0.471876</td>\n",
              "      <td>33.240885</td>\n",
              "    </tr>\n",
              "    <tr>\n",
              "      <th>std</th>\n",
              "      <td>3.369578</td>\n",
              "      <td>30.438286</td>\n",
              "      <td>12.096642</td>\n",
              "      <td>6.875177</td>\n",
              "      <td>0.331329</td>\n",
              "      <td>11.760232</td>\n",
              "    </tr>\n",
              "    <tr>\n",
              "      <th>min</th>\n",
              "      <td>0.000000</td>\n",
              "      <td>44.000000</td>\n",
              "      <td>24.000000</td>\n",
              "      <td>18.200000</td>\n",
              "      <td>0.078000</td>\n",
              "      <td>21.000000</td>\n",
              "    </tr>\n",
              "    <tr>\n",
              "      <th>25%</th>\n",
              "      <td>1.000000</td>\n",
              "      <td>99.750000</td>\n",
              "      <td>64.000000</td>\n",
              "      <td>27.500000</td>\n",
              "      <td>0.243750</td>\n",
              "      <td>24.000000</td>\n",
              "    </tr>\n",
              "    <tr>\n",
              "      <th>50%</th>\n",
              "      <td>3.000000</td>\n",
              "      <td>117.000000</td>\n",
              "      <td>72.000000</td>\n",
              "      <td>32.300000</td>\n",
              "      <td>0.372500</td>\n",
              "      <td>29.000000</td>\n",
              "    </tr>\n",
              "    <tr>\n",
              "      <th>75%</th>\n",
              "      <td>6.000000</td>\n",
              "      <td>140.250000</td>\n",
              "      <td>80.000000</td>\n",
              "      <td>36.600000</td>\n",
              "      <td>0.626250</td>\n",
              "      <td>41.000000</td>\n",
              "    </tr>\n",
              "    <tr>\n",
              "      <th>max</th>\n",
              "      <td>17.000000</td>\n",
              "      <td>199.000000</td>\n",
              "      <td>122.000000</td>\n",
              "      <td>67.100000</td>\n",
              "      <td>2.420000</td>\n",
              "      <td>81.000000</td>\n",
              "    </tr>\n",
              "  </tbody>\n",
              "</table>\n",
              "</div>"
            ],
            "text/plain": [
              "         Pregnant     Glucose  ...  Diabetes_Pedigree         Age\n",
              "count  768.000000  768.000000  ...         768.000000  768.000000\n",
              "mean     3.845052  121.656250  ...           0.471876   33.240885\n",
              "std      3.369578   30.438286  ...           0.331329   11.760232\n",
              "min      0.000000   44.000000  ...           0.078000   21.000000\n",
              "25%      1.000000   99.750000  ...           0.243750   24.000000\n",
              "50%      3.000000  117.000000  ...           0.372500   29.000000\n",
              "75%      6.000000  140.250000  ...           0.626250   41.000000\n",
              "max     17.000000  199.000000  ...           2.420000   81.000000\n",
              "\n",
              "[8 rows x 6 columns]"
            ]
          },
          "metadata": {
            "tags": []
          },
          "execution_count": 83
        }
      ]
    },
    {
      "cell_type": "code",
      "metadata": {
        "colab": {
          "base_uri": "https://localhost:8080/",
          "height": 79
        },
        "id": "gjw3T03uoEiG",
        "outputId": "e2598e84-8b86-4953-e5fa-5ea5ddec5d44"
      },
      "source": [
        "new_data = pd.DataFrame({'Pregnant': [3],\n",
        "                         'Glucose': [45],\n",
        "                         'Diastolic_BP': [np.nan],\n",
        "                         'BMI': [27],\n",
        "                         'Diabetes_Pedigree': [np.nan],\n",
        "                         'Age': [28]})\n",
        "\n",
        "new_data"
      ],
      "execution_count": null,
      "outputs": [
        {
          "output_type": "execute_result",
          "data": {
            "text/html": [
              "<div>\n",
              "<style scoped>\n",
              "    .dataframe tbody tr th:only-of-type {\n",
              "        vertical-align: middle;\n",
              "    }\n",
              "\n",
              "    .dataframe tbody tr th {\n",
              "        vertical-align: top;\n",
              "    }\n",
              "\n",
              "    .dataframe thead th {\n",
              "        text-align: right;\n",
              "    }\n",
              "</style>\n",
              "<table border=\"1\" class=\"dataframe\">\n",
              "  <thead>\n",
              "    <tr style=\"text-align: right;\">\n",
              "      <th></th>\n",
              "      <th>Pregnant</th>\n",
              "      <th>Glucose</th>\n",
              "      <th>Diastolic_BP</th>\n",
              "      <th>BMI</th>\n",
              "      <th>Diabetes_Pedigree</th>\n",
              "      <th>Age</th>\n",
              "    </tr>\n",
              "  </thead>\n",
              "  <tbody>\n",
              "    <tr>\n",
              "      <th>0</th>\n",
              "      <td>3</td>\n",
              "      <td>45</td>\n",
              "      <td>NaN</td>\n",
              "      <td>27</td>\n",
              "      <td>NaN</td>\n",
              "      <td>28</td>\n",
              "    </tr>\n",
              "  </tbody>\n",
              "</table>\n",
              "</div>"
            ],
            "text/plain": [
              "   Pregnant  Glucose  Diastolic_BP  BMI  Diabetes_Pedigree  Age\n",
              "0         3       45           NaN   27                NaN   28"
            ]
          },
          "metadata": {
            "tags": []
          },
          "execution_count": 87
        }
      ]
    },
    {
      "cell_type": "code",
      "metadata": {
        "colab": {
          "base_uri": "https://localhost:8080/"
        },
        "id": "O9kKDPKaovVB",
        "outputId": "0f606164-40cb-4151-f62a-bb5886f0d932"
      },
      "source": [
        "new_data = imputer.transform(new_data)\n",
        "new_data"
      ],
      "execution_count": null,
      "outputs": [
        {
          "output_type": "execute_result",
          "data": {
            "text/plain": [
              "array([[ 3.    , 45.    , 72.    , 27.    ,  0.3725, 28.    ]])"
            ]
          },
          "metadata": {
            "tags": []
          },
          "execution_count": 88
        }
      ]
    },
    {
      "cell_type": "markdown",
      "metadata": {
        "id": "NQkeclwoqFtm"
      },
      "source": [
        "## Imputación de datos de series de tiempo\n",
        "\n",
        "Nuevamente el método **.fillna()** nos puede ayudar en las series de tiempo, sin embargo, hay otro método de Pandas que puede ser más preciso, este es **.interpolate()**.\n"
      ]
    },
    {
      "cell_type": "code",
      "metadata": {
        "colab": {
          "base_uri": "https://localhost:8080/",
          "height": 202
        },
        "id": "2hF1UJbxpBtJ",
        "outputId": "ce642d94-ea43-4ae6-bb38-5f39365c215a"
      },
      "source": [
        "airquality = pd.read_csv(\"https://raw.githubusercontent.com/stivenlopezg/Modulo-Python-3/master/data/air-quality.csv\",\n",
        "                         parse_dates=[\"Date\"])\n",
        "\n",
        "airquality.head()"
      ],
      "execution_count": null,
      "outputs": [
        {
          "output_type": "execute_result",
          "data": {
            "text/html": [
              "<div>\n",
              "<style scoped>\n",
              "    .dataframe tbody tr th:only-of-type {\n",
              "        vertical-align: middle;\n",
              "    }\n",
              "\n",
              "    .dataframe tbody tr th {\n",
              "        vertical-align: top;\n",
              "    }\n",
              "\n",
              "    .dataframe thead th {\n",
              "        text-align: right;\n",
              "    }\n",
              "</style>\n",
              "<table border=\"1\" class=\"dataframe\">\n",
              "  <thead>\n",
              "    <tr style=\"text-align: right;\">\n",
              "      <th></th>\n",
              "      <th>Date</th>\n",
              "      <th>Ozone</th>\n",
              "      <th>Solar</th>\n",
              "      <th>Wind</th>\n",
              "      <th>Temp</th>\n",
              "    </tr>\n",
              "  </thead>\n",
              "  <tbody>\n",
              "    <tr>\n",
              "      <th>0</th>\n",
              "      <td>1976-05-01</td>\n",
              "      <td>41.0</td>\n",
              "      <td>190.0</td>\n",
              "      <td>7.4</td>\n",
              "      <td>67</td>\n",
              "    </tr>\n",
              "    <tr>\n",
              "      <th>1</th>\n",
              "      <td>1976-05-02</td>\n",
              "      <td>36.0</td>\n",
              "      <td>118.0</td>\n",
              "      <td>8.0</td>\n",
              "      <td>72</td>\n",
              "    </tr>\n",
              "    <tr>\n",
              "      <th>2</th>\n",
              "      <td>1976-05-03</td>\n",
              "      <td>12.0</td>\n",
              "      <td>149.0</td>\n",
              "      <td>12.6</td>\n",
              "      <td>74</td>\n",
              "    </tr>\n",
              "    <tr>\n",
              "      <th>3</th>\n",
              "      <td>1976-05-04</td>\n",
              "      <td>18.0</td>\n",
              "      <td>313.0</td>\n",
              "      <td>11.5</td>\n",
              "      <td>62</td>\n",
              "    </tr>\n",
              "    <tr>\n",
              "      <th>4</th>\n",
              "      <td>1976-05-05</td>\n",
              "      <td>NaN</td>\n",
              "      <td>NaN</td>\n",
              "      <td>14.3</td>\n",
              "      <td>56</td>\n",
              "    </tr>\n",
              "  </tbody>\n",
              "</table>\n",
              "</div>"
            ],
            "text/plain": [
              "        Date  Ozone  Solar  Wind  Temp\n",
              "0 1976-05-01   41.0  190.0   7.4    67\n",
              "1 1976-05-02   36.0  118.0   8.0    72\n",
              "2 1976-05-03   12.0  149.0  12.6    74\n",
              "3 1976-05-04   18.0  313.0  11.5    62\n",
              "4 1976-05-05    NaN    NaN  14.3    56"
            ]
          },
          "metadata": {
            "tags": []
          },
          "execution_count": 89
        }
      ]
    },
    {
      "cell_type": "code",
      "metadata": {
        "colab": {
          "base_uri": "https://localhost:8080/"
        },
        "id": "766G4P8drEUg",
        "outputId": "e6fd897f-9d6d-4f4d-dc9d-a36a0cd28546"
      },
      "source": [
        "airquality.info()"
      ],
      "execution_count": null,
      "outputs": [
        {
          "output_type": "stream",
          "text": [
            "<class 'pandas.core.frame.DataFrame'>\n",
            "RangeIndex: 153 entries, 0 to 152\n",
            "Data columns (total 5 columns):\n",
            " #   Column  Non-Null Count  Dtype         \n",
            "---  ------  --------------  -----         \n",
            " 0   Date    153 non-null    datetime64[ns]\n",
            " 1   Ozone   116 non-null    float64       \n",
            " 2   Solar   146 non-null    float64       \n",
            " 3   Wind    153 non-null    float64       \n",
            " 4   Temp    153 non-null    int64         \n",
            "dtypes: datetime64[ns](1), float64(3), int64(1)\n",
            "memory usage: 6.1 KB\n"
          ],
          "name": "stdout"
        }
      ]
    },
    {
      "cell_type": "code",
      "metadata": {
        "colab": {
          "base_uri": "https://localhost:8080/",
          "height": 355
        },
        "id": "HHGCciSlrKe9",
        "outputId": "b5c8e4a6-9261-4113-d4ac-c03a6a2b6bfe"
      },
      "source": [
        "airquality[30:40]"
      ],
      "execution_count": null,
      "outputs": [
        {
          "output_type": "execute_result",
          "data": {
            "text/html": [
              "<div>\n",
              "<style scoped>\n",
              "    .dataframe tbody tr th:only-of-type {\n",
              "        vertical-align: middle;\n",
              "    }\n",
              "\n",
              "    .dataframe tbody tr th {\n",
              "        vertical-align: top;\n",
              "    }\n",
              "\n",
              "    .dataframe thead th {\n",
              "        text-align: right;\n",
              "    }\n",
              "</style>\n",
              "<table border=\"1\" class=\"dataframe\">\n",
              "  <thead>\n",
              "    <tr style=\"text-align: right;\">\n",
              "      <th></th>\n",
              "      <th>Date</th>\n",
              "      <th>Ozone</th>\n",
              "      <th>Solar</th>\n",
              "      <th>Wind</th>\n",
              "      <th>Temp</th>\n",
              "    </tr>\n",
              "  </thead>\n",
              "  <tbody>\n",
              "    <tr>\n",
              "      <th>30</th>\n",
              "      <td>1976-05-31</td>\n",
              "      <td>37.0</td>\n",
              "      <td>279.0</td>\n",
              "      <td>7.4</td>\n",
              "      <td>76</td>\n",
              "    </tr>\n",
              "    <tr>\n",
              "      <th>31</th>\n",
              "      <td>1976-06-01</td>\n",
              "      <td>NaN</td>\n",
              "      <td>286.0</td>\n",
              "      <td>8.6</td>\n",
              "      <td>78</td>\n",
              "    </tr>\n",
              "    <tr>\n",
              "      <th>32</th>\n",
              "      <td>1976-06-02</td>\n",
              "      <td>NaN</td>\n",
              "      <td>287.0</td>\n",
              "      <td>9.7</td>\n",
              "      <td>74</td>\n",
              "    </tr>\n",
              "    <tr>\n",
              "      <th>33</th>\n",
              "      <td>1976-06-03</td>\n",
              "      <td>NaN</td>\n",
              "      <td>242.0</td>\n",
              "      <td>16.1</td>\n",
              "      <td>67</td>\n",
              "    </tr>\n",
              "    <tr>\n",
              "      <th>34</th>\n",
              "      <td>1976-06-04</td>\n",
              "      <td>NaN</td>\n",
              "      <td>186.0</td>\n",
              "      <td>9.2</td>\n",
              "      <td>84</td>\n",
              "    </tr>\n",
              "    <tr>\n",
              "      <th>35</th>\n",
              "      <td>1976-06-05</td>\n",
              "      <td>NaN</td>\n",
              "      <td>220.0</td>\n",
              "      <td>8.6</td>\n",
              "      <td>85</td>\n",
              "    </tr>\n",
              "    <tr>\n",
              "      <th>36</th>\n",
              "      <td>1976-06-06</td>\n",
              "      <td>NaN</td>\n",
              "      <td>264.0</td>\n",
              "      <td>14.3</td>\n",
              "      <td>79</td>\n",
              "    </tr>\n",
              "    <tr>\n",
              "      <th>37</th>\n",
              "      <td>1976-06-07</td>\n",
              "      <td>29.0</td>\n",
              "      <td>127.0</td>\n",
              "      <td>9.7</td>\n",
              "      <td>82</td>\n",
              "    </tr>\n",
              "    <tr>\n",
              "      <th>38</th>\n",
              "      <td>1976-06-08</td>\n",
              "      <td>NaN</td>\n",
              "      <td>273.0</td>\n",
              "      <td>6.9</td>\n",
              "      <td>87</td>\n",
              "    </tr>\n",
              "    <tr>\n",
              "      <th>39</th>\n",
              "      <td>1976-06-09</td>\n",
              "      <td>71.0</td>\n",
              "      <td>291.0</td>\n",
              "      <td>13.8</td>\n",
              "      <td>90</td>\n",
              "    </tr>\n",
              "  </tbody>\n",
              "</table>\n",
              "</div>"
            ],
            "text/plain": [
              "         Date  Ozone  Solar  Wind  Temp\n",
              "30 1976-05-31   37.0  279.0   7.4    76\n",
              "31 1976-06-01    NaN  286.0   8.6    78\n",
              "32 1976-06-02    NaN  287.0   9.7    74\n",
              "33 1976-06-03    NaN  242.0  16.1    67\n",
              "34 1976-06-04    NaN  186.0   9.2    84\n",
              "35 1976-06-05    NaN  220.0   8.6    85\n",
              "36 1976-06-06    NaN  264.0  14.3    79\n",
              "37 1976-06-07   29.0  127.0   9.7    82\n",
              "38 1976-06-08    NaN  273.0   6.9    87\n",
              "39 1976-06-09   71.0  291.0  13.8    90"
            ]
          },
          "metadata": {
            "tags": []
          },
          "execution_count": 91
        }
      ]
    },
    {
      "cell_type": "markdown",
      "metadata": {
        "id": "Fw2iamYKrfbn"
      },
      "source": [
        "método **.fillna()** con el argumento *method*:\n",
        "\n",
        "* ***bfill***\n",
        "* ***ffill***\n",
        "\n",
        "Hay otro método **.interpolate()** con el argumento *method*:\n",
        "\n",
        "* ***linear***\n",
        "* ***quadratic***\n",
        "* ***nearest***"
      ]
    },
    {
      "cell_type": "code",
      "metadata": {
        "colab": {
          "base_uri": "https://localhost:8080/",
          "height": 355
        },
        "id": "I5v-RGrHrXsI",
        "outputId": "e44e6bcf-934c-4951-a632-e4310237fd3b"
      },
      "source": [
        "bfill_imputed = airquality.fillna(method=\"bfill\")\n",
        "\n",
        "bfill_imputed[30:40]"
      ],
      "execution_count": null,
      "outputs": [
        {
          "output_type": "execute_result",
          "data": {
            "text/html": [
              "<div>\n",
              "<style scoped>\n",
              "    .dataframe tbody tr th:only-of-type {\n",
              "        vertical-align: middle;\n",
              "    }\n",
              "\n",
              "    .dataframe tbody tr th {\n",
              "        vertical-align: top;\n",
              "    }\n",
              "\n",
              "    .dataframe thead th {\n",
              "        text-align: right;\n",
              "    }\n",
              "</style>\n",
              "<table border=\"1\" class=\"dataframe\">\n",
              "  <thead>\n",
              "    <tr style=\"text-align: right;\">\n",
              "      <th></th>\n",
              "      <th>Date</th>\n",
              "      <th>Ozone</th>\n",
              "      <th>Solar</th>\n",
              "      <th>Wind</th>\n",
              "      <th>Temp</th>\n",
              "    </tr>\n",
              "  </thead>\n",
              "  <tbody>\n",
              "    <tr>\n",
              "      <th>30</th>\n",
              "      <td>1976-05-31</td>\n",
              "      <td>37.0</td>\n",
              "      <td>279.0</td>\n",
              "      <td>7.4</td>\n",
              "      <td>76</td>\n",
              "    </tr>\n",
              "    <tr>\n",
              "      <th>31</th>\n",
              "      <td>1976-06-01</td>\n",
              "      <td>29.0</td>\n",
              "      <td>286.0</td>\n",
              "      <td>8.6</td>\n",
              "      <td>78</td>\n",
              "    </tr>\n",
              "    <tr>\n",
              "      <th>32</th>\n",
              "      <td>1976-06-02</td>\n",
              "      <td>29.0</td>\n",
              "      <td>287.0</td>\n",
              "      <td>9.7</td>\n",
              "      <td>74</td>\n",
              "    </tr>\n",
              "    <tr>\n",
              "      <th>33</th>\n",
              "      <td>1976-06-03</td>\n",
              "      <td>29.0</td>\n",
              "      <td>242.0</td>\n",
              "      <td>16.1</td>\n",
              "      <td>67</td>\n",
              "    </tr>\n",
              "    <tr>\n",
              "      <th>34</th>\n",
              "      <td>1976-06-04</td>\n",
              "      <td>29.0</td>\n",
              "      <td>186.0</td>\n",
              "      <td>9.2</td>\n",
              "      <td>84</td>\n",
              "    </tr>\n",
              "    <tr>\n",
              "      <th>35</th>\n",
              "      <td>1976-06-05</td>\n",
              "      <td>29.0</td>\n",
              "      <td>220.0</td>\n",
              "      <td>8.6</td>\n",
              "      <td>85</td>\n",
              "    </tr>\n",
              "    <tr>\n",
              "      <th>36</th>\n",
              "      <td>1976-06-06</td>\n",
              "      <td>29.0</td>\n",
              "      <td>264.0</td>\n",
              "      <td>14.3</td>\n",
              "      <td>79</td>\n",
              "    </tr>\n",
              "    <tr>\n",
              "      <th>37</th>\n",
              "      <td>1976-06-07</td>\n",
              "      <td>29.0</td>\n",
              "      <td>127.0</td>\n",
              "      <td>9.7</td>\n",
              "      <td>82</td>\n",
              "    </tr>\n",
              "    <tr>\n",
              "      <th>38</th>\n",
              "      <td>1976-06-08</td>\n",
              "      <td>71.0</td>\n",
              "      <td>273.0</td>\n",
              "      <td>6.9</td>\n",
              "      <td>87</td>\n",
              "    </tr>\n",
              "    <tr>\n",
              "      <th>39</th>\n",
              "      <td>1976-06-09</td>\n",
              "      <td>71.0</td>\n",
              "      <td>291.0</td>\n",
              "      <td>13.8</td>\n",
              "      <td>90</td>\n",
              "    </tr>\n",
              "  </tbody>\n",
              "</table>\n",
              "</div>"
            ],
            "text/plain": [
              "         Date  Ozone  Solar  Wind  Temp\n",
              "30 1976-05-31   37.0  279.0   7.4    76\n",
              "31 1976-06-01   29.0  286.0   8.6    78\n",
              "32 1976-06-02   29.0  287.0   9.7    74\n",
              "33 1976-06-03   29.0  242.0  16.1    67\n",
              "34 1976-06-04   29.0  186.0   9.2    84\n",
              "35 1976-06-05   29.0  220.0   8.6    85\n",
              "36 1976-06-06   29.0  264.0  14.3    79\n",
              "37 1976-06-07   29.0  127.0   9.7    82\n",
              "38 1976-06-08   71.0  273.0   6.9    87\n",
              "39 1976-06-09   71.0  291.0  13.8    90"
            ]
          },
          "metadata": {
            "tags": []
          },
          "execution_count": 93
        }
      ]
    },
    {
      "cell_type": "code",
      "metadata": {
        "colab": {
          "base_uri": "https://localhost:8080/",
          "height": 355
        },
        "id": "b1uylrOZsPm5",
        "outputId": "bc1b1be6-7c5c-47f8-a972-14c09454ee86"
      },
      "source": [
        "ffill_imputed = airquality.fillna(method=\"ffill\")\n",
        "\n",
        "ffill_imputed[30:40]"
      ],
      "execution_count": null,
      "outputs": [
        {
          "output_type": "execute_result",
          "data": {
            "text/html": [
              "<div>\n",
              "<style scoped>\n",
              "    .dataframe tbody tr th:only-of-type {\n",
              "        vertical-align: middle;\n",
              "    }\n",
              "\n",
              "    .dataframe tbody tr th {\n",
              "        vertical-align: top;\n",
              "    }\n",
              "\n",
              "    .dataframe thead th {\n",
              "        text-align: right;\n",
              "    }\n",
              "</style>\n",
              "<table border=\"1\" class=\"dataframe\">\n",
              "  <thead>\n",
              "    <tr style=\"text-align: right;\">\n",
              "      <th></th>\n",
              "      <th>Date</th>\n",
              "      <th>Ozone</th>\n",
              "      <th>Solar</th>\n",
              "      <th>Wind</th>\n",
              "      <th>Temp</th>\n",
              "    </tr>\n",
              "  </thead>\n",
              "  <tbody>\n",
              "    <tr>\n",
              "      <th>30</th>\n",
              "      <td>1976-05-31</td>\n",
              "      <td>37.0</td>\n",
              "      <td>279.0</td>\n",
              "      <td>7.4</td>\n",
              "      <td>76</td>\n",
              "    </tr>\n",
              "    <tr>\n",
              "      <th>31</th>\n",
              "      <td>1976-06-01</td>\n",
              "      <td>37.0</td>\n",
              "      <td>286.0</td>\n",
              "      <td>8.6</td>\n",
              "      <td>78</td>\n",
              "    </tr>\n",
              "    <tr>\n",
              "      <th>32</th>\n",
              "      <td>1976-06-02</td>\n",
              "      <td>37.0</td>\n",
              "      <td>287.0</td>\n",
              "      <td>9.7</td>\n",
              "      <td>74</td>\n",
              "    </tr>\n",
              "    <tr>\n",
              "      <th>33</th>\n",
              "      <td>1976-06-03</td>\n",
              "      <td>37.0</td>\n",
              "      <td>242.0</td>\n",
              "      <td>16.1</td>\n",
              "      <td>67</td>\n",
              "    </tr>\n",
              "    <tr>\n",
              "      <th>34</th>\n",
              "      <td>1976-06-04</td>\n",
              "      <td>37.0</td>\n",
              "      <td>186.0</td>\n",
              "      <td>9.2</td>\n",
              "      <td>84</td>\n",
              "    </tr>\n",
              "    <tr>\n",
              "      <th>35</th>\n",
              "      <td>1976-06-05</td>\n",
              "      <td>37.0</td>\n",
              "      <td>220.0</td>\n",
              "      <td>8.6</td>\n",
              "      <td>85</td>\n",
              "    </tr>\n",
              "    <tr>\n",
              "      <th>36</th>\n",
              "      <td>1976-06-06</td>\n",
              "      <td>37.0</td>\n",
              "      <td>264.0</td>\n",
              "      <td>14.3</td>\n",
              "      <td>79</td>\n",
              "    </tr>\n",
              "    <tr>\n",
              "      <th>37</th>\n",
              "      <td>1976-06-07</td>\n",
              "      <td>29.0</td>\n",
              "      <td>127.0</td>\n",
              "      <td>9.7</td>\n",
              "      <td>82</td>\n",
              "    </tr>\n",
              "    <tr>\n",
              "      <th>38</th>\n",
              "      <td>1976-06-08</td>\n",
              "      <td>29.0</td>\n",
              "      <td>273.0</td>\n",
              "      <td>6.9</td>\n",
              "      <td>87</td>\n",
              "    </tr>\n",
              "    <tr>\n",
              "      <th>39</th>\n",
              "      <td>1976-06-09</td>\n",
              "      <td>71.0</td>\n",
              "      <td>291.0</td>\n",
              "      <td>13.8</td>\n",
              "      <td>90</td>\n",
              "    </tr>\n",
              "  </tbody>\n",
              "</table>\n",
              "</div>"
            ],
            "text/plain": [
              "         Date  Ozone  Solar  Wind  Temp\n",
              "30 1976-05-31   37.0  279.0   7.4    76\n",
              "31 1976-06-01   37.0  286.0   8.6    78\n",
              "32 1976-06-02   37.0  287.0   9.7    74\n",
              "33 1976-06-03   37.0  242.0  16.1    67\n",
              "34 1976-06-04   37.0  186.0   9.2    84\n",
              "35 1976-06-05   37.0  220.0   8.6    85\n",
              "36 1976-06-06   37.0  264.0  14.3    79\n",
              "37 1976-06-07   29.0  127.0   9.7    82\n",
              "38 1976-06-08   29.0  273.0   6.9    87\n",
              "39 1976-06-09   71.0  291.0  13.8    90"
            ]
          },
          "metadata": {
            "tags": []
          },
          "execution_count": 94
        }
      ]
    },
    {
      "cell_type": "code",
      "metadata": {
        "colab": {
          "base_uri": "https://localhost:8080/",
          "height": 355
        },
        "id": "AeMV3FPyspuP",
        "outputId": "26f89389-5123-44df-c82f-8fd41ef0fe71"
      },
      "source": [
        "linear_imputed = airquality.interpolate(method=\"linear\")\n",
        "\n",
        "linear_imputed[30:40]"
      ],
      "execution_count": null,
      "outputs": [
        {
          "output_type": "execute_result",
          "data": {
            "text/html": [
              "<div>\n",
              "<style scoped>\n",
              "    .dataframe tbody tr th:only-of-type {\n",
              "        vertical-align: middle;\n",
              "    }\n",
              "\n",
              "    .dataframe tbody tr th {\n",
              "        vertical-align: top;\n",
              "    }\n",
              "\n",
              "    .dataframe thead th {\n",
              "        text-align: right;\n",
              "    }\n",
              "</style>\n",
              "<table border=\"1\" class=\"dataframe\">\n",
              "  <thead>\n",
              "    <tr style=\"text-align: right;\">\n",
              "      <th></th>\n",
              "      <th>Date</th>\n",
              "      <th>Ozone</th>\n",
              "      <th>Solar</th>\n",
              "      <th>Wind</th>\n",
              "      <th>Temp</th>\n",
              "    </tr>\n",
              "  </thead>\n",
              "  <tbody>\n",
              "    <tr>\n",
              "      <th>30</th>\n",
              "      <td>1976-05-31</td>\n",
              "      <td>37.000000</td>\n",
              "      <td>279.0</td>\n",
              "      <td>7.4</td>\n",
              "      <td>76</td>\n",
              "    </tr>\n",
              "    <tr>\n",
              "      <th>31</th>\n",
              "      <td>1976-06-01</td>\n",
              "      <td>35.857143</td>\n",
              "      <td>286.0</td>\n",
              "      <td>8.6</td>\n",
              "      <td>78</td>\n",
              "    </tr>\n",
              "    <tr>\n",
              "      <th>32</th>\n",
              "      <td>1976-06-02</td>\n",
              "      <td>34.714286</td>\n",
              "      <td>287.0</td>\n",
              "      <td>9.7</td>\n",
              "      <td>74</td>\n",
              "    </tr>\n",
              "    <tr>\n",
              "      <th>33</th>\n",
              "      <td>1976-06-03</td>\n",
              "      <td>33.571429</td>\n",
              "      <td>242.0</td>\n",
              "      <td>16.1</td>\n",
              "      <td>67</td>\n",
              "    </tr>\n",
              "    <tr>\n",
              "      <th>34</th>\n",
              "      <td>1976-06-04</td>\n",
              "      <td>32.428571</td>\n",
              "      <td>186.0</td>\n",
              "      <td>9.2</td>\n",
              "      <td>84</td>\n",
              "    </tr>\n",
              "    <tr>\n",
              "      <th>35</th>\n",
              "      <td>1976-06-05</td>\n",
              "      <td>31.285714</td>\n",
              "      <td>220.0</td>\n",
              "      <td>8.6</td>\n",
              "      <td>85</td>\n",
              "    </tr>\n",
              "    <tr>\n",
              "      <th>36</th>\n",
              "      <td>1976-06-06</td>\n",
              "      <td>30.142857</td>\n",
              "      <td>264.0</td>\n",
              "      <td>14.3</td>\n",
              "      <td>79</td>\n",
              "    </tr>\n",
              "    <tr>\n",
              "      <th>37</th>\n",
              "      <td>1976-06-07</td>\n",
              "      <td>29.000000</td>\n",
              "      <td>127.0</td>\n",
              "      <td>9.7</td>\n",
              "      <td>82</td>\n",
              "    </tr>\n",
              "    <tr>\n",
              "      <th>38</th>\n",
              "      <td>1976-06-08</td>\n",
              "      <td>50.000000</td>\n",
              "      <td>273.0</td>\n",
              "      <td>6.9</td>\n",
              "      <td>87</td>\n",
              "    </tr>\n",
              "    <tr>\n",
              "      <th>39</th>\n",
              "      <td>1976-06-09</td>\n",
              "      <td>71.000000</td>\n",
              "      <td>291.0</td>\n",
              "      <td>13.8</td>\n",
              "      <td>90</td>\n",
              "    </tr>\n",
              "  </tbody>\n",
              "</table>\n",
              "</div>"
            ],
            "text/plain": [
              "         Date      Ozone  Solar  Wind  Temp\n",
              "30 1976-05-31  37.000000  279.0   7.4    76\n",
              "31 1976-06-01  35.857143  286.0   8.6    78\n",
              "32 1976-06-02  34.714286  287.0   9.7    74\n",
              "33 1976-06-03  33.571429  242.0  16.1    67\n",
              "34 1976-06-04  32.428571  186.0   9.2    84\n",
              "35 1976-06-05  31.285714  220.0   8.6    85\n",
              "36 1976-06-06  30.142857  264.0  14.3    79\n",
              "37 1976-06-07  29.000000  127.0   9.7    82\n",
              "38 1976-06-08  50.000000  273.0   6.9    87\n",
              "39 1976-06-09  71.000000  291.0  13.8    90"
            ]
          },
          "metadata": {
            "tags": []
          },
          "execution_count": 95
        }
      ]
    },
    {
      "cell_type": "code",
      "metadata": {
        "id": "C3RVN3akt6AG"
      },
      "source": [
        "linear_imputed.set_index(\"Date\", inplace=True)\n",
        "airquality.set_index(\"Date\", inplace=True)"
      ],
      "execution_count": null,
      "outputs": []
    },
    {
      "cell_type": "code",
      "metadata": {
        "colab": {
          "base_uri": "https://localhost:8080/",
          "height": 524
        },
        "id": "3nrdB8jOtIBg",
        "outputId": "8315a939-edc3-4379-efe4-44cf04c534d9"
      },
      "source": [
        "linear_imputed[\"Ozone\"].plot(color=\"red\", marker=\"o\", linestyle=\"dotted\", figsize=(10, 8))\n",
        "airquality[\"Ozone\"].plot(title=\"Ozone\", marker='o', figsize=(10, 8))\n",
        "plt.show()"
      ],
      "execution_count": null,
      "outputs": [
        {
          "output_type": "display_data",
          "data": {
            "image/png": "[encoded data removed]",
            "text/plain": [
              "<Figure size 720x576 with 1 Axes>"
            ]
          },
          "metadata": {
            "tags": [],
            "needs_background": "light"
          }
        }
      ]
    },
    {
      "cell_type": "code",
      "metadata": {
        "colab": {
          "base_uri": "https://localhost:8080/",
          "height": 446
        },
        "id": "u6n2U_o4tr3V",
        "outputId": "d25e54c8-0de1-4687-a22a-9ad2ba4cdfe2"
      },
      "source": [
        "airquality"
      ],
      "execution_count": null,
      "outputs": [
        {
          "output_type": "execute_result",
          "data": {
            "text/html": [
              "<div>\n",
              "<style scoped>\n",
              "    .dataframe tbody tr th:only-of-type {\n",
              "        vertical-align: middle;\n",
              "    }\n",
              "\n",
              "    .dataframe tbody tr th {\n",
              "        vertical-align: top;\n",
              "    }\n",
              "\n",
              "    .dataframe thead th {\n",
              "        text-align: right;\n",
              "    }\n",
              "</style>\n",
              "<table border=\"1\" class=\"dataframe\">\n",
              "  <thead>\n",
              "    <tr style=\"text-align: right;\">\n",
              "      <th></th>\n",
              "      <th>Ozone</th>\n",
              "      <th>Solar</th>\n",
              "      <th>Wind</th>\n",
              "      <th>Temp</th>\n",
              "    </tr>\n",
              "    <tr>\n",
              "      <th>Date</th>\n",
              "      <th></th>\n",
              "      <th></th>\n",
              "      <th></th>\n",
              "      <th></th>\n",
              "    </tr>\n",
              "  </thead>\n",
              "  <tbody>\n",
              "    <tr>\n",
              "      <th>1976-05-01</th>\n",
              "      <td>41.0</td>\n",
              "      <td>190.0</td>\n",
              "      <td>7.4</td>\n",
              "      <td>67</td>\n",
              "    </tr>\n",
              "    <tr>\n",
              "      <th>1976-05-02</th>\n",
              "      <td>36.0</td>\n",
              "      <td>118.0</td>\n",
              "      <td>8.0</td>\n",
              "      <td>72</td>\n",
              "    </tr>\n",
              "    <tr>\n",
              "      <th>1976-05-03</th>\n",
              "      <td>12.0</td>\n",
              "      <td>149.0</td>\n",
              "      <td>12.6</td>\n",
              "      <td>74</td>\n",
              "    </tr>\n",
              "    <tr>\n",
              "      <th>1976-05-04</th>\n",
              "      <td>18.0</td>\n",
              "      <td>313.0</td>\n",
              "      <td>11.5</td>\n",
              "      <td>62</td>\n",
              "    </tr>\n",
              "    <tr>\n",
              "      <th>1976-05-05</th>\n",
              "      <td>NaN</td>\n",
              "      <td>NaN</td>\n",
              "      <td>14.3</td>\n",
              "      <td>56</td>\n",
              "    </tr>\n",
              "    <tr>\n",
              "      <th>...</th>\n",
              "      <td>...</td>\n",
              "      <td>...</td>\n",
              "      <td>...</td>\n",
              "      <td>...</td>\n",
              "    </tr>\n",
              "    <tr>\n",
              "      <th>1976-09-26</th>\n",
              "      <td>30.0</td>\n",
              "      <td>193.0</td>\n",
              "      <td>6.9</td>\n",
              "      <td>70</td>\n",
              "    </tr>\n",
              "    <tr>\n",
              "      <th>1976-09-27</th>\n",
              "      <td>NaN</td>\n",
              "      <td>145.0</td>\n",
              "      <td>13.2</td>\n",
              "      <td>77</td>\n",
              "    </tr>\n",
              "    <tr>\n",
              "      <th>1976-09-28</th>\n",
              "      <td>14.0</td>\n",
              "      <td>191.0</td>\n",
              "      <td>14.3</td>\n",
              "      <td>75</td>\n",
              "    </tr>\n",
              "    <tr>\n",
              "      <th>1976-09-29</th>\n",
              "      <td>18.0</td>\n",
              "      <td>131.0</td>\n",
              "      <td>8.0</td>\n",
              "      <td>76</td>\n",
              "    </tr>\n",
              "    <tr>\n",
              "      <th>1976-09-30</th>\n",
              "      <td>20.0</td>\n",
              "      <td>223.0</td>\n",
              "      <td>11.5</td>\n",
              "      <td>68</td>\n",
              "    </tr>\n",
              "  </tbody>\n",
              "</table>\n",
              "<p>153 rows × 4 columns</p>\n",
              "</div>"
            ],
            "text/plain": [
              "            Ozone  Solar  Wind  Temp\n",
              "Date                                \n",
              "1976-05-01   41.0  190.0   7.4    67\n",
              "1976-05-02   36.0  118.0   8.0    72\n",
              "1976-05-03   12.0  149.0  12.6    74\n",
              "1976-05-04   18.0  313.0  11.5    62\n",
              "1976-05-05    NaN    NaN  14.3    56\n",
              "...           ...    ...   ...   ...\n",
              "1976-09-26   30.0  193.0   6.9    70\n",
              "1976-09-27    NaN  145.0  13.2    77\n",
              "1976-09-28   14.0  191.0  14.3    75\n",
              "1976-09-29   18.0  131.0   8.0    76\n",
              "1976-09-30   20.0  223.0  11.5    68\n",
              "\n",
              "[153 rows x 4 columns]"
            ]
          },
          "metadata": {
            "tags": []
          },
          "execution_count": 99
        }
      ]
    },
    {
      "cell_type": "code",
      "metadata": {
        "id": "n92GZBrcub7T"
      },
      "source": [
        ""
      ],
      "execution_count": null,
      "outputs": []
    }
  ]
}