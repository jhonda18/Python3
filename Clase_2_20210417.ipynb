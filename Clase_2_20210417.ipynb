{
  "nbformat": 4,
  "nbformat_minor": 0,
  "metadata": {
    "colab": {
      "name": "Clase_2-20210417.ipynb",
      "provenance": [],
      "include_colab_link": true
    },
    "kernelspec": {
      "name": "python3",
      "display_name": "Python 3"
    },
    "language_info": {
      "name": "python"
    }
  },
  "cells": [
    {
      "cell_type": "markdown",
      "metadata": {
        "id": "view-in-github",
        "colab_type": "text"
      },
      "source": [
        "<a href=\"https://colab.research.google.com/github/jhonda18/Python3/blob/main/Clase_2_20210417.ipynb\" target=\"_parent\"><img src=\"https://colab.research.google.com/assets/colab-badge.svg\" alt=\"Open In Colab\"/></a>"
      ]
    },
    {
      "cell_type": "markdown",
      "metadata": {
        "id": "7kFVYzin4Yxb"
      },
      "source": [
        "## Operadores de comparación\n",
        "\n",
        "Los operadores de comparación, comparan dos valores y devuelve un _booleano_ que representa la relación de sus valores. Existen operadores para comparar valores numéricos, operadores para comparar cadenas y operadores para comparar objetos.\n",
        "\n",
        "* `==` El valor de la primera expresión es igual al valor de la segunda.\n",
        "* `!=` El valor de la primera expresión no es igual al valor de la segunda.\n",
        "* `>` El valor de la primera expresión es mayor al valor de la segunda.\n",
        "* `<` El valor de la primera expresión es menos al valor de la segunda.\n",
        "* `>=` El valor de la primera expresión es mayor o igual al valor de la segunda.\n",
        "* `<=` El valor de la primera expresión es menor o igual al valor de la segunda."
      ]
    },
    {
      "cell_type": "code",
      "metadata": {
        "id": "e87tTfst4N_s",
        "colab": {
          "base_uri": "https://localhost:8080/"
        },
        "outputId": "504f812e-61ce-4b0b-d397-1e2c1fd8948a"
      },
      "source": [
        "True == 1"
      ],
      "execution_count": null,
      "outputs": [
        {
          "output_type": "execute_result",
          "data": {
            "text/plain": [
              "True"
            ]
          },
          "metadata": {
            "tags": []
          },
          "execution_count": 1
        }
      ]
    },
    {
      "cell_type": "code",
      "metadata": {
        "colab": {
          "base_uri": "https://localhost:8080/"
        },
        "id": "W3m3IsDQ979J",
        "outputId": "1d2c1439-feac-4c21-971a-48f0e2e6589b"
      },
      "source": [
        "True < False"
      ],
      "execution_count": null,
      "outputs": [
        {
          "output_type": "execute_result",
          "data": {
            "text/plain": [
              "False"
            ]
          },
          "metadata": {
            "tags": []
          },
          "execution_count": 2
        }
      ]
    },
    {
      "cell_type": "code",
      "metadata": {
        "colab": {
          "base_uri": "https://localhost:8080/"
        },
        "id": "UXtdsNyC-Exc",
        "outputId": "194922f2-4ece-4d32-d74b-e8c91c769411"
      },
      "source": [
        "5 <= 5"
      ],
      "execution_count": null,
      "outputs": [
        {
          "output_type": "execute_result",
          "data": {
            "text/plain": [
              "True"
            ]
          },
          "metadata": {
            "tags": []
          },
          "execution_count": 3
        }
      ]
    },
    {
      "cell_type": "code",
      "metadata": {
        "colab": {
          "base_uri": "https://localhost:8080/"
        },
        "id": "i8Nk72TG-LwG",
        "outputId": "97a7c44b-0729-461e-f4fe-a240d8a13183"
      },
      "source": [
        "\"España\" in [\"España\", \"Francia\"]"
      ],
      "execution_count": null,
      "outputs": [
        {
          "output_type": "execute_result",
          "data": {
            "text/plain": [
              "True"
            ]
          },
          "metadata": {
            "tags": []
          },
          "execution_count": 5
        }
      ]
    },
    {
      "cell_type": "markdown",
      "metadata": {
        "id": "LUsht34j4eFu"
      },
      "source": [
        "## Flujo de control\n",
        "\n",
        "La sentencia condicional `if` se usa para tomar decisiones, este evaluá básicamente una operación lógica, es decir una expresión que de como resultado `True` o `False`, y ejecuta la pieza de código siguiente siempre y cuando el resultado sea verdadero.\n",
        "\n",
        "La sintaxis es la siguiente:\n",
        "```\n",
        "if condicion:\n",
        "  aqui van las ordenes que se ejecutan si la condicion\n",
        "  es cierta\n",
        "```"
      ]
    },
    {
      "cell_type": "code",
      "metadata": {
        "id": "p3yCeNbE4fCu"
      },
      "source": [
        "x = -1\n",
        "\n",
        "if x > 0:\n",
        "  print(f\"El numero {x} es positivo\")"
      ],
      "execution_count": null,
      "outputs": []
    },
    {
      "cell_type": "markdown",
      "metadata": {
        "id": "C0jo0xzX4jly"
      },
      "source": [
        "En los flujos de control, no solo podemos usar el condicional `if`, sino que también podemos usar `elif` y `else`.\n",
        "\n",
        "La sintaxis ahora sería:\n",
        "```\n",
        "if condicion1:\n",
        "  bloque_1\n",
        "elif condicion2:\n",
        "  bloque_2\n",
        "else:\n",
        "  en caso contrario\n",
        "```"
      ]
    },
    {
      "cell_type": "code",
      "metadata": {
        "id": "UkrwSacWAdyD"
      },
      "source": [
        "x = 0"
      ],
      "execution_count": null,
      "outputs": []
    },
    {
      "cell_type": "code",
      "metadata": {
        "id": "-B--hjNR4kYq",
        "colab": {
          "base_uri": "https://localhost:8080/"
        },
        "outputId": "346b6c2b-20d5-49f4-de0a-2ac61ccec499"
      },
      "source": [
        "if x < 0:\n",
        "  print(f\"El numero {x} es negativo\")\n",
        "elif x > 0:\n",
        "  print(f\"El numero {x} es positivo\")\n",
        "else:\n",
        "  print(f\"El numero {x} es igual a cero\")"
      ],
      "execution_count": null,
      "outputs": [
        {
          "output_type": "stream",
          "text": [
            "El numero 0 es igual a cero\n"
          ],
          "name": "stdout"
        }
      ]
    },
    {
      "cell_type": "markdown",
      "metadata": {
        "id": "JqjrmchL4qL0"
      },
      "source": [
        "## Ciclos\n",
        "\n",
        "En Python podemos usar dos tipos de ciclos: `for` y `while`. Los ciclos se utilizan cuando es necesario ejecutar un bloque de instrucciones varias veces, hasta que, o mientras que, se cumpla una condición dada.\n",
        "\n",
        "Los ciclos `for` permiten ejecutar una o varias instrucciones de forma iterativa, una vez por cada elemento en la colección.\n",
        "\n",
        "Las colecciones pueden ser de varios tipos, el `for` puede recibir una colección predefinida o directamente de la salida de una función."
      ]
    },
    {
      "cell_type": "code",
      "metadata": {
        "id": "rbMgtI9U4rEN",
        "colab": {
          "base_uri": "https://localhost:8080/"
        },
        "outputId": "8bc4ed5d-7614-4ea8-ddd1-d08d9da31d73"
      },
      "source": [
        "word = \"Juan Sebastian\"\n",
        "\n",
        "for idx, caracter in enumerate(word):\n",
        "  print(f\"Para el indice {idx} el caracter es: {caracter}\")\n",
        "  print('-------------------------------------------------------- \\n')"
      ],
      "execution_count": null,
      "outputs": [
        {
          "output_type": "stream",
          "text": [
            "Para el indice 0 el caracter es: J\n",
            "-------------------------------------------------------- \n",
            "\n",
            "Para el indice 1 el caracter es: u\n",
            "-------------------------------------------------------- \n",
            "\n",
            "Para el indice 2 el caracter es: a\n",
            "-------------------------------------------------------- \n",
            "\n",
            "Para el indice 3 el caracter es: n\n",
            "-------------------------------------------------------- \n",
            "\n",
            "Para el indice 4 el caracter es:  \n",
            "-------------------------------------------------------- \n",
            "\n",
            "Para el indice 5 el caracter es: S\n",
            "-------------------------------------------------------- \n",
            "\n",
            "Para el indice 6 el caracter es: e\n",
            "-------------------------------------------------------- \n",
            "\n",
            "Para el indice 7 el caracter es: b\n",
            "-------------------------------------------------------- \n",
            "\n",
            "Para el indice 8 el caracter es: a\n",
            "-------------------------------------------------------- \n",
            "\n",
            "Para el indice 9 el caracter es: s\n",
            "-------------------------------------------------------- \n",
            "\n",
            "Para el indice 10 el caracter es: t\n",
            "-------------------------------------------------------- \n",
            "\n",
            "Para el indice 11 el caracter es: i\n",
            "-------------------------------------------------------- \n",
            "\n",
            "Para el indice 12 el caracter es: a\n",
            "-------------------------------------------------------- \n",
            "\n",
            "Para el indice 13 el caracter es: n\n",
            "-------------------------------------------------------- \n",
            "\n"
          ],
          "name": "stdout"
        }
      ]
    },
    {
      "cell_type": "code",
      "metadata": {
        "colab": {
          "base_uri": "https://localhost:8080/"
        },
        "id": "D5DZr6iAEK_h",
        "outputId": "8a7c4610-ec0e-4fe6-ea8d-475427f515e6"
      },
      "source": [
        "python_3_names = [\"Sun\", \"David\", \"Santiago\", \"Monica\"]\n",
        "\n",
        "for nombre in python_3_names:\n",
        "  if nombre[0] == \"S\":\n",
        "    print(nombre)\n",
        "  else:\n",
        "    print(f\"El nombre {nombre} no empieza por S\")\n",
        "\n"
      ],
      "execution_count": null,
      "outputs": [
        {
          "output_type": "stream",
          "text": [
            "Sun\n",
            "El nombre David no empieza por S\n",
            "Santiago\n",
            "El nombre Monica no empieza por S\n"
          ],
          "name": "stdout"
        }
      ]
    },
    {
      "cell_type": "code",
      "metadata": {
        "colab": {
          "base_uri": "https://localhost:8080/"
        },
        "id": "1vwUrlQsFSEn",
        "outputId": "bb96e3a1-f563-4741-d668-e266c4d89b82"
      },
      "source": [
        "names = [\"Sun\", \"David\", \"Santiago\", \"Monica\"]\n",
        "\n",
        "for name in names:\n",
        "  if name.startswith(\"S\"):\n",
        "    print(name)\n",
        "  else:\n",
        "    print(f\"El nombre {nombre} no empieza por S\")"
      ],
      "execution_count": null,
      "outputs": [
        {
          "output_type": "stream",
          "text": [
            "Sun\n",
            "El nombre Monica no empieza por S\n",
            "Santiago\n",
            "El nombre Monica no empieza por S\n"
          ],
          "name": "stdout"
        }
      ]
    },
    {
      "cell_type": "markdown",
      "metadata": {
        "id": "93fQZ5yW4wuZ"
      },
      "source": [
        "El ciclo `while` permite ejecutar un bloque de instrucciones mientras se cumpla la condición dada. Primero comprueba que en efecto se cumple la condición dada y entonces, ejecuta el segmento de código correspondiente hasta que la condición no se cumpla."
      ]
    },
    {
      "cell_type": "code",
      "metadata": {
        "id": "YE91hw_j4xpr",
        "colab": {
          "base_uri": "https://localhost:8080/"
        },
        "outputId": "2d36f642-002e-4ef1-9a4f-f7b3919ecb4e"
      },
      "source": [
        "x = 0\n",
        "\n",
        "while x <= 18:\n",
        "  print(x)\n",
        "  x = x + 1"
      ],
      "execution_count": null,
      "outputs": [
        {
          "output_type": "stream",
          "text": [
            "0\n",
            "1\n",
            "2\n",
            "3\n",
            "4\n",
            "5\n",
            "6\n",
            "7\n",
            "8\n",
            "9\n",
            "10\n",
            "11\n",
            "12\n",
            "13\n",
            "14\n",
            "15\n",
            "16\n",
            "17\n",
            "18\n"
          ],
          "name": "stdout"
        }
      ]
    },
    {
      "cell_type": "code",
      "metadata": {
        "colab": {
          "base_uri": "https://localhost:8080/"
        },
        "id": "h2Iy88fJGthC",
        "outputId": "0d8ad3b1-67b6-47b6-f2b6-948ac0b30801"
      },
      "source": [
        "x = 100\n",
        "\n",
        "while x > 0:\n",
        "  print(x)\n",
        "  x = x + 2\n",
        "  if x == 200:\n",
        "    print(x)\n",
        "    break"
      ],
      "execution_count": null,
      "outputs": [
        {
          "output_type": "stream",
          "text": [
            "100\n",
            "102\n",
            "104\n",
            "106\n",
            "108\n",
            "110\n",
            "112\n",
            "114\n",
            "116\n",
            "118\n",
            "120\n",
            "122\n",
            "124\n",
            "126\n",
            "128\n",
            "130\n",
            "132\n",
            "134\n",
            "136\n",
            "138\n",
            "140\n",
            "142\n",
            "144\n",
            "146\n",
            "148\n",
            "150\n",
            "152\n",
            "154\n",
            "156\n",
            "158\n",
            "160\n",
            "162\n",
            "164\n",
            "166\n",
            "168\n",
            "170\n",
            "172\n",
            "174\n",
            "176\n",
            "178\n",
            "180\n",
            "182\n",
            "184\n",
            "186\n",
            "188\n",
            "190\n",
            "192\n",
            "194\n",
            "196\n",
            "198\n",
            "200\n"
          ],
          "name": "stdout"
        }
      ]
    },
    {
      "cell_type": "markdown",
      "metadata": {
        "id": "WsJjgr5k42Sr"
      },
      "source": [
        "## List comprehension\n",
        "\n",
        "Ofrece una sintaxis más corta cuando desea crear una nueva lista basada en los valores de una lista existente.\n",
        "\n",
        "La sintaxis es:\n",
        "\n",
        " `[expression for item in iterable if condition == True]`\n",
        "\n",
        "#### Ejemplo\n",
        "\n",
        "Tenemos la siguiente lista:\n",
        "```\n",
        "fruits = [\"apple\", \"banana\", \"cherry\", \"kiwi\", \"mango\"]\n",
        "```"
      ]
    },
    {
      "cell_type": "code",
      "metadata": {
        "id": "Z7DfuIiC43EE"
      },
      "source": [
        "fruits = [\"apple\", \"banana\", \"cherry\", \"kiwi\", \"mango\"]"
      ],
      "execution_count": null,
      "outputs": []
    },
    {
      "cell_type": "code",
      "metadata": {
        "colab": {
          "base_uri": "https://localhost:8080/"
        },
        "id": "4vn0IAG-IN4Y",
        "outputId": "db5e5558-2bbc-4e9d-e695-d869c61bc54e"
      },
      "source": [
        "fruits_a = []\n",
        "\n",
        "for fruit in fruits:\n",
        "  if fruit.startswith(\"a\"):\n",
        "    fruits_a.append(fruit)\n",
        "  else:\n",
        "    continue\n",
        "\n",
        "fruits_a"
      ],
      "execution_count": null,
      "outputs": [
        {
          "output_type": "execute_result",
          "data": {
            "text/plain": [
              "['apple']"
            ]
          },
          "metadata": {
            "tags": []
          },
          "execution_count": 25
        }
      ]
    },
    {
      "cell_type": "code",
      "metadata": {
        "colab": {
          "base_uri": "https://localhost:8080/"
        },
        "id": "b9yqY0xjKKa2",
        "outputId": "774b5b62-9d7c-4110-99a4-1f3e0177675b"
      },
      "source": [
        "names"
      ],
      "execution_count": null,
      "outputs": [
        {
          "output_type": "execute_result",
          "data": {
            "text/plain": [
              "['Sun', 'David', 'Santiago', 'Monica']"
            ]
          },
          "metadata": {
            "tags": []
          },
          "execution_count": 29
        }
      ]
    },
    {
      "cell_type": "code",
      "metadata": {
        "colab": {
          "base_uri": "https://localhost:8080/"
        },
        "id": "cannjmG8IyuP",
        "outputId": "2c9c86a2-5c93-435f-9e75-5b5bcb12dea5"
      },
      "source": [
        "names_s = []\n",
        "\n",
        "for name in names:\n",
        "  if name.startswith(\"S\"):\n",
        "    names_s.append(name)\n",
        "  else:\n",
        "    continue\n",
        "\n",
        "names_s"
      ],
      "execution_count": null,
      "outputs": [
        {
          "output_type": "execute_result",
          "data": {
            "text/plain": [
              "['Sun', 'Santiago']"
            ]
          },
          "metadata": {
            "tags": []
          },
          "execution_count": 26
        }
      ]
    },
    {
      "cell_type": "code",
      "metadata": {
        "colab": {
          "base_uri": "https://localhost:8080/"
        },
        "id": "rF_AetIFI20G",
        "outputId": "7adf81a0-7f3b-4567-d860-a77ddeb93c7d"
      },
      "source": [
        "[name for name in names if name[0] != \"S\"]"
      ],
      "execution_count": null,
      "outputs": [
        {
          "output_type": "execute_result",
          "data": {
            "text/plain": [
              "['David', 'Monica']"
            ]
          },
          "metadata": {
            "tags": []
          },
          "execution_count": 30
        }
      ]
    },
    {
      "cell_type": "code",
      "metadata": {
        "colab": {
          "base_uri": "https://localhost:8080/"
        },
        "id": "M_UiEoTcLMqz",
        "outputId": "334a6083-c62c-43a2-a261-484f7417e701"
      },
      "source": [
        "# Dict comprehension\n",
        "\n",
        "{i: i for i in range(10)}"
      ],
      "execution_count": null,
      "outputs": [
        {
          "output_type": "execute_result",
          "data": {
            "text/plain": [
              "{0: 0, 1: 1, 2: 2, 3: 3, 4: 4, 5: 5, 6: 6, 7: 7, 8: 8, 9: 9}"
            ]
          },
          "metadata": {
            "tags": []
          },
          "execution_count": 31
        }
      ]
    },
    {
      "cell_type": "markdown",
      "metadata": {
        "id": "ZEdOxGqq4-SY"
      },
      "source": [
        "## Funciones\n",
        "\n",
        "Una función es un bloque de código reutilizable con un nombre asociado. Las funciones reciben cero o más argumentos como entrada, y devuelve un valor y/o realiza una acción.\n",
        "\n",
        "El uso de funciones es un componente muy importante, y tiene varias ventajas:\n",
        "\n",
        "* **modularización**: permite segmentar un programa complejo en una serie de partes o módulos más simples, facilitando así la programación y el depurado.\n",
        "\n",
        "* **reutilización**: permite reutilizar una misma función en distintos programas.\n",
        "\n",
        "### Sentencia **def**\n",
        "\n",
        "La sentencia **_def_** es una definición de función usada para crear objetos **funciones definidas por el usuario**.\n",
        "\n",
        "La sintaxis es:\n",
        "\n",
        "```\n",
        "def nombre_funcion(parametros):\n",
        "  sentencia\n",
        "  return valor\n",
        "```\n",
        "\n",
        "### Argumentos y parámetros\n",
        "\n",
        "Al definir una función los valores los cuales recibe se denominan parámetros, pero durante el envío se denominan argumentos.\n",
        "\n",
        "#### Por posición\n",
        "\n",
        "Cuando enviamos argumentos a una función, estos se reciben por orden en los parámetros definidos.\n",
        "\n",
        "#### Por nombre\n",
        "\n",
        "Es posible evadir el orden de los parámetros si indica durante la llamada que valor tiene cada parámetro a partir de su nombre"
      ]
    },
    {
      "cell_type": "code",
      "metadata": {
        "id": "JW-qzkGY4_CD",
        "colab": {
          "base_uri": "https://localhost:8080/"
        },
        "outputId": "1b550818-0420-46b6-e070-f8a791ff93e0"
      },
      "source": [
        "fruits"
      ],
      "execution_count": null,
      "outputs": [
        {
          "output_type": "execute_result",
          "data": {
            "text/plain": [
              "['apple', 'banana', 'cherry', 'kiwi', 'mango']"
            ]
          },
          "metadata": {
            "tags": []
          },
          "execution_count": 32
        }
      ]
    },
    {
      "cell_type": "code",
      "metadata": {
        "colab": {
          "base_uri": "https://localhost:8080/"
        },
        "id": "STVhcADVSO9r",
        "outputId": "e2ac469e-4bfa-4760-fa36-cba34312f2c1"
      },
      "source": [
        "n = int(len(fruits)/2)\n",
        "\n",
        "fruits[:n + 1]"
      ],
      "execution_count": null,
      "outputs": [
        {
          "output_type": "execute_result",
          "data": {
            "text/plain": [
              "['apple', 'banana', 'cherry']"
            ]
          },
          "metadata": {
            "tags": []
          },
          "execution_count": 37
        }
      ]
    },
    {
      "cell_type": "code",
      "metadata": {
        "colab": {
          "base_uri": "https://localhost:8080/"
        },
        "id": "jKVzBsiMWIrc",
        "outputId": "ffbe6996-d1e6-4faf-e362-c1a76b147336"
      },
      "source": [
        "n"
      ],
      "execution_count": null,
      "outputs": [
        {
          "output_type": "execute_result",
          "data": {
            "text/plain": [
              "2"
            ]
          },
          "metadata": {
            "tags": []
          },
          "execution_count": 52
        }
      ]
    },
    {
      "cell_type": "code",
      "metadata": {
        "id": "Zho4KvfvTPsN"
      },
      "source": [
        "def extract_list(my_list):\n",
        "  n = int(len(my_list)/2)\n",
        "  new_list = my_list[:n + 1]\n",
        "  return new_list"
      ],
      "execution_count": null,
      "outputs": []
    },
    {
      "cell_type": "code",
      "metadata": {
        "colab": {
          "base_uri": "https://localhost:8080/"
        },
        "id": "W7Z4J92sTuaB",
        "outputId": "a0cff019-1acc-46e9-ff3a-1f5b05e084ca"
      },
      "source": [
        "# Pasando una lista por nombre\n",
        "\n",
        "extract_list(my_list=fruits)"
      ],
      "execution_count": null,
      "outputs": [
        {
          "output_type": "execute_result",
          "data": {
            "text/plain": [
              "['apple', 'banana', 'cherry']"
            ]
          },
          "metadata": {
            "tags": []
          },
          "execution_count": 41
        }
      ]
    },
    {
      "cell_type": "code",
      "metadata": {
        "colab": {
          "base_uri": "https://localhost:8080/"
        },
        "id": "Fgb4leQ2UDvl",
        "outputId": "76ba9c9e-1bbb-46e9-8e25-cd4f112061d5"
      },
      "source": [
        "# Pasando una lista por posicion\n",
        "\n",
        "extract_list(fruits)"
      ],
      "execution_count": null,
      "outputs": [
        {
          "output_type": "execute_result",
          "data": {
            "text/plain": [
              "['apple', 'banana', 'cherry']"
            ]
          },
          "metadata": {
            "tags": []
          },
          "execution_count": 42
        }
      ]
    },
    {
      "cell_type": "code",
      "metadata": {
        "id": "ylD2GtLJUoBI"
      },
      "source": [
        "def extract_list(my_list: list, idx: int = 2) -> list:\n",
        "  new_list = my_list[:idx + 1]\n",
        "  return new_list"
      ],
      "execution_count": null,
      "outputs": []
    },
    {
      "cell_type": "code",
      "metadata": {
        "colab": {
          "base_uri": "https://localhost:8080/"
        },
        "id": "KYR4cbJEVRS7",
        "outputId": "3b9fdf8f-1f8b-4117-eaec-c45e0f595f64"
      },
      "source": [
        "extract_list(my_list=fruits, idx=1)"
      ],
      "execution_count": null,
      "outputs": [
        {
          "output_type": "execute_result",
          "data": {
            "text/plain": [
              "['apple', 'banana']"
            ]
          },
          "metadata": {
            "tags": []
          },
          "execution_count": 58
        }
      ]
    },
    {
      "cell_type": "markdown",
      "metadata": {
        "id": "CX8_7L8t5FOv"
      },
      "source": [
        "## Módulos\n",
        "\n",
        "Un archivo que contiene código Python se conoce como **_módulo_**. Un módulo Python se puede importar en otro módulo Python y/o en un Notebook. Para ello se utiliza la sentencia `import` con el nombre del módulo (exceptuando la extensión). Luego, siempre tendremos que llamar a la función que está dentro de ese módulo anteponiendo el nombre del módulo."
      ]
    },
    {
      "cell_type": "code",
      "metadata": {
        "colab": {
          "base_uri": "https://localhost:8080/"
        },
        "id": "JCE07RO5XPy0",
        "outputId": "216e3f81-559d-463b-9ba2-4727322fc608"
      },
      "source": [
        "%%writefile utils.py\n",
        "\n",
        "def extract_list(my_list: list, idx: int = 2):\n",
        "  new_list = my_list[:idx + 1]\n",
        "  return new_list"
      ],
      "execution_count": null,
      "outputs": [
        {
          "output_type": "stream",
          "text": [
            "Writing utils.py\n"
          ],
          "name": "stdout"
        }
      ]
    },
    {
      "cell_type": "markdown",
      "metadata": {
        "id": "73b-R9yC5KK1"
      },
      "source": [
        "### Importar selectivamente\n",
        "\n",
        "Se puede importar selectivamente utilizando la sintaxis `from`:\n",
        "\n",
        "```\n",
        "from modulo import funcionX\n",
        "```\n",
        "\n",
        "De esta manera sólo importamos `funcionX` a nuestro espacio de nombres y no tenemos acceso al resto."
      ]
    },
    {
      "cell_type": "code",
      "metadata": {
        "id": "MhTzTGKw5K2M"
      },
      "source": [
        "from utilities.utils import extract_list"
      ],
      "execution_count": null,
      "outputs": []
    },
    {
      "cell_type": "code",
      "metadata": {
        "colab": {
          "base_uri": "https://localhost:8080/"
        },
        "id": "wb4PcUPVY2j_",
        "outputId": "8ad81041-68f9-48e5-fab1-9a532a2a9603"
      },
      "source": [
        "names = [\"Lizeth\", \"Carlos\", \"Paulina\", \"Duvan\", \"David\", \"Juan\"]\n",
        "names"
      ],
      "execution_count": null,
      "outputs": [
        {
          "output_type": "execute_result",
          "data": {
            "text/plain": [
              "['Lizeth', 'Carlos', 'Paulina', 'Duvan', 'David', 'Juan']"
            ]
          },
          "metadata": {
            "tags": []
          },
          "execution_count": 6
        }
      ]
    },
    {
      "cell_type": "code",
      "metadata": {
        "colab": {
          "base_uri": "https://localhost:8080/"
        },
        "id": "PRSs6tlGZHUj",
        "outputId": "a871248a-ccc0-46ce-a60b-cf6f7f1d9176"
      },
      "source": [
        "n = len(names) - 2\n",
        "\n",
        "extract_list(my_list=names, idx=n)"
      ],
      "execution_count": null,
      "outputs": [
        {
          "output_type": "execute_result",
          "data": {
            "text/plain": [
              "['Lizeth', 'Carlos', 'Paulina', 'Duvan', 'David']"
            ]
          },
          "metadata": {
            "tags": []
          },
          "execution_count": 10
        }
      ]
    },
    {
      "cell_type": "code",
      "metadata": {
        "id": "rn3Ga6H7aF0D"
      },
      "source": [
        "import utilities.utils as utils"
      ],
      "execution_count": null,
      "outputs": []
    },
    {
      "cell_type": "code",
      "metadata": {
        "id": "yLawgGtsalNY"
      },
      "source": [
        "!mkdir utilities"
      ],
      "execution_count": null,
      "outputs": []
    },
    {
      "cell_type": "code",
      "metadata": {
        "colab": {
          "base_uri": "https://localhost:8080/"
        },
        "id": "nODOoe6BaLEB",
        "outputId": "e6f99873-ac04-41df-d679-f53bb3e36084"
      },
      "source": [
        "utils.extract_list(my_list=names, idx=n)"
      ],
      "execution_count": null,
      "outputs": [
        {
          "output_type": "execute_result",
          "data": {
            "text/plain": [
              "['Lizeth', 'Carlos', 'Paulina', 'Duvan', 'David']"
            ]
          },
          "metadata": {
            "tags": []
          },
          "execution_count": 8
        }
      ]
    },
    {
      "cell_type": "markdown",
      "metadata": {
        "id": "okrbD-Mc7Bi0"
      },
      "source": [
        "## Programación orientada a objetos\n",
        "\n",
        "La POO es un paradigma de programación. Se basa en interacciones de objetos para resolver las necesidades de un sistema informático.\n",
        "\n",
        "### Elementos de la POO\n",
        "\n",
        "Los elementos de la POO, son simplemente los materiales que necesitamos para diseñar un objeto\n",
        "\n",
        "#### Clases\n",
        "\n",
        "Las clases son los modelos sobre los cuáles se construirán nuestros objetos. Piense en una clase simplemente como una plantilla para crear objetos en Python."
      ]
    },
    {
      "cell_type": "code",
      "metadata": {
        "id": "-O9vf0bo8OSD"
      },
      "source": [
        "class CamelCase:\n",
        "  pass"
      ],
      "execution_count": null,
      "outputs": []
    },
    {
      "cell_type": "markdown",
      "metadata": {
        "id": "55b37dpC8PvI"
      },
      "source": [
        "#### Atributos\n",
        "\n",
        "Son características intrínsecas del objeto. Estás se representan en modo de variables, solo que técnicamente pasan a denominarse atributos."
      ]
    },
    {
      "cell_type": "code",
      "metadata": {
        "id": "x7QcMqTh8dsO"
      },
      "source": [
        "class Persona:\n",
        "  def __init__(self, nombre: str, altura: int, edad: int, peso: float):\n",
        "    self.nombre = nombre\n",
        "    self.altura = altura\n",
        "    self.edad = edad\n",
        "    self.peso = peso\n",
        "    self.posicion_inicial = 0\n",
        "  \n",
        "  def correr(self, pasos: int):\n",
        "      self.posicion_final = pasos\n",
        "      return self\n",
        "\n"
      ],
      "execution_count": null,
      "outputs": []
    },
    {
      "cell_type": "code",
      "metadata": {
        "id": "bXI9ve1EeFZf"
      },
      "source": [
        "stiven = Persona(nombre=\"Stiven\", altura=169, edad=27, peso=67)"
      ],
      "execution_count": null,
      "outputs": []
    },
    {
      "cell_type": "code",
      "metadata": {
        "colab": {
          "base_uri": "https://localhost:8080/",
          "height": 35
        },
        "id": "DEyzdWLJeRXl",
        "outputId": "db510aa4-1d2f-4e2b-ac68-cff905074421"
      },
      "source": [
        "stiven.nombre"
      ],
      "execution_count": null,
      "outputs": [
        {
          "output_type": "execute_result",
          "data": {
            "application/vnd.google.colaboratory.intrinsic+json": {
              "type": "string"
            },
            "text/plain": [
              "'Stiven'"
            ]
          },
          "metadata": {
            "tags": []
          },
          "execution_count": 38
        }
      ]
    },
    {
      "cell_type": "code",
      "metadata": {
        "id": "UY2MZXgGfkTq"
      },
      "source": [
        "# stiven.set_name(nombre=\"Stiven\")"
      ],
      "execution_count": null,
      "outputs": []
    },
    {
      "cell_type": "markdown",
      "metadata": {
        "id": "to3OWGlm8hDv"
      },
      "source": [
        "#### Métodos\n",
        "\n",
        "Los métodos son funciones, solo que técnicamente se denominan métodos, y representan acciones propias que puede realizar el objeto."
      ]
    },
    {
      "cell_type": "code",
      "metadata": {
        "colab": {
          "base_uri": "https://localhost:8080/"
        },
        "id": "SJY0XxSLfos0",
        "outputId": "0086d463-c730-41b2-c305-5e838ef74f0e"
      },
      "source": [
        "stiven.correr(pasos=5)"
      ],
      "execution_count": null,
      "outputs": [
        {
          "output_type": "execute_result",
          "data": {
            "text/plain": [
              "<__main__.Persona at 0x7f1b8edb1410>"
            ]
          },
          "metadata": {
            "tags": []
          },
          "execution_count": 40
        }
      ]
    },
    {
      "cell_type": "code",
      "metadata": {
        "colab": {
          "base_uri": "https://localhost:8080/"
        },
        "id": "1ka88rn9hMal",
        "outputId": "7770b7bf-04d5-4fcc-c327-48f243ecb7ce"
      },
      "source": [
        "print(f\"Stiven estaba en {stiven.posicion_inicial} y termino en {stiven.posicion_final} despues de correr\")"
      ],
      "execution_count": null,
      "outputs": [
        {
          "output_type": "stream",
          "text": [
            "Stiven estaba en 0 y termino en 5 despues de correr\n"
          ],
          "name": "stdout"
        }
      ]
    },
    {
      "cell_type": "markdown",
      "metadata": {
        "id": "IOPExAKD828J"
      },
      "source": [
        "#### Herencia\n",
        "\n",
        "Algunos objetos comparten los mismos atributos y métodos que otro objeto, y además agregan nuevos atributos y métodos. A esto se le denomina herencia: una clase que hereda de otra."
      ]
    },
    {
      "cell_type": "code",
      "metadata": {
        "id": "jIQd5QFj9Mr-"
      },
      "source": [
        "class Estudiante(Persona):\n",
        "  def __init__(self, nombre: str, altura: int, edad: int, peso: float):\n",
        "    Persona.__init__(self, nombre, altura, edad, peso)\n",
        "    self.rol = \"Estudiante\"\n",
        "\n",
        "  def estudiar(self, asignatura: str):\n",
        "    texto = f\"Voy a estudiar {asignatura}\"\n",
        "    return texto"
      ],
      "execution_count": null,
      "outputs": []
    },
    {
      "cell_type": "code",
      "metadata": {
        "id": "CdVAmUmQEJPq"
      },
      "source": [
        "juan = Estudiante(nombre=\"Juan Felipe\", altura=178, edad=23, peso=70)"
      ],
      "execution_count": null,
      "outputs": []
    },
    {
      "cell_type": "code",
      "metadata": {
        "colab": {
          "base_uri": "https://localhost:8080/",
          "height": 35
        },
        "id": "rWhO77kSjCib",
        "outputId": "ded44a85-35fe-4f45-f3bf-46a6820d733a"
      },
      "source": [
        "juan.rol"
      ],
      "execution_count": null,
      "outputs": [
        {
          "output_type": "execute_result",
          "data": {
            "application/vnd.google.colaboratory.intrinsic+json": {
              "type": "string"
            },
            "text/plain": [
              "'Estudiante'"
            ]
          },
          "metadata": {
            "tags": []
          },
          "execution_count": 45
        }
      ]
    },
    {
      "cell_type": "code",
      "metadata": {
        "colab": {
          "base_uri": "https://localhost:8080/",
          "height": 166
        },
        "id": "sqtDqj-2jFOI",
        "outputId": "6689f0a1-2d93-4871-9507-a292eea0b18e"
      },
      "source": [
        "stiven.rol"
      ],
      "execution_count": null,
      "outputs": [
        {
          "output_type": "error",
          "ename": "AttributeError",
          "evalue": "ignored",
          "traceback": [
            "\u001b[0;31m---------------------------------------------------------------------------\u001b[0m",
            "\u001b[0;31mAttributeError\u001b[0m                            Traceback (most recent call last)",
            "\u001b[0;32m<ipython-input-46-852c47d71f2f>\u001b[0m in \u001b[0;36m<module>\u001b[0;34m()\u001b[0m\n\u001b[0;32m----> 1\u001b[0;31m \u001b[0mstiven\u001b[0m\u001b[0;34m.\u001b[0m\u001b[0mrol\u001b[0m\u001b[0;34m\u001b[0m\u001b[0;34m\u001b[0m\u001b[0m\n\u001b[0m",
            "\u001b[0;31mAttributeError\u001b[0m: 'Persona' object has no attribute 'rol'"
          ]
        }
      ]
    },
    {
      "cell_type": "code",
      "metadata": {
        "colab": {
          "base_uri": "https://localhost:8080/",
          "height": 35
        },
        "id": "Lm5Z8JywjHra",
        "outputId": "8b0b2755-9d54-4d10-9f9c-f314c3b7f466"
      },
      "source": [
        "juan.estudiar(asignatura=\"Macroeconomia\")"
      ],
      "execution_count": null,
      "outputs": [
        {
          "output_type": "execute_result",
          "data": {
            "application/vnd.google.colaboratory.intrinsic+json": {
              "type": "string"
            },
            "text/plain": [
              "'Voy a estudiar Macroeconomia'"
            ]
          },
          "metadata": {
            "tags": []
          },
          "execution_count": 47
        }
      ]
    },
    {
      "cell_type": "code",
      "metadata": {
        "id": "JfApJ5ybjZSV"
      },
      "source": [
        ""
      ],
      "execution_count": null,
      "outputs": []
    }
  ]
}