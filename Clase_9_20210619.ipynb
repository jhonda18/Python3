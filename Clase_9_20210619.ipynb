{
  "nbformat": 4,
  "nbformat_minor": 0,
  "metadata": {
    "colab": {
      "name": "Clase_9-20210619.ipynb",
      "provenance": [],
      "include_colab_link": true
    },
    "kernelspec": {
      "name": "python3",
      "display_name": "Python 3"
    },
    "language_info": {
      "name": "python"
    }
  },
  "cells": [
    {
      "cell_type": "markdown",
      "metadata": {
        "id": "view-in-github",
        "colab_type": "text"
      },
      "source": [
        "<a href=\"https://colab.research.google.com/github/jhonda18/Python3/blob/main/Clase_9_20210619.ipynb\" target=\"_parent\"><img src=\"https://colab.research.google.com/assets/colab-badge.svg\" alt=\"Open In Colab\"/></a>"
      ]
    },
    {
      "cell_type": "markdown",
      "metadata": {
        "id": "VK7sf8T-X4nn"
      },
      "source": [
        "# Introducción al Machine Learning\n",
        "\n",
        "En los últimos años, el aprendizaje automático se ha dado a conocer por sus grandes logros, un ejemplo de esto, es el tan conocido clasificador de *Spam*. Aunque el aprendizaje automático ha cogido mucha fuerza en los últimos años, muchos de los algoritmos ya existían desde hace mucho tiempo.\n",
        "\n",
        "Algo muy común es creer que el aprendizaje automático es Inteligencia Artificial, si bien es una rama de la inteligencia artificial, y existe una retroalimentación constante entre ML e IA, no todas las aplicaciones de ML terminan en IA.\n",
        "\n",
        "**¿Que es Machine Learning?**\n",
        "\n",
        "El Machine Learning es la ciencia (y el arte) de programar ordenadores para que aprendan a partir de los datos. Algunas definiciones:\n",
        "\n",
        "* El ML es el campo de estudio que da a los ordenadores la capacidad de aprender sin ser programados de manera explícita. (**Arthur Samuel, 1959**)\n",
        "* Se dice que un programa de ordenador aprende de la experiencia **E**, con respecto a una tarea **T** y una medida de rendimiento **R**, si su rendimiento en **T**, medido por **R**, mejora con la experiencia **E**. (**Tom Mitchell, 1997**)\n",
        "\n",
        "## Tipos de aprendizaje\n",
        "\n",
        "* Aprendizaje supervisado\n",
        "    * Clasificación.\n",
        "        * Clasificación binaria.\n",
        "        * Clasificación multiclase.\n",
        "    * Regresión.\n",
        "\n",
        "* Aprendizaje no supervisado.\n",
        "    * Clustering.\n",
        "    * Reducción de la dimensionalidad.\n",
        "    * Detección de anomalías.\n",
        "\n",
        "* Aprendizaje semi-supervisado\n",
        "* Aprendizaje por refuerzo\n",
        "\n",
        "### Aprendizaje supervisado\n",
        "\n",
        "Los algoritmos de aprendizaje supervisado están diseñados para aprender mediante ejemplos con sus respectivas respuestas. Contamos con datos de entrada, en general de forma estructurada, es decir, tenemos muchas observaciones con columnas (variables) y dentro de esos datos, existe una variable que queremos predecir. Por ejemplo, dadas ciertas características de mediciones queremos predecir si una persona tiene diabetes o no.\n",
        "\n",
        "El flujo sel aprendizaje supervisado es así:\n",
        "\n",
        "* Tomamos nuestros datos y separamos en variables independientes (predictoras) ***X***, y en una variable ***y*** que queremos predecir (variable dependiente).\n",
        "* Mostramos pares *(x, y)* a un algoritmo preparado para aprender de nuestros datos, de forma tal que crea un conjunto de reglas o asociaciones para, dada una entrada ***x***, predecir ***y***.\n",
        "* Cuando el modelo está entranado, queremos que el modelo haga una predicción sobre datos no observados.\n",
        "\n",
        "Cuando nuestra variable de interés es una categoría, significa que tenemos un problema de **clasificación**. Si nuestra variable de interés es una variable numérica continua, tenemos un problema de **regresión**.\n",
        "\n",
        "#### Regresión\n",
        "\n",
        "Wikipedia define el análisis de regresión como:\n",
        "\n",
        "En estadística, el análisis de regresión es un proceso estadístico para estimar las relaciones entre variables. Incluye muchas técnicas para el modelado y análisis de diversas variables, cuando la atención se centra en la relación entre una variable dependiente y una o más variables independientes (o predictoras)."
      ]
    },
    {
      "cell_type": "code",
      "metadata": {
        "id": "Ap6WJkgcXtRQ"
      },
      "source": [
        "import joblib\n",
        "import warnings\n",
        "import numpy as np\n",
        "import pandas as pd\n",
        "import seaborn as sns\n",
        "import matplotlib.pyplot as plt\n",
        "from sklearn.impute import SimpleImputer\n",
        "from sklearn.linear_model import LinearRegression\n",
        "from sklearn.neighbors import KNeighborsRegressor\n",
        "from sklearn.preprocessing import StandardScaler, OneHotEncoder\n",
        "from sklearn.metrics import mean_squared_error, mean_absolute_error\n",
        "from sklearn.model_selection import train_test_split, GridSearchCV, RandomizedSearchCV\n",
        "\n",
        "pd.set_option(\"float_format\", \"{:.2f}\".format)\n",
        "warnings.filterwarnings(action=\"ignore\")"
      ],
      "execution_count": null,
      "outputs": []
    },
    {
      "cell_type": "code",
      "metadata": {
        "colab": {
          "base_uri": "https://localhost:8080/",
          "height": 206
        },
        "id": "Qm6GFukjZd2D",
        "outputId": "eea6b6d2-a330-4106-d042-c263b939a853"
      },
      "source": [
        "auto = pd.read_csv(\"https://raw.githubusercontent.com/stivenlopezg/Modulo-Python-3/master/data/mpg.csv\", dtype={\"model_year\": \"category\"})\n",
        "auto.head()"
      ],
      "execution_count": null,
      "outputs": [
        {
          "output_type": "execute_result",
          "data": {
            "text/html": [
              "<div>\n",
              "<style scoped>\n",
              "    .dataframe tbody tr th:only-of-type {\n",
              "        vertical-align: middle;\n",
              "    }\n",
              "\n",
              "    .dataframe tbody tr th {\n",
              "        vertical-align: top;\n",
              "    }\n",
              "\n",
              "    .dataframe thead th {\n",
              "        text-align: right;\n",
              "    }\n",
              "</style>\n",
              "<table border=\"1\" class=\"dataframe\">\n",
              "  <thead>\n",
              "    <tr style=\"text-align: right;\">\n",
              "      <th></th>\n",
              "      <th>mpg</th>\n",
              "      <th>cylinders</th>\n",
              "      <th>displacement</th>\n",
              "      <th>horsepower</th>\n",
              "      <th>weight</th>\n",
              "      <th>acceleration</th>\n",
              "      <th>model_year</th>\n",
              "      <th>origin</th>\n",
              "      <th>name</th>\n",
              "    </tr>\n",
              "  </thead>\n",
              "  <tbody>\n",
              "    <tr>\n",
              "      <th>0</th>\n",
              "      <td>18.00</td>\n",
              "      <td>8</td>\n",
              "      <td>307.00</td>\n",
              "      <td>130.00</td>\n",
              "      <td>3504</td>\n",
              "      <td>12.00</td>\n",
              "      <td>70</td>\n",
              "      <td>usa</td>\n",
              "      <td>chevrolet chevelle malibu</td>\n",
              "    </tr>\n",
              "    <tr>\n",
              "      <th>1</th>\n",
              "      <td>15.00</td>\n",
              "      <td>8</td>\n",
              "      <td>350.00</td>\n",
              "      <td>165.00</td>\n",
              "      <td>3693</td>\n",
              "      <td>11.50</td>\n",
              "      <td>70</td>\n",
              "      <td>usa</td>\n",
              "      <td>buick skylark 320</td>\n",
              "    </tr>\n",
              "    <tr>\n",
              "      <th>2</th>\n",
              "      <td>18.00</td>\n",
              "      <td>8</td>\n",
              "      <td>318.00</td>\n",
              "      <td>150.00</td>\n",
              "      <td>3436</td>\n",
              "      <td>11.00</td>\n",
              "      <td>70</td>\n",
              "      <td>usa</td>\n",
              "      <td>plymouth satellite</td>\n",
              "    </tr>\n",
              "    <tr>\n",
              "      <th>3</th>\n",
              "      <td>16.00</td>\n",
              "      <td>8</td>\n",
              "      <td>304.00</td>\n",
              "      <td>150.00</td>\n",
              "      <td>3433</td>\n",
              "      <td>12.00</td>\n",
              "      <td>70</td>\n",
              "      <td>usa</td>\n",
              "      <td>amc rebel sst</td>\n",
              "    </tr>\n",
              "    <tr>\n",
              "      <th>4</th>\n",
              "      <td>17.00</td>\n",
              "      <td>8</td>\n",
              "      <td>302.00</td>\n",
              "      <td>140.00</td>\n",
              "      <td>3449</td>\n",
              "      <td>10.50</td>\n",
              "      <td>70</td>\n",
              "      <td>usa</td>\n",
              "      <td>ford torino</td>\n",
              "    </tr>\n",
              "  </tbody>\n",
              "</table>\n",
              "</div>"
            ],
            "text/plain": [
              "    mpg  cylinders  displacement  ...  model_year  origin                       name\n",
              "0 18.00          8        307.00  ...          70     usa  chevrolet chevelle malibu\n",
              "1 15.00          8        350.00  ...          70     usa          buick skylark 320\n",
              "2 18.00          8        318.00  ...          70     usa         plymouth satellite\n",
              "3 16.00          8        304.00  ...          70     usa              amc rebel sst\n",
              "4 17.00          8        302.00  ...          70     usa                ford torino\n",
              "\n",
              "[5 rows x 9 columns]"
            ]
          },
          "metadata": {
            "tags": []
          },
          "execution_count": 2
        }
      ]
    },
    {
      "cell_type": "code",
      "metadata": {
        "colab": {
          "base_uri": "https://localhost:8080/"
        },
        "id": "n5Qa_Z1bsuCr",
        "outputId": "cb7c3db6-517e-4626-c6ba-90bc511b161f"
      },
      "source": [
        "mpg.describe()"
      ],
      "execution_count": null,
      "outputs": [
        {
          "output_type": "execute_result",
          "data": {
            "text/plain": [
              "count   398.00\n",
              "mean     23.51\n",
              "std       7.82\n",
              "min       9.00\n",
              "25%      17.50\n",
              "50%      23.00\n",
              "75%      29.00\n",
              "max      46.60\n",
              "Name: mpg, dtype: float64"
            ]
          },
          "metadata": {
            "tags": []
          },
          "execution_count": 34
        }
      ]
    },
    {
      "cell_type": "code",
      "metadata": {
        "id": "wprIfSgmZhQU"
      },
      "source": [
        "indices = auto.sample(n=4, random_state=42).index\n",
        "\n",
        "auto.loc[indices, \"origin\"] = np.nan"
      ],
      "execution_count": null,
      "outputs": []
    },
    {
      "cell_type": "code",
      "metadata": {
        "id": "dqil0XCsZyhF"
      },
      "source": [
        "mpg = auto.pop(\"mpg\")\n",
        "\n",
        "train_data, test_data, train_mpg, test_mpg = train_test_split(auto, mpg,\n",
        "                                                              train_size=0.7)"
      ],
      "execution_count": null,
      "outputs": []
    },
    {
      "cell_type": "code",
      "metadata": {
        "id": "4L81L3MYZ5BZ"
      },
      "source": [
        "test_data, new_data, test_mpg, new_mpg = train_test_split(test_data, test_mpg,\n",
        "                                                          test_size=0.4)"
      ],
      "execution_count": null,
      "outputs": []
    },
    {
      "cell_type": "code",
      "metadata": {
        "id": "B5kERvVnats2"
      },
      "source": [
        "# new_data.to_csv(\"mpg_new_data.csv\", index=False, sep=\",\")"
      ],
      "execution_count": null,
      "outputs": []
    },
    {
      "cell_type": "code",
      "metadata": {
        "id": "valN1qOlbAEd"
      },
      "source": [
        "# new_mpg.to_csv(\"mpg_label.csv\", index=False, sep=',')"
      ],
      "execution_count": null,
      "outputs": []
    },
    {
      "cell_type": "markdown",
      "metadata": {
        "id": "lMZbZgx-bb8C"
      },
      "source": [
        "##### Vecinos más cercanos (K-NN)\n",
        "\n",
        "Es un modelo basado en una idea sencilla. Imagina que tienes una instancia (observación) de la cual quieres saber su etiqueta; entonces, simplemente lo que necesitas hacer es buscar la instancia más parecida (más cercana) que esté etiquetada y asignarle a la instancia la etiqueta de esa instancia. Es decir, la etiqueta que asigna vecinos más cercanos es la etiqueta de la instancia más parecida, lo que llamamos el vecino más cercano.\n",
        "\n",
        "**¿Cómo medimos la cercanía?**\n",
        "\n",
        "Para medir la cercanía usamos distancias, y cada observación es un punto en un espacio n-dimensional.\n",
        "\n"
      ]
    },
    {
      "cell_type": "code",
      "metadata": {
        "id": "a2Ea4vXEdKVf"
      },
      "source": [
        "cols_to_drop = [\"model_year\", \"name\"]\n",
        "\n",
        "train_data.drop(labels=cols_to_drop, axis=1, inplace=True)\n",
        "test_data.drop(labels=cols_to_drop, axis=1, inplace=True)"
      ],
      "execution_count": null,
      "outputs": []
    },
    {
      "cell_type": "code",
      "metadata": {
        "id": "WQbAcZI6da9-"
      },
      "source": [
        "numerical_features = [\"cylinders\", \"displacement\", \"horsepower\", \"weight\", \"acceleration\"]\n",
        "categorical_features = [\"origin\"]"
      ],
      "execution_count": null,
      "outputs": []
    },
    {
      "cell_type": "code",
      "metadata": {
        "id": "08ypfQnCdUzy"
      },
      "source": [
        "imputer_num = SimpleImputer(strategy=\"median\").fit(train_data[numerical_features])\n",
        "\n",
        "imputer_cat = SimpleImputer(strategy=\"most_frequent\").fit(train_data[categorical_features])\n",
        "\n",
        "train_data.loc[:, numerical_features] = imputer_num.transform(train_data[numerical_features])\n",
        "train_data.loc[:, categorical_features] = imputer_cat.transform(train_data[categorical_features])"
      ],
      "execution_count": null,
      "outputs": []
    },
    {
      "cell_type": "code",
      "metadata": {
        "id": "WMlrTWbid-Pw"
      },
      "source": [
        "scaler = StandardScaler().fit(train_data[numerical_features])\n",
        "\n",
        "train_data.loc[:, numerical_features] = scaler.transform(train_data[numerical_features])"
      ],
      "execution_count": null,
      "outputs": []
    },
    {
      "cell_type": "code",
      "metadata": {
        "colab": {
          "base_uri": "https://localhost:8080/",
          "height": 206
        },
        "id": "0t1fhq4TeQc8",
        "outputId": "463834b0-38d4-4089-89f6-a03af0c16483"
      },
      "source": [
        "train_data.head()"
      ],
      "execution_count": null,
      "outputs": [
        {
          "output_type": "execute_result",
          "data": {
            "text/html": [
              "<div>\n",
              "<style scoped>\n",
              "    .dataframe tbody tr th:only-of-type {\n",
              "        vertical-align: middle;\n",
              "    }\n",
              "\n",
              "    .dataframe tbody tr th {\n",
              "        vertical-align: top;\n",
              "    }\n",
              "\n",
              "    .dataframe thead th {\n",
              "        text-align: right;\n",
              "    }\n",
              "</style>\n",
              "<table border=\"1\" class=\"dataframe\">\n",
              "  <thead>\n",
              "    <tr style=\"text-align: right;\">\n",
              "      <th></th>\n",
              "      <th>cylinders</th>\n",
              "      <th>displacement</th>\n",
              "      <th>horsepower</th>\n",
              "      <th>weight</th>\n",
              "      <th>acceleration</th>\n",
              "      <th>origin</th>\n",
              "    </tr>\n",
              "  </thead>\n",
              "  <tbody>\n",
              "    <tr>\n",
              "      <th>0</th>\n",
              "      <td>1.52</td>\n",
              "      <td>1.06</td>\n",
              "      <td>0.64</td>\n",
              "      <td>0.59</td>\n",
              "      <td>-1.32</td>\n",
              "      <td>usa</td>\n",
              "    </tr>\n",
              "    <tr>\n",
              "      <th>283</th>\n",
              "      <td>0.34</td>\n",
              "      <td>0.35</td>\n",
              "      <td>-0.38</td>\n",
              "      <td>0.31</td>\n",
              "      <td>0.89</td>\n",
              "      <td>usa</td>\n",
              "    </tr>\n",
              "    <tr>\n",
              "      <th>97</th>\n",
              "      <td>0.34</td>\n",
              "      <td>0.29</td>\n",
              "      <td>0.00</td>\n",
              "      <td>0.15</td>\n",
              "      <td>0.29</td>\n",
              "      <td>usa</td>\n",
              "    </tr>\n",
              "    <tr>\n",
              "      <th>73</th>\n",
              "      <td>1.52</td>\n",
              "      <td>1.06</td>\n",
              "      <td>0.64</td>\n",
              "      <td>1.28</td>\n",
              "      <td>-0.61</td>\n",
              "      <td>usa</td>\n",
              "    </tr>\n",
              "    <tr>\n",
              "      <th>357</th>\n",
              "      <td>-0.84</td>\n",
              "      <td>-0.71</td>\n",
              "      <td>-0.13</td>\n",
              "      <td>-0.44</td>\n",
              "      <td>-0.32</td>\n",
              "      <td>japan</td>\n",
              "    </tr>\n",
              "  </tbody>\n",
              "</table>\n",
              "</div>"
            ],
            "text/plain": [
              "     cylinders  displacement  horsepower  weight  acceleration origin\n",
              "0         1.52          1.06        0.64    0.59         -1.32    usa\n",
              "283       0.34          0.35       -0.38    0.31          0.89    usa\n",
              "97        0.34          0.29        0.00    0.15          0.29    usa\n",
              "73        1.52          1.06        0.64    1.28         -0.61    usa\n",
              "357      -0.84         -0.71       -0.13   -0.44         -0.32  japan"
            ]
          },
          "metadata": {
            "tags": []
          },
          "execution_count": 12
        }
      ]
    },
    {
      "cell_type": "code",
      "metadata": {
        "id": "oDLi-USqecU9"
      },
      "source": [
        "ohe = OneHotEncoder(handle_unknown=\"error\", drop=\"first\", sparse=False).fit(train_data[categorical_features])"
      ],
      "execution_count": null,
      "outputs": []
    },
    {
      "cell_type": "code",
      "metadata": {
        "id": "cJGgjWJwfkmp"
      },
      "source": [
        "cat_columns = [i.split(\"_\")[1] for i in  ohe.get_feature_names().tolist()]"
      ],
      "execution_count": null,
      "outputs": []
    },
    {
      "cell_type": "code",
      "metadata": {
        "colab": {
          "base_uri": "https://localhost:8080/",
          "height": 206
        },
        "id": "EOBugibZg5Sy",
        "outputId": "7cfce7b8-070a-4883-bea0-69198368f3b4"
      },
      "source": [
        "ohe_df = pd.DataFrame(ohe.transform(train_data[categorical_features]),\n",
        "                      columns=cat_columns)\n",
        "ohe_df.head()"
      ],
      "execution_count": null,
      "outputs": [
        {
          "output_type": "execute_result",
          "data": {
            "text/html": [
              "<div>\n",
              "<style scoped>\n",
              "    .dataframe tbody tr th:only-of-type {\n",
              "        vertical-align: middle;\n",
              "    }\n",
              "\n",
              "    .dataframe tbody tr th {\n",
              "        vertical-align: top;\n",
              "    }\n",
              "\n",
              "    .dataframe thead th {\n",
              "        text-align: right;\n",
              "    }\n",
              "</style>\n",
              "<table border=\"1\" class=\"dataframe\">\n",
              "  <thead>\n",
              "    <tr style=\"text-align: right;\">\n",
              "      <th></th>\n",
              "      <th>japan</th>\n",
              "      <th>usa</th>\n",
              "    </tr>\n",
              "  </thead>\n",
              "  <tbody>\n",
              "    <tr>\n",
              "      <th>0</th>\n",
              "      <td>0.00</td>\n",
              "      <td>1.00</td>\n",
              "    </tr>\n",
              "    <tr>\n",
              "      <th>1</th>\n",
              "      <td>0.00</td>\n",
              "      <td>1.00</td>\n",
              "    </tr>\n",
              "    <tr>\n",
              "      <th>2</th>\n",
              "      <td>0.00</td>\n",
              "      <td>1.00</td>\n",
              "    </tr>\n",
              "    <tr>\n",
              "      <th>3</th>\n",
              "      <td>0.00</td>\n",
              "      <td>1.00</td>\n",
              "    </tr>\n",
              "    <tr>\n",
              "      <th>4</th>\n",
              "      <td>1.00</td>\n",
              "      <td>0.00</td>\n",
              "    </tr>\n",
              "  </tbody>\n",
              "</table>\n",
              "</div>"
            ],
            "text/plain": [
              "   japan  usa\n",
              "0   0.00 1.00\n",
              "1   0.00 1.00\n",
              "2   0.00 1.00\n",
              "3   0.00 1.00\n",
              "4   1.00 0.00"
            ]
          },
          "metadata": {
            "tags": []
          },
          "execution_count": 15
        }
      ]
    },
    {
      "cell_type": "code",
      "metadata": {
        "id": "aEzNSHUKiIxc"
      },
      "source": [
        "# Otra forma\n",
        "\n",
        "# ohe_df_2 = pd.DataFrame(ohe.transform(train_data[categorical_features]),\n",
        "                        # columns=cat_columns, index=train_data.index)\n",
        "\n",
        "# ohe_df_2"
      ],
      "execution_count": null,
      "outputs": []
    },
    {
      "cell_type": "code",
      "metadata": {
        "colab": {
          "base_uri": "https://localhost:8080/",
          "height": 206
        },
        "id": "wGETW782hZIM",
        "outputId": "107f910d-e60e-414e-a727-403fe38b4e44"
      },
      "source": [
        "train_data.drop(labels=categorical_features, axis=1, inplace=True)\n",
        "\n",
        "train_data = pd.concat(objs=[train_data.reset_index(drop=True),\n",
        "                             ohe_df], axis=1)\n",
        "\n",
        "train_data.head()"
      ],
      "execution_count": null,
      "outputs": [
        {
          "output_type": "execute_result",
          "data": {
            "text/html": [
              "<div>\n",
              "<style scoped>\n",
              "    .dataframe tbody tr th:only-of-type {\n",
              "        vertical-align: middle;\n",
              "    }\n",
              "\n",
              "    .dataframe tbody tr th {\n",
              "        vertical-align: top;\n",
              "    }\n",
              "\n",
              "    .dataframe thead th {\n",
              "        text-align: right;\n",
              "    }\n",
              "</style>\n",
              "<table border=\"1\" class=\"dataframe\">\n",
              "  <thead>\n",
              "    <tr style=\"text-align: right;\">\n",
              "      <th></th>\n",
              "      <th>cylinders</th>\n",
              "      <th>displacement</th>\n",
              "      <th>horsepower</th>\n",
              "      <th>weight</th>\n",
              "      <th>acceleration</th>\n",
              "      <th>japan</th>\n",
              "      <th>usa</th>\n",
              "    </tr>\n",
              "  </thead>\n",
              "  <tbody>\n",
              "    <tr>\n",
              "      <th>0</th>\n",
              "      <td>1.52</td>\n",
              "      <td>1.06</td>\n",
              "      <td>0.64</td>\n",
              "      <td>0.59</td>\n",
              "      <td>-1.32</td>\n",
              "      <td>0.00</td>\n",
              "      <td>1.00</td>\n",
              "    </tr>\n",
              "    <tr>\n",
              "      <th>1</th>\n",
              "      <td>0.34</td>\n",
              "      <td>0.35</td>\n",
              "      <td>-0.38</td>\n",
              "      <td>0.31</td>\n",
              "      <td>0.89</td>\n",
              "      <td>0.00</td>\n",
              "      <td>1.00</td>\n",
              "    </tr>\n",
              "    <tr>\n",
              "      <th>2</th>\n",
              "      <td>0.34</td>\n",
              "      <td>0.29</td>\n",
              "      <td>0.00</td>\n",
              "      <td>0.15</td>\n",
              "      <td>0.29</td>\n",
              "      <td>0.00</td>\n",
              "      <td>1.00</td>\n",
              "    </tr>\n",
              "    <tr>\n",
              "      <th>3</th>\n",
              "      <td>1.52</td>\n",
              "      <td>1.06</td>\n",
              "      <td>0.64</td>\n",
              "      <td>1.28</td>\n",
              "      <td>-0.61</td>\n",
              "      <td>0.00</td>\n",
              "      <td>1.00</td>\n",
              "    </tr>\n",
              "    <tr>\n",
              "      <th>4</th>\n",
              "      <td>-0.84</td>\n",
              "      <td>-0.71</td>\n",
              "      <td>-0.13</td>\n",
              "      <td>-0.44</td>\n",
              "      <td>-0.32</td>\n",
              "      <td>1.00</td>\n",
              "      <td>0.00</td>\n",
              "    </tr>\n",
              "  </tbody>\n",
              "</table>\n",
              "</div>"
            ],
            "text/plain": [
              "   cylinders  displacement  horsepower  weight  acceleration  japan  usa\n",
              "0       1.52          1.06        0.64    0.59         -1.32   0.00 1.00\n",
              "1       0.34          0.35       -0.38    0.31          0.89   0.00 1.00\n",
              "2       0.34          0.29        0.00    0.15          0.29   0.00 1.00\n",
              "3       1.52          1.06        0.64    1.28         -0.61   0.00 1.00\n",
              "4      -0.84         -0.71       -0.13   -0.44         -0.32   1.00 0.00"
            ]
          },
          "metadata": {
            "tags": []
          },
          "execution_count": 17
        }
      ]
    },
    {
      "cell_type": "code",
      "metadata": {
        "colab": {
          "base_uri": "https://localhost:8080/"
        },
        "id": "UmUYfmO9bRp2",
        "outputId": "76c37d88-0e17-47a0-83c5-fc2b7cf58b2a"
      },
      "source": [
        "knn = KNeighborsRegressor(n_neighbors=5).fit(train_data, train_mpg)\n",
        "\n",
        "\n",
        "print(f\"El r2 en entrenamiento es: {round(knn.score(train_data, train_mpg), 2)}\")"
      ],
      "execution_count": null,
      "outputs": [
        {
          "output_type": "stream",
          "text": [
            "El r2 en entrenamiento es: 0.81\n"
          ],
          "name": "stdout"
        }
      ]
    },
    {
      "cell_type": "markdown",
      "metadata": {
        "id": "DASmcJDyj2Gh"
      },
      "source": [
        "\n",
        "##### ¿Cómo medimos el desempeño de nuestro modelo?\n",
        "\n",
        "Necesitamos una medida de qué tan bien (o mal) el modelo se ajusta a los datos de entrenamiento. Esta medida de evaluación (función de costo) es el error calculado entre la recta generada $\\hat{y}$ (o el hiperplano) a los puntos reales. En el entrenamiento del modelo se encuentran los valores de $w_i$ que minimicen dicha función de costo. Entre las métricas más populares encontramos:\n",
        "\n",
        "* Error medio absoluto (MAE)\n",
        "\n",
        "$$MAE = \\frac{1}{m}\\sum_{i=1}^{m}|\\hat{y}_i -y_i|$$\n",
        "\n",
        "* Error cuadrático medio (MSE)\n",
        "\n",
        "$$MSE=\\frac{1}{m}\\sum_{i=1}^{m}\\left(\\hat{y}_i -y_i\\right)^2$$\n",
        "\n",
        "* Raíz del error cuadrático medio (RMSE)\n",
        "\n",
        "$$RMSE=\\sqrt{\\frac{1}{m}\\sum_{i=1}^{m}\\left(\\hat{y}({\\bf x})_i -y_i\\right)^2}$$"
      ]
    },
    {
      "cell_type": "code",
      "metadata": {
        "id": "xr8cd94WrK4G"
      },
      "source": [
        "from sklearn.metrics import r2_score"
      ],
      "execution_count": null,
      "outputs": []
    },
    {
      "cell_type": "code",
      "metadata": {
        "id": "AsyaN0NwjHlj"
      },
      "source": [
        "class RegressionEvaluator:\n",
        "  def __init__(self, observed: pd.Series or list, predicted: pd.Series or list):\n",
        "    self.observed = observed\n",
        "    self.predicted = predicted\n",
        "    self.metrics = None\n",
        "\n",
        "  def calculate_metrics(self):\n",
        "    self.metrics = {\n",
        "        \"mae\": round(mean_absolute_error(y_true=self.observed, y_pred=self.predicted), 2),\n",
        "        \"mse\": round(mean_squared_error(y_true=self.observed, y_pred=self.predicted), 2),\n",
        "        \"r2\": round(r2_score(y_true=self.observed, y_pred=self.predicted), 2)\n",
        "    }\n",
        "    return self\n",
        "\n",
        "  def print_metrics(self):\n",
        "    print(f\"El MAE es: {self.metrics['mae']}\")\n",
        "    print(f\"El MSE es: {self.metrics['mse']}\")\n",
        "    print(f\"El RMSE es: {round(np.sqrt(self.metrics['mse']), 2)}\")\n",
        "    print(f\"El R2 es: {self.metrics['r2']}\")"
      ],
      "execution_count": null,
      "outputs": []
    },
    {
      "cell_type": "code",
      "metadata": {
        "colab": {
          "base_uri": "https://localhost:8080/",
          "height": 206
        },
        "id": "k_sL8T-ql8mO",
        "outputId": "0d7bd7a8-2794-4573-93cc-d43f1e30efdd"
      },
      "source": [
        "train_data.head()"
      ],
      "execution_count": null,
      "outputs": [
        {
          "output_type": "execute_result",
          "data": {
            "text/html": [
              "<div>\n",
              "<style scoped>\n",
              "    .dataframe tbody tr th:only-of-type {\n",
              "        vertical-align: middle;\n",
              "    }\n",
              "\n",
              "    .dataframe tbody tr th {\n",
              "        vertical-align: top;\n",
              "    }\n",
              "\n",
              "    .dataframe thead th {\n",
              "        text-align: right;\n",
              "    }\n",
              "</style>\n",
              "<table border=\"1\" class=\"dataframe\">\n",
              "  <thead>\n",
              "    <tr style=\"text-align: right;\">\n",
              "      <th></th>\n",
              "      <th>cylinders</th>\n",
              "      <th>displacement</th>\n",
              "      <th>horsepower</th>\n",
              "      <th>weight</th>\n",
              "      <th>acceleration</th>\n",
              "      <th>japan</th>\n",
              "      <th>usa</th>\n",
              "    </tr>\n",
              "  </thead>\n",
              "  <tbody>\n",
              "    <tr>\n",
              "      <th>0</th>\n",
              "      <td>1.52</td>\n",
              "      <td>1.06</td>\n",
              "      <td>0.64</td>\n",
              "      <td>0.59</td>\n",
              "      <td>-1.32</td>\n",
              "      <td>0.00</td>\n",
              "      <td>1.00</td>\n",
              "    </tr>\n",
              "    <tr>\n",
              "      <th>1</th>\n",
              "      <td>0.34</td>\n",
              "      <td>0.35</td>\n",
              "      <td>-0.38</td>\n",
              "      <td>0.31</td>\n",
              "      <td>0.89</td>\n",
              "      <td>0.00</td>\n",
              "      <td>1.00</td>\n",
              "    </tr>\n",
              "    <tr>\n",
              "      <th>2</th>\n",
              "      <td>0.34</td>\n",
              "      <td>0.29</td>\n",
              "      <td>0.00</td>\n",
              "      <td>0.15</td>\n",
              "      <td>0.29</td>\n",
              "      <td>0.00</td>\n",
              "      <td>1.00</td>\n",
              "    </tr>\n",
              "    <tr>\n",
              "      <th>3</th>\n",
              "      <td>1.52</td>\n",
              "      <td>1.06</td>\n",
              "      <td>0.64</td>\n",
              "      <td>1.28</td>\n",
              "      <td>-0.61</td>\n",
              "      <td>0.00</td>\n",
              "      <td>1.00</td>\n",
              "    </tr>\n",
              "    <tr>\n",
              "      <th>4</th>\n",
              "      <td>-0.84</td>\n",
              "      <td>-0.71</td>\n",
              "      <td>-0.13</td>\n",
              "      <td>-0.44</td>\n",
              "      <td>-0.32</td>\n",
              "      <td>1.00</td>\n",
              "      <td>0.00</td>\n",
              "    </tr>\n",
              "  </tbody>\n",
              "</table>\n",
              "</div>"
            ],
            "text/plain": [
              "   cylinders  displacement  horsepower  weight  acceleration  japan  usa\n",
              "0       1.52          1.06        0.64    0.59         -1.32   0.00 1.00\n",
              "1       0.34          0.35       -0.38    0.31          0.89   0.00 1.00\n",
              "2       0.34          0.29        0.00    0.15          0.29   0.00 1.00\n",
              "3       1.52          1.06        0.64    1.28         -0.61   0.00 1.00\n",
              "4      -0.84         -0.71       -0.13   -0.44         -0.32   1.00 0.00"
            ]
          },
          "metadata": {
            "tags": []
          },
          "execution_count": 20
        }
      ]
    },
    {
      "cell_type": "code",
      "metadata": {
        "colab": {
          "base_uri": "https://localhost:8080/",
          "height": 206
        },
        "id": "YDj6Lpk0mJcn",
        "outputId": "cbd30924-845f-4e08-c5f2-8ff598cb0225"
      },
      "source": [
        "test_data.head()"
      ],
      "execution_count": null,
      "outputs": [
        {
          "output_type": "execute_result",
          "data": {
            "text/html": [
              "<div>\n",
              "<style scoped>\n",
              "    .dataframe tbody tr th:only-of-type {\n",
              "        vertical-align: middle;\n",
              "    }\n",
              "\n",
              "    .dataframe tbody tr th {\n",
              "        vertical-align: top;\n",
              "    }\n",
              "\n",
              "    .dataframe thead th {\n",
              "        text-align: right;\n",
              "    }\n",
              "</style>\n",
              "<table border=\"1\" class=\"dataframe\">\n",
              "  <thead>\n",
              "    <tr style=\"text-align: right;\">\n",
              "      <th></th>\n",
              "      <th>cylinders</th>\n",
              "      <th>displacement</th>\n",
              "      <th>horsepower</th>\n",
              "      <th>weight</th>\n",
              "      <th>acceleration</th>\n",
              "      <th>origin</th>\n",
              "    </tr>\n",
              "  </thead>\n",
              "  <tbody>\n",
              "    <tr>\n",
              "      <th>298</th>\n",
              "      <td>8</td>\n",
              "      <td>350.00</td>\n",
              "      <td>125.00</td>\n",
              "      <td>3900</td>\n",
              "      <td>17.40</td>\n",
              "      <td>usa</td>\n",
              "    </tr>\n",
              "    <tr>\n",
              "      <th>220</th>\n",
              "      <td>4</td>\n",
              "      <td>85.00</td>\n",
              "      <td>70.00</td>\n",
              "      <td>1945</td>\n",
              "      <td>16.80</td>\n",
              "      <td>japan</td>\n",
              "    </tr>\n",
              "    <tr>\n",
              "      <th>10</th>\n",
              "      <td>8</td>\n",
              "      <td>383.00</td>\n",
              "      <td>170.00</td>\n",
              "      <td>3563</td>\n",
              "      <td>10.00</td>\n",
              "      <td>usa</td>\n",
              "    </tr>\n",
              "    <tr>\n",
              "      <th>198</th>\n",
              "      <td>4</td>\n",
              "      <td>91.00</td>\n",
              "      <td>53.00</td>\n",
              "      <td>1795</td>\n",
              "      <td>17.40</td>\n",
              "      <td>NaN</td>\n",
              "    </tr>\n",
              "    <tr>\n",
              "      <th>17</th>\n",
              "      <td>6</td>\n",
              "      <td>200.00</td>\n",
              "      <td>85.00</td>\n",
              "      <td>2587</td>\n",
              "      <td>16.00</td>\n",
              "      <td>usa</td>\n",
              "    </tr>\n",
              "  </tbody>\n",
              "</table>\n",
              "</div>"
            ],
            "text/plain": [
              "     cylinders  displacement  horsepower  weight  acceleration origin\n",
              "298          8        350.00      125.00    3900         17.40    usa\n",
              "220          4         85.00       70.00    1945         16.80  japan\n",
              "10           8        383.00      170.00    3563         10.00    usa\n",
              "198          4         91.00       53.00    1795         17.40    NaN\n",
              "17           6        200.00       85.00    2587         16.00    usa"
            ]
          },
          "metadata": {
            "tags": []
          },
          "execution_count": 21
        }
      ]
    },
    {
      "cell_type": "code",
      "metadata": {
        "colab": {
          "base_uri": "https://localhost:8080/",
          "height": 206
        },
        "id": "p6BCQB97mLHK",
        "outputId": "7e1b1e65-cc2b-4e9d-c11c-4024e79d242d"
      },
      "source": [
        "# Imputamos datos numéricos\n",
        "\n",
        "test_data.loc[:, numerical_features] = imputer_num.transform(test_data[numerical_features])\n",
        "\n",
        "# Escalamos datos numéricos\n",
        "\n",
        "test_data.loc[:, numerical_features] = scaler.transform(test_data[numerical_features])\n",
        "\n",
        "# Imputamos datos categóricos\n",
        "\n",
        "test_data.loc[:, categorical_features] = imputer_cat.transform(test_data[categorical_features])\n",
        "\n",
        "# Codificar datos categóricos\n",
        "\n",
        "\n",
        "test_data = pd.concat(objs=[test_data.reset_index(drop=True),\n",
        "                            pd.DataFrame(ohe.transform(test_data[categorical_features]),\n",
        "                                                       columns=cat_columns)],\n",
        "                       axis=1)\n",
        "\n",
        "test_data.drop(labels=categorical_features, axis=1, inplace=True)\n",
        "\n",
        "test_data.head()"
      ],
      "execution_count": null,
      "outputs": [
        {
          "output_type": "execute_result",
          "data": {
            "text/html": [
              "<div>\n",
              "<style scoped>\n",
              "    .dataframe tbody tr th:only-of-type {\n",
              "        vertical-align: middle;\n",
              "    }\n",
              "\n",
              "    .dataframe tbody tr th {\n",
              "        vertical-align: top;\n",
              "    }\n",
              "\n",
              "    .dataframe thead th {\n",
              "        text-align: right;\n",
              "    }\n",
              "</style>\n",
              "<table border=\"1\" class=\"dataframe\">\n",
              "  <thead>\n",
              "    <tr style=\"text-align: right;\">\n",
              "      <th></th>\n",
              "      <th>cylinders</th>\n",
              "      <th>displacement</th>\n",
              "      <th>horsepower</th>\n",
              "      <th>weight</th>\n",
              "      <th>acceleration</th>\n",
              "      <th>japan</th>\n",
              "      <th>usa</th>\n",
              "    </tr>\n",
              "  </thead>\n",
              "  <tbody>\n",
              "    <tr>\n",
              "      <th>0</th>\n",
              "      <td>1.52</td>\n",
              "      <td>1.46</td>\n",
              "      <td>0.51</td>\n",
              "      <td>1.05</td>\n",
              "      <td>0.61</td>\n",
              "      <td>0.00</td>\n",
              "      <td>1.00</td>\n",
              "    </tr>\n",
              "    <tr>\n",
              "      <th>1</th>\n",
              "      <td>-0.84</td>\n",
              "      <td>-1.03</td>\n",
              "      <td>-0.89</td>\n",
              "      <td>-1.22</td>\n",
              "      <td>0.39</td>\n",
              "      <td>1.00</td>\n",
              "      <td>0.00</td>\n",
              "    </tr>\n",
              "    <tr>\n",
              "      <th>2</th>\n",
              "      <td>1.52</td>\n",
              "      <td>1.77</td>\n",
              "      <td>1.66</td>\n",
              "      <td>0.66</td>\n",
              "      <td>-2.04</td>\n",
              "      <td>0.00</td>\n",
              "      <td>1.00</td>\n",
              "    </tr>\n",
              "    <tr>\n",
              "      <th>3</th>\n",
              "      <td>-0.84</td>\n",
              "      <td>-0.97</td>\n",
              "      <td>-1.33</td>\n",
              "      <td>-1.40</td>\n",
              "      <td>0.61</td>\n",
              "      <td>0.00</td>\n",
              "      <td>1.00</td>\n",
              "    </tr>\n",
              "    <tr>\n",
              "      <th>4</th>\n",
              "      <td>0.34</td>\n",
              "      <td>0.05</td>\n",
              "      <td>-0.51</td>\n",
              "      <td>-0.48</td>\n",
              "      <td>0.11</td>\n",
              "      <td>0.00</td>\n",
              "      <td>1.00</td>\n",
              "    </tr>\n",
              "  </tbody>\n",
              "</table>\n",
              "</div>"
            ],
            "text/plain": [
              "   cylinders  displacement  horsepower  weight  acceleration  japan  usa\n",
              "0       1.52          1.46        0.51    1.05          0.61   0.00 1.00\n",
              "1      -0.84         -1.03       -0.89   -1.22          0.39   1.00 0.00\n",
              "2       1.52          1.77        1.66    0.66         -2.04   0.00 1.00\n",
              "3      -0.84         -0.97       -1.33   -1.40          0.61   0.00 1.00\n",
              "4       0.34          0.05       -0.51   -0.48          0.11   0.00 1.00"
            ]
          },
          "metadata": {
            "tags": []
          },
          "execution_count": 22
        }
      ]
    },
    {
      "cell_type": "code",
      "metadata": {
        "colab": {
          "base_uri": "https://localhost:8080/"
        },
        "id": "CdQxBmDepDn9",
        "outputId": "40bfdcce-eace-4c0a-f84b-65be1062b7c1"
      },
      "source": [
        "evaluation = RegressionEvaluator(observed=test_mpg, predicted=knn.predict(test_data))\n",
        "evaluation.calculate_metrics()\n",
        "evaluation.print_metrics()"
      ],
      "execution_count": null,
      "outputs": [
        {
          "output_type": "stream",
          "text": [
            "El MAE es: 2.67\n",
            "El MSE es: 12.61\n",
            "El RMSE es: 3.55\n",
            "El R2 es: 0.81\n"
          ],
          "name": "stdout"
        }
      ]
    },
    {
      "cell_type": "code",
      "metadata": {
        "colab": {
          "base_uri": "https://localhost:8080/"
        },
        "id": "SfP5rPV3p16K",
        "outputId": "2f7ed184-8ae2-4408-d661-130346232971"
      },
      "source": [
        "linear_reg = LinearRegression().fit(train_data, train_mpg)\n",
        "\n",
        "evaluation_reg = RegressionEvaluator(observed=test_mpg, predicted=linear_reg.predict(test_data))\n",
        "evaluation_reg.calculate_metrics()\n",
        "evaluation_reg.print_metrics()"
      ],
      "execution_count": null,
      "outputs": [
        {
          "output_type": "stream",
          "text": [
            "El MAE es: 3.3\n",
            "El MSE es: 17.9\n",
            "El RMSE es: 4.23\n",
            "El R2 es: 0.73\n"
          ],
          "name": "stdout"
        }
      ]
    },
    {
      "cell_type": "markdown",
      "metadata": {
        "id": "muUCScSawhZV"
      },
      "source": [
        "##### Pipeline\n",
        "\n",
        "Una secuencia de datos que procesan componentes se llama *pipeline* de datos. Los *pipelines* son muy comunes en los sistemas de machine learning, puesto que hay muchos datos que manipular y muchas transformaciones de datos que aplicar.\n"
      ]
    },
    {
      "cell_type": "code",
      "metadata": {
        "colab": {
          "base_uri": "https://localhost:8080/",
          "height": 206
        },
        "id": "SL9-ZuTNsNtt",
        "outputId": "d6349435-e3c0-40fc-a042-e585de38c12f"
      },
      "source": [
        "auto = pd.read_csv(\"https://raw.githubusercontent.com/stivenlopezg/Modulo-Python-3/master/data/mpg.csv\", dtype={\"model_year\": \"category\"})\n",
        "auto.head()"
      ],
      "execution_count": null,
      "outputs": [
        {
          "output_type": "execute_result",
          "data": {
            "text/html": [
              "<div>\n",
              "<style scoped>\n",
              "    .dataframe tbody tr th:only-of-type {\n",
              "        vertical-align: middle;\n",
              "    }\n",
              "\n",
              "    .dataframe tbody tr th {\n",
              "        vertical-align: top;\n",
              "    }\n",
              "\n",
              "    .dataframe thead th {\n",
              "        text-align: right;\n",
              "    }\n",
              "</style>\n",
              "<table border=\"1\" class=\"dataframe\">\n",
              "  <thead>\n",
              "    <tr style=\"text-align: right;\">\n",
              "      <th></th>\n",
              "      <th>mpg</th>\n",
              "      <th>cylinders</th>\n",
              "      <th>displacement</th>\n",
              "      <th>horsepower</th>\n",
              "      <th>weight</th>\n",
              "      <th>acceleration</th>\n",
              "      <th>model_year</th>\n",
              "      <th>origin</th>\n",
              "      <th>name</th>\n",
              "    </tr>\n",
              "  </thead>\n",
              "  <tbody>\n",
              "    <tr>\n",
              "      <th>0</th>\n",
              "      <td>18.00</td>\n",
              "      <td>8</td>\n",
              "      <td>307.00</td>\n",
              "      <td>130.00</td>\n",
              "      <td>3504</td>\n",
              "      <td>12.00</td>\n",
              "      <td>70</td>\n",
              "      <td>usa</td>\n",
              "      <td>chevrolet chevelle malibu</td>\n",
              "    </tr>\n",
              "    <tr>\n",
              "      <th>1</th>\n",
              "      <td>15.00</td>\n",
              "      <td>8</td>\n",
              "      <td>350.00</td>\n",
              "      <td>165.00</td>\n",
              "      <td>3693</td>\n",
              "      <td>11.50</td>\n",
              "      <td>70</td>\n",
              "      <td>usa</td>\n",
              "      <td>buick skylark 320</td>\n",
              "    </tr>\n",
              "    <tr>\n",
              "      <th>2</th>\n",
              "      <td>18.00</td>\n",
              "      <td>8</td>\n",
              "      <td>318.00</td>\n",
              "      <td>150.00</td>\n",
              "      <td>3436</td>\n",
              "      <td>11.00</td>\n",
              "      <td>70</td>\n",
              "      <td>usa</td>\n",
              "      <td>plymouth satellite</td>\n",
              "    </tr>\n",
              "    <tr>\n",
              "      <th>3</th>\n",
              "      <td>16.00</td>\n",
              "      <td>8</td>\n",
              "      <td>304.00</td>\n",
              "      <td>150.00</td>\n",
              "      <td>3433</td>\n",
              "      <td>12.00</td>\n",
              "      <td>70</td>\n",
              "      <td>usa</td>\n",
              "      <td>amc rebel sst</td>\n",
              "    </tr>\n",
              "    <tr>\n",
              "      <th>4</th>\n",
              "      <td>17.00</td>\n",
              "      <td>8</td>\n",
              "      <td>302.00</td>\n",
              "      <td>140.00</td>\n",
              "      <td>3449</td>\n",
              "      <td>10.50</td>\n",
              "      <td>70</td>\n",
              "      <td>usa</td>\n",
              "      <td>ford torino</td>\n",
              "    </tr>\n",
              "  </tbody>\n",
              "</table>\n",
              "</div>"
            ],
            "text/plain": [
              "    mpg  cylinders  displacement  ...  model_year  origin                       name\n",
              "0 18.00          8        307.00  ...          70     usa  chevrolet chevelle malibu\n",
              "1 15.00          8        350.00  ...          70     usa          buick skylark 320\n",
              "2 18.00          8        318.00  ...          70     usa         plymouth satellite\n",
              "3 16.00          8        304.00  ...          70     usa              amc rebel sst\n",
              "4 17.00          8        302.00  ...          70     usa                ford torino\n",
              "\n",
              "[5 rows x 9 columns]"
            ]
          },
          "metadata": {
            "tags": []
          },
          "execution_count": 35
        }
      ]
    },
    {
      "cell_type": "code",
      "metadata": {
        "id": "Auvdl3qLyVZy"
      },
      "source": [
        "mpg = auto.pop(\"mpg\")\n",
        "\n",
        "train_data, test_data, train_mpg, test_mpg = train_test_split(auto, mpg,\n",
        "                                                              train_size=0.7)"
      ],
      "execution_count": null,
      "outputs": []
    },
    {
      "cell_type": "code",
      "metadata": {
        "id": "C3LfCRCsyfPZ"
      },
      "source": [
        "from sklearn.pipeline import Pipeline, make_pipeline\n",
        "from sklearn.compose import ColumnTransformer, make_column_transformer"
      ],
      "execution_count": null,
      "outputs": []
    },
    {
      "cell_type": "code",
      "metadata": {
        "id": "hNmVfj3Py4hE"
      },
      "source": [
        "numeric_preprocessing = Pipeline(steps=[(\"num_imputer\", SimpleImputer(strategy=\"median\")),\n",
        "                                        (\"st_scaler\", StandardScaler())])"
      ],
      "execution_count": null,
      "outputs": []
    },
    {
      "cell_type": "code",
      "metadata": {
        "colab": {
          "base_uri": "https://localhost:8080/"
        },
        "id": "8hZqG5VWzrpy",
        "outputId": "20873b70-22bf-4720-96fe-c4d077b680ff"
      },
      "source": [
        "numeric_preprocessing"
      ],
      "execution_count": null,
      "outputs": [
        {
          "output_type": "execute_result",
          "data": {
            "text/plain": [
              "Pipeline(memory=None,\n",
              "         steps=[('num_imputer',\n",
              "                 SimpleImputer(add_indicator=False, copy=True, fill_value=None,\n",
              "                               missing_values=nan, strategy='median',\n",
              "                               verbose=0)),\n",
              "                ('st_scaler',\n",
              "                 StandardScaler(copy=True, with_mean=True, with_std=True))],\n",
              "         verbose=False)"
            ]
          },
          "metadata": {
            "tags": []
          },
          "execution_count": 40
        }
      ]
    },
    {
      "cell_type": "code",
      "metadata": {
        "colab": {
          "base_uri": "https://localhost:8080/"
        },
        "id": "Z7htHEwOz6nr",
        "outputId": "0c6c3407-a99e-477c-b870-966f239ea85a"
      },
      "source": [
        "numeric_preprocessing = make_pipeline(SimpleImputer(strategy=\"median\"), StandardScaler())\n",
        "numeric_preprocessing"
      ],
      "execution_count": null,
      "outputs": [
        {
          "output_type": "execute_result",
          "data": {
            "text/plain": [
              "Pipeline(memory=None,\n",
              "         steps=[('simpleimputer',\n",
              "                 SimpleImputer(add_indicator=False, copy=True, fill_value=None,\n",
              "                               missing_values=nan, strategy='median',\n",
              "                               verbose=0)),\n",
              "                ('standardscaler',\n",
              "                 StandardScaler(copy=True, with_mean=True, with_std=True))],\n",
              "         verbose=False)"
            ]
          },
          "metadata": {
            "tags": []
          },
          "execution_count": 41
        }
      ]
    },
    {
      "cell_type": "code",
      "metadata": {
        "id": "JCKcQD5c0Grl"
      },
      "source": [
        "categoric_preprocessing = make_pipeline(SimpleImputer(strategy=\"most_frequent\"),\n",
        "                                        OneHotEncoder(handle_unknown=\"error\",\n",
        "                                                      drop=\"first\", sparse=False))"
      ],
      "execution_count": null,
      "outputs": []
    },
    {
      "cell_type": "code",
      "metadata": {
        "id": "jUhlSKsv0ssw"
      },
      "source": [
        "preprocessor = ColumnTransformer(transformers=[(\"numeric_preprocessing\", numeric_preprocessing, numerical_features),\n",
        "                                               (\"categoric_preprocessing\", categoric_preprocessing, categorical_features)],\n",
        "                                 remainder=\"drop\")"
      ],
      "execution_count": null,
      "outputs": []
    },
    {
      "cell_type": "code",
      "metadata": {
        "colab": {
          "base_uri": "https://localhost:8080/"
        },
        "id": "n5-9ssrH1tSX",
        "outputId": "29f7001a-f5e2-4a30-8ee7-f8f22ec84138"
      },
      "source": [
        "preprocessor = make_column_transformer((numeric_preprocessing, numerical_features),\n",
        "                                       (categoric_preprocessing, categorical_features), remainder=\"drop\")\n",
        "\n",
        "preprocessor"
      ],
      "execution_count": null,
      "outputs": [
        {
          "output_type": "execute_result",
          "data": {
            "text/plain": [
              "ColumnTransformer(n_jobs=None, remainder='drop', sparse_threshold=0.3,\n",
              "                  transformer_weights=None,\n",
              "                  transformers=[('pipeline-1',\n",
              "                                 Pipeline(memory=None,\n",
              "                                          steps=[('simpleimputer',\n",
              "                                                  SimpleImputer(add_indicator=False,\n",
              "                                                                copy=True,\n",
              "                                                                fill_value=None,\n",
              "                                                                missing_values=nan,\n",
              "                                                                strategy='median',\n",
              "                                                                verbose=0)),\n",
              "                                                 ('standardscaler',\n",
              "                                                  StandardScaler(copy=True,\n",
              "                                                                 with_mean=True,\n",
              "                                                                 with_std=True))],...\n",
              "                                  'weight', 'acceleration']),\n",
              "                                ('pipeline-2',\n",
              "                                 Pipeline(memory=None,\n",
              "                                          steps=[('simpleimputer',\n",
              "                                                  SimpleImputer(add_indicator=False,\n",
              "                                                                copy=True,\n",
              "                                                                fill_value=None,\n",
              "                                                                missing_values=nan,\n",
              "                                                                strategy='most_frequent',\n",
              "                                                                verbose=0)),\n",
              "                                                 ('onehotencoder',\n",
              "                                                  OneHotEncoder(categories='auto',\n",
              "                                                                drop='first',\n",
              "                                                                dtype=<class 'numpy.float64'>,\n",
              "                                                                handle_unknown='error',\n",
              "                                                                sparse=False))],\n",
              "                                          verbose=False),\n",
              "                                 ['origin'])],\n",
              "                  verbose=False)"
            ]
          },
          "metadata": {
            "tags": []
          },
          "execution_count": 46
        }
      ]
    },
    {
      "cell_type": "code",
      "metadata": {
        "colab": {
          "base_uri": "https://localhost:8080/"
        },
        "id": "btSrrQde2Fnf",
        "outputId": "07884a6d-dafc-45c7-ada6-4753b57925e3"
      },
      "source": [
        "knn = make_pipeline(preprocessor, KNeighborsRegressor(n_neighbors=5)).fit(train_data, train_mpg)\n",
        "\n",
        "evaluation = RegressionEvaluator(observed=test_mpg, predicted=knn.predict(test_data))\n",
        "evaluation.calculate_metrics()\n",
        "evaluation.print_metrics()"
      ],
      "execution_count": null,
      "outputs": [
        {
          "output_type": "stream",
          "text": [
            "El MAE es: 2.86\n",
            "El MSE es: 17.42\n",
            "El RMSE es: 4.17\n",
            "El R2 es: 0.7\n"
          ],
          "name": "stdout"
        }
      ]
    },
    {
      "cell_type": "code",
      "metadata": {
        "colab": {
          "base_uri": "https://localhost:8080/",
          "height": 206
        },
        "id": "mZFj5cZF2j_P",
        "outputId": "21e54f0f-570e-4134-f98e-c86be6a40ac7"
      },
      "source": [
        "test_data.head()"
      ],
      "execution_count": null,
      "outputs": [
        {
          "output_type": "execute_result",
          "data": {
            "text/html": [
              "<div>\n",
              "<style scoped>\n",
              "    .dataframe tbody tr th:only-of-type {\n",
              "        vertical-align: middle;\n",
              "    }\n",
              "\n",
              "    .dataframe tbody tr th {\n",
              "        vertical-align: top;\n",
              "    }\n",
              "\n",
              "    .dataframe thead th {\n",
              "        text-align: right;\n",
              "    }\n",
              "</style>\n",
              "<table border=\"1\" class=\"dataframe\">\n",
              "  <thead>\n",
              "    <tr style=\"text-align: right;\">\n",
              "      <th></th>\n",
              "      <th>cylinders</th>\n",
              "      <th>displacement</th>\n",
              "      <th>horsepower</th>\n",
              "      <th>weight</th>\n",
              "      <th>acceleration</th>\n",
              "      <th>model_year</th>\n",
              "      <th>origin</th>\n",
              "      <th>name</th>\n",
              "    </tr>\n",
              "  </thead>\n",
              "  <tbody>\n",
              "    <tr>\n",
              "      <th>198</th>\n",
              "      <td>4</td>\n",
              "      <td>91.00</td>\n",
              "      <td>53.00</td>\n",
              "      <td>1795</td>\n",
              "      <td>17.40</td>\n",
              "      <td>76</td>\n",
              "      <td>japan</td>\n",
              "      <td>honda civic</td>\n",
              "    </tr>\n",
              "    <tr>\n",
              "      <th>101</th>\n",
              "      <td>6</td>\n",
              "      <td>198.00</td>\n",
              "      <td>95.00</td>\n",
              "      <td>2904</td>\n",
              "      <td>16.00</td>\n",
              "      <td>73</td>\n",
              "      <td>usa</td>\n",
              "      <td>plymouth duster</td>\n",
              "    </tr>\n",
              "    <tr>\n",
              "      <th>374</th>\n",
              "      <td>4</td>\n",
              "      <td>151.00</td>\n",
              "      <td>nan</td>\n",
              "      <td>3035</td>\n",
              "      <td>20.50</td>\n",
              "      <td>82</td>\n",
              "      <td>usa</td>\n",
              "      <td>amc concord dl</td>\n",
              "    </tr>\n",
              "    <tr>\n",
              "      <th>148</th>\n",
              "      <td>4</td>\n",
              "      <td>116.00</td>\n",
              "      <td>75.00</td>\n",
              "      <td>2246</td>\n",
              "      <td>14.00</td>\n",
              "      <td>74</td>\n",
              "      <td>europe</td>\n",
              "      <td>fiat 124 tc</td>\n",
              "    </tr>\n",
              "    <tr>\n",
              "      <th>235</th>\n",
              "      <td>4</td>\n",
              "      <td>97.00</td>\n",
              "      <td>75.00</td>\n",
              "      <td>2265</td>\n",
              "      <td>18.20</td>\n",
              "      <td>77</td>\n",
              "      <td>japan</td>\n",
              "      <td>toyota corolla liftback</td>\n",
              "    </tr>\n",
              "  </tbody>\n",
              "</table>\n",
              "</div>"
            ],
            "text/plain": [
              "     cylinders  displacement  ...  origin                     name\n",
              "198          4         91.00  ...   japan              honda civic\n",
              "101          6        198.00  ...     usa          plymouth duster\n",
              "374          4        151.00  ...     usa           amc concord dl\n",
              "148          4        116.00  ...  europe              fiat 124 tc\n",
              "235          4         97.00  ...   japan  toyota corolla liftback\n",
              "\n",
              "[5 rows x 8 columns]"
            ]
          },
          "metadata": {
            "tags": []
          },
          "execution_count": 50
        }
      ]
    },
    {
      "cell_type": "code",
      "metadata": {
        "colab": {
          "base_uri": "https://localhost:8080/"
        },
        "id": "wl3szSa22uJ-",
        "outputId": "6d2cf69b-1c8f-4f08-caa0-bbb57807032e"
      },
      "source": [
        "joblib.dump(knn, filename=\"knn.joblib\")"
      ],
      "execution_count": null,
      "outputs": [
        {
          "output_type": "execute_result",
          "data": {
            "text/plain": [
              "['knn.joblib']"
            ]
          },
          "metadata": {
            "tags": []
          },
          "execution_count": 51
        }
      ]
    },
    {
      "cell_type": "code",
      "metadata": {
        "id": "o0qtuq5K3fJD"
      },
      "source": [
        "knn = None"
      ],
      "execution_count": null,
      "outputs": []
    },
    {
      "cell_type": "markdown",
      "metadata": {
        "id": "gKvocEGX3kzO"
      },
      "source": [
        "## Emular sobre predicciones nuevas"
      ]
    },
    {
      "cell_type": "code",
      "metadata": {
        "colab": {
          "base_uri": "https://localhost:8080/",
          "height": 206
        },
        "id": "NgZHvtSS3gpU",
        "outputId": "ab1d085b-94af-4784-985b-0583e2463972"
      },
      "source": [
        "data = pd.read_csv(\"mpg_new_data.csv\")\n",
        "data.head()"
      ],
      "execution_count": null,
      "outputs": [
        {
          "output_type": "execute_result",
          "data": {
            "text/html": [
              "<div>\n",
              "<style scoped>\n",
              "    .dataframe tbody tr th:only-of-type {\n",
              "        vertical-align: middle;\n",
              "    }\n",
              "\n",
              "    .dataframe tbody tr th {\n",
              "        vertical-align: top;\n",
              "    }\n",
              "\n",
              "    .dataframe thead th {\n",
              "        text-align: right;\n",
              "    }\n",
              "</style>\n",
              "<table border=\"1\" class=\"dataframe\">\n",
              "  <thead>\n",
              "    <tr style=\"text-align: right;\">\n",
              "      <th></th>\n",
              "      <th>cylinders</th>\n",
              "      <th>displacement</th>\n",
              "      <th>horsepower</th>\n",
              "      <th>weight</th>\n",
              "      <th>acceleration</th>\n",
              "      <th>model_year</th>\n",
              "      <th>origin</th>\n",
              "      <th>name</th>\n",
              "    </tr>\n",
              "  </thead>\n",
              "  <tbody>\n",
              "    <tr>\n",
              "      <th>0</th>\n",
              "      <td>6</td>\n",
              "      <td>250.00</td>\n",
              "      <td>110.00</td>\n",
              "      <td>3645</td>\n",
              "      <td>16.20</td>\n",
              "      <td>76</td>\n",
              "      <td>usa</td>\n",
              "      <td>pontiac ventura sj</td>\n",
              "    </tr>\n",
              "    <tr>\n",
              "      <th>1</th>\n",
              "      <td>4</td>\n",
              "      <td>107.00</td>\n",
              "      <td>90.00</td>\n",
              "      <td>2430</td>\n",
              "      <td>14.50</td>\n",
              "      <td>70</td>\n",
              "      <td>europe</td>\n",
              "      <td>audi 100 ls</td>\n",
              "    </tr>\n",
              "    <tr>\n",
              "      <th>2</th>\n",
              "      <td>4</td>\n",
              "      <td>135.00</td>\n",
              "      <td>84.00</td>\n",
              "      <td>2490</td>\n",
              "      <td>15.70</td>\n",
              "      <td>81</td>\n",
              "      <td>usa</td>\n",
              "      <td>plymouth reliant</td>\n",
              "    </tr>\n",
              "    <tr>\n",
              "      <th>3</th>\n",
              "      <td>4</td>\n",
              "      <td>91.00</td>\n",
              "      <td>70.00</td>\n",
              "      <td>1955</td>\n",
              "      <td>20.50</td>\n",
              "      <td>71</td>\n",
              "      <td>usa</td>\n",
              "      <td>plymouth cricket</td>\n",
              "    </tr>\n",
              "    <tr>\n",
              "      <th>4</th>\n",
              "      <td>4</td>\n",
              "      <td>146.00</td>\n",
              "      <td>67.00</td>\n",
              "      <td>3250</td>\n",
              "      <td>21.80</td>\n",
              "      <td>80</td>\n",
              "      <td>europe</td>\n",
              "      <td>mercedes-benz 240d</td>\n",
              "    </tr>\n",
              "  </tbody>\n",
              "</table>\n",
              "</div>"
            ],
            "text/plain": [
              "   cylinders  displacement  horsepower  ...  model_year  origin                name\n",
              "0          6        250.00      110.00  ...          76     usa  pontiac ventura sj\n",
              "1          4        107.00       90.00  ...          70  europe         audi 100 ls\n",
              "2          4        135.00       84.00  ...          81     usa    plymouth reliant\n",
              "3          4         91.00       70.00  ...          71     usa    plymouth cricket\n",
              "4          4        146.00       67.00  ...          80  europe  mercedes-benz 240d\n",
              "\n",
              "[5 rows x 8 columns]"
            ]
          },
          "metadata": {
            "tags": []
          },
          "execution_count": 53
        }
      ]
    },
    {
      "cell_type": "code",
      "metadata": {
        "id": "yYQ4lAFy5SQ6"
      },
      "source": [
        "# \n",
        "\n",
        "imputer_num\n",
        "\n",
        "imputer_cat"
      ],
      "execution_count": null,
      "outputs": []
    },
    {
      "cell_type": "code",
      "metadata": {
        "colab": {
          "base_uri": "https://localhost:8080/"
        },
        "id": "FwR5545y3wLe",
        "outputId": "f3aaa113-712d-481f-ebc1-9398f31149bc"
      },
      "source": [
        "model = joblib.load(filename=\"knn.joblib\")\n",
        "model"
      ],
      "execution_count": null,
      "outputs": [
        {
          "output_type": "execute_result",
          "data": {
            "text/plain": [
              "Pipeline(memory=None,\n",
              "         steps=[('columntransformer',\n",
              "                 ColumnTransformer(n_jobs=None, remainder='drop',\n",
              "                                   sparse_threshold=0.3,\n",
              "                                   transformer_weights=None,\n",
              "                                   transformers=[('pipeline-1',\n",
              "                                                  Pipeline(memory=None,\n",
              "                                                           steps=[('simpleimputer',\n",
              "                                                                   SimpleImputer(add_indicator=False,\n",
              "                                                                                 copy=True,\n",
              "                                                                                 fill_value=None,\n",
              "                                                                                 missing_values=nan,\n",
              "                                                                                 strategy='median',\n",
              "                                                                                 verbose=0)),\n",
              "                                                                  ('standardscaler',\n",
              "                                                                   Standard...\n",
              "                                                                  ('onehotencoder',\n",
              "                                                                   OneHotEncoder(categories='auto',\n",
              "                                                                                 drop='first',\n",
              "                                                                                 dtype=<class 'numpy.float64'>,\n",
              "                                                                                 handle_unknown='error',\n",
              "                                                                                 sparse=False))],\n",
              "                                                           verbose=False),\n",
              "                                                  ['origin'])],\n",
              "                                   verbose=False)),\n",
              "                ('kneighborsregressor',\n",
              "                 KNeighborsRegressor(algorithm='auto', leaf_size=30,\n",
              "                                     metric='minkowski', metric_params=None,\n",
              "                                     n_jobs=None, n_neighbors=5, p=2,\n",
              "                                     weights='uniform'))],\n",
              "         verbose=False)"
            ]
          },
          "metadata": {
            "tags": []
          },
          "execution_count": 55
        }
      ]
    },
    {
      "cell_type": "code",
      "metadata": {
        "colab": {
          "base_uri": "https://localhost:8080/",
          "height": 1000
        },
        "id": "mn7PQy2w4ugi",
        "outputId": "1cecacd8-36d2-4360-b3c6-e70121ccf8c0"
      },
      "source": [
        "data[\"mpg\"] = model.predict(data)\n",
        "\n",
        "data"
      ],
      "execution_count": null,
      "outputs": [
        {
          "output_type": "execute_result",
          "data": {
            "text/html": [
              "<div>\n",
              "<style scoped>\n",
              "    .dataframe tbody tr th:only-of-type {\n",
              "        vertical-align: middle;\n",
              "    }\n",
              "\n",
              "    .dataframe tbody tr th {\n",
              "        vertical-align: top;\n",
              "    }\n",
              "\n",
              "    .dataframe thead th {\n",
              "        text-align: right;\n",
              "    }\n",
              "</style>\n",
              "<table border=\"1\" class=\"dataframe\">\n",
              "  <thead>\n",
              "    <tr style=\"text-align: right;\">\n",
              "      <th></th>\n",
              "      <th>cylinders</th>\n",
              "      <th>displacement</th>\n",
              "      <th>horsepower</th>\n",
              "      <th>weight</th>\n",
              "      <th>acceleration</th>\n",
              "      <th>model_year</th>\n",
              "      <th>origin</th>\n",
              "      <th>name</th>\n",
              "      <th>mpg</th>\n",
              "    </tr>\n",
              "  </thead>\n",
              "  <tbody>\n",
              "    <tr>\n",
              "      <th>0</th>\n",
              "      <td>6</td>\n",
              "      <td>250.00</td>\n",
              "      <td>110.00</td>\n",
              "      <td>3645</td>\n",
              "      <td>16.20</td>\n",
              "      <td>76</td>\n",
              "      <td>usa</td>\n",
              "      <td>pontiac ventura sj</td>\n",
              "      <td>19.50</td>\n",
              "    </tr>\n",
              "    <tr>\n",
              "      <th>1</th>\n",
              "      <td>4</td>\n",
              "      <td>107.00</td>\n",
              "      <td>90.00</td>\n",
              "      <td>2430</td>\n",
              "      <td>14.50</td>\n",
              "      <td>70</td>\n",
              "      <td>europe</td>\n",
              "      <td>audi 100 ls</td>\n",
              "      <td>26.00</td>\n",
              "    </tr>\n",
              "    <tr>\n",
              "      <th>2</th>\n",
              "      <td>4</td>\n",
              "      <td>135.00</td>\n",
              "      <td>84.00</td>\n",
              "      <td>2490</td>\n",
              "      <td>15.70</td>\n",
              "      <td>81</td>\n",
              "      <td>usa</td>\n",
              "      <td>plymouth reliant</td>\n",
              "      <td>27.32</td>\n",
              "    </tr>\n",
              "    <tr>\n",
              "      <th>3</th>\n",
              "      <td>4</td>\n",
              "      <td>91.00</td>\n",
              "      <td>70.00</td>\n",
              "      <td>1955</td>\n",
              "      <td>20.50</td>\n",
              "      <td>71</td>\n",
              "      <td>usa</td>\n",
              "      <td>plymouth cricket</td>\n",
              "      <td>23.90</td>\n",
              "    </tr>\n",
              "    <tr>\n",
              "      <th>4</th>\n",
              "      <td>4</td>\n",
              "      <td>146.00</td>\n",
              "      <td>67.00</td>\n",
              "      <td>3250</td>\n",
              "      <td>21.80</td>\n",
              "      <td>80</td>\n",
              "      <td>europe</td>\n",
              "      <td>mercedes-benz 240d</td>\n",
              "      <td>25.98</td>\n",
              "    </tr>\n",
              "    <tr>\n",
              "      <th>5</th>\n",
              "      <td>8</td>\n",
              "      <td>350.00</td>\n",
              "      <td>105.00</td>\n",
              "      <td>3725</td>\n",
              "      <td>19.00</td>\n",
              "      <td>81</td>\n",
              "      <td>usa</td>\n",
              "      <td>oldsmobile cutlass ls</td>\n",
              "      <td>20.22</td>\n",
              "    </tr>\n",
              "    <tr>\n",
              "      <th>6</th>\n",
              "      <td>6</td>\n",
              "      <td>200.00</td>\n",
              "      <td>81.00</td>\n",
              "      <td>3012</td>\n",
              "      <td>17.60</td>\n",
              "      <td>76</td>\n",
              "      <td>usa</td>\n",
              "      <td>ford maverick</td>\n",
              "      <td>21.50</td>\n",
              "    </tr>\n",
              "    <tr>\n",
              "      <th>7</th>\n",
              "      <td>6</td>\n",
              "      <td>250.00</td>\n",
              "      <td>88.00</td>\n",
              "      <td>3139</td>\n",
              "      <td>14.50</td>\n",
              "      <td>71</td>\n",
              "      <td>usa</td>\n",
              "      <td>ford mustang</td>\n",
              "      <td>19.60</td>\n",
              "    </tr>\n",
              "    <tr>\n",
              "      <th>8</th>\n",
              "      <td>4</td>\n",
              "      <td>91.00</td>\n",
              "      <td>67.00</td>\n",
              "      <td>1965</td>\n",
              "      <td>15.70</td>\n",
              "      <td>82</td>\n",
              "      <td>japan</td>\n",
              "      <td>honda civic (auto)</td>\n",
              "      <td>35.86</td>\n",
              "    </tr>\n",
              "    <tr>\n",
              "      <th>9</th>\n",
              "      <td>4</td>\n",
              "      <td>98.00</td>\n",
              "      <td>79.00</td>\n",
              "      <td>2255</td>\n",
              "      <td>17.70</td>\n",
              "      <td>76</td>\n",
              "      <td>usa</td>\n",
              "      <td>dodge colt</td>\n",
              "      <td>25.00</td>\n",
              "    </tr>\n",
              "    <tr>\n",
              "      <th>10</th>\n",
              "      <td>6</td>\n",
              "      <td>200.00</td>\n",
              "      <td>nan</td>\n",
              "      <td>2875</td>\n",
              "      <td>17.00</td>\n",
              "      <td>74</td>\n",
              "      <td>usa</td>\n",
              "      <td>ford maverick</td>\n",
              "      <td>21.58</td>\n",
              "    </tr>\n",
              "    <tr>\n",
              "      <th>11</th>\n",
              "      <td>4</td>\n",
              "      <td>135.00</td>\n",
              "      <td>84.00</td>\n",
              "      <td>2370</td>\n",
              "      <td>13.00</td>\n",
              "      <td>82</td>\n",
              "      <td>usa</td>\n",
              "      <td>dodge charger 2.2</td>\n",
              "      <td>29.98</td>\n",
              "    </tr>\n",
              "    <tr>\n",
              "      <th>12</th>\n",
              "      <td>4</td>\n",
              "      <td>140.00</td>\n",
              "      <td>88.00</td>\n",
              "      <td>2890</td>\n",
              "      <td>17.30</td>\n",
              "      <td>79</td>\n",
              "      <td>usa</td>\n",
              "      <td>ford fairmont 4</td>\n",
              "      <td>25.30</td>\n",
              "    </tr>\n",
              "    <tr>\n",
              "      <th>13</th>\n",
              "      <td>8</td>\n",
              "      <td>360.00</td>\n",
              "      <td>170.00</td>\n",
              "      <td>4654</td>\n",
              "      <td>13.00</td>\n",
              "      <td>73</td>\n",
              "      <td>usa</td>\n",
              "      <td>plymouth custom suburb</td>\n",
              "      <td>13.30</td>\n",
              "    </tr>\n",
              "    <tr>\n",
              "      <th>14</th>\n",
              "      <td>4</td>\n",
              "      <td>89.00</td>\n",
              "      <td>71.00</td>\n",
              "      <td>1925</td>\n",
              "      <td>14.00</td>\n",
              "      <td>79</td>\n",
              "      <td>europe</td>\n",
              "      <td>vw rabbit custom</td>\n",
              "      <td>29.78</td>\n",
              "    </tr>\n",
              "    <tr>\n",
              "      <th>15</th>\n",
              "      <td>4</td>\n",
              "      <td>105.00</td>\n",
              "      <td>70.00</td>\n",
              "      <td>2200</td>\n",
              "      <td>13.20</td>\n",
              "      <td>79</td>\n",
              "      <td>usa</td>\n",
              "      <td>plymouth horizon</td>\n",
              "      <td>28.88</td>\n",
              "    </tr>\n",
              "    <tr>\n",
              "      <th>16</th>\n",
              "      <td>6</td>\n",
              "      <td>250.00</td>\n",
              "      <td>78.00</td>\n",
              "      <td>3574</td>\n",
              "      <td>21.00</td>\n",
              "      <td>76</td>\n",
              "      <td>usa</td>\n",
              "      <td>ford granada ghia</td>\n",
              "      <td>18.40</td>\n",
              "    </tr>\n",
              "    <tr>\n",
              "      <th>17</th>\n",
              "      <td>4</td>\n",
              "      <td>85.00</td>\n",
              "      <td>52.00</td>\n",
              "      <td>2035</td>\n",
              "      <td>22.20</td>\n",
              "      <td>76</td>\n",
              "      <td>usa</td>\n",
              "      <td>chevrolet chevette</td>\n",
              "      <td>29.12</td>\n",
              "    </tr>\n",
              "    <tr>\n",
              "      <th>18</th>\n",
              "      <td>6</td>\n",
              "      <td>232.00</td>\n",
              "      <td>100.00</td>\n",
              "      <td>2914</td>\n",
              "      <td>16.00</td>\n",
              "      <td>75</td>\n",
              "      <td>usa</td>\n",
              "      <td>amc gremlin</td>\n",
              "      <td>19.40</td>\n",
              "    </tr>\n",
              "    <tr>\n",
              "      <th>19</th>\n",
              "      <td>4</td>\n",
              "      <td>122.00</td>\n",
              "      <td>85.00</td>\n",
              "      <td>2310</td>\n",
              "      <td>18.50</td>\n",
              "      <td>73</td>\n",
              "      <td>usa</td>\n",
              "      <td>ford pinto</td>\n",
              "      <td>25.80</td>\n",
              "    </tr>\n",
              "    <tr>\n",
              "      <th>20</th>\n",
              "      <td>6</td>\n",
              "      <td>250.00</td>\n",
              "      <td>88.00</td>\n",
              "      <td>3302</td>\n",
              "      <td>15.50</td>\n",
              "      <td>71</td>\n",
              "      <td>usa</td>\n",
              "      <td>ford torino 500</td>\n",
              "      <td>19.00</td>\n",
              "    </tr>\n",
              "    <tr>\n",
              "      <th>21</th>\n",
              "      <td>6</td>\n",
              "      <td>258.00</td>\n",
              "      <td>110.00</td>\n",
              "      <td>3730</td>\n",
              "      <td>19.00</td>\n",
              "      <td>75</td>\n",
              "      <td>usa</td>\n",
              "      <td>amc matador</td>\n",
              "      <td>18.46</td>\n",
              "    </tr>\n",
              "    <tr>\n",
              "      <th>22</th>\n",
              "      <td>6</td>\n",
              "      <td>250.00</td>\n",
              "      <td>110.00</td>\n",
              "      <td>3520</td>\n",
              "      <td>16.40</td>\n",
              "      <td>77</td>\n",
              "      <td>usa</td>\n",
              "      <td>chevrolet concours</td>\n",
              "      <td>19.48</td>\n",
              "    </tr>\n",
              "    <tr>\n",
              "      <th>23</th>\n",
              "      <td>6</td>\n",
              "      <td>198.00</td>\n",
              "      <td>95.00</td>\n",
              "      <td>3102</td>\n",
              "      <td>16.50</td>\n",
              "      <td>74</td>\n",
              "      <td>usa</td>\n",
              "      <td>plymouth duster</td>\n",
              "      <td>19.88</td>\n",
              "    </tr>\n",
              "    <tr>\n",
              "      <th>24</th>\n",
              "      <td>8</td>\n",
              "      <td>429.00</td>\n",
              "      <td>198.00</td>\n",
              "      <td>4341</td>\n",
              "      <td>10.00</td>\n",
              "      <td>70</td>\n",
              "      <td>usa</td>\n",
              "      <td>ford galaxie 500</td>\n",
              "      <td>13.50</td>\n",
              "    </tr>\n",
              "    <tr>\n",
              "      <th>25</th>\n",
              "      <td>8</td>\n",
              "      <td>400.00</td>\n",
              "      <td>190.00</td>\n",
              "      <td>4422</td>\n",
              "      <td>12.50</td>\n",
              "      <td>72</td>\n",
              "      <td>usa</td>\n",
              "      <td>chrysler newport royal</td>\n",
              "      <td>14.40</td>\n",
              "    </tr>\n",
              "    <tr>\n",
              "      <th>26</th>\n",
              "      <td>8</td>\n",
              "      <td>318.00</td>\n",
              "      <td>150.00</td>\n",
              "      <td>3777</td>\n",
              "      <td>12.50</td>\n",
              "      <td>73</td>\n",
              "      <td>usa</td>\n",
              "      <td>dodge coronet custom</td>\n",
              "      <td>15.30</td>\n",
              "    </tr>\n",
              "    <tr>\n",
              "      <th>27</th>\n",
              "      <td>8</td>\n",
              "      <td>340.00</td>\n",
              "      <td>160.00</td>\n",
              "      <td>3609</td>\n",
              "      <td>8.00</td>\n",
              "      <td>70</td>\n",
              "      <td>usa</td>\n",
              "      <td>plymouth 'cuda 340</td>\n",
              "      <td>15.20</td>\n",
              "    </tr>\n",
              "    <tr>\n",
              "      <th>28</th>\n",
              "      <td>6</td>\n",
              "      <td>232.00</td>\n",
              "      <td>100.00</td>\n",
              "      <td>2901</td>\n",
              "      <td>16.00</td>\n",
              "      <td>74</td>\n",
              "      <td>usa</td>\n",
              "      <td>amc hornet</td>\n",
              "      <td>19.40</td>\n",
              "    </tr>\n",
              "    <tr>\n",
              "      <th>29</th>\n",
              "      <td>4</td>\n",
              "      <td>119.00</td>\n",
              "      <td>97.00</td>\n",
              "      <td>2405</td>\n",
              "      <td>14.90</td>\n",
              "      <td>78</td>\n",
              "      <td>japan</td>\n",
              "      <td>datsun 200-sx</td>\n",
              "      <td>26.38</td>\n",
              "    </tr>\n",
              "    <tr>\n",
              "      <th>30</th>\n",
              "      <td>6</td>\n",
              "      <td>200.00</td>\n",
              "      <td>85.00</td>\n",
              "      <td>2587</td>\n",
              "      <td>16.00</td>\n",
              "      <td>70</td>\n",
              "      <td>usa</td>\n",
              "      <td>ford maverick</td>\n",
              "      <td>21.04</td>\n",
              "    </tr>\n",
              "    <tr>\n",
              "      <th>31</th>\n",
              "      <td>4</td>\n",
              "      <td>97.00</td>\n",
              "      <td>75.00</td>\n",
              "      <td>2265</td>\n",
              "      <td>18.20</td>\n",
              "      <td>77</td>\n",
              "      <td>japan</td>\n",
              "      <td>toyota corolla liftback</td>\n",
              "      <td>34.80</td>\n",
              "    </tr>\n",
              "    <tr>\n",
              "      <th>32</th>\n",
              "      <td>8</td>\n",
              "      <td>383.00</td>\n",
              "      <td>180.00</td>\n",
              "      <td>4955</td>\n",
              "      <td>11.50</td>\n",
              "      <td>71</td>\n",
              "      <td>usa</td>\n",
              "      <td>dodge monaco (sw)</td>\n",
              "      <td>13.60</td>\n",
              "    </tr>\n",
              "    <tr>\n",
              "      <th>33</th>\n",
              "      <td>4</td>\n",
              "      <td>86.00</td>\n",
              "      <td>65.00</td>\n",
              "      <td>2019</td>\n",
              "      <td>16.40</td>\n",
              "      <td>80</td>\n",
              "      <td>japan</td>\n",
              "      <td>datsun 310</td>\n",
              "      <td>34.54</td>\n",
              "    </tr>\n",
              "    <tr>\n",
              "      <th>34</th>\n",
              "      <td>4</td>\n",
              "      <td>121.00</td>\n",
              "      <td>112.00</td>\n",
              "      <td>2933</td>\n",
              "      <td>14.50</td>\n",
              "      <td>72</td>\n",
              "      <td>europe</td>\n",
              "      <td>volvo 145e (sw)</td>\n",
              "      <td>22.12</td>\n",
              "    </tr>\n",
              "    <tr>\n",
              "      <th>35</th>\n",
              "      <td>4</td>\n",
              "      <td>97.00</td>\n",
              "      <td>88.00</td>\n",
              "      <td>2130</td>\n",
              "      <td>14.50</td>\n",
              "      <td>70</td>\n",
              "      <td>japan</td>\n",
              "      <td>datsun pl510</td>\n",
              "      <td>30.20</td>\n",
              "    </tr>\n",
              "    <tr>\n",
              "      <th>36</th>\n",
              "      <td>4</td>\n",
              "      <td>120.00</td>\n",
              "      <td>88.00</td>\n",
              "      <td>2160</td>\n",
              "      <td>14.50</td>\n",
              "      <td>82</td>\n",
              "      <td>japan</td>\n",
              "      <td>nissan stanza xe</td>\n",
              "      <td>27.80</td>\n",
              "    </tr>\n",
              "    <tr>\n",
              "      <th>37</th>\n",
              "      <td>4</td>\n",
              "      <td>119.00</td>\n",
              "      <td>92.00</td>\n",
              "      <td>2434</td>\n",
              "      <td>15.00</td>\n",
              "      <td>80</td>\n",
              "      <td>japan</td>\n",
              "      <td>datsun 510 hatchback</td>\n",
              "      <td>26.38</td>\n",
              "    </tr>\n",
              "    <tr>\n",
              "      <th>38</th>\n",
              "      <td>6</td>\n",
              "      <td>231.00</td>\n",
              "      <td>110.00</td>\n",
              "      <td>3039</td>\n",
              "      <td>15.00</td>\n",
              "      <td>75</td>\n",
              "      <td>usa</td>\n",
              "      <td>buick skyhawk</td>\n",
              "      <td>20.70</td>\n",
              "    </tr>\n",
              "    <tr>\n",
              "      <th>39</th>\n",
              "      <td>8</td>\n",
              "      <td>318.00</td>\n",
              "      <td>150.00</td>\n",
              "      <td>3940</td>\n",
              "      <td>13.20</td>\n",
              "      <td>76</td>\n",
              "      <td>NaN</td>\n",
              "      <td>plymouth volare premier v8</td>\n",
              "      <td>14.60</td>\n",
              "    </tr>\n",
              "    <tr>\n",
              "      <th>40</th>\n",
              "      <td>4</td>\n",
              "      <td>107.00</td>\n",
              "      <td>86.00</td>\n",
              "      <td>2464</td>\n",
              "      <td>15.50</td>\n",
              "      <td>76</td>\n",
              "      <td>europe</td>\n",
              "      <td>fiat 131</td>\n",
              "      <td>29.70</td>\n",
              "    </tr>\n",
              "    <tr>\n",
              "      <th>41</th>\n",
              "      <td>8</td>\n",
              "      <td>302.00</td>\n",
              "      <td>130.00</td>\n",
              "      <td>3870</td>\n",
              "      <td>15.00</td>\n",
              "      <td>76</td>\n",
              "      <td>usa</td>\n",
              "      <td>ford f108</td>\n",
              "      <td>16.28</td>\n",
              "    </tr>\n",
              "    <tr>\n",
              "      <th>42</th>\n",
              "      <td>8</td>\n",
              "      <td>350.00</td>\n",
              "      <td>180.00</td>\n",
              "      <td>3664</td>\n",
              "      <td>11.00</td>\n",
              "      <td>73</td>\n",
              "      <td>usa</td>\n",
              "      <td>oldsmobile omega</td>\n",
              "      <td>14.10</td>\n",
              "    </tr>\n",
              "    <tr>\n",
              "      <th>43</th>\n",
              "      <td>8</td>\n",
              "      <td>454.00</td>\n",
              "      <td>220.00</td>\n",
              "      <td>4354</td>\n",
              "      <td>9.00</td>\n",
              "      <td>70</td>\n",
              "      <td>usa</td>\n",
              "      <td>chevrolet impala</td>\n",
              "      <td>13.40</td>\n",
              "    </tr>\n",
              "    <tr>\n",
              "      <th>44</th>\n",
              "      <td>8</td>\n",
              "      <td>350.00</td>\n",
              "      <td>160.00</td>\n",
              "      <td>4456</td>\n",
              "      <td>13.50</td>\n",
              "      <td>72</td>\n",
              "      <td>usa</td>\n",
              "      <td>oldsmobile delta 88 royale</td>\n",
              "      <td>13.60</td>\n",
              "    </tr>\n",
              "    <tr>\n",
              "      <th>45</th>\n",
              "      <td>8</td>\n",
              "      <td>260.00</td>\n",
              "      <td>90.00</td>\n",
              "      <td>3420</td>\n",
              "      <td>22.20</td>\n",
              "      <td>79</td>\n",
              "      <td>usa</td>\n",
              "      <td>oldsmobile cutlass salon brougham</td>\n",
              "      <td>20.20</td>\n",
              "    </tr>\n",
              "    <tr>\n",
              "      <th>46</th>\n",
              "      <td>4</td>\n",
              "      <td>151.00</td>\n",
              "      <td>90.00</td>\n",
              "      <td>2950</td>\n",
              "      <td>17.30</td>\n",
              "      <td>82</td>\n",
              "      <td>usa</td>\n",
              "      <td>chevrolet camaro</td>\n",
              "      <td>25.30</td>\n",
              "    </tr>\n",
              "    <tr>\n",
              "      <th>47</th>\n",
              "      <td>4</td>\n",
              "      <td>79.00</td>\n",
              "      <td>67.00</td>\n",
              "      <td>2000</td>\n",
              "      <td>16.00</td>\n",
              "      <td>74</td>\n",
              "      <td>europe</td>\n",
              "      <td>fiat x1.9</td>\n",
              "      <td>29.36</td>\n",
              "    </tr>\n",
              "  </tbody>\n",
              "</table>\n",
              "</div>"
            ],
            "text/plain": [
              "    cylinders  displacement  ...                               name   mpg\n",
              "0           6        250.00  ...                 pontiac ventura sj 19.50\n",
              "1           4        107.00  ...                        audi 100 ls 26.00\n",
              "2           4        135.00  ...                   plymouth reliant 27.32\n",
              "3           4         91.00  ...                   plymouth cricket 23.90\n",
              "4           4        146.00  ...                 mercedes-benz 240d 25.98\n",
              "5           8        350.00  ...              oldsmobile cutlass ls 20.22\n",
              "6           6        200.00  ...                      ford maverick 21.50\n",
              "7           6        250.00  ...                       ford mustang 19.60\n",
              "8           4         91.00  ...                 honda civic (auto) 35.86\n",
              "9           4         98.00  ...                         dodge colt 25.00\n",
              "10          6        200.00  ...                      ford maverick 21.58\n",
              "11          4        135.00  ...                  dodge charger 2.2 29.98\n",
              "12          4        140.00  ...                    ford fairmont 4 25.30\n",
              "13          8        360.00  ...             plymouth custom suburb 13.30\n",
              "14          4         89.00  ...                   vw rabbit custom 29.78\n",
              "15          4        105.00  ...                   plymouth horizon 28.88\n",
              "16          6        250.00  ...                  ford granada ghia 18.40\n",
              "17          4         85.00  ...                 chevrolet chevette 29.12\n",
              "18          6        232.00  ...                        amc gremlin 19.40\n",
              "19          4        122.00  ...                         ford pinto 25.80\n",
              "20          6        250.00  ...                    ford torino 500 19.00\n",
              "21          6        258.00  ...                        amc matador 18.46\n",
              "22          6        250.00  ...                 chevrolet concours 19.48\n",
              "23          6        198.00  ...                    plymouth duster 19.88\n",
              "24          8        429.00  ...                   ford galaxie 500 13.50\n",
              "25          8        400.00  ...             chrysler newport royal 14.40\n",
              "26          8        318.00  ...               dodge coronet custom 15.30\n",
              "27          8        340.00  ...                 plymouth 'cuda 340 15.20\n",
              "28          6        232.00  ...                         amc hornet 19.40\n",
              "29          4        119.00  ...                      datsun 200-sx 26.38\n",
              "30          6        200.00  ...                      ford maverick 21.04\n",
              "31          4         97.00  ...            toyota corolla liftback 34.80\n",
              "32          8        383.00  ...                  dodge monaco (sw) 13.60\n",
              "33          4         86.00  ...                         datsun 310 34.54\n",
              "34          4        121.00  ...                    volvo 145e (sw) 22.12\n",
              "35          4         97.00  ...                       datsun pl510 30.20\n",
              "36          4        120.00  ...                   nissan stanza xe 27.80\n",
              "37          4        119.00  ...               datsun 510 hatchback 26.38\n",
              "38          6        231.00  ...                      buick skyhawk 20.70\n",
              "39          8        318.00  ...         plymouth volare premier v8 14.60\n",
              "40          4        107.00  ...                           fiat 131 29.70\n",
              "41          8        302.00  ...                          ford f108 16.28\n",
              "42          8        350.00  ...                   oldsmobile omega 14.10\n",
              "43          8        454.00  ...                   chevrolet impala 13.40\n",
              "44          8        350.00  ...         oldsmobile delta 88 royale 13.60\n",
              "45          8        260.00  ...  oldsmobile cutlass salon brougham 20.20\n",
              "46          4        151.00  ...                   chevrolet camaro 25.30\n",
              "47          4         79.00  ...                          fiat x1.9 29.36\n",
              "\n",
              "[48 rows x 9 columns]"
            ]
          },
          "metadata": {
            "tags": []
          },
          "execution_count": 57
        }
      ]
    },
    {
      "cell_type": "code",
      "metadata": {
        "id": "oNtpybtn5CY9"
      },
      "source": [
        ""
      ],
      "execution_count": null,
      "outputs": []
    }
  ]
}