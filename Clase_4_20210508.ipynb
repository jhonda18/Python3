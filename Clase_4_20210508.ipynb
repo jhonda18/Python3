{
  "nbformat": 4,
  "nbformat_minor": 0,
  "metadata": {
    "colab": {
      "name": "Clase_4-20210508.ipynb",
      "provenance": [],
      "include_colab_link": true
    },
    "kernelspec": {
      "name": "python3",
      "display_name": "Python 3"
    },
    "language_info": {
      "name": "python"
    }
  },
  "cells": [
    {
      "cell_type": "markdown",
      "metadata": {
        "id": "view-in-github",
        "colab_type": "text"
      },
      "source": [
        "<a href=\"https://colab.research.google.com/github/jhonda18/Python3/blob/main/Clase_4_20210508.ipynb\" target=\"_parent\"><img src=\"https://colab.research.google.com/assets/colab-badge.svg\" alt=\"Open In Colab\"/></a>"
      ]
    },
    {
      "cell_type": "markdown",
      "metadata": {
        "id": "HIzfq-lnD9QY"
      },
      "source": [
        "## Carga de módulos (librerías)\n",
        "\n",
        "* La clase pasada vimos un poco de Pandas\n",
        "* Hoy continuamos con Pandas y detección y tratamiento de datos missing."
      ]
    },
    {
      "cell_type": "code",
      "metadata": {
        "id": "VcFx7RpWG82-"
      },
      "source": [
        "import numpy as np\n",
        "import pandas as pd\n",
        "import seaborn as sns\n",
        "import missingno as msno\n",
        "import matplotlib.pyplot as plt"
      ],
      "execution_count": null,
      "outputs": []
    },
    {
      "cell_type": "code",
      "metadata": {
        "colab": {
          "base_uri": "https://localhost:8080/",
          "height": 202
        },
        "id": "gyo8zZxjBAus",
        "outputId": "b4611aa1-a523-4280-8610-71e9b20d382d"
      },
      "source": [
        "schema = {\"PatientID\": \"category\",\n",
        "          \"Diabetic\": \"category\"}\n",
        "\n",
        "diabetes = pd.read_csv(\"https://raw.githubusercontent.com/stivenlopezg/Modulo-Python-3/master/data/diabetes.csv\", dtype=schema)\n",
        "diabetes.head()"
      ],
      "execution_count": null,
      "outputs": [
        {
          "output_type": "execute_result",
          "data": {
            "text/html": [
              "<div>\n",
              "<style scoped>\n",
              "    .dataframe tbody tr th:only-of-type {\n",
              "        vertical-align: middle;\n",
              "    }\n",
              "\n",
              "    .dataframe tbody tr th {\n",
              "        vertical-align: top;\n",
              "    }\n",
              "\n",
              "    .dataframe thead th {\n",
              "        text-align: right;\n",
              "    }\n",
              "</style>\n",
              "<table border=\"1\" class=\"dataframe\">\n",
              "  <thead>\n",
              "    <tr style=\"text-align: right;\">\n",
              "      <th></th>\n",
              "      <th>PatientID</th>\n",
              "      <th>Pregnancies</th>\n",
              "      <th>PlasmaGlucose</th>\n",
              "      <th>DiastolicBloodPressure</th>\n",
              "      <th>TricepsThickness</th>\n",
              "      <th>SerumInsulin</th>\n",
              "      <th>BMI</th>\n",
              "      <th>DiabetesPedigree</th>\n",
              "      <th>Age</th>\n",
              "      <th>Diabetic</th>\n",
              "    </tr>\n",
              "  </thead>\n",
              "  <tbody>\n",
              "    <tr>\n",
              "      <th>0</th>\n",
              "      <td>1354778</td>\n",
              "      <td>0</td>\n",
              "      <td>171</td>\n",
              "      <td>80</td>\n",
              "      <td>34</td>\n",
              "      <td>23</td>\n",
              "      <td>43.509726</td>\n",
              "      <td>1.213191</td>\n",
              "      <td>21</td>\n",
              "      <td>0</td>\n",
              "    </tr>\n",
              "    <tr>\n",
              "      <th>1</th>\n",
              "      <td>1147438</td>\n",
              "      <td>8</td>\n",
              "      <td>92</td>\n",
              "      <td>93</td>\n",
              "      <td>47</td>\n",
              "      <td>36</td>\n",
              "      <td>21.240576</td>\n",
              "      <td>0.158365</td>\n",
              "      <td>23</td>\n",
              "      <td>0</td>\n",
              "    </tr>\n",
              "    <tr>\n",
              "      <th>2</th>\n",
              "      <td>1640031</td>\n",
              "      <td>7</td>\n",
              "      <td>115</td>\n",
              "      <td>47</td>\n",
              "      <td>52</td>\n",
              "      <td>35</td>\n",
              "      <td>41.511523</td>\n",
              "      <td>0.079019</td>\n",
              "      <td>23</td>\n",
              "      <td>0</td>\n",
              "    </tr>\n",
              "    <tr>\n",
              "      <th>3</th>\n",
              "      <td>1883350</td>\n",
              "      <td>9</td>\n",
              "      <td>103</td>\n",
              "      <td>78</td>\n",
              "      <td>25</td>\n",
              "      <td>304</td>\n",
              "      <td>29.582192</td>\n",
              "      <td>1.282870</td>\n",
              "      <td>43</td>\n",
              "      <td>1</td>\n",
              "    </tr>\n",
              "    <tr>\n",
              "      <th>4</th>\n",
              "      <td>1424119</td>\n",
              "      <td>1</td>\n",
              "      <td>85</td>\n",
              "      <td>59</td>\n",
              "      <td>27</td>\n",
              "      <td>35</td>\n",
              "      <td>42.604536</td>\n",
              "      <td>0.549542</td>\n",
              "      <td>22</td>\n",
              "      <td>0</td>\n",
              "    </tr>\n",
              "  </tbody>\n",
              "</table>\n",
              "</div>"
            ],
            "text/plain": [
              "  PatientID  Pregnancies  PlasmaGlucose  ...  DiabetesPedigree  Age  Diabetic\n",
              "0   1354778            0            171  ...          1.213191   21         0\n",
              "1   1147438            8             92  ...          0.158365   23         0\n",
              "2   1640031            7            115  ...          0.079019   23         0\n",
              "3   1883350            9            103  ...          1.282870   43         1\n",
              "4   1424119            1             85  ...          0.549542   22         0\n",
              "\n",
              "[5 rows x 10 columns]"
            ]
          },
          "metadata": {
            "tags": []
          },
          "execution_count": 3
        }
      ]
    },
    {
      "cell_type": "code",
      "metadata": {
        "colab": {
          "base_uri": "https://localhost:8080/"
        },
        "id": "3yWqfl5lHkty",
        "outputId": "b7ebee40-d8bd-4f7f-bb38-0f6ae488756f"
      },
      "source": [
        "diabetes.info()"
      ],
      "execution_count": null,
      "outputs": [
        {
          "output_type": "stream",
          "text": [
            "<class 'pandas.core.frame.DataFrame'>\n",
            "RangeIndex: 15000 entries, 0 to 14999\n",
            "Data columns (total 10 columns):\n",
            " #   Column                  Non-Null Count  Dtype   \n",
            "---  ------                  --------------  -----   \n",
            " 0   PatientID               15000 non-null  category\n",
            " 1   Pregnancies             15000 non-null  int64   \n",
            " 2   PlasmaGlucose           15000 non-null  int64   \n",
            " 3   DiastolicBloodPressure  15000 non-null  int64   \n",
            " 4   TricepsThickness        15000 non-null  int64   \n",
            " 5   SerumInsulin            15000 non-null  int64   \n",
            " 6   BMI                     15000 non-null  float64 \n",
            " 7   DiabetesPedigree        15000 non-null  float64 \n",
            " 8   Age                     15000 non-null  int64   \n",
            " 9   Diabetic                15000 non-null  category\n",
            "dtypes: category(2), float64(2), int64(6)\n",
            "memory usage: 1.7 MB\n"
          ],
          "name": "stdout"
        }
      ]
    },
    {
      "cell_type": "markdown",
      "metadata": {
        "id": "mUJt9HVNFcey"
      },
      "source": [
        "## Trabajar con index\n",
        "Como se ha mencionado, una parte importante de los DataFrames son los index, que por lo general es un valor númerico de 0 a n-1, donde n es el número de observaciones totales en el DataFrame.\n",
        "\n",
        "Sin embargo, podemos mover una columna del cuerpo del DataFrame al índice, de la siguiente forma:\n",
        "\n",
        "* set_index(column_name)\n",
        "\n",
        "También puede tener varios índices, solo debemos pasar una lista sobre el método set_index(). Y para restablecer al DataFrame original,\n",
        "\n",
        "* reset_index()\n",
        "\n",
        "Adicional, el método reset_index() tiene un argumento drop que le permite eliminar el índice.\n"
      ]
    },
    {
      "cell_type": "code",
      "metadata": {
        "id": "WYP_CACQJW7Y",
        "colab": {
          "base_uri": "https://localhost:8080/"
        },
        "outputId": "977f0b7a-b95f-4773-ebfb-75d34a36525b"
      },
      "source": [
        "diabetes.index"
      ],
      "execution_count": null,
      "outputs": [
        {
          "output_type": "execute_result",
          "data": {
            "text/plain": [
              "RangeIndex(start=0, stop=15000, step=1)"
            ]
          },
          "metadata": {
            "tags": []
          },
          "execution_count": 5
        }
      ]
    },
    {
      "cell_type": "code",
      "metadata": {
        "colab": {
          "base_uri": "https://localhost:8080/",
          "height": 233
        },
        "id": "tNUX_R8eH2Iu",
        "outputId": "b80e2d27-3458-4a66-cc1f-66c4a0584615"
      },
      "source": [
        "diabetes = diabetes.set_index(keys='PatientID', inplace=False)\n",
        "diabetes.head()"
      ],
      "execution_count": null,
      "outputs": [
        {
          "output_type": "execute_result",
          "data": {
            "text/html": [
              "<div>\n",
              "<style scoped>\n",
              "    .dataframe tbody tr th:only-of-type {\n",
              "        vertical-align: middle;\n",
              "    }\n",
              "\n",
              "    .dataframe tbody tr th {\n",
              "        vertical-align: top;\n",
              "    }\n",
              "\n",
              "    .dataframe thead th {\n",
              "        text-align: right;\n",
              "    }\n",
              "</style>\n",
              "<table border=\"1\" class=\"dataframe\">\n",
              "  <thead>\n",
              "    <tr style=\"text-align: right;\">\n",
              "      <th></th>\n",
              "      <th>Pregnancies</th>\n",
              "      <th>PlasmaGlucose</th>\n",
              "      <th>DiastolicBloodPressure</th>\n",
              "      <th>TricepsThickness</th>\n",
              "      <th>SerumInsulin</th>\n",
              "      <th>BMI</th>\n",
              "      <th>DiabetesPedigree</th>\n",
              "      <th>Age</th>\n",
              "      <th>Diabetic</th>\n",
              "    </tr>\n",
              "    <tr>\n",
              "      <th>PatientID</th>\n",
              "      <th></th>\n",
              "      <th></th>\n",
              "      <th></th>\n",
              "      <th></th>\n",
              "      <th></th>\n",
              "      <th></th>\n",
              "      <th></th>\n",
              "      <th></th>\n",
              "      <th></th>\n",
              "    </tr>\n",
              "  </thead>\n",
              "  <tbody>\n",
              "    <tr>\n",
              "      <th>1354778</th>\n",
              "      <td>0</td>\n",
              "      <td>171</td>\n",
              "      <td>80</td>\n",
              "      <td>34</td>\n",
              "      <td>23</td>\n",
              "      <td>43.509726</td>\n",
              "      <td>1.213191</td>\n",
              "      <td>21</td>\n",
              "      <td>0</td>\n",
              "    </tr>\n",
              "    <tr>\n",
              "      <th>1147438</th>\n",
              "      <td>8</td>\n",
              "      <td>92</td>\n",
              "      <td>93</td>\n",
              "      <td>47</td>\n",
              "      <td>36</td>\n",
              "      <td>21.240576</td>\n",
              "      <td>0.158365</td>\n",
              "      <td>23</td>\n",
              "      <td>0</td>\n",
              "    </tr>\n",
              "    <tr>\n",
              "      <th>1640031</th>\n",
              "      <td>7</td>\n",
              "      <td>115</td>\n",
              "      <td>47</td>\n",
              "      <td>52</td>\n",
              "      <td>35</td>\n",
              "      <td>41.511523</td>\n",
              "      <td>0.079019</td>\n",
              "      <td>23</td>\n",
              "      <td>0</td>\n",
              "    </tr>\n",
              "    <tr>\n",
              "      <th>1883350</th>\n",
              "      <td>9</td>\n",
              "      <td>103</td>\n",
              "      <td>78</td>\n",
              "      <td>25</td>\n",
              "      <td>304</td>\n",
              "      <td>29.582192</td>\n",
              "      <td>1.282870</td>\n",
              "      <td>43</td>\n",
              "      <td>1</td>\n",
              "    </tr>\n",
              "    <tr>\n",
              "      <th>1424119</th>\n",
              "      <td>1</td>\n",
              "      <td>85</td>\n",
              "      <td>59</td>\n",
              "      <td>27</td>\n",
              "      <td>35</td>\n",
              "      <td>42.604536</td>\n",
              "      <td>0.549542</td>\n",
              "      <td>22</td>\n",
              "      <td>0</td>\n",
              "    </tr>\n",
              "  </tbody>\n",
              "</table>\n",
              "</div>"
            ],
            "text/plain": [
              "           Pregnancies  PlasmaGlucose  ...  Age  Diabetic\n",
              "PatientID                              ...               \n",
              "1354778              0            171  ...   21         0\n",
              "1147438              8             92  ...   23         0\n",
              "1640031              7            115  ...   23         0\n",
              "1883350              9            103  ...   43         1\n",
              "1424119              1             85  ...   22         0\n",
              "\n",
              "[5 rows x 9 columns]"
            ]
          },
          "metadata": {
            "tags": []
          },
          "execution_count": 6
        }
      ]
    },
    {
      "cell_type": "code",
      "metadata": {
        "colab": {
          "base_uri": "https://localhost:8080/"
        },
        "id": "PGVaxPMIIlVS",
        "outputId": "1acbcfb2-ad1b-4ae2-ce5c-35b107e11bc6"
      },
      "source": [
        "diabetes.index"
      ],
      "execution_count": null,
      "outputs": [
        {
          "output_type": "execute_result",
          "data": {
            "text/plain": [
              "CategoricalIndex(['1354778', '1147438', '1640031', '1883350', '1424119',\n",
              "                  '1619297', '1660149', '1458769', '1201647', '1403912',\n",
              "                  ...\n",
              "                  '1220763', '1603490', '1202654', '1165919', '1453189',\n",
              "                  '1490300', '1744410', '1742742', '1099353', '1386396'],\n",
              "                 categories=['1000038', '1000069', '1000118', '1000183', '1000326', '1000340', '1000471', '1000482', ...], ordered=False, name='PatientID', dtype='category', length=15000)"
            ]
          },
          "metadata": {
            "tags": []
          },
          "execution_count": 7
        }
      ]
    },
    {
      "cell_type": "code",
      "metadata": {
        "colab": {
          "base_uri": "https://localhost:8080/"
        },
        "id": "AGSWWCKrI48m",
        "outputId": "84b64548-351b-4e0c-9afe-8dd4177151cd"
      },
      "source": [
        "indices = diabetes.sample(n=10, random_state=42).index.tolist()\n",
        "indices"
      ],
      "execution_count": null,
      "outputs": [
        {
          "output_type": "execute_result",
          "data": {
            "text/plain": [
              "['1763065',\n",
              " '1814475',\n",
              " '1473525',\n",
              " '1123081',\n",
              " '1479105',\n",
              " '1978830',\n",
              " '1689235',\n",
              " '1936277',\n",
              " '1924402',\n",
              " '1614596']"
            ]
          },
          "metadata": {
            "tags": []
          },
          "execution_count": 9
        }
      ]
    },
    {
      "cell_type": "code",
      "metadata": {
        "colab": {
          "base_uri": "https://localhost:8080/",
          "height": 386
        },
        "id": "kIIFXtEIJRMM",
        "outputId": "7f66cdbd-43a6-48a9-8b18-16ac57139b91"
      },
      "source": [
        "diabetes.loc[indices, [\"Age\", \"Diabetic\"]]"
      ],
      "execution_count": null,
      "outputs": [
        {
          "output_type": "execute_result",
          "data": {
            "text/html": [
              "<div>\n",
              "<style scoped>\n",
              "    .dataframe tbody tr th:only-of-type {\n",
              "        vertical-align: middle;\n",
              "    }\n",
              "\n",
              "    .dataframe tbody tr th {\n",
              "        vertical-align: top;\n",
              "    }\n",
              "\n",
              "    .dataframe thead th {\n",
              "        text-align: right;\n",
              "    }\n",
              "</style>\n",
              "<table border=\"1\" class=\"dataframe\">\n",
              "  <thead>\n",
              "    <tr style=\"text-align: right;\">\n",
              "      <th></th>\n",
              "      <th>Age</th>\n",
              "      <th>Diabetic</th>\n",
              "    </tr>\n",
              "    <tr>\n",
              "      <th>PatientID</th>\n",
              "      <th></th>\n",
              "      <th></th>\n",
              "    </tr>\n",
              "  </thead>\n",
              "  <tbody>\n",
              "    <tr>\n",
              "      <th>1763065</th>\n",
              "      <td>24</td>\n",
              "      <td>0</td>\n",
              "    </tr>\n",
              "    <tr>\n",
              "      <th>1814475</th>\n",
              "      <td>34</td>\n",
              "      <td>1</td>\n",
              "    </tr>\n",
              "    <tr>\n",
              "      <th>1473525</th>\n",
              "      <td>22</td>\n",
              "      <td>0</td>\n",
              "    </tr>\n",
              "    <tr>\n",
              "      <th>1123081</th>\n",
              "      <td>21</td>\n",
              "      <td>0</td>\n",
              "    </tr>\n",
              "    <tr>\n",
              "      <th>1479105</th>\n",
              "      <td>26</td>\n",
              "      <td>0</td>\n",
              "    </tr>\n",
              "    <tr>\n",
              "      <th>1978830</th>\n",
              "      <td>32</td>\n",
              "      <td>0</td>\n",
              "    </tr>\n",
              "    <tr>\n",
              "      <th>1689235</th>\n",
              "      <td>21</td>\n",
              "      <td>1</td>\n",
              "    </tr>\n",
              "    <tr>\n",
              "      <th>1936277</th>\n",
              "      <td>26</td>\n",
              "      <td>0</td>\n",
              "    </tr>\n",
              "    <tr>\n",
              "      <th>1924402</th>\n",
              "      <td>35</td>\n",
              "      <td>0</td>\n",
              "    </tr>\n",
              "    <tr>\n",
              "      <th>1614596</th>\n",
              "      <td>22</td>\n",
              "      <td>0</td>\n",
              "    </tr>\n",
              "  </tbody>\n",
              "</table>\n",
              "</div>"
            ],
            "text/plain": [
              "           Age Diabetic\n",
              "PatientID              \n",
              "1763065     24        0\n",
              "1814475     34        1\n",
              "1473525     22        0\n",
              "1123081     21        0\n",
              "1479105     26        0\n",
              "1978830     32        0\n",
              "1689235     21        1\n",
              "1936277     26        0\n",
              "1924402     35        0\n",
              "1614596     22        0"
            ]
          },
          "metadata": {
            "tags": []
          },
          "execution_count": 10
        }
      ]
    },
    {
      "cell_type": "code",
      "metadata": {
        "colab": {
          "base_uri": "https://localhost:8080/",
          "height": 202
        },
        "id": "pTm35fiHJgNz",
        "outputId": "4e06d5a6-d2dc-46b3-a3f0-0ed2d889737e"
      },
      "source": [
        "diabetes.reset_index(drop=False, inplace=True)\n",
        "\n",
        "diabetes.head()"
      ],
      "execution_count": null,
      "outputs": [
        {
          "output_type": "execute_result",
          "data": {
            "text/html": [
              "<div>\n",
              "<style scoped>\n",
              "    .dataframe tbody tr th:only-of-type {\n",
              "        vertical-align: middle;\n",
              "    }\n",
              "\n",
              "    .dataframe tbody tr th {\n",
              "        vertical-align: top;\n",
              "    }\n",
              "\n",
              "    .dataframe thead th {\n",
              "        text-align: right;\n",
              "    }\n",
              "</style>\n",
              "<table border=\"1\" class=\"dataframe\">\n",
              "  <thead>\n",
              "    <tr style=\"text-align: right;\">\n",
              "      <th></th>\n",
              "      <th>PatientID</th>\n",
              "      <th>Pregnancies</th>\n",
              "      <th>PlasmaGlucose</th>\n",
              "      <th>DiastolicBloodPressure</th>\n",
              "      <th>TricepsThickness</th>\n",
              "      <th>SerumInsulin</th>\n",
              "      <th>BMI</th>\n",
              "      <th>DiabetesPedigree</th>\n",
              "      <th>Age</th>\n",
              "      <th>Diabetic</th>\n",
              "    </tr>\n",
              "  </thead>\n",
              "  <tbody>\n",
              "    <tr>\n",
              "      <th>0</th>\n",
              "      <td>1354778</td>\n",
              "      <td>0</td>\n",
              "      <td>171</td>\n",
              "      <td>80</td>\n",
              "      <td>34</td>\n",
              "      <td>23</td>\n",
              "      <td>43.509726</td>\n",
              "      <td>1.213191</td>\n",
              "      <td>21</td>\n",
              "      <td>0</td>\n",
              "    </tr>\n",
              "    <tr>\n",
              "      <th>1</th>\n",
              "      <td>1147438</td>\n",
              "      <td>8</td>\n",
              "      <td>92</td>\n",
              "      <td>93</td>\n",
              "      <td>47</td>\n",
              "      <td>36</td>\n",
              "      <td>21.240576</td>\n",
              "      <td>0.158365</td>\n",
              "      <td>23</td>\n",
              "      <td>0</td>\n",
              "    </tr>\n",
              "    <tr>\n",
              "      <th>2</th>\n",
              "      <td>1640031</td>\n",
              "      <td>7</td>\n",
              "      <td>115</td>\n",
              "      <td>47</td>\n",
              "      <td>52</td>\n",
              "      <td>35</td>\n",
              "      <td>41.511523</td>\n",
              "      <td>0.079019</td>\n",
              "      <td>23</td>\n",
              "      <td>0</td>\n",
              "    </tr>\n",
              "    <tr>\n",
              "      <th>3</th>\n",
              "      <td>1883350</td>\n",
              "      <td>9</td>\n",
              "      <td>103</td>\n",
              "      <td>78</td>\n",
              "      <td>25</td>\n",
              "      <td>304</td>\n",
              "      <td>29.582192</td>\n",
              "      <td>1.282870</td>\n",
              "      <td>43</td>\n",
              "      <td>1</td>\n",
              "    </tr>\n",
              "    <tr>\n",
              "      <th>4</th>\n",
              "      <td>1424119</td>\n",
              "      <td>1</td>\n",
              "      <td>85</td>\n",
              "      <td>59</td>\n",
              "      <td>27</td>\n",
              "      <td>35</td>\n",
              "      <td>42.604536</td>\n",
              "      <td>0.549542</td>\n",
              "      <td>22</td>\n",
              "      <td>0</td>\n",
              "    </tr>\n",
              "  </tbody>\n",
              "</table>\n",
              "</div>"
            ],
            "text/plain": [
              "  PatientID  Pregnancies  PlasmaGlucose  ...  DiabetesPedigree  Age  Diabetic\n",
              "0   1354778            0            171  ...          1.213191   21         0\n",
              "1   1147438            8             92  ...          0.158365   23         0\n",
              "2   1640031            7            115  ...          0.079019   23         0\n",
              "3   1883350            9            103  ...          1.282870   43         1\n",
              "4   1424119            1             85  ...          0.549542   22         0\n",
              "\n",
              "[5 rows x 10 columns]"
            ]
          },
          "metadata": {
            "tags": []
          },
          "execution_count": 11
        }
      ]
    },
    {
      "cell_type": "markdown",
      "metadata": {
        "id": "K8eRD3YVKiH4"
      },
      "source": [
        "---\n",
        "\n",
        "## Set de datos de temperatura"
      ]
    },
    {
      "cell_type": "code",
      "metadata": {
        "colab": {
          "base_uri": "https://localhost:8080/",
          "height": 355
        },
        "id": "sTRvjsA4KG03",
        "outputId": "642e39b3-c607-4f6d-83d8-2e6c72849a81"
      },
      "source": [
        "temperatures = pd.read_csv(\"https://raw.githubusercontent.com/stivenlopezg/Modulo-Python-3/master/data/temperatures.csv\",\n",
        "                           index_col=0, parse_dates=[\"date\"])\n",
        "\n",
        "# temperatures[\"date\"] = pd.to_datetime(temperatures[\"date\"], format=\"%Y-%m-%d\")\n",
        "\n",
        "temperatures.head().append(temperatures.tail())"
      ],
      "execution_count": null,
      "outputs": [
        {
          "output_type": "execute_result",
          "data": {
            "text/html": [
              "<div>\n",
              "<style scoped>\n",
              "    .dataframe tbody tr th:only-of-type {\n",
              "        vertical-align: middle;\n",
              "    }\n",
              "\n",
              "    .dataframe tbody tr th {\n",
              "        vertical-align: top;\n",
              "    }\n",
              "\n",
              "    .dataframe thead th {\n",
              "        text-align: right;\n",
              "    }\n",
              "</style>\n",
              "<table border=\"1\" class=\"dataframe\">\n",
              "  <thead>\n",
              "    <tr style=\"text-align: right;\">\n",
              "      <th></th>\n",
              "      <th>date</th>\n",
              "      <th>city</th>\n",
              "      <th>country</th>\n",
              "      <th>avg_temp_c</th>\n",
              "    </tr>\n",
              "  </thead>\n",
              "  <tbody>\n",
              "    <tr>\n",
              "      <th>0</th>\n",
              "      <td>2000-01-01</td>\n",
              "      <td>Abidjan</td>\n",
              "      <td>Côte D'Ivoire</td>\n",
              "      <td>27.293</td>\n",
              "    </tr>\n",
              "    <tr>\n",
              "      <th>1</th>\n",
              "      <td>2000-02-01</td>\n",
              "      <td>Abidjan</td>\n",
              "      <td>Côte D'Ivoire</td>\n",
              "      <td>27.685</td>\n",
              "    </tr>\n",
              "    <tr>\n",
              "      <th>2</th>\n",
              "      <td>2000-03-01</td>\n",
              "      <td>Abidjan</td>\n",
              "      <td>Côte D'Ivoire</td>\n",
              "      <td>29.061</td>\n",
              "    </tr>\n",
              "    <tr>\n",
              "      <th>3</th>\n",
              "      <td>2000-04-01</td>\n",
              "      <td>Abidjan</td>\n",
              "      <td>Côte D'Ivoire</td>\n",
              "      <td>28.162</td>\n",
              "    </tr>\n",
              "    <tr>\n",
              "      <th>4</th>\n",
              "      <td>2000-05-01</td>\n",
              "      <td>Abidjan</td>\n",
              "      <td>Côte D'Ivoire</td>\n",
              "      <td>27.547</td>\n",
              "    </tr>\n",
              "    <tr>\n",
              "      <th>16495</th>\n",
              "      <td>2013-05-01</td>\n",
              "      <td>Xian</td>\n",
              "      <td>China</td>\n",
              "      <td>18.979</td>\n",
              "    </tr>\n",
              "    <tr>\n",
              "      <th>16496</th>\n",
              "      <td>2013-06-01</td>\n",
              "      <td>Xian</td>\n",
              "      <td>China</td>\n",
              "      <td>23.522</td>\n",
              "    </tr>\n",
              "    <tr>\n",
              "      <th>16497</th>\n",
              "      <td>2013-07-01</td>\n",
              "      <td>Xian</td>\n",
              "      <td>China</td>\n",
              "      <td>25.251</td>\n",
              "    </tr>\n",
              "    <tr>\n",
              "      <th>16498</th>\n",
              "      <td>2013-08-01</td>\n",
              "      <td>Xian</td>\n",
              "      <td>China</td>\n",
              "      <td>24.528</td>\n",
              "    </tr>\n",
              "    <tr>\n",
              "      <th>16499</th>\n",
              "      <td>2013-09-01</td>\n",
              "      <td>Xian</td>\n",
              "      <td>China</td>\n",
              "      <td>NaN</td>\n",
              "    </tr>\n",
              "  </tbody>\n",
              "</table>\n",
              "</div>"
            ],
            "text/plain": [
              "            date     city        country  avg_temp_c\n",
              "0     2000-01-01  Abidjan  Côte D'Ivoire      27.293\n",
              "1     2000-02-01  Abidjan  Côte D'Ivoire      27.685\n",
              "2     2000-03-01  Abidjan  Côte D'Ivoire      29.061\n",
              "3     2000-04-01  Abidjan  Côte D'Ivoire      28.162\n",
              "4     2000-05-01  Abidjan  Côte D'Ivoire      27.547\n",
              "16495 2013-05-01     Xian          China      18.979\n",
              "16496 2013-06-01     Xian          China      23.522\n",
              "16497 2013-07-01     Xian          China      25.251\n",
              "16498 2013-08-01     Xian          China      24.528\n",
              "16499 2013-09-01     Xian          China         NaN"
            ]
          },
          "metadata": {
            "tags": []
          },
          "execution_count": 17
        }
      ]
    },
    {
      "cell_type": "code",
      "metadata": {
        "colab": {
          "base_uri": "https://localhost:8080/"
        },
        "id": "Z2VHlWUkKvLN",
        "outputId": "ac61f0d9-f489-4195-c795-9a55cb8e4916"
      },
      "source": [
        "temperatures.info()"
      ],
      "execution_count": null,
      "outputs": [
        {
          "output_type": "stream",
          "text": [
            "<class 'pandas.core.frame.DataFrame'>\n",
            "Int64Index: 16500 entries, 0 to 16499\n",
            "Data columns (total 4 columns):\n",
            " #   Column      Non-Null Count  Dtype         \n",
            "---  ------      --------------  -----         \n",
            " 0   date        16500 non-null  datetime64[ns]\n",
            " 1   city        16500 non-null  object        \n",
            " 2   country     16500 non-null  object        \n",
            " 3   avg_temp_c  16407 non-null  float64       \n",
            "dtypes: datetime64[ns](1), float64(1), object(2)\n",
            "memory usage: 644.5+ KB\n"
          ],
          "name": "stdout"
        }
      ]
    },
    {
      "cell_type": "code",
      "metadata": {
        "colab": {
          "base_uri": "https://localhost:8080/"
        },
        "id": "RPElP0f0LPIm",
        "outputId": "247fef68-d8a4-4f5c-b19c-19cc87d4d9a8"
      },
      "source": [
        "# Extrayendo información a partir de la fecha (year, month, day)\n",
        "\n",
        "temperatures[\"date\"].dt.year"
      ],
      "execution_count": null,
      "outputs": [
        {
          "output_type": "execute_result",
          "data": {
            "text/plain": [
              "0        2000\n",
              "1        2000\n",
              "2        2000\n",
              "3        2000\n",
              "4        2000\n",
              "         ... \n",
              "16495    2013\n",
              "16496    2013\n",
              "16497    2013\n",
              "16498    2013\n",
              "16499    2013\n",
              "Name: date, Length: 16500, dtype: int64"
            ]
          },
          "metadata": {
            "tags": []
          },
          "execution_count": 23
        }
      ]
    },
    {
      "cell_type": "code",
      "metadata": {
        "colab": {
          "base_uri": "https://localhost:8080/",
          "height": 287
        },
        "id": "7Lkkm2DIMq5l",
        "outputId": "6ccb461a-3ea0-4ff6-e346-fb08821fece9"
      },
      "source": [
        "temperatures.describe(exclude=\"number\")"
      ],
      "execution_count": null,
      "outputs": [
        {
          "output_type": "stream",
          "text": [
            "/usr/local/lib/python3.7/dist-packages/ipykernel_launcher.py:1: FutureWarning: Treating datetime data as categorical rather than numeric in `.describe` is deprecated and will be removed in a future version of pandas. Specify `datetime_is_numeric=True` to silence this warning and adopt the future behavior now.\n",
            "  \"\"\"Entry point for launching an IPython kernel.\n"
          ],
          "name": "stderr"
        },
        {
          "output_type": "execute_result",
          "data": {
            "text/html": [
              "<div>\n",
              "<style scoped>\n",
              "    .dataframe tbody tr th:only-of-type {\n",
              "        vertical-align: middle;\n",
              "    }\n",
              "\n",
              "    .dataframe tbody tr th {\n",
              "        vertical-align: top;\n",
              "    }\n",
              "\n",
              "    .dataframe thead th {\n",
              "        text-align: right;\n",
              "    }\n",
              "</style>\n",
              "<table border=\"1\" class=\"dataframe\">\n",
              "  <thead>\n",
              "    <tr style=\"text-align: right;\">\n",
              "      <th></th>\n",
              "      <th>date</th>\n",
              "      <th>city</th>\n",
              "      <th>country</th>\n",
              "    </tr>\n",
              "  </thead>\n",
              "  <tbody>\n",
              "    <tr>\n",
              "      <th>count</th>\n",
              "      <td>16500</td>\n",
              "      <td>16500</td>\n",
              "      <td>16500</td>\n",
              "    </tr>\n",
              "    <tr>\n",
              "      <th>unique</th>\n",
              "      <td>165</td>\n",
              "      <td>100</td>\n",
              "      <td>49</td>\n",
              "    </tr>\n",
              "    <tr>\n",
              "      <th>top</th>\n",
              "      <td>2002-11-01 00:00:00</td>\n",
              "      <td>Shanghai</td>\n",
              "      <td>China</td>\n",
              "    </tr>\n",
              "    <tr>\n",
              "      <th>freq</th>\n",
              "      <td>100</td>\n",
              "      <td>165</td>\n",
              "      <td>2640</td>\n",
              "    </tr>\n",
              "    <tr>\n",
              "      <th>first</th>\n",
              "      <td>2000-01-01 00:00:00</td>\n",
              "      <td>NaN</td>\n",
              "      <td>NaN</td>\n",
              "    </tr>\n",
              "    <tr>\n",
              "      <th>last</th>\n",
              "      <td>2013-09-01 00:00:00</td>\n",
              "      <td>NaN</td>\n",
              "      <td>NaN</td>\n",
              "    </tr>\n",
              "  </tbody>\n",
              "</table>\n",
              "</div>"
            ],
            "text/plain": [
              "                       date      city country\n",
              "count                 16500     16500   16500\n",
              "unique                  165       100      49\n",
              "top     2002-11-01 00:00:00  Shanghai   China\n",
              "freq                    100       165    2640\n",
              "first   2000-01-01 00:00:00       NaN     NaN\n",
              "last    2013-09-01 00:00:00       NaN     NaN"
            ]
          },
          "metadata": {
            "tags": []
          },
          "execution_count": 24
        }
      ]
    },
    {
      "cell_type": "code",
      "metadata": {
        "colab": {
          "base_uri": "https://localhost:8080/"
        },
        "id": "ddrYHxHPNjEd",
        "outputId": "a9457e0a-9b77-47ce-b2ac-e26c13ede4c5"
      },
      "source": [
        "print(f\"La fecha minima es: {temperatures['date'].min()}, y la fecha máxima es: {temperatures['date'].max()}\")"
      ],
      "execution_count": null,
      "outputs": [
        {
          "output_type": "stream",
          "text": [
            "La fecha minima es: 2000-01-01 00:00:00, y la fecha máxima es: 2013-09-01 00:00:00\n"
          ],
          "name": "stdout"
        }
      ]
    },
    {
      "cell_type": "code",
      "metadata": {
        "colab": {
          "base_uri": "https://localhost:8080/"
        },
        "id": "AzLBsVKBOCSD",
        "outputId": "ca687ffe-a2e8-4a24-89b9-e6f97b2dce80"
      },
      "source": [
        "temperatures.set_index(keys=\"date\", inplace=True)\n",
        "\n",
        "temperatures.index"
      ],
      "execution_count": null,
      "outputs": [
        {
          "output_type": "execute_result",
          "data": {
            "text/plain": [
              "DatetimeIndex(['2000-01-01', '2000-02-01', '2000-03-01', '2000-04-01',\n",
              "               '2000-05-01', '2000-06-01', '2000-07-01', '2000-08-01',\n",
              "               '2000-09-01', '2000-10-01',\n",
              "               ...\n",
              "               '2012-12-01', '2013-01-01', '2013-02-01', '2013-03-01',\n",
              "               '2013-04-01', '2013-05-01', '2013-06-01', '2013-07-01',\n",
              "               '2013-08-01', '2013-09-01'],\n",
              "              dtype='datetime64[ns]', name='date', length=16500, freq=None)"
            ]
          },
          "metadata": {
            "tags": []
          },
          "execution_count": 27
        }
      ]
    },
    {
      "cell_type": "code",
      "metadata": {
        "colab": {
          "base_uri": "https://localhost:8080/"
        },
        "id": "nDEW7bvuOHBT",
        "outputId": "7525c004-0e5e-4230-a202-b5f341c2c38d"
      },
      "source": [
        "temperatures.loc[:, \"avg_temp_c\"]"
      ],
      "execution_count": null,
      "outputs": [
        {
          "output_type": "execute_result",
          "data": {
            "text/plain": [
              "date\n",
              "2000-01-01    27.293\n",
              "2000-02-01    27.685\n",
              "2000-03-01    29.061\n",
              "2000-04-01    28.162\n",
              "2000-05-01    27.547\n",
              "               ...  \n",
              "2013-05-01    18.979\n",
              "2013-06-01    23.522\n",
              "2013-07-01    25.251\n",
              "2013-08-01    24.528\n",
              "2013-09-01       NaN\n",
              "Name: avg_temp_c, Length: 16500, dtype: float64"
            ]
          },
          "metadata": {
            "tags": []
          },
          "execution_count": 28
        }
      ]
    },
    {
      "cell_type": "code",
      "metadata": {
        "colab": {
          "base_uri": "https://localhost:8080/",
          "height": 446
        },
        "id": "YAkkCooYOZk5",
        "outputId": "441144f2-ce1b-4f7c-89c6-cef7d5e473a0"
      },
      "source": [
        "temperatures.loc['2010-06': '2011-01', :]"
      ],
      "execution_count": null,
      "outputs": [
        {
          "output_type": "execute_result",
          "data": {
            "text/html": [
              "<div>\n",
              "<style scoped>\n",
              "    .dataframe tbody tr th:only-of-type {\n",
              "        vertical-align: middle;\n",
              "    }\n",
              "\n",
              "    .dataframe tbody tr th {\n",
              "        vertical-align: top;\n",
              "    }\n",
              "\n",
              "    .dataframe thead th {\n",
              "        text-align: right;\n",
              "    }\n",
              "</style>\n",
              "<table border=\"1\" class=\"dataframe\">\n",
              "  <thead>\n",
              "    <tr style=\"text-align: right;\">\n",
              "      <th></th>\n",
              "      <th>city</th>\n",
              "      <th>country</th>\n",
              "      <th>avg_temp_c</th>\n",
              "    </tr>\n",
              "    <tr>\n",
              "      <th>date</th>\n",
              "      <th></th>\n",
              "      <th></th>\n",
              "      <th></th>\n",
              "    </tr>\n",
              "  </thead>\n",
              "  <tbody>\n",
              "    <tr>\n",
              "      <th>2010-06-01</th>\n",
              "      <td>Abidjan</td>\n",
              "      <td>Côte D'Ivoire</td>\n",
              "      <td>26.683</td>\n",
              "    </tr>\n",
              "    <tr>\n",
              "      <th>2010-07-01</th>\n",
              "      <td>Abidjan</td>\n",
              "      <td>Côte D'Ivoire</td>\n",
              "      <td>25.589</td>\n",
              "    </tr>\n",
              "    <tr>\n",
              "      <th>2010-08-01</th>\n",
              "      <td>Abidjan</td>\n",
              "      <td>Côte D'Ivoire</td>\n",
              "      <td>25.400</td>\n",
              "    </tr>\n",
              "    <tr>\n",
              "      <th>2010-09-01</th>\n",
              "      <td>Abidjan</td>\n",
              "      <td>Côte D'Ivoire</td>\n",
              "      <td>25.710</td>\n",
              "    </tr>\n",
              "    <tr>\n",
              "      <th>2010-10-01</th>\n",
              "      <td>Abidjan</td>\n",
              "      <td>Côte D'Ivoire</td>\n",
              "      <td>26.397</td>\n",
              "    </tr>\n",
              "    <tr>\n",
              "      <th>...</th>\n",
              "      <td>...</td>\n",
              "      <td>...</td>\n",
              "      <td>...</td>\n",
              "    </tr>\n",
              "    <tr>\n",
              "      <th>2010-09-01</th>\n",
              "      <td>Xian</td>\n",
              "      <td>China</td>\n",
              "      <td>19.630</td>\n",
              "    </tr>\n",
              "    <tr>\n",
              "      <th>2010-10-01</th>\n",
              "      <td>Xian</td>\n",
              "      <td>China</td>\n",
              "      <td>12.292</td>\n",
              "    </tr>\n",
              "    <tr>\n",
              "      <th>2010-11-01</th>\n",
              "      <td>Xian</td>\n",
              "      <td>China</td>\n",
              "      <td>6.742</td>\n",
              "    </tr>\n",
              "    <tr>\n",
              "      <th>2010-12-01</th>\n",
              "      <td>Xian</td>\n",
              "      <td>China</td>\n",
              "      <td>0.845</td>\n",
              "    </tr>\n",
              "    <tr>\n",
              "      <th>2011-01-01</th>\n",
              "      <td>Xian</td>\n",
              "      <td>China</td>\n",
              "      <td>-4.811</td>\n",
              "    </tr>\n",
              "  </tbody>\n",
              "</table>\n",
              "<p>800 rows × 3 columns</p>\n",
              "</div>"
            ],
            "text/plain": [
              "               city        country  avg_temp_c\n",
              "date                                          \n",
              "2010-06-01  Abidjan  Côte D'Ivoire      26.683\n",
              "2010-07-01  Abidjan  Côte D'Ivoire      25.589\n",
              "2010-08-01  Abidjan  Côte D'Ivoire      25.400\n",
              "2010-09-01  Abidjan  Côte D'Ivoire      25.710\n",
              "2010-10-01  Abidjan  Côte D'Ivoire      26.397\n",
              "...             ...            ...         ...\n",
              "2010-09-01     Xian          China      19.630\n",
              "2010-10-01     Xian          China      12.292\n",
              "2010-11-01     Xian          China       6.742\n",
              "2010-12-01     Xian          China       0.845\n",
              "2011-01-01     Xian          China      -4.811\n",
              "\n",
              "[800 rows x 3 columns]"
            ]
          },
          "metadata": {
            "tags": []
          },
          "execution_count": 31
        }
      ]
    },
    {
      "cell_type": "markdown",
      "metadata": {
        "id": "9TtldWAUPjph"
      },
      "source": [
        "## Tablas dínamicas\n",
        "Otra forma de calcular estadísticas agrupadas son las tablas dínamicas. Algunos argumentos interesantes son:\n",
        "\n",
        "* **values** es la columna que desea resumir.\n",
        "* **index** es la columna por la que desea agrupar.\n",
        "* **aggfunc** como se quiere agregar (por ejemplo, mediana)\n",
        "Nota:\n",
        "\n",
        "De forma predeterminada el método **.pivot_table()** toma el valor medio para cada grupo.\n",
        "Para agrupar por dos variables, podemos pasar un segundo nombre de variable al argumento columns.\n",
        "En caso de tener valores missing, podemos completarlos (imputarlos) usando el argumento *fill_value*.\n"
      ]
    },
    {
      "cell_type": "code",
      "metadata": {
        "id": "pflzR4WtSZfI"
      },
      "source": [
        "pd.set_option(\"float_format\", '{:,.2f}'.format)"
      ],
      "execution_count": null,
      "outputs": []
    },
    {
      "cell_type": "code",
      "metadata": {
        "colab": {
          "base_uri": "https://localhost:8080/",
          "height": 122
        },
        "id": "yxfHi0BbOr2H",
        "outputId": "ecfc6c9d-c555-49e2-8940-bfe3e79aa9f4"
      },
      "source": [
        "diabetes.pivot_table(values=\"SerumInsulin\", index=\"Diabetic\",\n",
        "                     columns=\"Pregnancies\", aggfunc='mean', fill_value=0).style.background_gradient(cmap=\"Blues\")"
      ],
      "execution_count": null,
      "outputs": [
        {
          "output_type": "execute_result",
          "data": {
            "text/html": [
              "<style  type=\"text/css\" >\n",
              "#T_5f871e66_b006_11eb_919b_0242ac1c0002row0_col0,#T_5f871e66_b006_11eb_919b_0242ac1c0002row0_col1,#T_5f871e66_b006_11eb_919b_0242ac1c0002row0_col2,#T_5f871e66_b006_11eb_919b_0242ac1c0002row0_col3,#T_5f871e66_b006_11eb_919b_0242ac1c0002row0_col4,#T_5f871e66_b006_11eb_919b_0242ac1c0002row0_col5,#T_5f871e66_b006_11eb_919b_0242ac1c0002row0_col6,#T_5f871e66_b006_11eb_919b_0242ac1c0002row0_col7,#T_5f871e66_b006_11eb_919b_0242ac1c0002row0_col8,#T_5f871e66_b006_11eb_919b_0242ac1c0002row0_col9,#T_5f871e66_b006_11eb_919b_0242ac1c0002row0_col10,#T_5f871e66_b006_11eb_919b_0242ac1c0002row0_col11,#T_5f871e66_b006_11eb_919b_0242ac1c0002row0_col12,#T_5f871e66_b006_11eb_919b_0242ac1c0002row0_col13,#T_5f871e66_b006_11eb_919b_0242ac1c0002row0_col14{\n",
              "            background-color:  #f7fbff;\n",
              "            color:  #000000;\n",
              "        }#T_5f871e66_b006_11eb_919b_0242ac1c0002row1_col0,#T_5f871e66_b006_11eb_919b_0242ac1c0002row1_col1,#T_5f871e66_b006_11eb_919b_0242ac1c0002row1_col2,#T_5f871e66_b006_11eb_919b_0242ac1c0002row1_col3,#T_5f871e66_b006_11eb_919b_0242ac1c0002row1_col4,#T_5f871e66_b006_11eb_919b_0242ac1c0002row1_col5,#T_5f871e66_b006_11eb_919b_0242ac1c0002row1_col6,#T_5f871e66_b006_11eb_919b_0242ac1c0002row1_col7,#T_5f871e66_b006_11eb_919b_0242ac1c0002row1_col8,#T_5f871e66_b006_11eb_919b_0242ac1c0002row1_col9,#T_5f871e66_b006_11eb_919b_0242ac1c0002row1_col10,#T_5f871e66_b006_11eb_919b_0242ac1c0002row1_col11,#T_5f871e66_b006_11eb_919b_0242ac1c0002row1_col12,#T_5f871e66_b006_11eb_919b_0242ac1c0002row1_col13,#T_5f871e66_b006_11eb_919b_0242ac1c0002row1_col14{\n",
              "            background-color:  #08306b;\n",
              "            color:  #f1f1f1;\n",
              "        }</style><table id=\"T_5f871e66_b006_11eb_919b_0242ac1c0002\" ><thead>    <tr>        <th class=\"index_name level0\" >Pregnancies</th>        <th class=\"col_heading level0 col0\" >0</th>        <th class=\"col_heading level0 col1\" >1</th>        <th class=\"col_heading level0 col2\" >2</th>        <th class=\"col_heading level0 col3\" >3</th>        <th class=\"col_heading level0 col4\" >4</th>        <th class=\"col_heading level0 col5\" >5</th>        <th class=\"col_heading level0 col6\" >6</th>        <th class=\"col_heading level0 col7\" >7</th>        <th class=\"col_heading level0 col8\" >8</th>        <th class=\"col_heading level0 col9\" >9</th>        <th class=\"col_heading level0 col10\" >10</th>        <th class=\"col_heading level0 col11\" >11</th>        <th class=\"col_heading level0 col12\" >12</th>        <th class=\"col_heading level0 col13\" >13</th>        <th class=\"col_heading level0 col14\" >14</th>    </tr>    <tr>        <th class=\"index_name level0\" >Diabetic</th>        <th class=\"blank\" ></th>        <th class=\"blank\" ></th>        <th class=\"blank\" ></th>        <th class=\"blank\" ></th>        <th class=\"blank\" ></th>        <th class=\"blank\" ></th>        <th class=\"blank\" ></th>        <th class=\"blank\" ></th>        <th class=\"blank\" ></th>        <th class=\"blank\" ></th>        <th class=\"blank\" ></th>        <th class=\"blank\" ></th>        <th class=\"blank\" ></th>        <th class=\"blank\" ></th>        <th class=\"blank\" ></th>    </tr></thead><tbody>\n",
              "                <tr>\n",
              "                        <th id=\"T_5f871e66_b006_11eb_919b_0242ac1c0002level0_row0\" class=\"row_heading level0 row0\" >0</th>\n",
              "                        <td id=\"T_5f871e66_b006_11eb_919b_0242ac1c0002row0_col0\" class=\"data row0 col0\" >113.272895</td>\n",
              "                        <td id=\"T_5f871e66_b006_11eb_919b_0242ac1c0002row0_col1\" class=\"data row0 col1\" >117.768033</td>\n",
              "                        <td id=\"T_5f871e66_b006_11eb_919b_0242ac1c0002row0_col2\" class=\"data row0 col2\" >116.854545</td>\n",
              "                        <td id=\"T_5f871e66_b006_11eb_919b_0242ac1c0002row0_col3\" class=\"data row0 col3\" >111.282776</td>\n",
              "                        <td id=\"T_5f871e66_b006_11eb_919b_0242ac1c0002row0_col4\" class=\"data row0 col4\" >105.176471</td>\n",
              "                        <td id=\"T_5f871e66_b006_11eb_919b_0242ac1c0002row0_col5\" class=\"data row0 col5\" >129.470588</td>\n",
              "                        <td id=\"T_5f871e66_b006_11eb_919b_0242ac1c0002row0_col6\" class=\"data row0 col6\" >110.373887</td>\n",
              "                        <td id=\"T_5f871e66_b006_11eb_919b_0242ac1c0002row0_col7\" class=\"data row0 col7\" >114.886331</td>\n",
              "                        <td id=\"T_5f871e66_b006_11eb_919b_0242ac1c0002row0_col8\" class=\"data row0 col8\" >105.963801</td>\n",
              "                        <td id=\"T_5f871e66_b006_11eb_919b_0242ac1c0002row0_col9\" class=\"data row0 col9\" >112.863309</td>\n",
              "                        <td id=\"T_5f871e66_b006_11eb_919b_0242ac1c0002row0_col10\" class=\"data row0 col10\" >125.664179</td>\n",
              "                        <td id=\"T_5f871e66_b006_11eb_919b_0242ac1c0002row0_col11\" class=\"data row0 col11\" >113.000000</td>\n",
              "                        <td id=\"T_5f871e66_b006_11eb_919b_0242ac1c0002row0_col12\" class=\"data row0 col12\" >0.000000</td>\n",
              "                        <td id=\"T_5f871e66_b006_11eb_919b_0242ac1c0002row0_col13\" class=\"data row0 col13\" >0.000000</td>\n",
              "                        <td id=\"T_5f871e66_b006_11eb_919b_0242ac1c0002row0_col14\" class=\"data row0 col14\" >0.000000</td>\n",
              "            </tr>\n",
              "            <tr>\n",
              "                        <th id=\"T_5f871e66_b006_11eb_919b_0242ac1c0002level0_row1\" class=\"row_heading level0 row1\" >1</th>\n",
              "                        <td id=\"T_5f871e66_b006_11eb_919b_0242ac1c0002row1_col0\" class=\"data row1 col0\" >190.528302</td>\n",
              "                        <td id=\"T_5f871e66_b006_11eb_919b_0242ac1c0002row1_col1\" class=\"data row1 col1\" >179.704348</td>\n",
              "                        <td id=\"T_5f871e66_b006_11eb_919b_0242ac1c0002row1_col2\" class=\"data row1 col2\" >187.020672</td>\n",
              "                        <td id=\"T_5f871e66_b006_11eb_919b_0242ac1c0002row1_col3\" class=\"data row1 col3\" >181.500000</td>\n",
              "                        <td id=\"T_5f871e66_b006_11eb_919b_0242ac1c0002row1_col4\" class=\"data row1 col4\" >189.235593</td>\n",
              "                        <td id=\"T_5f871e66_b006_11eb_919b_0242ac1c0002row1_col5\" class=\"data row1 col5\" >180.436877</td>\n",
              "                        <td id=\"T_5f871e66_b006_11eb_919b_0242ac1c0002row1_col6\" class=\"data row1 col6\" >179.333333</td>\n",
              "                        <td id=\"T_5f871e66_b006_11eb_919b_0242ac1c0002row1_col7\" class=\"data row1 col7\" >170.000000</td>\n",
              "                        <td id=\"T_5f871e66_b006_11eb_919b_0242ac1c0002row1_col8\" class=\"data row1 col8\" >179.507075</td>\n",
              "                        <td id=\"T_5f871e66_b006_11eb_919b_0242ac1c0002row1_col9\" class=\"data row1 col9\" >197.077586</td>\n",
              "                        <td id=\"T_5f871e66_b006_11eb_919b_0242ac1c0002row1_col10\" class=\"data row1 col10\" >166.807692</td>\n",
              "                        <td id=\"T_5f871e66_b006_11eb_919b_0242ac1c0002row1_col11\" class=\"data row1 col11\" >217.820000</td>\n",
              "                        <td id=\"T_5f871e66_b006_11eb_919b_0242ac1c0002row1_col12\" class=\"data row1 col12\" >203.508772</td>\n",
              "                        <td id=\"T_5f871e66_b006_11eb_919b_0242ac1c0002row1_col13\" class=\"data row1 col13\" >178.855072</td>\n",
              "                        <td id=\"T_5f871e66_b006_11eb_919b_0242ac1c0002row1_col14\" class=\"data row1 col14\" >215.965517</td>\n",
              "            </tr>\n",
              "    </tbody></table>"
            ],
            "text/plain": [
              "<pandas.io.formats.style.Styler at 0x7f48a79aee90>"
            ]
          },
          "metadata": {
            "tags": []
          },
          "execution_count": 49
        }
      ]
    },
    {
      "cell_type": "markdown",
      "metadata": {
        "id": "ZhKsf_jXTxGs"
      },
      "source": [
        "## Unir datos (merge)\n",
        "En muchas ocasiones tendremos diferentes archivos planos, y para analizar lo que me interesa debo unir los diferentes archivos.\n"
      ]
    },
    {
      "cell_type": "code",
      "metadata": {
        "colab": {
          "base_uri": "https://localhost:8080/",
          "height": 202
        },
        "id": "QFzucz2fQImQ",
        "outputId": "0a628735-26a0-459e-e184-043873c6601c"
      },
      "source": [
        "schema = {\"PatientID\": \"category\"}\n",
        "\n",
        "doctors = pd.read_csv(\"https://raw.githubusercontent.com/stivenlopezg/Modulo-Python-3/master/data/doctors.csv\",\n",
        "                      encoding='latin-1', dtype=schema)\n",
        "\n",
        "doctors = doctors.rename(columns={\"PatientID\": \"patientid\"})\n",
        "\n",
        "doctors.head()"
      ],
      "execution_count": null,
      "outputs": [
        {
          "output_type": "execute_result",
          "data": {
            "text/html": [
              "<div>\n",
              "<style scoped>\n",
              "    .dataframe tbody tr th:only-of-type {\n",
              "        vertical-align: middle;\n",
              "    }\n",
              "\n",
              "    .dataframe tbody tr th {\n",
              "        vertical-align: top;\n",
              "    }\n",
              "\n",
              "    .dataframe thead th {\n",
              "        text-align: right;\n",
              "    }\n",
              "</style>\n",
              "<table border=\"1\" class=\"dataframe\">\n",
              "  <thead>\n",
              "    <tr style=\"text-align: right;\">\n",
              "      <th></th>\n",
              "      <th>patientid</th>\n",
              "      <th>Physician</th>\n",
              "    </tr>\n",
              "  </thead>\n",
              "  <tbody>\n",
              "    <tr>\n",
              "      <th>0</th>\n",
              "      <td>1000038</td>\n",
              "      <td>Jeanne Vestergaard</td>\n",
              "    </tr>\n",
              "    <tr>\n",
              "      <th>1</th>\n",
              "      <td>1000069</td>\n",
              "      <td>Sheldon Comeaux</td>\n",
              "    </tr>\n",
              "    <tr>\n",
              "      <th>2</th>\n",
              "      <td>1000118</td>\n",
              "      <td>Brain Dulaney</td>\n",
              "    </tr>\n",
              "    <tr>\n",
              "      <th>3</th>\n",
              "      <td>1000183</td>\n",
              "      <td>Alaine Poisson</td>\n",
              "    </tr>\n",
              "    <tr>\n",
              "      <th>4</th>\n",
              "      <td>1000326</td>\n",
              "      <td>Erik Collado</td>\n",
              "    </tr>\n",
              "  </tbody>\n",
              "</table>\n",
              "</div>"
            ],
            "text/plain": [
              "  patientid           Physician\n",
              "0   1000038  Jeanne Vestergaard\n",
              "1   1000069     Sheldon Comeaux\n",
              "2   1000118       Brain Dulaney\n",
              "3   1000183      Alaine Poisson\n",
              "4   1000326        Erik Collado"
            ]
          },
          "metadata": {
            "tags": []
          },
          "execution_count": 72
        }
      ]
    },
    {
      "cell_type": "code",
      "metadata": {
        "colab": {
          "base_uri": "https://localhost:8080/"
        },
        "id": "NZrtErkXc21v",
        "outputId": "94b494a1-7df6-46bc-c68d-cd5e875444f2"
      },
      "source": [
        "doctors.info()"
      ],
      "execution_count": null,
      "outputs": [
        {
          "output_type": "stream",
          "text": [
            "<class 'pandas.core.frame.DataFrame'>\n",
            "RangeIndex: 14895 entries, 0 to 14894\n",
            "Data columns (total 2 columns):\n",
            " #   Column     Non-Null Count  Dtype   \n",
            "---  ------     --------------  -----   \n",
            " 0   PatientID  14895 non-null  category\n",
            " 1   Physician  14895 non-null  object  \n",
            "dtypes: category(1), object(1)\n",
            "memory usage: 262.0+ KB\n"
          ],
          "name": "stdout"
        }
      ]
    },
    {
      "cell_type": "code",
      "metadata": {
        "colab": {
          "base_uri": "https://localhost:8080/"
        },
        "id": "M-bWduMtc_w1",
        "outputId": "1581fd4e-7467-4a47-c301-fb0c104c5615"
      },
      "source": [
        "diabetes.info()"
      ],
      "execution_count": null,
      "outputs": [
        {
          "output_type": "stream",
          "text": [
            "<class 'pandas.core.frame.DataFrame'>\n",
            "Int64Index: 14790 entries, 0 to 14999\n",
            "Data columns (total 10 columns):\n",
            " #   Column                  Non-Null Count  Dtype   \n",
            "---  ------                  --------------  -----   \n",
            " 0   PatientID               14790 non-null  category\n",
            " 1   Pregnancies             14790 non-null  int64   \n",
            " 2   PlasmaGlucose           14790 non-null  int64   \n",
            " 3   DiastolicBloodPressure  14790 non-null  int64   \n",
            " 4   TricepsThickness        14790 non-null  int64   \n",
            " 5   SerumInsulin            14790 non-null  int64   \n",
            " 6   BMI                     14790 non-null  float64 \n",
            " 7   DiabetesPedigree        14790 non-null  float64 \n",
            " 8   Age                     14790 non-null  int64   \n",
            " 9   Diabetic                14790 non-null  category\n",
            "dtypes: category(2), float64(2), int64(6)\n",
            "memory usage: 1.8 MB\n"
          ],
          "name": "stdout"
        }
      ]
    },
    {
      "cell_type": "code",
      "metadata": {
        "colab": {
          "base_uri": "https://localhost:8080/",
          "height": 171
        },
        "id": "jbO4NsTGXVpt",
        "outputId": "b0f43d1b-3706-451b-9e9a-d1f5c7a78f2f"
      },
      "source": [
        "diabetes.describe(exclude=\"number\")"
      ],
      "execution_count": null,
      "outputs": [
        {
          "output_type": "execute_result",
          "data": {
            "text/html": [
              "<div>\n",
              "<style scoped>\n",
              "    .dataframe tbody tr th:only-of-type {\n",
              "        vertical-align: middle;\n",
              "    }\n",
              "\n",
              "    .dataframe tbody tr th {\n",
              "        vertical-align: top;\n",
              "    }\n",
              "\n",
              "    .dataframe thead th {\n",
              "        text-align: right;\n",
              "    }\n",
              "</style>\n",
              "<table border=\"1\" class=\"dataframe\">\n",
              "  <thead>\n",
              "    <tr style=\"text-align: right;\">\n",
              "      <th></th>\n",
              "      <th>PatientID</th>\n",
              "      <th>Diabetic</th>\n",
              "    </tr>\n",
              "  </thead>\n",
              "  <tbody>\n",
              "    <tr>\n",
              "      <th>count</th>\n",
              "      <td>15000</td>\n",
              "      <td>15000</td>\n",
              "    </tr>\n",
              "    <tr>\n",
              "      <th>unique</th>\n",
              "      <td>14895</td>\n",
              "      <td>2</td>\n",
              "    </tr>\n",
              "    <tr>\n",
              "      <th>top</th>\n",
              "      <td>1127499</td>\n",
              "      <td>0</td>\n",
              "    </tr>\n",
              "    <tr>\n",
              "      <th>freq</th>\n",
              "      <td>2</td>\n",
              "      <td>10000</td>\n",
              "    </tr>\n",
              "  </tbody>\n",
              "</table>\n",
              "</div>"
            ],
            "text/plain": [
              "       PatientID Diabetic\n",
              "count      15000    15000\n",
              "unique     14895        2\n",
              "top      1127499        0\n",
              "freq           2    10000"
            ]
          },
          "metadata": {
            "tags": []
          },
          "execution_count": 53
        }
      ]
    },
    {
      "cell_type": "code",
      "metadata": {
        "id": "twxj10PgV-T3"
      },
      "source": [
        "# Eliminar datos duplicados de diabetes\n",
        "\n",
        "diabetes.drop_duplicates(subset=[\"PatientID\"], keep=False, inplace=True)"
      ],
      "execution_count": null,
      "outputs": []
    },
    {
      "cell_type": "code",
      "metadata": {
        "id": "kSJC3WjrXvzv"
      },
      "source": [
        "data = pd.merge(left=diabetes.loc[:, [\"PatientID\", \"Age\", \"SerumInsulin\"]], right=doctors,\n",
        "                how='left', left_on=['PatientID'], right_on=[\"patientid\"])"
      ],
      "execution_count": null,
      "outputs": []
    },
    {
      "cell_type": "code",
      "metadata": {
        "colab": {
          "base_uri": "https://localhost:8080/"
        },
        "id": "ePbIblcVYkdv",
        "outputId": "4aead49f-4d30-4715-c2f6-6f9ff3594485"
      },
      "source": [
        "data.isna().sum()"
      ],
      "execution_count": null,
      "outputs": [
        {
          "output_type": "execute_result",
          "data": {
            "text/plain": [
              "PatientID                 0\n",
              "Pregnancies               0\n",
              "PlasmaGlucose             0\n",
              "DiastolicBloodPressure    0\n",
              "TricepsThickness          0\n",
              "SerumInsulin              0\n",
              "BMI                       0\n",
              "DiabetesPedigree          0\n",
              "Age                       0\n",
              "Diabetic                  0\n",
              "Physician                 0\n",
              "dtype: int64"
            ]
          },
          "metadata": {
            "tags": []
          },
          "execution_count": 65
        }
      ]
    },
    {
      "cell_type": "code",
      "metadata": {
        "colab": {
          "base_uri": "https://localhost:8080/",
          "height": 355
        },
        "id": "kxRk3qrWY3Ha",
        "outputId": "63a4d6d2-58c1-4dff-8fa1-90035541d87b"
      },
      "source": [
        "data.sample(n=10)"
      ],
      "execution_count": null,
      "outputs": [
        {
          "output_type": "execute_result",
          "data": {
            "text/html": [
              "<div>\n",
              "<style scoped>\n",
              "    .dataframe tbody tr th:only-of-type {\n",
              "        vertical-align: middle;\n",
              "    }\n",
              "\n",
              "    .dataframe tbody tr th {\n",
              "        vertical-align: top;\n",
              "    }\n",
              "\n",
              "    .dataframe thead th {\n",
              "        text-align: right;\n",
              "    }\n",
              "</style>\n",
              "<table border=\"1\" class=\"dataframe\">\n",
              "  <thead>\n",
              "    <tr style=\"text-align: right;\">\n",
              "      <th></th>\n",
              "      <th>PatientID</th>\n",
              "      <th>Age</th>\n",
              "      <th>SerumInsulin</th>\n",
              "      <th>patientid</th>\n",
              "      <th>Physician</th>\n",
              "    </tr>\n",
              "  </thead>\n",
              "  <tbody>\n",
              "    <tr>\n",
              "      <th>12367</th>\n",
              "      <td>1755716</td>\n",
              "      <td>25</td>\n",
              "      <td>15</td>\n",
              "      <td>1755716</td>\n",
              "      <td>Nazzareno Piccio</td>\n",
              "    </tr>\n",
              "    <tr>\n",
              "      <th>8253</th>\n",
              "      <td>1974512</td>\n",
              "      <td>23</td>\n",
              "      <td>153</td>\n",
              "      <td>1974512</td>\n",
              "      <td>Rodrigo Romani</td>\n",
              "    </tr>\n",
              "    <tr>\n",
              "      <th>8947</th>\n",
              "      <td>1325747</td>\n",
              "      <td>23</td>\n",
              "      <td>171</td>\n",
              "      <td>1325747</td>\n",
              "      <td>Carey Merrill</td>\n",
              "    </tr>\n",
              "    <tr>\n",
              "      <th>9546</th>\n",
              "      <td>1551981</td>\n",
              "      <td>25</td>\n",
              "      <td>29</td>\n",
              "      <td>1551981</td>\n",
              "      <td>Amalio Pizarro</td>\n",
              "    </tr>\n",
              "    <tr>\n",
              "      <th>13658</th>\n",
              "      <td>1248129</td>\n",
              "      <td>21</td>\n",
              "      <td>85</td>\n",
              "      <td>1248129</td>\n",
              "      <td>Fabio Jaramillo</td>\n",
              "    </tr>\n",
              "    <tr>\n",
              "      <th>1558</th>\n",
              "      <td>1324939</td>\n",
              "      <td>46</td>\n",
              "      <td>75</td>\n",
              "      <td>1324939</td>\n",
              "      <td>Nicholas Rose</td>\n",
              "    </tr>\n",
              "    <tr>\n",
              "      <th>11962</th>\n",
              "      <td>1833086</td>\n",
              "      <td>21</td>\n",
              "      <td>37</td>\n",
              "      <td>1833086</td>\n",
              "      <td>Francine Fischer</td>\n",
              "    </tr>\n",
              "    <tr>\n",
              "      <th>12092</th>\n",
              "      <td>1278319</td>\n",
              "      <td>32</td>\n",
              "      <td>77</td>\n",
              "      <td>1278319</td>\n",
              "      <td>Maya Steele</td>\n",
              "    </tr>\n",
              "    <tr>\n",
              "      <th>8237</th>\n",
              "      <td>1153295</td>\n",
              "      <td>22</td>\n",
              "      <td>16</td>\n",
              "      <td>1153295</td>\n",
              "      <td>Elwood McGee</td>\n",
              "    </tr>\n",
              "    <tr>\n",
              "      <th>854</th>\n",
              "      <td>1922672</td>\n",
              "      <td>21</td>\n",
              "      <td>41</td>\n",
              "      <td>1922672</td>\n",
              "      <td>Viv Pichardo</td>\n",
              "    </tr>\n",
              "  </tbody>\n",
              "</table>\n",
              "</div>"
            ],
            "text/plain": [
              "      PatientID  Age  SerumInsulin patientid         Physician\n",
              "12367   1755716   25            15   1755716  Nazzareno Piccio\n",
              "8253    1974512   23           153   1974512    Rodrigo Romani\n",
              "8947    1325747   23           171   1325747     Carey Merrill\n",
              "9546    1551981   25            29   1551981    Amalio Pizarro\n",
              "13658   1248129   21            85   1248129   Fabio Jaramillo\n",
              "1558    1324939   46            75   1324939     Nicholas Rose\n",
              "11962   1833086   21            37   1833086  Francine Fischer\n",
              "12092   1278319   32            77   1278319       Maya Steele\n",
              "8237    1153295   22            16   1153295      Elwood McGee\n",
              "854     1922672   21            41   1922672      Viv Pichardo"
            ]
          },
          "metadata": {
            "tags": []
          },
          "execution_count": 74
        }
      ]
    },
    {
      "cell_type": "markdown",
      "metadata": {
        "id": "YpUHT0M-fxp6"
      },
      "source": [
        "## Detección y tratamiento de datos missing"
      ]
    },
    {
      "cell_type": "code",
      "metadata": {
        "colab": {
          "base_uri": "https://localhost:8080/",
          "height": 202
        },
        "id": "LwUN4Sb6dtd4",
        "outputId": "64e0ad3d-cf3f-43c8-f117-bea78e2edac9"
      },
      "source": [
        "diabetes = pd.read_csv(\"https://raw.githubusercontent.com/stivenlopezg/Modulo-Python-3/master/data/pima-indians-diabetes%20data.csv\",\n",
        "                       dtype={\"Class\": \"category\"})\n",
        "diabetes.head()"
      ],
      "execution_count": null,
      "outputs": [
        {
          "output_type": "execute_result",
          "data": {
            "text/html": [
              "<div>\n",
              "<style scoped>\n",
              "    .dataframe tbody tr th:only-of-type {\n",
              "        vertical-align: middle;\n",
              "    }\n",
              "\n",
              "    .dataframe tbody tr th {\n",
              "        vertical-align: top;\n",
              "    }\n",
              "\n",
              "    .dataframe thead th {\n",
              "        text-align: right;\n",
              "    }\n",
              "</style>\n",
              "<table border=\"1\" class=\"dataframe\">\n",
              "  <thead>\n",
              "    <tr style=\"text-align: right;\">\n",
              "      <th></th>\n",
              "      <th>Pregnant</th>\n",
              "      <th>Glucose</th>\n",
              "      <th>Diastolic_BP</th>\n",
              "      <th>Skin_Fold</th>\n",
              "      <th>Serum_Insulin</th>\n",
              "      <th>BMI</th>\n",
              "      <th>Diabetes_Pedigree</th>\n",
              "      <th>Age</th>\n",
              "      <th>Class</th>\n",
              "    </tr>\n",
              "  </thead>\n",
              "  <tbody>\n",
              "    <tr>\n",
              "      <th>0</th>\n",
              "      <td>6.00</td>\n",
              "      <td>148.00</td>\n",
              "      <td>72.00</td>\n",
              "      <td>35.00</td>\n",
              "      <td>nan</td>\n",
              "      <td>33.60</td>\n",
              "      <td>0.63</td>\n",
              "      <td>50</td>\n",
              "      <td>1.0</td>\n",
              "    </tr>\n",
              "    <tr>\n",
              "      <th>1</th>\n",
              "      <td>1.00</td>\n",
              "      <td>85.00</td>\n",
              "      <td>66.00</td>\n",
              "      <td>29.00</td>\n",
              "      <td>nan</td>\n",
              "      <td>26.60</td>\n",
              "      <td>0.35</td>\n",
              "      <td>31</td>\n",
              "      <td>0.0</td>\n",
              "    </tr>\n",
              "    <tr>\n",
              "      <th>2</th>\n",
              "      <td>8.00</td>\n",
              "      <td>183.00</td>\n",
              "      <td>64.00</td>\n",
              "      <td>nan</td>\n",
              "      <td>nan</td>\n",
              "      <td>23.30</td>\n",
              "      <td>0.67</td>\n",
              "      <td>32</td>\n",
              "      <td>1.0</td>\n",
              "    </tr>\n",
              "    <tr>\n",
              "      <th>3</th>\n",
              "      <td>1.00</td>\n",
              "      <td>89.00</td>\n",
              "      <td>66.00</td>\n",
              "      <td>23.00</td>\n",
              "      <td>94.00</td>\n",
              "      <td>28.10</td>\n",
              "      <td>0.17</td>\n",
              "      <td>21</td>\n",
              "      <td>0.0</td>\n",
              "    </tr>\n",
              "    <tr>\n",
              "      <th>4</th>\n",
              "      <td>0.00</td>\n",
              "      <td>137.00</td>\n",
              "      <td>40.00</td>\n",
              "      <td>35.00</td>\n",
              "      <td>168.00</td>\n",
              "      <td>43.10</td>\n",
              "      <td>2.29</td>\n",
              "      <td>33</td>\n",
              "      <td>1.0</td>\n",
              "    </tr>\n",
              "  </tbody>\n",
              "</table>\n",
              "</div>"
            ],
            "text/plain": [
              "   Pregnant  Glucose  Diastolic_BP  ...  Diabetes_Pedigree  Age  Class\n",
              "0      6.00   148.00         72.00  ...               0.63   50    1.0\n",
              "1      1.00    85.00         66.00  ...               0.35   31    0.0\n",
              "2      8.00   183.00         64.00  ...               0.67   32    1.0\n",
              "3      1.00    89.00         66.00  ...               0.17   21    0.0\n",
              "4      0.00   137.00         40.00  ...               2.29   33    1.0\n",
              "\n",
              "[5 rows x 9 columns]"
            ]
          },
          "metadata": {
            "tags": []
          },
          "execution_count": 91
        }
      ]
    },
    {
      "cell_type": "markdown",
      "metadata": {
        "id": "fKKpaczCgcCH"
      },
      "source": [
        "## Pasos para tratar valores missing\n",
        "Convierta todos los valores missing en valores nulos. \n",
        "* En algunos casos, los valoress missing puede aparecer con valores como 999, -1, '?', entre otros.\n",
        "* Analice la cantidad y el tipo de datos que faltan.\n",
        "* Eliminar o imputar adecuadamente los datos missing.\n",
        "* Evaluar y comparar el rendimiento del conjunto de datos tratado/imputado.\n",
        "\n",
        "\n",
        "## Detectemos los valores missing\n",
        "En los casos donde encontramos valoress missing codificados con algún valor, podemos usar el argumento na_values del método .read_csv() si estamos tratando con un archivo csv.\n"
      ]
    },
    {
      "cell_type": "code",
      "metadata": {
        "colab": {
          "base_uri": "https://localhost:8080/"
        },
        "id": "Mz0MejNIg7Xa",
        "outputId": "7343ad06-fb31-4143-efc1-96928a660e2a"
      },
      "source": [
        "diabetes.info()"
      ],
      "execution_count": null,
      "outputs": [
        {
          "output_type": "stream",
          "text": [
            "<class 'pandas.core.frame.DataFrame'>\n",
            "RangeIndex: 768 entries, 0 to 767\n",
            "Data columns (total 9 columns):\n",
            " #   Column             Non-Null Count  Dtype   \n",
            "---  ------             --------------  -----   \n",
            " 0   Pregnant           768 non-null    float64 \n",
            " 1   Glucose            763 non-null    float64 \n",
            " 2   Diastolic_BP       733 non-null    float64 \n",
            " 3   Skin_Fold          541 non-null    float64 \n",
            " 4   Serum_Insulin      394 non-null    float64 \n",
            " 5   BMI                757 non-null    float64 \n",
            " 6   Diabetes_Pedigree  768 non-null    float64 \n",
            " 7   Age                768 non-null    int64   \n",
            " 8   Class              768 non-null    category\n",
            "dtypes: category(1), float64(7), int64(1)\n",
            "memory usage: 49.0 KB\n"
          ],
          "name": "stdout"
        }
      ]
    },
    {
      "cell_type": "code",
      "metadata": {
        "colab": {
          "base_uri": "https://localhost:8080/"
        },
        "id": "zDIrplEUgFIk",
        "outputId": "11faf099-a720-450b-a1eb-80a59d429272"
      },
      "source": [
        "diabetes.isna().sum()"
      ],
      "execution_count": null,
      "outputs": [
        {
          "output_type": "execute_result",
          "data": {
            "text/plain": [
              "Pregnant               0\n",
              "Glucose                5\n",
              "Diastolic_BP          35\n",
              "Skin_Fold            227\n",
              "Serum_Insulin        374\n",
              "BMI                   11\n",
              "Diabetes_Pedigree      0\n",
              "Age                    0\n",
              "Class                  0\n",
              "dtype: int64"
            ]
          },
          "metadata": {
            "tags": []
          },
          "execution_count": 78
        }
      ]
    },
    {
      "cell_type": "code",
      "metadata": {
        "colab": {
          "base_uri": "https://localhost:8080/"
        },
        "id": "yQc0yjH1hUdJ",
        "outputId": "cd4f1152-6759-484a-8e76-00eb00b29b68"
      },
      "source": [
        "diabetes.isna().mean() * 100"
      ],
      "execution_count": null,
      "outputs": [
        {
          "output_type": "execute_result",
          "data": {
            "text/plain": [
              "Pregnant             0.00\n",
              "Glucose              0.65\n",
              "Diastolic_BP         4.56\n",
              "Skin_Fold           29.56\n",
              "Serum_Insulin       48.70\n",
              "BMI                  1.43\n",
              "Diabetes_Pedigree    0.00\n",
              "Age                  0.00\n",
              "Class                0.00\n",
              "dtype: float64"
            ]
          },
          "metadata": {
            "tags": []
          },
          "execution_count": 85
        }
      ]
    },
    {
      "cell_type": "code",
      "metadata": {
        "colab": {
          "base_uri": "https://localhost:8080/",
          "height": 583
        },
        "id": "HBVaSo2NlolG",
        "outputId": "e34ea92b-5b55-417a-e064-9f5cf5a49aae"
      },
      "source": [
        "msno.matrix(df=diabetes)"
      ],
      "execution_count": null,
      "outputs": [
        {
          "output_type": "execute_result",
          "data": {
            "text/plain": [
              "<matplotlib.axes._subplots.AxesSubplot at 0x7f4898e2e4d0>"
            ]
          },
          "metadata": {
            "tags": []
          },
          "execution_count": 88
        },
        {
          "output_type": "display_data",
          "data": {
            "image/png": "[encoded data removed]",
            "text/plain": [
              "<Figure size 1800x720 with 2 Axes>"
            ]
          },
          "metadata": {
            "tags": [],
            "needs_background": "light"
          }
        }
      ]
    },
    {
      "cell_type": "code",
      "metadata": {
        "colab": {
          "base_uri": "https://localhost:8080/",
          "height": 621
        },
        "id": "hyIkIpQmhtCw",
        "outputId": "2cdc9559-0110-42d2-f79e-a93bb7c58693"
      },
      "source": [
        "msno.bar(df=diabetes)"
      ],
      "execution_count": null,
      "outputs": [
        {
          "output_type": "execute_result",
          "data": {
            "text/plain": [
              "<matplotlib.axes._subplots.AxesSubplot at 0x7f48a15357d0>"
            ]
          },
          "metadata": {
            "tags": []
          },
          "execution_count": 86
        },
        {
          "output_type": "display_data",
          "data": {
            "image/png": "[encoded data removed]",
            "text/plain": [
              "<Figure size 1728x720 with 3 Axes>"
            ]
          },
          "metadata": {
            "tags": [],
            "needs_background": "light"
          }
        }
      ]
    },
    {
      "cell_type": "code",
      "metadata": {
        "colab": {
          "base_uri": "https://localhost:8080/",
          "height": 803
        },
        "id": "m0-bx5Q6kydj",
        "outputId": "38499846-96c5-4722-a3f7-f1629dfe5a06"
      },
      "source": [
        "msno.heatmap(df=diabetes)"
      ],
      "execution_count": null,
      "outputs": [
        {
          "output_type": "execute_result",
          "data": {
            "text/plain": [
              "<matplotlib.axes._subplots.AxesSubplot at 0x7f4899370650>"
            ]
          },
          "metadata": {
            "tags": []
          },
          "execution_count": 87
        },
        {
          "output_type": "display_data",
          "data": {
            "image/png": "[encoded data removed]",
            "text/plain": [
              "<Figure size 1440x864 with 2 Axes>"
            ]
          },
          "metadata": {
            "tags": [],
            "needs_background": "light"
          }
        }
      ]
    },
    {
      "cell_type": "markdown",
      "metadata": {
        "id": "4ysYO7tpm6OQ"
      },
      "source": [
        "## ¿Cuándo y como eliminar los datos missing?\n",
        "\n",
        "Se recomienda eliminar las columnas con más del 20% de valores missing"
      ]
    },
    {
      "cell_type": "code",
      "metadata": {
        "id": "qXfreQkblQPt"
      },
      "source": [
        "cols_to_drop = [\"Skin_Fold\", \"Serum_Insulin\"]\n",
        "\n",
        "diabetes.drop(labels=cols_to_drop, axis=1, inplace=True)"
      ],
      "execution_count": null,
      "outputs": []
    },
    {
      "cell_type": "code",
      "metadata": {
        "id": "-f-funqxnExT"
      },
      "source": [
        "cols_to_drop = diabetes.columns[[True if i > 0.2 else False for i in diabetes.isna().mean().values.tolist()]]\n",
        "\n",
        "diabetes = diabetes.drop(labels=cols_to_drop, axis=1)"
      ],
      "execution_count": null,
      "outputs": []
    },
    {
      "cell_type": "markdown",
      "metadata": {
        "id": "tTM5LWFqpC-D"
      },
      "source": [
        "\n",
        "## Manejo de datos faltantes\n",
        "Pandas tiene una método **.fillna()** que nos puede ayudar con la imptación de los valores missing.\n"
      ]
    },
    {
      "cell_type": "code",
      "metadata": {
        "colab": {
          "base_uri": "https://localhost:8080/"
        },
        "id": "mziIwoGqnYtB",
        "outputId": "e012a9a7-4985-48a3-fbdf-8751ff4b609f"
      },
      "source": [
        "diabetes.isna().sum()"
      ],
      "execution_count": null,
      "outputs": [
        {
          "output_type": "execute_result",
          "data": {
            "text/plain": [
              "Pregnant              0\n",
              "Glucose               5\n",
              "Diastolic_BP         35\n",
              "BMI                  11\n",
              "Diabetes_Pedigree     0\n",
              "Age                   0\n",
              "Class                 0\n",
              "dtype: int64"
            ]
          },
          "metadata": {
            "tags": []
          },
          "execution_count": 102
        }
      ]
    },
    {
      "cell_type": "code",
      "metadata": {
        "id": "H6xKPIqRpGYl"
      },
      "source": [
        "median_glucose = diabetes[\"Glucose\"].median()\n",
        "\n",
        "diabetes[\"Glucose\"] = diabetes[\"Glucose\"].fillna(median_glucose)"
      ],
      "execution_count": null,
      "outputs": []
    },
    {
      "cell_type": "code",
      "metadata": {
        "colab": {
          "base_uri": "https://localhost:8080/"
        },
        "id": "rDi4bSo_pj3T",
        "outputId": "927b0230-ce87-4bea-9ff4-32a50d873e16"
      },
      "source": [
        "diabetes.isna().sum()"
      ],
      "execution_count": null,
      "outputs": [
        {
          "output_type": "execute_result",
          "data": {
            "text/plain": [
              "Pregnant              0\n",
              "Glucose               0\n",
              "Diastolic_BP         35\n",
              "BMI                  11\n",
              "Diabetes_Pedigree     0\n",
              "Age                   0\n",
              "Class                 0\n",
              "dtype: int64"
            ]
          },
          "metadata": {
            "tags": []
          },
          "execution_count": 105
        }
      ]
    },
    {
      "cell_type": "code",
      "metadata": {
        "id": "uIjnyml8pqQh"
      },
      "source": [
        ""
      ],
      "execution_count": null,
      "outputs": []
    }
  ]
}