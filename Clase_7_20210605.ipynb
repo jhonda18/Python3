{
  "nbformat": 4,
  "nbformat_minor": 0,
  "metadata": {
    "colab": {
      "name": "Clase_7-20210605.ipynb",
      "provenance": [],
      "collapsed_sections": [
        "p4VbvmohjMOr",
        "LxyeFhH6oDJu",
        "47_M2jvYuRLz"
      ],
      "include_colab_link": true
    },
    "kernelspec": {
      "name": "python3",
      "display_name": "Python 3"
    },
    "language_info": {
      "name": "python"
    }
  },
  "cells": [
    {
      "cell_type": "markdown",
      "metadata": {
        "id": "view-in-github",
        "colab_type": "text"
      },
      "source": [
        "<a href=\"https://colab.research.google.com/github/jhonda18/Python3/blob/main/Clase_7_20210605.ipynb\" target=\"_parent\"><img src=\"https://colab.research.google.com/assets/colab-badge.svg\" alt=\"Open In Colab\"/></a>"
      ]
    },
    {
      "cell_type": "markdown",
      "metadata": {
        "id": "xfPikuTpSjm0"
      },
      "source": [
        "## Visualización\n",
        "\n",
        "## Trazemos gráficos univariados\n",
        "Cuando hacemos un análisis exploratorio, una de las primeras cosas que hacemos es explorarar cada variable de manera individual en el set de datos.\n",
        "\n",
        "Para las variables númericas es muy común ver la distribución, por ejemplo, gráficando histogramas, boxplot, estimación de densidad del kernel. Por otro lado, para una variable categórica se usan gráficos de barras.\n",
        "\n",
        "Hay varios métodos para hacerlo con seaborn:\n",
        "\n",
        "* sns.countplot() (gráficos de barras)\n",
        "* sns.distplot() (histogramas y estimación de la densidad del kernel)\n",
        "* sns.boxplot() (boxplot)"
      ]
    },
    {
      "cell_type": "code",
      "metadata": {
        "id": "OnBBeiJxMMjq"
      },
      "source": [
        "import numpy as np\n",
        "import pandas as pd\n",
        "import seaborn as sns\n",
        "import matplotlib.pyplot as plt"
      ],
      "execution_count": null,
      "outputs": []
    },
    {
      "cell_type": "code",
      "metadata": {
        "colab": {
          "base_uri": "https://localhost:8080/",
          "height": 243
        },
        "id": "5-DEwLljWynz",
        "outputId": "3267b47e-067e-4a79-a7da-7b08e040e679"
      },
      "source": [
        "student = pd.read_csv(\"https://raw.githubusercontent.com/stivenlopezg/Modulo-Python-3/master/data/student-alcohol-consumption.csv\",\n",
        "                      index_col=0)\n",
        "student.head()"
      ],
      "execution_count": null,
      "outputs": [
        {
          "output_type": "execute_result",
          "data": {
            "text/html": [
              "<div>\n",
              "<style scoped>\n",
              "    .dataframe tbody tr th:only-of-type {\n",
              "        vertical-align: middle;\n",
              "    }\n",
              "\n",
              "    .dataframe tbody tr th {\n",
              "        vertical-align: top;\n",
              "    }\n",
              "\n",
              "    .dataframe thead th {\n",
              "        text-align: right;\n",
              "    }\n",
              "</style>\n",
              "<table border=\"1\" class=\"dataframe\">\n",
              "  <thead>\n",
              "    <tr style=\"text-align: right;\">\n",
              "      <th></th>\n",
              "      <th>school</th>\n",
              "      <th>sex</th>\n",
              "      <th>age</th>\n",
              "      <th>famsize</th>\n",
              "      <th>Pstatus</th>\n",
              "      <th>Medu</th>\n",
              "      <th>Fedu</th>\n",
              "      <th>traveltime</th>\n",
              "      <th>failures</th>\n",
              "      <th>schoolsup</th>\n",
              "      <th>famsup</th>\n",
              "      <th>paid</th>\n",
              "      <th>activities</th>\n",
              "      <th>nursery</th>\n",
              "      <th>higher</th>\n",
              "      <th>internet</th>\n",
              "      <th>romantic</th>\n",
              "      <th>famrel</th>\n",
              "      <th>freetime</th>\n",
              "      <th>goout</th>\n",
              "      <th>Dalc</th>\n",
              "      <th>Walc</th>\n",
              "      <th>health</th>\n",
              "      <th>absences</th>\n",
              "      <th>G1</th>\n",
              "      <th>G2</th>\n",
              "      <th>G3</th>\n",
              "      <th>location</th>\n",
              "      <th>study_time</th>\n",
              "    </tr>\n",
              "  </thead>\n",
              "  <tbody>\n",
              "    <tr>\n",
              "      <th>0</th>\n",
              "      <td>GP</td>\n",
              "      <td>F</td>\n",
              "      <td>18</td>\n",
              "      <td>GT3</td>\n",
              "      <td>A</td>\n",
              "      <td>4</td>\n",
              "      <td>4</td>\n",
              "      <td>2</td>\n",
              "      <td>0</td>\n",
              "      <td>yes</td>\n",
              "      <td>no</td>\n",
              "      <td>no</td>\n",
              "      <td>no</td>\n",
              "      <td>yes</td>\n",
              "      <td>yes</td>\n",
              "      <td>no</td>\n",
              "      <td>no</td>\n",
              "      <td>4</td>\n",
              "      <td>3</td>\n",
              "      <td>4</td>\n",
              "      <td>1</td>\n",
              "      <td>1</td>\n",
              "      <td>3</td>\n",
              "      <td>6</td>\n",
              "      <td>5</td>\n",
              "      <td>6</td>\n",
              "      <td>6</td>\n",
              "      <td>Urban</td>\n",
              "      <td>2 to 5 hours</td>\n",
              "    </tr>\n",
              "    <tr>\n",
              "      <th>1</th>\n",
              "      <td>GP</td>\n",
              "      <td>F</td>\n",
              "      <td>17</td>\n",
              "      <td>GT3</td>\n",
              "      <td>T</td>\n",
              "      <td>1</td>\n",
              "      <td>1</td>\n",
              "      <td>1</td>\n",
              "      <td>0</td>\n",
              "      <td>no</td>\n",
              "      <td>yes</td>\n",
              "      <td>no</td>\n",
              "      <td>no</td>\n",
              "      <td>no</td>\n",
              "      <td>yes</td>\n",
              "      <td>yes</td>\n",
              "      <td>no</td>\n",
              "      <td>5</td>\n",
              "      <td>3</td>\n",
              "      <td>3</td>\n",
              "      <td>1</td>\n",
              "      <td>1</td>\n",
              "      <td>3</td>\n",
              "      <td>4</td>\n",
              "      <td>5</td>\n",
              "      <td>5</td>\n",
              "      <td>6</td>\n",
              "      <td>Urban</td>\n",
              "      <td>2 to 5 hours</td>\n",
              "    </tr>\n",
              "    <tr>\n",
              "      <th>2</th>\n",
              "      <td>GP</td>\n",
              "      <td>F</td>\n",
              "      <td>15</td>\n",
              "      <td>LE3</td>\n",
              "      <td>T</td>\n",
              "      <td>1</td>\n",
              "      <td>1</td>\n",
              "      <td>1</td>\n",
              "      <td>3</td>\n",
              "      <td>yes</td>\n",
              "      <td>no</td>\n",
              "      <td>yes</td>\n",
              "      <td>no</td>\n",
              "      <td>yes</td>\n",
              "      <td>yes</td>\n",
              "      <td>yes</td>\n",
              "      <td>no</td>\n",
              "      <td>4</td>\n",
              "      <td>3</td>\n",
              "      <td>2</td>\n",
              "      <td>2</td>\n",
              "      <td>3</td>\n",
              "      <td>3</td>\n",
              "      <td>10</td>\n",
              "      <td>7</td>\n",
              "      <td>8</td>\n",
              "      <td>10</td>\n",
              "      <td>Urban</td>\n",
              "      <td>2 to 5 hours</td>\n",
              "    </tr>\n",
              "    <tr>\n",
              "      <th>3</th>\n",
              "      <td>GP</td>\n",
              "      <td>F</td>\n",
              "      <td>15</td>\n",
              "      <td>GT3</td>\n",
              "      <td>T</td>\n",
              "      <td>4</td>\n",
              "      <td>2</td>\n",
              "      <td>1</td>\n",
              "      <td>0</td>\n",
              "      <td>no</td>\n",
              "      <td>yes</td>\n",
              "      <td>yes</td>\n",
              "      <td>yes</td>\n",
              "      <td>yes</td>\n",
              "      <td>yes</td>\n",
              "      <td>yes</td>\n",
              "      <td>yes</td>\n",
              "      <td>3</td>\n",
              "      <td>2</td>\n",
              "      <td>2</td>\n",
              "      <td>1</td>\n",
              "      <td>1</td>\n",
              "      <td>5</td>\n",
              "      <td>2</td>\n",
              "      <td>15</td>\n",
              "      <td>14</td>\n",
              "      <td>15</td>\n",
              "      <td>Urban</td>\n",
              "      <td>5 to 10 hours</td>\n",
              "    </tr>\n",
              "    <tr>\n",
              "      <th>4</th>\n",
              "      <td>GP</td>\n",
              "      <td>F</td>\n",
              "      <td>16</td>\n",
              "      <td>GT3</td>\n",
              "      <td>T</td>\n",
              "      <td>3</td>\n",
              "      <td>3</td>\n",
              "      <td>1</td>\n",
              "      <td>0</td>\n",
              "      <td>no</td>\n",
              "      <td>yes</td>\n",
              "      <td>yes</td>\n",
              "      <td>no</td>\n",
              "      <td>yes</td>\n",
              "      <td>yes</td>\n",
              "      <td>no</td>\n",
              "      <td>no</td>\n",
              "      <td>4</td>\n",
              "      <td>3</td>\n",
              "      <td>2</td>\n",
              "      <td>1</td>\n",
              "      <td>2</td>\n",
              "      <td>5</td>\n",
              "      <td>4</td>\n",
              "      <td>6</td>\n",
              "      <td>10</td>\n",
              "      <td>10</td>\n",
              "      <td>Urban</td>\n",
              "      <td>2 to 5 hours</td>\n",
              "    </tr>\n",
              "  </tbody>\n",
              "</table>\n",
              "</div>"
            ],
            "text/plain": [
              "  school sex  age famsize Pstatus  ...  G1  G2  G3  location     study_time\n",
              "0     GP   F   18     GT3       A  ...   5   6   6     Urban   2 to 5 hours\n",
              "1     GP   F   17     GT3       T  ...   5   5   6     Urban   2 to 5 hours\n",
              "2     GP   F   15     LE3       T  ...   7   8  10     Urban   2 to 5 hours\n",
              "3     GP   F   15     GT3       T  ...  15  14  15     Urban  5 to 10 hours\n",
              "4     GP   F   16     GT3       T  ...   6  10  10     Urban   2 to 5 hours\n",
              "\n",
              "[5 rows x 29 columns]"
            ]
          },
          "metadata": {
            "tags": []
          },
          "execution_count": 2
        }
      ]
    },
    {
      "cell_type": "markdown",
      "metadata": {
        "id": "kx0004AfX0dA"
      },
      "source": [
        "* school - student's school (binary: 'GP' - Gabriel Pereira or 'MS' - Mousinho da Silveira)\n",
        "* sex - student's sex (binary: 'F' - female or 'M' - male)\n",
        "* age - student's age (numeric: from 15 to 22)\n",
        "* address - student's home address type (binary: 'U' - urban or 'R' - rural)\n",
        "* famsize - family size (binary: 'LE3' - less or equal to 3 or 'GT3' - greater than 3)\n",
        "* Pstatus - parent's cohabitation status (binary: 'T' - living together or 'A' - apart)\n",
        "* Medu - mother's education (numeric: 0 - none, 1 - primary education (4th grade), 2 – 5th to 9th grade, 3 – secondary education or 4 – higher education)\n",
        "* Fedu - father's education (numeric: 0 - none, 1 - primary education (4th grade), 2 – 5th to 9th grade, 3 – secondary education or 4 – higher education)\n",
        "* Mjob - mother's job (nominal: 'teacher', 'health' care related, civil 'services' (e.g. administrative or police), 'at_home' or 'other')\n",
        "* Fjob - father's job (nominal: 'teacher', 'health' care related, civil 'services' (e.g. administrative or police), 'at_home' or 'other')\n",
        "* reason - reason to choose this school (nominal: close to 'home', school 'reputation', 'course' preference or 'other')\n",
        "* guardian - student's guardian (nominal: 'mother', 'father' or 'other')\n",
        "* traveltime - home to school travel time (numeric: 1 - 1 hour)\n",
        "* studytime - weekly study time (numeric: 1 - 10 hours)\n"
      ]
    },
    {
      "cell_type": "markdown",
      "metadata": {
        "id": "ZOk9TbHpYS0K"
      },
      "source": [
        "* failures - number of past class failures (numeric: n if 1<=n<3, else 4)\n",
        "* schoolsup - extra educational support (binary: yes or no)\n",
        "* famsup - family educational support (binary: yes or no)\n",
        "* paid - extra paid classes within the course subject (Math or Portuguese) (binary: yes or no)\n",
        "* activities - extra-curricular activities (binary: yes or no)\n",
        "* nursery - attended nursery school (binary: yes or no)\n",
        "* higher - wants to take higher education (binary: yes or no)\n",
        "* internet - Internet access at home (binary: yes or no)\n",
        "* romantic - with a romantic relationship (binary: yes or no)\n",
        "* famrel - quality of family relationships (numeric: from 1 - very bad to 5 - excellent)\n",
        "* freetime - free time after school (numeric: from 1 - very low to 5 - very high)\n",
        "* goout - going out with friends (numeric: from 1 - very low to 5 - very high)\n",
        "* Dalc - workday alcohol consumption (numeric: from 1 - very low to 5 - very high)\n",
        "* Walc - weekend alcohol consumption (numeric: from 1 - very low to 5 - very high)\n",
        "* health - current health status (numeric: from 1 - very bad to 5 - very good)\n",
        "* absences - number of school absences (numeric: from 0 to 93)\n",
        "These grades are related with the course subject, Math or Portuguese:\n",
        "\n",
        "* G1 - first period grade (numeric: from 0 to 20)\n",
        "* G2 - second period grade (numeric: from 0 to 20)\n",
        "* G3 - final grade (numeric: from 0 to 20, output target)\n"
      ]
    },
    {
      "cell_type": "markdown",
      "metadata": {
        "id": "BXiUmx9XY3ve"
      },
      "source": [
        "## Análisis exploratorio\n",
        "\n",
        "* Análisis aclaratorio (explicativo).\n",
        "* Análisis exploratorio.\n",
        "\n",
        "## Univariado\n",
        "\n",
        "Variables númericas:\n",
        "\n",
        "* Histogramas.\n",
        "* Boxplot.\n",
        "* ECDF.\n",
        "\n",
        "Variables categóricas:\n",
        "\n",
        "* Gráficos de barras."
      ]
    },
    {
      "cell_type": "code",
      "metadata": {
        "colab": {
          "base_uri": "https://localhost:8080/"
        },
        "id": "T6bZxh7qXgFC",
        "outputId": "7dc4a9c1-a27a-4577-bfa7-4da65d0af003"
      },
      "source": [
        "student.info()"
      ],
      "execution_count": null,
      "outputs": [
        {
          "output_type": "stream",
          "text": [
            "<class 'pandas.core.frame.DataFrame'>\n",
            "Int64Index: 395 entries, 0 to 394\n",
            "Data columns (total 29 columns):\n",
            " #   Column      Non-Null Count  Dtype \n",
            "---  ------      --------------  ----- \n",
            " 0   school      395 non-null    object\n",
            " 1   sex         395 non-null    object\n",
            " 2   age         395 non-null    int64 \n",
            " 3   famsize     395 non-null    object\n",
            " 4   Pstatus     395 non-null    object\n",
            " 5   Medu        395 non-null    int64 \n",
            " 6   Fedu        395 non-null    int64 \n",
            " 7   traveltime  395 non-null    int64 \n",
            " 8   failures    395 non-null    int64 \n",
            " 9   schoolsup   395 non-null    object\n",
            " 10  famsup      395 non-null    object\n",
            " 11  paid        395 non-null    object\n",
            " 12  activities  395 non-null    object\n",
            " 13  nursery     395 non-null    object\n",
            " 14  higher      395 non-null    object\n",
            " 15  internet    395 non-null    object\n",
            " 16  romantic    395 non-null    object\n",
            " 17  famrel      395 non-null    int64 \n",
            " 18  freetime    395 non-null    int64 \n",
            " 19  goout       395 non-null    int64 \n",
            " 20  Dalc        395 non-null    int64 \n",
            " 21  Walc        395 non-null    int64 \n",
            " 22  health      395 non-null    int64 \n",
            " 23  absences    395 non-null    int64 \n",
            " 24  G1          395 non-null    int64 \n",
            " 25  G2          395 non-null    int64 \n",
            " 26  G3          395 non-null    int64 \n",
            " 27  location    395 non-null    object\n",
            " 28  study_time  395 non-null    object\n",
            "dtypes: int64(15), object(14)\n",
            "memory usage: 92.6+ KB\n"
          ],
          "name": "stdout"
        }
      ]
    },
    {
      "cell_type": "markdown",
      "metadata": {
        "id": "3uGJ0-T2Z0OK"
      },
      "source": [
        "### Gráficos de barras"
      ]
    },
    {
      "cell_type": "code",
      "metadata": {
        "colab": {
          "base_uri": "https://localhost:8080/",
          "height": 295
        },
        "id": "Nm4ETkDpZJyF",
        "outputId": "362839fb-f585-4f17-81bf-83b88f4ed91f"
      },
      "source": [
        "sns.countplot(y=\"school\", data=student)\n",
        "plt.title(\"Cantidad de estudiantes por escuela\")\n",
        "plt.xlabel(xlabel=\"Cantidad\")\n",
        "plt.ylabel(ylabel=\"Escuela\")\n",
        "plt.show()"
      ],
      "execution_count": null,
      "outputs": [
        {
          "output_type": "display_data",
          "data": {
            "image/png": "[encoded data removed]",
            "text/plain": [
              "<Figure size 432x288 with 1 Axes>"
            ]
          },
          "metadata": {
            "tags": [],
            "needs_background": "light"
          }
        }
      ]
    },
    {
      "cell_type": "code",
      "metadata": {
        "colab": {
          "base_uri": "https://localhost:8080/",
          "height": 112
        },
        "id": "aQToOmZfaHmJ",
        "outputId": "792df3ef-efac-418e-9a3b-a6f3cb8c5dbb"
      },
      "source": [
        "pd.DataFrame({\"cantidad\": [20, 25],\n",
        "              \"sexo\": [\"F\", \"M\"]})"
      ],
      "execution_count": null,
      "outputs": [
        {
          "output_type": "execute_result",
          "data": {
            "text/html": [
              "<div>\n",
              "<style scoped>\n",
              "    .dataframe tbody tr th:only-of-type {\n",
              "        vertical-align: middle;\n",
              "    }\n",
              "\n",
              "    .dataframe tbody tr th {\n",
              "        vertical-align: top;\n",
              "    }\n",
              "\n",
              "    .dataframe thead th {\n",
              "        text-align: right;\n",
              "    }\n",
              "</style>\n",
              "<table border=\"1\" class=\"dataframe\">\n",
              "  <thead>\n",
              "    <tr style=\"text-align: right;\">\n",
              "      <th></th>\n",
              "      <th>cantidad</th>\n",
              "      <th>sexo</th>\n",
              "    </tr>\n",
              "  </thead>\n",
              "  <tbody>\n",
              "    <tr>\n",
              "      <th>0</th>\n",
              "      <td>20</td>\n",
              "      <td>F</td>\n",
              "    </tr>\n",
              "    <tr>\n",
              "      <th>1</th>\n",
              "      <td>25</td>\n",
              "      <td>M</td>\n",
              "    </tr>\n",
              "  </tbody>\n",
              "</table>\n",
              "</div>"
            ],
            "text/plain": [
              "   cantidad sexo\n",
              "0        20    F\n",
              "1        25    M"
            ]
          },
          "metadata": {
            "tags": []
          },
          "execution_count": 11
        }
      ]
    },
    {
      "cell_type": "code",
      "metadata": {
        "colab": {
          "base_uri": "https://localhost:8080/"
        },
        "id": "Qxqu-yJpbvNJ",
        "outputId": "7f7a6d1e-6132-4813-c70a-a25168b46d2a"
      },
      "source": [
        "student[\"study_time\"].value_counts()"
      ],
      "execution_count": null,
      "outputs": [
        {
          "output_type": "execute_result",
          "data": {
            "text/plain": [
              "2 to 5 hours     198\n",
              "<2 hours         105\n",
              "5 to 10 hours     65\n",
              ">10 hours         27\n",
              "Name: study_time, dtype: int64"
            ]
          },
          "metadata": {
            "tags": []
          },
          "execution_count": 12
        }
      ]
    },
    {
      "cell_type": "code",
      "metadata": {
        "id": "-Jdzi937eu3W"
      },
      "source": [
        "def barplot(data: pd.DataFrame, column: str, title: str, xlabel: str, ylabel: str):\n",
        "  df = data[column].value_counts().sort_values(ascending=True)\n",
        "  categories = df.index\n",
        "  values = df.values\n",
        "  y_pos = np.arange(len(categories))\n",
        "  colors = [\"lightblue\"] * len(categories)\n",
        "  colors[-1] = \"blue\"\n",
        "  plt.figure(figsize=(10, 8))\n",
        "  plt.barh(y_pos, values, color=colors)\n",
        "  plt.yticks(y_pos, categories)\n",
        "  plt.xlabel(xlabel)\n",
        "  plt.ylabel(ylabel)\n",
        "  plt.title(title)\n",
        "  return plt.show()"
      ],
      "execution_count": null,
      "outputs": []
    },
    {
      "cell_type": "code",
      "metadata": {
        "colab": {
          "base_uri": "https://localhost:8080/",
          "height": 499
        },
        "id": "DxYe9YHjcI1V",
        "outputId": "bf36a19b-12a3-4338-b6dd-8d83f1c97d35"
      },
      "source": [
        "aux = student[\"study_time\"].value_counts().sort_values(ascending=True)\n",
        "categories = aux.index\n",
        "values = aux.values\n",
        "y_pos = np.arange(len(categories))\n",
        "colors = [\"lightblue\"] * len(categories)\n",
        "colors[-1] = \"blue\"\n",
        "plt.figure(figsize=(10, 8))\n",
        "plt.barh(y_pos, values, color=colors)\n",
        "plt.yticks(y_pos, categories)\n",
        "plt.title(\"Cantidad de horas estudiadas por semana\")\n",
        "plt.show()"
      ],
      "execution_count": null,
      "outputs": [
        {
          "output_type": "display_data",
          "data": {
            "image/png": "[encoded data removed]",
            "text/plain": [
              "<Figure size 720x576 with 1 Axes>"
            ]
          },
          "metadata": {
            "tags": [],
            "needs_background": "light"
          }
        }
      ]
    },
    {
      "cell_type": "code",
      "metadata": {
        "colab": {
          "base_uri": "https://localhost:8080/",
          "height": 513
        },
        "id": "5PCBU9wofW3f",
        "outputId": "5ce52a65-fbff-44d2-8685-011f7285ac81"
      },
      "source": [
        "barplot(data=student, column=\"school\", title=\"Cantidad de estudiantes por escuela\", xlabel=\"Cantidad\", ylabel=\"Escuela\")"
      ],
      "execution_count": null,
      "outputs": [
        {
          "output_type": "display_data",
          "data": {
            "image/png": "[encoded data removed]",
            "text/plain": [
              "<Figure size 720x576 with 1 Axes>"
            ]
          },
          "metadata": {
            "tags": [],
            "needs_background": "light"
          }
        }
      ]
    },
    {
      "cell_type": "code",
      "metadata": {
        "colab": {
          "base_uri": "https://localhost:8080/",
          "height": 301
        },
        "id": "W23gAObYd3OJ",
        "outputId": "70811b88-48cd-4eac-b9db-f14e721b4b08"
      },
      "source": [
        "palette_colors = {\"Rural\": \"lightblue\", \"Urban\": \"blue\"}\n",
        "\n",
        "sns.countplot(x=\"school\", hue=\"location\", data=student, palette=palette_colors)"
      ],
      "execution_count": null,
      "outputs": [
        {
          "output_type": "execute_result",
          "data": {
            "text/plain": [
              "<matplotlib.axes._subplots.AxesSubplot at 0x7f9701faee90>"
            ]
          },
          "metadata": {
            "tags": []
          },
          "execution_count": 28
        },
        {
          "output_type": "display_data",
          "data": {
            "image/png": "[encoded data removed]",
            "text/plain": [
              "<Figure size 432x288 with 1 Axes>"
            ]
          },
          "metadata": {
            "tags": [],
            "needs_background": "light"
          }
        }
      ]
    },
    {
      "cell_type": "code",
      "metadata": {
        "colab": {
          "base_uri": "https://localhost:8080/"
        },
        "id": "KjU5U9XkiQz8",
        "outputId": "0b6666c7-f32c-4a5d-934d-0bf174f1f189"
      },
      "source": [
        "student[\"study_time\"].unique()"
      ],
      "execution_count": null,
      "outputs": [
        {
          "output_type": "execute_result",
          "data": {
            "text/plain": [
              "array(['2 to 5 hours', '5 to 10 hours', '<2 hours', '>10 hours'],\n",
              "      dtype=object)"
            ]
          },
          "metadata": {
            "tags": []
          },
          "execution_count": 30
        }
      ]
    },
    {
      "cell_type": "code",
      "metadata": {
        "colab": {
          "base_uri": "https://localhost:8080/",
          "height": 401
        },
        "id": "n3OQm9OqgoOp",
        "outputId": "6fb23740-80f0-49a5-e23c-19501a185657"
      },
      "source": [
        "sns.catplot(x=\"study_time\", y=\"G3\", kind=\"bar\",\n",
        "            data=student, order=['<2 hours', '2 to 5 hours',\n",
        "                                 '5 to 10 hours', '>10 hours'],\n",
        "            ci=None, estimator=np.median)"
      ],
      "execution_count": null,
      "outputs": [
        {
          "output_type": "execute_result",
          "data": {
            "text/plain": [
              "<seaborn.axisgrid.FacetGrid at 0x7f96f9e02a10>"
            ]
          },
          "metadata": {
            "tags": []
          },
          "execution_count": 33
        },
        {
          "output_type": "display_data",
          "data": {
            "image/png": "[encoded data removed]",
            "text/plain": [
              "<Figure size 360x360 with 1 Axes>"
            ]
          },
          "metadata": {
            "tags": [],
            "needs_background": "light"
          }
        }
      ]
    },
    {
      "cell_type": "markdown",
      "metadata": {
        "id": "p4VbvmohjMOr"
      },
      "source": [
        "### Histogramas"
      ]
    },
    {
      "cell_type": "code",
      "metadata": {
        "colab": {
          "base_uri": "https://localhost:8080/",
          "height": 387
        },
        "id": "Fgu6Tl7fhuX6",
        "outputId": "1b484ff0-973f-4270-c10d-cae3b2afcba7"
      },
      "source": [
        "sns.displot(data=student, x=\"G3\")"
      ],
      "execution_count": null,
      "outputs": [
        {
          "output_type": "execute_result",
          "data": {
            "text/plain": [
              "<seaborn.axisgrid.FacetGrid at 0x7f9701fbbbd0>"
            ]
          },
          "metadata": {
            "tags": []
          },
          "execution_count": 34
        },
        {
          "output_type": "display_data",
          "data": {
            "image/png": "[encoded data removed]",
            "text/plain": [
              "<Figure size 360x360 with 1 Axes>"
            ]
          },
          "metadata": {
            "tags": [],
            "needs_background": "light"
          }
        }
      ]
    },
    {
      "cell_type": "code",
      "metadata": {
        "colab": {
          "base_uri": "https://localhost:8080/",
          "height": 351
        },
        "id": "TZgg6zmojcvc",
        "outputId": "8c94059d-6916-48a8-c5e2-25109a74f0e9"
      },
      "source": [
        "sns.distplot(student[\"G3\"])"
      ],
      "execution_count": null,
      "outputs": [
        {
          "output_type": "stream",
          "text": [
            "/usr/local/lib/python3.7/dist-packages/seaborn/distributions.py:2557: FutureWarning: `distplot` is a deprecated function and will be removed in a future version. Please adapt your code to use either `displot` (a figure-level function with similar flexibility) or `histplot` (an axes-level function for histograms).\n",
            "  warnings.warn(msg, FutureWarning)\n"
          ],
          "name": "stderr"
        },
        {
          "output_type": "execute_result",
          "data": {
            "text/plain": [
              "<matplotlib.axes._subplots.AxesSubplot at 0x7f97020ec950>"
            ]
          },
          "metadata": {
            "tags": []
          },
          "execution_count": 35
        },
        {
          "output_type": "display_data",
          "data": {
            "image/png": "[encoded data removed]",
            "text/plain": [
              "<Figure size 432x288 with 1 Axes>"
            ]
          },
          "metadata": {
            "tags": [],
            "needs_background": "light"
          }
        }
      ]
    },
    {
      "cell_type": "code",
      "metadata": {
        "colab": {
          "base_uri": "https://localhost:8080/",
          "height": 423
        },
        "id": "A1-8jqcYjr0O",
        "outputId": "9303a15c-4a14-4f33-da13-6e892641768c"
      },
      "source": [
        "data = pd.DataFrame({\"salario\": np.random.normal(loc=2500, scale=500, size=10000)})\n",
        "data"
      ],
      "execution_count": null,
      "outputs": [
        {
          "output_type": "execute_result",
          "data": {
            "text/html": [
              "<div>\n",
              "<style scoped>\n",
              "    .dataframe tbody tr th:only-of-type {\n",
              "        vertical-align: middle;\n",
              "    }\n",
              "\n",
              "    .dataframe tbody tr th {\n",
              "        vertical-align: top;\n",
              "    }\n",
              "\n",
              "    .dataframe thead th {\n",
              "        text-align: right;\n",
              "    }\n",
              "</style>\n",
              "<table border=\"1\" class=\"dataframe\">\n",
              "  <thead>\n",
              "    <tr style=\"text-align: right;\">\n",
              "      <th></th>\n",
              "      <th>salario</th>\n",
              "    </tr>\n",
              "  </thead>\n",
              "  <tbody>\n",
              "    <tr>\n",
              "      <th>0</th>\n",
              "      <td>1802.609020</td>\n",
              "    </tr>\n",
              "    <tr>\n",
              "      <th>1</th>\n",
              "      <td>3512.655987</td>\n",
              "    </tr>\n",
              "    <tr>\n",
              "      <th>2</th>\n",
              "      <td>2479.521613</td>\n",
              "    </tr>\n",
              "    <tr>\n",
              "      <th>3</th>\n",
              "      <td>2616.806783</td>\n",
              "    </tr>\n",
              "    <tr>\n",
              "      <th>4</th>\n",
              "      <td>2023.785349</td>\n",
              "    </tr>\n",
              "    <tr>\n",
              "      <th>...</th>\n",
              "      <td>...</td>\n",
              "    </tr>\n",
              "    <tr>\n",
              "      <th>9995</th>\n",
              "      <td>2579.525623</td>\n",
              "    </tr>\n",
              "    <tr>\n",
              "      <th>9996</th>\n",
              "      <td>2973.684418</td>\n",
              "    </tr>\n",
              "    <tr>\n",
              "      <th>9997</th>\n",
              "      <td>2194.473275</td>\n",
              "    </tr>\n",
              "    <tr>\n",
              "      <th>9998</th>\n",
              "      <td>2151.765672</td>\n",
              "    </tr>\n",
              "    <tr>\n",
              "      <th>9999</th>\n",
              "      <td>2405.640579</td>\n",
              "    </tr>\n",
              "  </tbody>\n",
              "</table>\n",
              "<p>10000 rows × 1 columns</p>\n",
              "</div>"
            ],
            "text/plain": [
              "          salario\n",
              "0     1802.609020\n",
              "1     3512.655987\n",
              "2     2479.521613\n",
              "3     2616.806783\n",
              "4     2023.785349\n",
              "...           ...\n",
              "9995  2579.525623\n",
              "9996  2973.684418\n",
              "9997  2194.473275\n",
              "9998  2151.765672\n",
              "9999  2405.640579\n",
              "\n",
              "[10000 rows x 1 columns]"
            ]
          },
          "metadata": {
            "tags": []
          },
          "execution_count": 36
        }
      ]
    },
    {
      "cell_type": "code",
      "metadata": {
        "colab": {
          "base_uri": "https://localhost:8080/",
          "height": 387
        },
        "id": "YmGCbeVYkOmz",
        "outputId": "5b869c80-e8b6-4519-c0a6-ba5ab336c4d7"
      },
      "source": [
        "sns.displot(data=data, x=\"salario\")"
      ],
      "execution_count": null,
      "outputs": [
        {
          "output_type": "execute_result",
          "data": {
            "text/plain": [
              "<seaborn.axisgrid.FacetGrid at 0x7f97021bb990>"
            ]
          },
          "metadata": {
            "tags": []
          },
          "execution_count": 37
        },
        {
          "output_type": "display_data",
          "data": {
            "image/png": "[encoded data removed]",
            "text/plain": [
              "<Figure size 360x360 with 1 Axes>"
            ]
          },
          "metadata": {
            "tags": [],
            "needs_background": "light"
          }
        }
      ]
    },
    {
      "cell_type": "markdown",
      "metadata": {
        "id": "LxyeFhH6oDJu"
      },
      "source": [
        "### Boxplot"
      ]
    },
    {
      "cell_type": "code",
      "metadata": {
        "colab": {
          "base_uri": "https://localhost:8080/",
          "height": 269
        },
        "id": "bHfecwOkkXNM",
        "outputId": "e6909a94-1e29-46de-d27b-8aef173b5734"
      },
      "source": [
        "sns.boxplot(y=\"salario\", data=data)"
      ],
      "execution_count": null,
      "outputs": [
        {
          "output_type": "execute_result",
          "data": {
            "text/plain": [
              "<matplotlib.axes._subplots.AxesSubplot at 0x7f96f6a9cb90>"
            ]
          },
          "metadata": {
            "tags": []
          },
          "execution_count": 39
        },
        {
          "output_type": "display_data",
          "data": {
            "image/png": "[encoded data removed]",
            "text/plain": [
              "<Figure size 432x288 with 1 Axes>"
            ]
          },
          "metadata": {
            "tags": [],
            "needs_background": "light"
          }
        }
      ]
    },
    {
      "cell_type": "markdown",
      "metadata": {
        "id": "C04j16jeoc9t"
      },
      "source": [
        "## Gráficos bivariados\n",
        "Los gráficos univariados nos dan mucha información, sin embargo, no podemos observar relaciones con respecto a otras variables. Así las cosas, gráficos bivariados son aún más informativos, sobretodo para mostrar análisis o incluso construir un modelo.\n",
        "\n",
        "Dado que hay diferentes tipos de variables, se recomiendan algunos gráficos para ver relaciones entre las variables:\n",
        "\n",
        "### Continuo vs Continuo\n",
        "* gráfico de dispersión (scatterplot).\n",
        "* matriz de correlación.\n",
        "\n",
        "### Categórica vs Continua\n",
        "* boxplot.\n",
        "* gráfico de violín.\n",
        "* histogramas superpuestos (se recomienda si la variable categórica tiene 3 o menos categorías)\n",
        "\n",
        "### Categórica vs Categórica\n",
        "* heatmap de la tabla de contingencia.\n",
        "* gráficos de barras apiladas.\n",
        "\n",
        "\n",
        "#### Gráficos de dispersión"
      ]
    },
    {
      "cell_type": "code",
      "metadata": {
        "colab": {
          "base_uri": "https://localhost:8080/",
          "height": 297
        },
        "id": "SRatnRYCoLJB",
        "outputId": "a571abb3-46cc-472c-f220-8b188c1890c1"
      },
      "source": [
        "sns.scatterplot(x=\"absences\", y=\"G3\", hue=\"location\", data=student)"
      ],
      "execution_count": null,
      "outputs": [
        {
          "output_type": "execute_result",
          "data": {
            "text/plain": [
              "<matplotlib.axes._subplots.AxesSubplot at 0x7f96f6a0bed0>"
            ]
          },
          "metadata": {
            "tags": []
          },
          "execution_count": 41
        },
        {
          "output_type": "display_data",
          "data": {
            "image/png": "[encoded data removed]",
            "text/plain": [
              "<Figure size 432x288 with 1 Axes>"
            ]
          },
          "metadata": {
            "tags": [],
            "needs_background": "light"
          }
        }
      ]
    },
    {
      "cell_type": "code",
      "metadata": {
        "colab": {
          "base_uri": "https://localhost:8080/",
          "height": 401
        },
        "id": "40JIv-USp6-s",
        "outputId": "8379faff-fb4a-4c86-b4aa-abe4579e0ef7"
      },
      "source": [
        "sns.relplot(x=\"absences\", y=\"G3\", data=student, kind=\"scatter\",\n",
        "            col=\"location\", col_order=[\"Rural\", \"Urban\"])"
      ],
      "execution_count": null,
      "outputs": [
        {
          "output_type": "execute_result",
          "data": {
            "text/plain": [
              "<seaborn.axisgrid.FacetGrid at 0x7f96f6893b90>"
            ]
          },
          "metadata": {
            "tags": []
          },
          "execution_count": 44
        },
        {
          "output_type": "display_data",
          "data": {
            "image/png": "[encoded data removed]",
            "text/plain": [
              "<Figure size 720x360 with 2 Axes>"
            ]
          },
          "metadata": {
            "tags": [],
            "needs_background": "light"
          }
        }
      ]
    },
    {
      "cell_type": "code",
      "metadata": {
        "colab": {
          "base_uri": "https://localhost:8080/",
          "height": 761
        },
        "id": "fB7DnUPAq27V",
        "outputId": "56f3ff4a-a96e-409c-c998-43bc4f466d11"
      },
      "source": [
        "sns.relplot(x=\"absences\", y=\"G3\", data=student, kind=\"scatter\",\n",
        "            row=\"location\", row_order=[\"Rural\", \"Urban\"])"
      ],
      "execution_count": null,
      "outputs": [
        {
          "output_type": "execute_result",
          "data": {
            "text/plain": [
              "<seaborn.axisgrid.FacetGrid at 0x7f96f67b99d0>"
            ]
          },
          "metadata": {
            "tags": []
          },
          "execution_count": 45
        },
        {
          "output_type": "display_data",
          "data": {
            "image/png": "[encoded data removed]",
            "text/plain": [
              "<Figure size 360x720 with 2 Axes>"
            ]
          },
          "metadata": {
            "tags": [],
            "needs_background": "light"
          }
        }
      ]
    },
    {
      "cell_type": "code",
      "metadata": {
        "colab": {
          "base_uri": "https://localhost:8080/",
          "height": 761
        },
        "id": "gZuBowd2rhM6",
        "outputId": "89ce6aaf-40bb-4a1a-95a8-e4a665058f17"
      },
      "source": [
        "sns.relplot(x=\"G1\", y=\"G3\", data=student, kind=\"scatter\",\n",
        "            col=\"schoolsup\", col_order=[\"yes\", \"no\"],\n",
        "            row=\"famsup\", row_order=[\"yes\", \"no\"])"
      ],
      "execution_count": null,
      "outputs": [
        {
          "output_type": "execute_result",
          "data": {
            "text/plain": [
              "<seaborn.axisgrid.FacetGrid at 0x7f96f67b9390>"
            ]
          },
          "metadata": {
            "tags": []
          },
          "execution_count": 46
        },
        {
          "output_type": "display_data",
          "data": {
            "image/png": "[encoded data removed]",
            "text/plain": [
              "<Figure size 720x720 with 4 Axes>"
            ]
          },
          "metadata": {
            "tags": [],
            "needs_background": "light"
          }
        }
      ]
    },
    {
      "cell_type": "code",
      "metadata": {
        "colab": {
          "base_uri": "https://localhost:8080/",
          "height": 401
        },
        "id": "OW_UXIsJsaOK",
        "outputId": "dc299d88-86b6-4e18-edff-3901651bd9d4"
      },
      "source": [
        "sns.relplot(x=\"G1\", y=\"G3\", hue=\"study_time\", data=student, kind=\"scatter\", size=\"study_time\")"
      ],
      "execution_count": null,
      "outputs": [
        {
          "output_type": "execute_result",
          "data": {
            "text/plain": [
              "<seaborn.axisgrid.FacetGrid at 0x7f96f6395610>"
            ]
          },
          "metadata": {
            "tags": []
          },
          "execution_count": 49
        },
        {
          "output_type": "display_data",
          "data": {
            "image/png": "[encoded data removed]",
            "text/plain": [
              "<Figure size 462.375x360 with 1 Axes>"
            ]
          },
          "metadata": {
            "tags": [],
            "needs_background": "light"
          }
        }
      ]
    },
    {
      "cell_type": "markdown",
      "metadata": {
        "id": "47_M2jvYuRLz"
      },
      "source": [
        "### Matriz de correlación\n",
        "\n",
        "**Nota**:\n",
        "\n",
        "La matriz de correlación la puedo aplicar solo a variables numericas."
      ]
    },
    {
      "cell_type": "code",
      "metadata": {
        "id": "QF9DCmZUtofD"
      },
      "source": [
        "numerical_features = [\"absences\", \"G1\", \"G2\", \"G3\"]"
      ],
      "execution_count": null,
      "outputs": []
    },
    {
      "cell_type": "code",
      "metadata": {
        "colab": {
          "base_uri": "https://localhost:8080/",
          "height": 287
        },
        "id": "vZONZE7kvmak",
        "outputId": "67e54d89-9e07-4746-d077-0d6052165a50"
      },
      "source": [
        "matrix = student[numerical_features].corr(method=\"pearson\")\n",
        "\n",
        "sns.heatmap(matrix)"
      ],
      "execution_count": null,
      "outputs": [
        {
          "output_type": "execute_result",
          "data": {
            "text/plain": [
              "<matplotlib.axes._subplots.AxesSubplot at 0x7f97021a3d90>"
            ]
          },
          "metadata": {
            "tags": []
          },
          "execution_count": 56
        },
        {
          "output_type": "display_data",
          "data": {
            "image/png": "[encoded data removed]",
            "text/plain": [
              "<Figure size 432x288 with 2 Axes>"
            ]
          },
          "metadata": {
            "tags": [],
            "needs_background": "light"
          }
        }
      ]
    },
    {
      "cell_type": "code",
      "metadata": {
        "colab": {
          "base_uri": "https://localhost:8080/",
          "height": 287
        },
        "id": "KrxaUwBpvoTZ",
        "outputId": "9161b681-5795-49a5-c785-4b971146844e"
      },
      "source": [
        "sns.heatmap(matrix, annot=True, fmt=\".1g\")"
      ],
      "execution_count": null,
      "outputs": [
        {
          "output_type": "execute_result",
          "data": {
            "text/plain": [
              "<matplotlib.axes._subplots.AxesSubplot at 0x7f96f6122690>"
            ]
          },
          "metadata": {
            "tags": []
          },
          "execution_count": 58
        },
        {
          "output_type": "display_data",
          "data": {
            "image/png": "[encoded data removed]",
            "text/plain": [
              "<Figure size 432x288 with 2 Axes>"
            ]
          },
          "metadata": {
            "tags": [],
            "needs_background": "light"
          }
        }
      ]
    },
    {
      "cell_type": "markdown",
      "metadata": {
        "id": "PUfyErfexRzs"
      },
      "source": [
        "\n",
        "* **vmin**: valor mínimo de la barra.\n",
        "* **vmax**: valor máximo de la barra.\n",
        "* **center**: valor en el centro."
      ]
    },
    {
      "cell_type": "code",
      "metadata": {
        "colab": {
          "base_uri": "https://localhost:8080/",
          "height": 287
        },
        "id": "sFZuOSl3wwHw",
        "outputId": "7f17f123-9e3f-480d-ed5c-f169dae8ee16"
      },
      "source": [
        "sns.heatmap(matrix, annot=True, fmt=\".1g\", vmin=-1, vmax=1, center=0)"
      ],
      "execution_count": null,
      "outputs": [
        {
          "output_type": "execute_result",
          "data": {
            "text/plain": [
              "<matplotlib.axes._subplots.AxesSubplot at 0x7f96f6032910>"
            ]
          },
          "metadata": {
            "tags": []
          },
          "execution_count": 59
        },
        {
          "output_type": "display_data",
          "data": {
            "image/png": "[encoded data removed]",
            "text/plain": [
              "<Figure size 432x288 with 2 Axes>"
            ]
          },
          "metadata": {
            "tags": [],
            "needs_background": "light"
          }
        }
      ]
    },
    {
      "cell_type": "markdown",
      "metadata": {
        "id": "w0a4R7MLxqH3"
      },
      "source": [
        "* cmap: paleta de colores (cambio color del gráfico)\n",
        "\n",
        "[matplotlib palettes](https://matplotlib.org/stable/tutorials/colors/colormaps.html)"
      ]
    },
    {
      "cell_type": "code",
      "metadata": {
        "colab": {
          "base_uri": "https://localhost:8080/",
          "height": 287
        },
        "id": "ILRARCtLxeBS",
        "outputId": "1158aeea-acd4-4f89-f11e-5f7659c902bb"
      },
      "source": [
        "sns.heatmap(matrix, annot=True, fmt=\".1g\", vmin=-1, vmax=1, center=0, cmap=\"GnBu\")"
      ],
      "execution_count": null,
      "outputs": [
        {
          "output_type": "execute_result",
          "data": {
            "text/plain": [
              "<matplotlib.axes._subplots.AxesSubplot at 0x7f96f5e0d810>"
            ]
          },
          "metadata": {
            "tags": []
          },
          "execution_count": 62
        },
        {
          "output_type": "display_data",
          "data": {
            "image/png": "[encoded data removed]",
            "text/plain": [
              "<Figure size 432x288 with 2 Axes>"
            ]
          },
          "metadata": {
            "tags": [],
            "needs_background": "light"
          }
        }
      ]
    },
    {
      "cell_type": "markdown",
      "metadata": {
        "id": "shP5WsmLzBZE"
      },
      "source": [
        "A nosotros nos interesa manipular los bordes y los colores de esos bordes.\n",
        "\n",
        "* **linecolor**: color del borde\n",
        "* **linewidths**: grosor del borde"
      ]
    },
    {
      "cell_type": "code",
      "metadata": {
        "colab": {
          "base_uri": "https://localhost:8080/",
          "height": 283
        },
        "id": "fRKJQ7DFytv7",
        "outputId": "d40330b1-3722-445f-c5c1-cdf789c70e9c"
      },
      "source": [
        "sns.heatmap(matrix, annot=True, fmt=\".1g\",\n",
        "            vmin=-1, vmax=1, center=0, cmap=\"GnBu\",\n",
        "            linecolor=\"w\", linewidths=3, cbar=False)"
      ],
      "execution_count": null,
      "outputs": [
        {
          "output_type": "execute_result",
          "data": {
            "text/plain": [
              "<matplotlib.axes._subplots.AxesSubplot at 0x7f96f5ba70d0>"
            ]
          },
          "metadata": {
            "tags": []
          },
          "execution_count": 66
        },
        {
          "output_type": "display_data",
          "data": {
            "image/png": "[encoded data removed]",
            "text/plain": [
              "<Figure size 432x288 with 1 Axes>"
            ]
          },
          "metadata": {
            "tags": [],
            "needs_background": "light"
          }
        }
      ]
    },
    {
      "cell_type": "markdown",
      "metadata": {
        "id": "JWiQS6M3z05j"
      },
      "source": [
        "* **mask**: matriz triangular inferior o superior.\n",
        "\n",
        "Para calcular matriz triangular.\n",
        "\n",
        "* *np.triu()*: matriz inferior.\n",
        "* *np.tril()*: matriz superior."
      ]
    },
    {
      "cell_type": "code",
      "metadata": {
        "colab": {
          "base_uri": "https://localhost:8080/",
          "height": 283
        },
        "id": "zdrr3JC6zX9y",
        "outputId": "84a2edb8-4872-4f02-a0fc-49f29fff2ebd"
      },
      "source": [
        "mask = np.triu(student[numerical_features].corr())\n",
        "matrix = student[numerical_features].corr()\n",
        "\n",
        "sns.heatmap(matrix, annot=True, fmt=\".1g\",\n",
        "            vmin=-1, vmax=1, center=0, cmap=\"GnBu\",\n",
        "            linecolor=\"w\", linewidths=3, cbar=False, mask=mask)"
      ],
      "execution_count": null,
      "outputs": [
        {
          "output_type": "execute_result",
          "data": {
            "text/plain": [
              "<matplotlib.axes._subplots.AxesSubplot at 0x7f96f5959e10>"
            ]
          },
          "metadata": {
            "tags": []
          },
          "execution_count": 71
        },
        {
          "output_type": "display_data",
          "data": {
            "image/png": "[encoded data removed]",
            "text/plain": [
              "<Figure size 432x288 with 1 Axes>"
            ]
          },
          "metadata": {
            "tags": [],
            "needs_background": "light"
          }
        }
      ]
    },
    {
      "cell_type": "markdown",
      "metadata": {
        "id": "dQO843ii0r6v"
      },
      "source": [
        "### Categórica vs Continua\n",
        "* boxplot.\n",
        "* gráfico de violín.\n",
        "* histogramas superpuestos (se recomienda si la variable categórica tiene 3 o menos categorías)\n",
        "\n",
        "Tenemos dos escenarios:\n",
        "\n",
        "* Algunas variables independientes son númericas y nuestra **variable dependiente** es categórica. (Problemas de clasificación)\n",
        "\n",
        "* **Variable dependiente** es continua, y algunas variables independientes son categóricas. (Problemas de regresión)\n",
        "\n",
        "### Boxplot"
      ]
    },
    {
      "cell_type": "code",
      "metadata": {
        "colab": {
          "base_uri": "https://localhost:8080/",
          "height": 297
        },
        "id": "cMkIi89I0Dgh",
        "outputId": "f5f0544e-86b9-4e56-967c-38584b753f33"
      },
      "source": [
        "sns.boxplot(data=student, y=\"G3\", x=\"study_time\")"
      ],
      "execution_count": null,
      "outputs": [
        {
          "output_type": "execute_result",
          "data": {
            "text/plain": [
              "<matplotlib.axes._subplots.AxesSubplot at 0x7f96f5936850>"
            ]
          },
          "metadata": {
            "tags": []
          },
          "execution_count": 72
        },
        {
          "output_type": "display_data",
          "data": {
            "image/png": "[encoded data removed]",
            "text/plain": [
              "<Figure size 432x288 with 1 Axes>"
            ]
          },
          "metadata": {
            "tags": [],
            "needs_background": "light"
          }
        }
      ]
    },
    {
      "cell_type": "code",
      "metadata": {
        "colab": {
          "base_uri": "https://localhost:8080/"
        },
        "id": "1QdCkjwD1o-C",
        "outputId": "f704d819-c0f9-48e0-b5e0-74e9c1bd58cb"
      },
      "source": [
        "student[\"study_time\"].unique()"
      ],
      "execution_count": null,
      "outputs": [
        {
          "output_type": "execute_result",
          "data": {
            "text/plain": [
              "array(['2 to 5 hours', '5 to 10 hours', '<2 hours', '>10 hours'],\n",
              "      dtype=object)"
            ]
          },
          "metadata": {
            "tags": []
          },
          "execution_count": 73
        }
      ]
    },
    {
      "cell_type": "code",
      "metadata": {
        "colab": {
          "base_uri": "https://localhost:8080/",
          "height": 401
        },
        "id": "ENxv2xTi1EVu",
        "outputId": "4b07ddfc-2879-4687-a625-f7ba414704cf"
      },
      "source": [
        "study_time_order = ['<2 hours', '2 to 5 hours', '5 to 10 hours', '>10 hours']\n",
        "\n",
        "sns.catplot(data=student, kind=\"box\", x=\"study_time\", y=\"G3\", order=study_time_order)"
      ],
      "execution_count": null,
      "outputs": [
        {
          "output_type": "execute_result",
          "data": {
            "text/plain": [
              "<seaborn.axisgrid.FacetGrid at 0x7f9701f11c90>"
            ]
          },
          "metadata": {
            "tags": []
          },
          "execution_count": 74
        },
        {
          "output_type": "display_data",
          "data": {
            "image/png": "[encoded data removed]",
            "text/plain": [
              "<Figure size 360x360 with 1 Axes>"
            ]
          },
          "metadata": {
            "tags": [],
            "needs_background": "light"
          }
        }
      ]
    },
    {
      "cell_type": "code",
      "metadata": {
        "colab": {
          "base_uri": "https://localhost:8080/",
          "height": 316
        },
        "id": "09rwAucK2ETZ",
        "outputId": "76e838b1-4bff-4f1d-abba-4b62d7feabf3"
      },
      "source": [
        "sns.catplot(data=student, kind=\"box\", col=\"study_time\", y=\"G3\", col_order=study_time_order)"
      ],
      "execution_count": null,
      "outputs": [
        {
          "output_type": "execute_result",
          "data": {
            "text/plain": [
              "<seaborn.axisgrid.FacetGrid at 0x7f96f67f7e50>"
            ]
          },
          "metadata": {
            "tags": []
          },
          "execution_count": 76
        },
        {
          "output_type": "display_data",
          "data": {
            "image/png": "[encoded data removed]",
            "text/plain": [
              "<Figure size 1440x360 with 4 Axes>"
            ]
          },
          "metadata": {
            "tags": [],
            "needs_background": "light"
          }
        }
      ]
    },
    {
      "cell_type": "code",
      "metadata": {
        "colab": {
          "base_uri": "https://localhost:8080/",
          "height": 401
        },
        "id": "5Nj5vP4b2ZWS",
        "outputId": "fb98b61d-d496-4910-8e00-5bb0133b0820"
      },
      "source": [
        "sns.catplot(data=student, kind=\"box\", x=\"internet\", y=\"G3\", hue=\"location\")"
      ],
      "execution_count": null,
      "outputs": [
        {
          "output_type": "execute_result",
          "data": {
            "text/plain": [
              "<seaborn.axisgrid.FacetGrid at 0x7f96f54e5f50>"
            ]
          },
          "metadata": {
            "tags": []
          },
          "execution_count": 78
        },
        {
          "output_type": "display_data",
          "data": {
            "image/png": "[encoded data removed]",
            "text/plain": [
              "<Figure size 426.25x360 with 1 Axes>"
            ]
          },
          "metadata": {
            "tags": [],
            "needs_background": "light"
          }
        }
      ]
    },
    {
      "cell_type": "markdown",
      "metadata": {
        "id": "zXpjcTTh3MXk"
      },
      "source": [
        "* lower = q1 - 1.5 * iqr\n",
        "* upper = q3 + 1.5 * iqr "
      ]
    },
    {
      "cell_type": "code",
      "metadata": {
        "colab": {
          "base_uri": "https://localhost:8080/",
          "height": 401
        },
        "id": "bptha2kn4ILy",
        "outputId": "f1ff1302-8c26-41d6-f5bc-88becf0c8499"
      },
      "source": [
        "sns.catplot(data=student, kind=\"box\", x=\"romantic\", y=\"G3\")"
      ],
      "execution_count": null,
      "outputs": [
        {
          "output_type": "execute_result",
          "data": {
            "text/plain": [
              "<seaborn.axisgrid.FacetGrid at 0x7f96f524a950>"
            ]
          },
          "metadata": {
            "tags": []
          },
          "execution_count": 81
        },
        {
          "output_type": "display_data",
          "data": {
            "image/png": "[encoded data removed]",
            "text/plain": [
              "<Figure size 360x360 with 1 Axes>"
            ]
          },
          "metadata": {
            "tags": [],
            "needs_background": "light"
          }
        }
      ]
    },
    {
      "cell_type": "code",
      "metadata": {
        "colab": {
          "base_uri": "https://localhost:8080/",
          "height": 401
        },
        "id": "r1OTypIS21kS",
        "outputId": "f570c989-b7aa-4bc1-e520-81b1d7cdcdf5"
      },
      "source": [
        "# lower = q1 - 0.5*iqr\n",
        "# upper = q3 + 0.5*iqr\n",
        "\n",
        "\n",
        "sns.catplot(data=student, kind=\"box\", x=\"romantic\", y=\"G3\", whis=0.5)"
      ],
      "execution_count": null,
      "outputs": [
        {
          "output_type": "execute_result",
          "data": {
            "text/plain": [
              "<seaborn.axisgrid.FacetGrid at 0x7f96f52e7650>"
            ]
          },
          "metadata": {
            "tags": []
          },
          "execution_count": 80
        },
        {
          "output_type": "display_data",
          "data": {
            "image/png": "[encoded data removed]",
            "text/plain": [
              "<Figure size 360x360 with 1 Axes>"
            ]
          },
          "metadata": {
            "tags": [],
            "needs_background": "light"
          }
        }
      ]
    },
    {
      "cell_type": "code",
      "metadata": {
        "colab": {
          "base_uri": "https://localhost:8080/",
          "height": 401
        },
        "id": "8NcLhlJr3eXW",
        "outputId": "a8308ca7-4085-47d1-bca4-db6e8b7f09ce"
      },
      "source": [
        "sns.catplot(data=student, kind=\"box\", x=\"romantic\", y=\"G3\", whis=[5, 95])"
      ],
      "execution_count": null,
      "outputs": [
        {
          "output_type": "execute_result",
          "data": {
            "text/plain": [
              "<seaborn.axisgrid.FacetGrid at 0x7f96f5206050>"
            ]
          },
          "metadata": {
            "tags": []
          },
          "execution_count": 82
        },
        {
          "output_type": "display_data",
          "data": {
            "image/png": "[encoded data removed]",
            "text/plain": [
              "<Figure size 360x360 with 1 Axes>"
            ]
          },
          "metadata": {
            "tags": [],
            "needs_background": "light"
          }
        }
      ]
    },
    {
      "cell_type": "code",
      "metadata": {
        "colab": {
          "base_uri": "https://localhost:8080/",
          "height": 401
        },
        "id": "r1B29tkN4lXb",
        "outputId": "d9112511-9b37-439e-f429-2c92f8e88701"
      },
      "source": [
        "sns.catplot(data=student, kind=\"box\", x=\"romantic\", y=\"G3\", whis=[0, 100])"
      ],
      "execution_count": null,
      "outputs": [
        {
          "output_type": "execute_result",
          "data": {
            "text/plain": [
              "<seaborn.axisgrid.FacetGrid at 0x7f96f5169350>"
            ]
          },
          "metadata": {
            "tags": []
          },
          "execution_count": 83
        },
        {
          "output_type": "display_data",
          "data": {
            "image/png": "[encoded data removed]",
            "text/plain": [
              "<Figure size 360x360 with 1 Axes>"
            ]
          },
          "metadata": {
            "tags": [],
            "needs_background": "light"
          }
        }
      ]
    },
    {
      "cell_type": "code",
      "metadata": {
        "colab": {
          "base_uri": "https://localhost:8080/",
          "height": 747
        },
        "id": "4-fqd-f84th_",
        "outputId": "a6392fdf-4acd-4456-c1f8-b041f5770a70"
      },
      "source": [
        "sns.catplot(data=student, kind=\"box\", y=\"G3\",\n",
        "            col=\"internet\", col_order=[\"yes\", \"no\"],\n",
        "            row=\"location\", row_order=[\"Rural\", \"Urban\"])"
      ],
      "execution_count": null,
      "outputs": [
        {
          "output_type": "execute_result",
          "data": {
            "text/plain": [
              "<seaborn.axisgrid.FacetGrid at 0x7f96f4e310d0>"
            ]
          },
          "metadata": {
            "tags": []
          },
          "execution_count": 86
        },
        {
          "output_type": "display_data",
          "data": {
            "image/png": "[encoded data removed]",
            "text/plain": [
              "<Figure size 720x720 with 4 Axes>"
            ]
          },
          "metadata": {
            "tags": [],
            "needs_background": "light"
          }
        }
      ]
    },
    {
      "cell_type": "markdown",
      "metadata": {
        "id": "tJoY4hQwX12v"
      },
      "source": [
        "### Categórica vs Categórica\n",
        "\n",
        "* heatmap de la tabla de contingencia.\n",
        "* gráficos de barras apiladas.\n",
        "\n",
        "Un escenario:\n",
        "\n",
        "* Algunas variables independientes categóricas y variable dependiente categórica."
      ]
    },
    {
      "cell_type": "code",
      "metadata": {
        "id": "AdXIgHf649GU",
        "colab": {
          "base_uri": "https://localhost:8080/",
          "height": 423
        },
        "outputId": "eb833972-c351-439d-f46f-cd8f40c02a6d"
      },
      "source": [
        "student[[\"schoolsup\", \"famsup\"]]"
      ],
      "execution_count": null,
      "outputs": [
        {
          "output_type": "execute_result",
          "data": {
            "text/html": [
              "<div>\n",
              "<style scoped>\n",
              "    .dataframe tbody tr th:only-of-type {\n",
              "        vertical-align: middle;\n",
              "    }\n",
              "\n",
              "    .dataframe tbody tr th {\n",
              "        vertical-align: top;\n",
              "    }\n",
              "\n",
              "    .dataframe thead th {\n",
              "        text-align: right;\n",
              "    }\n",
              "</style>\n",
              "<table border=\"1\" class=\"dataframe\">\n",
              "  <thead>\n",
              "    <tr style=\"text-align: right;\">\n",
              "      <th></th>\n",
              "      <th>schoolsup</th>\n",
              "      <th>famsup</th>\n",
              "    </tr>\n",
              "  </thead>\n",
              "  <tbody>\n",
              "    <tr>\n",
              "      <th>0</th>\n",
              "      <td>yes</td>\n",
              "      <td>no</td>\n",
              "    </tr>\n",
              "    <tr>\n",
              "      <th>1</th>\n",
              "      <td>no</td>\n",
              "      <td>yes</td>\n",
              "    </tr>\n",
              "    <tr>\n",
              "      <th>2</th>\n",
              "      <td>yes</td>\n",
              "      <td>no</td>\n",
              "    </tr>\n",
              "    <tr>\n",
              "      <th>3</th>\n",
              "      <td>no</td>\n",
              "      <td>yes</td>\n",
              "    </tr>\n",
              "    <tr>\n",
              "      <th>4</th>\n",
              "      <td>no</td>\n",
              "      <td>yes</td>\n",
              "    </tr>\n",
              "    <tr>\n",
              "      <th>...</th>\n",
              "      <td>...</td>\n",
              "      <td>...</td>\n",
              "    </tr>\n",
              "    <tr>\n",
              "      <th>390</th>\n",
              "      <td>no</td>\n",
              "      <td>yes</td>\n",
              "    </tr>\n",
              "    <tr>\n",
              "      <th>391</th>\n",
              "      <td>no</td>\n",
              "      <td>no</td>\n",
              "    </tr>\n",
              "    <tr>\n",
              "      <th>392</th>\n",
              "      <td>no</td>\n",
              "      <td>no</td>\n",
              "    </tr>\n",
              "    <tr>\n",
              "      <th>393</th>\n",
              "      <td>no</td>\n",
              "      <td>no</td>\n",
              "    </tr>\n",
              "    <tr>\n",
              "      <th>394</th>\n",
              "      <td>no</td>\n",
              "      <td>no</td>\n",
              "    </tr>\n",
              "  </tbody>\n",
              "</table>\n",
              "<p>395 rows × 2 columns</p>\n",
              "</div>"
            ],
            "text/plain": [
              "    schoolsup famsup\n",
              "0         yes     no\n",
              "1          no    yes\n",
              "2         yes     no\n",
              "3          no    yes\n",
              "4          no    yes\n",
              "..        ...    ...\n",
              "390        no    yes\n",
              "391        no     no\n",
              "392        no     no\n",
              "393        no     no\n",
              "394        no     no\n",
              "\n",
              "[395 rows x 2 columns]"
            ]
          },
          "metadata": {
            "tags": []
          },
          "execution_count": 3
        }
      ]
    },
    {
      "cell_type": "code",
      "metadata": {
        "colab": {
          "base_uri": "https://localhost:8080/"
        },
        "id": "Kb_Z6QrlZeof",
        "outputId": "03d9fcdd-f121-4dd5-df95-e0778be38cd5"
      },
      "source": [
        "help(pd.crosstab)"
      ],
      "execution_count": null,
      "outputs": [
        {
          "output_type": "stream",
          "text": [
            "Help on function crosstab in module pandas.core.reshape.pivot:\n",
            "\n",
            "crosstab(index, columns, values=None, rownames=None, colnames=None, aggfunc=None, margins=False, margins_name: str = 'All', dropna: bool = True, normalize=False) -> 'DataFrame'\n",
            "    Compute a simple cross tabulation of two (or more) factors. By default\n",
            "    computes a frequency table of the factors unless an array of values and an\n",
            "    aggregation function are passed.\n",
            "    \n",
            "    Parameters\n",
            "    ----------\n",
            "    index : array-like, Series, or list of arrays/Series\n",
            "        Values to group by in the rows.\n",
            "    columns : array-like, Series, or list of arrays/Series\n",
            "        Values to group by in the columns.\n",
            "    values : array-like, optional\n",
            "        Array of values to aggregate according to the factors.\n",
            "        Requires `aggfunc` be specified.\n",
            "    rownames : sequence, default None\n",
            "        If passed, must match number of row arrays passed.\n",
            "    colnames : sequence, default None\n",
            "        If passed, must match number of column arrays passed.\n",
            "    aggfunc : function, optional\n",
            "        If specified, requires `values` be specified as well.\n",
            "    margins : bool, default False\n",
            "        Add row/column margins (subtotals).\n",
            "    margins_name : str, default 'All'\n",
            "        Name of the row/column that will contain the totals\n",
            "        when margins is True.\n",
            "    dropna : bool, default True\n",
            "        Do not include columns whose entries are all NaN.\n",
            "    normalize : bool, {'all', 'index', 'columns'}, or {0,1}, default False\n",
            "        Normalize by dividing all values by the sum of values.\n",
            "    \n",
            "        - If passed 'all' or `True`, will normalize over all values.\n",
            "        - If passed 'index' will normalize over each row.\n",
            "        - If passed 'columns' will normalize over each column.\n",
            "        - If margins is `True`, will also normalize margin values.\n",
            "    \n",
            "    Returns\n",
            "    -------\n",
            "    DataFrame\n",
            "        Cross tabulation of the data.\n",
            "    \n",
            "    See Also\n",
            "    --------\n",
            "    DataFrame.pivot : Reshape data based on column values.\n",
            "    pivot_table : Create a pivot table as a DataFrame.\n",
            "    \n",
            "    Notes\n",
            "    -----\n",
            "    Any Series passed will have their name attributes used unless row or column\n",
            "    names for the cross-tabulation are specified.\n",
            "    \n",
            "    Any input passed containing Categorical data will have **all** of its\n",
            "    categories included in the cross-tabulation, even if the actual data does\n",
            "    not contain any instances of a particular category.\n",
            "    \n",
            "    In the event that there aren't overlapping indexes an empty DataFrame will\n",
            "    be returned.\n",
            "    \n",
            "    Examples\n",
            "    --------\n",
            "    >>> a = np.array([\"foo\", \"foo\", \"foo\", \"foo\", \"bar\", \"bar\",\n",
            "    ...               \"bar\", \"bar\", \"foo\", \"foo\", \"foo\"], dtype=object)\n",
            "    >>> b = np.array([\"one\", \"one\", \"one\", \"two\", \"one\", \"one\",\n",
            "    ...               \"one\", \"two\", \"two\", \"two\", \"one\"], dtype=object)\n",
            "    >>> c = np.array([\"dull\", \"dull\", \"shiny\", \"dull\", \"dull\", \"shiny\",\n",
            "    ...               \"shiny\", \"dull\", \"shiny\", \"shiny\", \"shiny\"],\n",
            "    ...              dtype=object)\n",
            "    >>> pd.crosstab(a, [b, c], rownames=['a'], colnames=['b', 'c'])\n",
            "    b   one        two\n",
            "    c   dull shiny dull shiny\n",
            "    a\n",
            "    bar    1     2    1     0\n",
            "    foo    2     2    1     2\n",
            "    \n",
            "    Here 'c' and 'f' are not represented in the data and will not be\n",
            "    shown in the output because dropna is True by default. Set\n",
            "    dropna=False to preserve categories with no data.\n",
            "    \n",
            "    >>> foo = pd.Categorical(['a', 'b'], categories=['a', 'b', 'c'])\n",
            "    >>> bar = pd.Categorical(['d', 'e'], categories=['d', 'e', 'f'])\n",
            "    >>> pd.crosstab(foo, bar)\n",
            "    col_0  d  e\n",
            "    row_0\n",
            "    a      1  0\n",
            "    b      0  1\n",
            "    >>> pd.crosstab(foo, bar, dropna=False)\n",
            "    col_0  d  e  f\n",
            "    row_0\n",
            "    a      1  0  0\n",
            "    b      0  1  0\n",
            "    c      0  0  0\n",
            "\n"
          ],
          "name": "stdout"
        }
      ]
    },
    {
      "cell_type": "code",
      "metadata": {
        "id": "0VP-CiIPYy5d"
      },
      "source": [
        "table = pd.crosstab(index=student[\"schoolsup\"], columns=student[\"famsup\"])"
      ],
      "execution_count": null,
      "outputs": []
    },
    {
      "cell_type": "code",
      "metadata": {
        "colab": {
          "base_uri": "https://localhost:8080/",
          "height": 143
        },
        "id": "ynwiuWWgboY2",
        "outputId": "58fe08cf-8970-4d75-d36d-a782a675074d"
      },
      "source": [
        "table"
      ],
      "execution_count": null,
      "outputs": [
        {
          "output_type": "execute_result",
          "data": {
            "text/html": [
              "<div>\n",
              "<style scoped>\n",
              "    .dataframe tbody tr th:only-of-type {\n",
              "        vertical-align: middle;\n",
              "    }\n",
              "\n",
              "    .dataframe tbody tr th {\n",
              "        vertical-align: top;\n",
              "    }\n",
              "\n",
              "    .dataframe thead th {\n",
              "        text-align: right;\n",
              "    }\n",
              "</style>\n",
              "<table border=\"1\" class=\"dataframe\">\n",
              "  <thead>\n",
              "    <tr style=\"text-align: right;\">\n",
              "      <th>famsup</th>\n",
              "      <th>no</th>\n",
              "      <th>yes</th>\n",
              "    </tr>\n",
              "    <tr>\n",
              "      <th>schoolsup</th>\n",
              "      <th></th>\n",
              "      <th></th>\n",
              "    </tr>\n",
              "  </thead>\n",
              "  <tbody>\n",
              "    <tr>\n",
              "      <th>no</th>\n",
              "      <td>140</td>\n",
              "      <td>204</td>\n",
              "    </tr>\n",
              "    <tr>\n",
              "      <th>yes</th>\n",
              "      <td>13</td>\n",
              "      <td>38</td>\n",
              "    </tr>\n",
              "  </tbody>\n",
              "</table>\n",
              "</div>"
            ],
            "text/plain": [
              "famsup      no  yes\n",
              "schoolsup          \n",
              "no         140  204\n",
              "yes         13   38"
            ]
          },
          "metadata": {
            "tags": []
          },
          "execution_count": 10
        }
      ]
    },
    {
      "cell_type": "code",
      "metadata": {
        "colab": {
          "base_uri": "https://localhost:8080/",
          "height": 143
        },
        "id": "GMiBxF4ZaEsM",
        "outputId": "f51dc702-67ac-4e71-f2d2-a26bebb425a5"
      },
      "source": [
        "pd.crosstab(index=student[\"schoolsup\"], columns=student[\"famsup\"], normalize=\"columns\")"
      ],
      "execution_count": null,
      "outputs": [
        {
          "output_type": "execute_result",
          "data": {
            "text/html": [
              "<div>\n",
              "<style scoped>\n",
              "    .dataframe tbody tr th:only-of-type {\n",
              "        vertical-align: middle;\n",
              "    }\n",
              "\n",
              "    .dataframe tbody tr th {\n",
              "        vertical-align: top;\n",
              "    }\n",
              "\n",
              "    .dataframe thead th {\n",
              "        text-align: right;\n",
              "    }\n",
              "</style>\n",
              "<table border=\"1\" class=\"dataframe\">\n",
              "  <thead>\n",
              "    <tr style=\"text-align: right;\">\n",
              "      <th>famsup</th>\n",
              "      <th>no</th>\n",
              "      <th>yes</th>\n",
              "    </tr>\n",
              "    <tr>\n",
              "      <th>schoolsup</th>\n",
              "      <th></th>\n",
              "      <th></th>\n",
              "    </tr>\n",
              "  </thead>\n",
              "  <tbody>\n",
              "    <tr>\n",
              "      <th>no</th>\n",
              "      <td>0.915033</td>\n",
              "      <td>0.842975</td>\n",
              "    </tr>\n",
              "    <tr>\n",
              "      <th>yes</th>\n",
              "      <td>0.084967</td>\n",
              "      <td>0.157025</td>\n",
              "    </tr>\n",
              "  </tbody>\n",
              "</table>\n",
              "</div>"
            ],
            "text/plain": [
              "famsup           no       yes\n",
              "schoolsup                    \n",
              "no         0.915033  0.842975\n",
              "yes        0.084967  0.157025"
            ]
          },
          "metadata": {
            "tags": []
          },
          "execution_count": 8
        }
      ]
    },
    {
      "cell_type": "code",
      "metadata": {
        "colab": {
          "base_uri": "https://localhost:8080/",
          "height": 297
        },
        "id": "-ovXzG2Xad8F",
        "outputId": "e095f9c4-c8dd-4725-f093-f78f59a599e0"
      },
      "source": [
        "sns.heatmap(table, annot=True, cmap=\"Greens\", linecolor=\"w\", linewidths=3, cbar=False)"
      ],
      "execution_count": null,
      "outputs": [
        {
          "output_type": "execute_result",
          "data": {
            "text/plain": [
              "<matplotlib.axes._subplots.AxesSubplot at 0x7fd0fa10a690>"
            ]
          },
          "metadata": {
            "tags": []
          },
          "execution_count": 13
        },
        {
          "output_type": "display_data",
          "data": {
            "image/png": "[encoded data removed]",
            "text/plain": [
              "<Figure size 432x288 with 1 Axes>"
            ]
          },
          "metadata": {
            "tags": [],
            "needs_background": "light"
          }
        }
      ]
    },
    {
      "cell_type": "markdown",
      "metadata": {
        "id": "EWx-uK1NciB8"
      },
      "source": [
        "[prueba chi-cuadrado](https://docs.scipy.org/doc/scipy/reference/generated/scipy.stats.chisquare.html)"
      ]
    },
    {
      "cell_type": "code",
      "metadata": {
        "colab": {
          "base_uri": "https://localhost:8080/",
          "height": 305
        },
        "id": "TJBBo3MNbzv9",
        "outputId": "041d74b6-ec0a-4ac8-c04c-8eb35898aca8"
      },
      "source": [
        "table.plot(kind=\"bar\", stacked=True)"
      ],
      "execution_count": null,
      "outputs": [
        {
          "output_type": "execute_result",
          "data": {
            "text/plain": [
              "<matplotlib.axes._subplots.AxesSubplot at 0x7fd0f9fb2fd0>"
            ]
          },
          "metadata": {
            "tags": []
          },
          "execution_count": 14
        },
        {
          "output_type": "display_data",
          "data": {
            "image/png": "[encoded data removed]",
            "text/plain": [
              "<Figure size 432x288 with 1 Axes>"
            ]
          },
          "metadata": {
            "tags": [],
            "needs_background": "light"
          }
        }
      ]
    },
    {
      "cell_type": "code",
      "metadata": {
        "id": "5zmSPmesdXGy"
      },
      "source": [
        ""
      ],
      "execution_count": null,
      "outputs": []
    }
  ]
}