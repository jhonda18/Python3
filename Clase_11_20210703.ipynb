{
  "nbformat": 4,
  "nbformat_minor": 0,
  "metadata": {
    "colab": {
      "name": "Clase_11-20210703.ipynb",
      "provenance": [],
      "include_colab_link": true
    },
    "kernelspec": {
      "name": "python3",
      "display_name": "Python 3"
    },
    "language_info": {
      "name": "python"
    }
  },
  "cells": [
    {
      "cell_type": "markdown",
      "metadata": {
        "id": "view-in-github",
        "colab_type": "text"
      },
      "source": [
        "<a href=\"https://colab.research.google.com/github/jhonda18/Python3/blob/main/Clase_11_20210703.ipynb\" target=\"_parent\"><img src=\"https://colab.research.google.com/assets/colab-badge.svg\" alt=\"Open In Colab\"/></a>"
      ]
    },
    {
      "cell_type": "markdown",
      "metadata": {
        "id": "om2bTIHygJLA"
      },
      "source": [
        "\n",
        "# Introducción al Machine Learning\n",
        "\n",
        "En los últimos años, el aprendizaje automático se ha dado a conocer por sus grandes logros, un ejemplo de esto, es el tan conocido clasificador de *Spam*. Aunque el aprendizaje automático ha cogido mucha fuerza en los últimos años, muchos de los algoritmos ya existían desde hace mucho tiempo.\n",
        "\n",
        "Algo muy común es creer que el aprendizaje automático es Inteligencia Artificial, si bien es una rama de la inteligencia artificial, y existe una retroalimentación constante entre ML e IA, no todas las aplicaciones de ML terminan en IA.\n",
        "\n",
        "**¿Que es Machine Learning?**\n",
        "\n",
        "El Machine Learning es la ciencia (y el arte) de programar ordenadores para que aprendan a partir de los datos. Algunas definiciones:\n",
        "\n",
        "* El ML es el campo de estudio que da a los ordenadores la capacidad de aprender sin ser programados de manera explícita. (**Arthur Samuel, 1959**)\n",
        "* Se dice que un programa de ordenador aprende de la experiencia **E**, con respecto a una tarea **T** y una medida de rendimiento **R**, si su rendimiento en **T**, medido por **R**, mejora con la experiencia **E**. (**Tom Mitchell, 1997**)\n",
        "\n",
        "## Tipos de aprendizaje\n",
        "\n",
        "* Aprendizaje supervisado\n",
        "    * Clasificación.\n",
        "        * Clasificación binaria.\n",
        "        * Clasificación multiclase.\n",
        "    * Regresión.\n",
        "\n",
        "* Aprendizaje no supervisado.\n",
        "    * Clustering.\n",
        "    * Reducción de la dimensionalidad.\n",
        "    * Detección de anomalías.\n",
        "\n",
        "* Aprendizaje semi-supervisado\n",
        "* Aprendizaje por refuerzo\n",
        "\n",
        "### Aprendizaje no supervisado\n",
        "\n",
        "Aunque la mayoría de las aplicaciones del Machine Learning se basan hoy en día en el aprendizaje supervisado (y, como resultado, es ahí donde se realizan las mayores inversiones), la inmensa mayoría de los datos disponibles no están etiquetados: tenemos las características de entrada ***X***, pero no tenemos las etiquetas ***y***.\n",
        "\n",
        "#### Clustering\n",
        "\n",
        "El clustering busca particionar el set de datos en grupos, los cuales son llamados *clusters*. El objetivo consiste en separar los datos de tal forma que los puntos dentro de un clúster sean muy similares y se diferencien con puntos de otros clusters.\n",
        "\n",
        "##### K-Means\n",
        "\n",
        "El algoritmo K-Means trata de encontrar los centros de los clusters que sean representativos de ciertas regiones de los datos. El algoritmo alterna tres pasos en su ejecución:\n",
        "\n",
        "1. Se determina un número de clusters.\n",
        "2. Busca alrededor de cada centro los puntos más cercanos.\n",
        "3. Recalcula el centro como el promedio de los puntos dentro de ese cluster.\n",
        "\n",
        "![SegmentLocal](https://media.giphy.com/media/12vVAGkaqHUqCQ/giphy.gif \"segment\")"
      ]
    },
    {
      "cell_type": "code",
      "metadata": {
        "colab": {
          "base_uri": "https://localhost:8080/"
        },
        "id": "oyxRiz0odprs",
        "outputId": "85f17663-bbe0-4d24-af2b-2d42281dd286"
      },
      "source": [
        "!pip install mglearn"
      ],
      "execution_count": null,
      "outputs": [
        {
          "output_type": "stream",
          "text": [
            "Requirement already satisfied: mglearn in /usr/local/lib/python3.7/dist-packages (0.1.9)\n",
            "Requirement already satisfied: cycler in /usr/local/lib/python3.7/dist-packages (from mglearn) (0.10.0)\n",
            "Requirement already satisfied: pandas in /usr/local/lib/python3.7/dist-packages (from mglearn) (1.1.5)\n",
            "Requirement already satisfied: joblib in /usr/local/lib/python3.7/dist-packages (from mglearn) (1.0.1)\n",
            "Requirement already satisfied: matplotlib in /usr/local/lib/python3.7/dist-packages (from mglearn) (3.2.2)\n",
            "Requirement already satisfied: pillow in /usr/local/lib/python3.7/dist-packages (from mglearn) (7.1.2)\n",
            "Requirement already satisfied: numpy in /usr/local/lib/python3.7/dist-packages (from mglearn) (1.19.5)\n",
            "Requirement already satisfied: imageio in /usr/local/lib/python3.7/dist-packages (from mglearn) (2.4.1)\n",
            "Requirement already satisfied: scikit-learn in /usr/local/lib/python3.7/dist-packages (from mglearn) (0.22.2.post1)\n",
            "Requirement already satisfied: six in /usr/local/lib/python3.7/dist-packages (from cycler->mglearn) (1.15.0)\n",
            "Requirement already satisfied: pytz>=2017.2 in /usr/local/lib/python3.7/dist-packages (from pandas->mglearn) (2018.9)\n",
            "Requirement already satisfied: python-dateutil>=2.7.3 in /usr/local/lib/python3.7/dist-packages (from pandas->mglearn) (2.8.1)\n",
            "Requirement already satisfied: kiwisolver>=1.0.1 in /usr/local/lib/python3.7/dist-packages (from matplotlib->mglearn) (1.3.1)\n",
            "Requirement already satisfied: pyparsing!=2.0.4,!=2.1.2,!=2.1.6,>=2.0.1 in /usr/local/lib/python3.7/dist-packages (from matplotlib->mglearn) (2.4.7)\n",
            "Requirement already satisfied: scipy>=0.17.0 in /usr/local/lib/python3.7/dist-packages (from scikit-learn->mglearn) (1.4.1)\n"
          ],
          "name": "stdout"
        }
      ]
    },
    {
      "cell_type": "code",
      "metadata": {
        "colab": {
          "base_uri": "https://localhost:8080/"
        },
        "id": "RHMvoRZbjXi2",
        "outputId": "d7dab9b2-1414-4b00-89c6-83bb4d152700"
      },
      "source": [
        "import mglearn\n",
        "import warnings\n",
        "import numpy as np\n",
        "import pandas as pd\n",
        "import matplotlib.pyplot as plt\n",
        "from sklearn.cluster import KMeans\n",
        "from sklearn.impute import KNNImputer\n",
        "from sklearn.pipeline import make_pipeline\n",
        "from sklearn.metrics import silhouette_score\n",
        "from sklearn.preprocessing import StandardScaler\n",
        "from sklearn.compose import make_column_transformer\n",
        "from yellowbrick.cluster import KElbowVisualizer, InterclusterDistance, SilhouetteVisualizer\n",
        "\n",
        "warnings.filterwarnings(action=\"ignore\")"
      ],
      "execution_count": null,
      "outputs": [
        {
          "output_type": "stream",
          "text": [
            "/usr/local/lib/python3.7/dist-packages/sklearn/utils/deprecation.py:144: FutureWarning: The sklearn.metrics.classification module is  deprecated in version 0.22 and will be removed in version 0.24. The corresponding classes / functions should instead be imported from sklearn.metrics. Anything that cannot be imported from sklearn.metrics is now part of the private API.\n",
            "  warnings.warn(message, FutureWarning)\n"
          ],
          "name": "stderr"
        }
      ]
    },
    {
      "cell_type": "code",
      "metadata": {
        "colab": {
          "base_uri": "https://localhost:8080/",
          "height": 481
        },
        "id": "07V-YzeCjkSX",
        "outputId": "52ed88e1-1ab7-4862-e2cd-5f9b676786d7"
      },
      "source": [
        "mglearn.plots.plot_kmeans_algorithm()"
      ],
      "execution_count": null,
      "outputs": [
        {
          "output_type": "display_data",
          "data": {
            "image/png": "[encoded data removed]",
            "text/plain": [
              "<Figure size 720x576 with 9 Axes>"
            ]
          },
          "metadata": {
            "tags": []
          }
        }
      ]
    },
    {
      "cell_type": "markdown",
      "metadata": {
        "id": "5kSrtyFalBZq"
      },
      "source": [
        "\n",
        "* K-Means (Solo numéricas)\n",
        "* K-Modes (Solo catagóricas)\n",
        "* K-Prototypes (Datos mixtos)\n",
        "* PAM\n",
        "* CLARANs\n",
        "* Clustering Jerarquico"
      ]
    },
    {
      "cell_type": "code",
      "metadata": {
        "colab": {
          "base_uri": "https://localhost:8080/",
          "height": 203
        },
        "id": "uFjohVqlkdPr",
        "outputId": "963a64c5-c454-4ab9-99cf-fb18ec0c08fe"
      },
      "source": [
        "mpg = pd.read_csv(\"https://raw.githubusercontent.com/stivenlopezg/Modulo-Python-3/master/data/mpg.csv\")\n",
        "mpg.head()"
      ],
      "execution_count": null,
      "outputs": [
        {
          "output_type": "execute_result",
          "data": {
            "text/html": [
              "<div>\n",
              "<style scoped>\n",
              "    .dataframe tbody tr th:only-of-type {\n",
              "        vertical-align: middle;\n",
              "    }\n",
              "\n",
              "    .dataframe tbody tr th {\n",
              "        vertical-align: top;\n",
              "    }\n",
              "\n",
              "    .dataframe thead th {\n",
              "        text-align: right;\n",
              "    }\n",
              "</style>\n",
              "<table border=\"1\" class=\"dataframe\">\n",
              "  <thead>\n",
              "    <tr style=\"text-align: right;\">\n",
              "      <th></th>\n",
              "      <th>mpg</th>\n",
              "      <th>cylinders</th>\n",
              "      <th>displacement</th>\n",
              "      <th>horsepower</th>\n",
              "      <th>weight</th>\n",
              "      <th>acceleration</th>\n",
              "      <th>model_year</th>\n",
              "      <th>origin</th>\n",
              "      <th>name</th>\n",
              "    </tr>\n",
              "  </thead>\n",
              "  <tbody>\n",
              "    <tr>\n",
              "      <th>0</th>\n",
              "      <td>18.0</td>\n",
              "      <td>8</td>\n",
              "      <td>307.0</td>\n",
              "      <td>130.0</td>\n",
              "      <td>3504</td>\n",
              "      <td>12.0</td>\n",
              "      <td>70</td>\n",
              "      <td>usa</td>\n",
              "      <td>chevrolet chevelle malibu</td>\n",
              "    </tr>\n",
              "    <tr>\n",
              "      <th>1</th>\n",
              "      <td>15.0</td>\n",
              "      <td>8</td>\n",
              "      <td>350.0</td>\n",
              "      <td>165.0</td>\n",
              "      <td>3693</td>\n",
              "      <td>11.5</td>\n",
              "      <td>70</td>\n",
              "      <td>usa</td>\n",
              "      <td>buick skylark 320</td>\n",
              "    </tr>\n",
              "    <tr>\n",
              "      <th>2</th>\n",
              "      <td>18.0</td>\n",
              "      <td>8</td>\n",
              "      <td>318.0</td>\n",
              "      <td>150.0</td>\n",
              "      <td>3436</td>\n",
              "      <td>11.0</td>\n",
              "      <td>70</td>\n",
              "      <td>usa</td>\n",
              "      <td>plymouth satellite</td>\n",
              "    </tr>\n",
              "    <tr>\n",
              "      <th>3</th>\n",
              "      <td>16.0</td>\n",
              "      <td>8</td>\n",
              "      <td>304.0</td>\n",
              "      <td>150.0</td>\n",
              "      <td>3433</td>\n",
              "      <td>12.0</td>\n",
              "      <td>70</td>\n",
              "      <td>usa</td>\n",
              "      <td>amc rebel sst</td>\n",
              "    </tr>\n",
              "    <tr>\n",
              "      <th>4</th>\n",
              "      <td>17.0</td>\n",
              "      <td>8</td>\n",
              "      <td>302.0</td>\n",
              "      <td>140.0</td>\n",
              "      <td>3449</td>\n",
              "      <td>10.5</td>\n",
              "      <td>70</td>\n",
              "      <td>usa</td>\n",
              "      <td>ford torino</td>\n",
              "    </tr>\n",
              "  </tbody>\n",
              "</table>\n",
              "</div>"
            ],
            "text/plain": [
              "    mpg  cylinders  displacement  ...  model_year  origin                       name\n",
              "0  18.0          8         307.0  ...          70     usa  chevrolet chevelle malibu\n",
              "1  15.0          8         350.0  ...          70     usa          buick skylark 320\n",
              "2  18.0          8         318.0  ...          70     usa         plymouth satellite\n",
              "3  16.0          8         304.0  ...          70     usa              amc rebel sst\n",
              "4  17.0          8         302.0  ...          70     usa                ford torino\n",
              "\n",
              "[5 rows x 9 columns]"
            ]
          },
          "metadata": {
            "tags": []
          },
          "execution_count": 4
        }
      ]
    },
    {
      "cell_type": "code",
      "metadata": {
        "colab": {
          "base_uri": "https://localhost:8080/"
        },
        "id": "zmhDY_84mQiX",
        "outputId": "1bda5b20-84eb-48b3-b3bd-d31ccec34379"
      },
      "source": [
        "mpg.info()"
      ],
      "execution_count": null,
      "outputs": [
        {
          "output_type": "stream",
          "text": [
            "<class 'pandas.core.frame.DataFrame'>\n",
            "RangeIndex: 398 entries, 0 to 397\n",
            "Data columns (total 9 columns):\n",
            " #   Column        Non-Null Count  Dtype  \n",
            "---  ------        --------------  -----  \n",
            " 0   mpg           398 non-null    float64\n",
            " 1   cylinders     398 non-null    int64  \n",
            " 2   displacement  398 non-null    float64\n",
            " 3   horsepower    392 non-null    float64\n",
            " 4   weight        398 non-null    int64  \n",
            " 5   acceleration  398 non-null    float64\n",
            " 6   model_year    398 non-null    int64  \n",
            " 7   origin        398 non-null    object \n",
            " 8   name          398 non-null    object \n",
            "dtypes: float64(4), int64(3), object(2)\n",
            "memory usage: 28.1+ KB\n"
          ],
          "name": "stdout"
        }
      ]
    },
    {
      "cell_type": "code",
      "metadata": {
        "colab": {
          "base_uri": "https://localhost:8080/"
        },
        "id": "63SrDz4omgk8",
        "outputId": "59af718b-2e6f-4dd3-e0ba-6984c28fbec9"
      },
      "source": [
        "numerical_features = mpg.select_dtypes(include=\"number\").columns.tolist()\n",
        "numerical_features.remove(\"model_year\")\n",
        "numerical_features"
      ],
      "execution_count": null,
      "outputs": [
        {
          "output_type": "execute_result",
          "data": {
            "text/plain": [
              "['mpg', 'cylinders', 'displacement', 'horsepower', 'weight', 'acceleration']"
            ]
          },
          "metadata": {
            "tags": []
          },
          "execution_count": 6
        }
      ]
    },
    {
      "cell_type": "code",
      "metadata": {
        "id": "zz4VHS3sm4lh"
      },
      "source": [
        "numeric_preprocessing = make_pipeline(KNNImputer(n_neighbors=5), StandardScaler())\n",
        "\n",
        "preprocessor = make_column_transformer((numeric_preprocessing, numerical_features),\n",
        "                                       remainder=\"drop\")"
      ],
      "execution_count": null,
      "outputs": []
    },
    {
      "cell_type": "code",
      "metadata": {
        "colab": {
          "base_uri": "https://localhost:8080/"
        },
        "id": "TLcR-bmNoDXM",
        "outputId": "00863fc5-5555-4725-f2ee-8b3278b7e8a5"
      },
      "source": [
        "kmeans = make_pipeline(preprocessor, KMeans(n_clusters=5, random_state=42))\n",
        "\n",
        "kmeans.fit(mpg)"
      ],
      "execution_count": null,
      "outputs": [
        {
          "output_type": "execute_result",
          "data": {
            "text/plain": [
              "Pipeline(memory=None,\n",
              "         steps=[('columntransformer',\n",
              "                 ColumnTransformer(n_jobs=None, remainder='drop',\n",
              "                                   sparse_threshold=0.3,\n",
              "                                   transformer_weights=None,\n",
              "                                   transformers=[('pipeline',\n",
              "                                                  Pipeline(memory=None,\n",
              "                                                           steps=[('knnimputer',\n",
              "                                                                   KNNImputer(add_indicator=False,\n",
              "                                                                              copy=True,\n",
              "                                                                              metric='nan_euclidean',\n",
              "                                                                              missing_values=nan,\n",
              "                                                                              n_neighbors=5,\n",
              "                                                                              weights='uniform')),\n",
              "                                                                  ('standardscaler',\n",
              "                                                                   StandardScaler(copy=True,\n",
              "                                                                                  with_mean=True,\n",
              "                                                                                  with_std=True))],\n",
              "                                                           verbose=False),\n",
              "                                                  ['mpg', 'cylinders',\n",
              "                                                   'displacement', 'horsepower',\n",
              "                                                   'weight', 'acceleration'])],\n",
              "                                   verbose=False)),\n",
              "                ('kmeans',\n",
              "                 KMeans(algorithm='auto', copy_x=True, init='k-means++',\n",
              "                        max_iter=300, n_clusters=5, n_init=10, n_jobs=None,\n",
              "                        precompute_distances='auto', random_state=42,\n",
              "                        tol=0.0001, verbose=0))],\n",
              "         verbose=False)"
            ]
          },
          "metadata": {
            "tags": []
          },
          "execution_count": 8
        }
      ]
    },
    {
      "cell_type": "code",
      "metadata": {
        "colab": {
          "base_uri": "https://localhost:8080/"
        },
        "id": "lUlkC0hhoYQY",
        "outputId": "39dc41a8-815d-4031-c40a-a96d44afc0ac"
      },
      "source": [
        "kmeans[\"kmeans\"].cluster_centers_"
      ],
      "execution_count": null,
      "outputs": [
        {
          "output_type": "execute_result",
          "data": {
            "text/plain": [
              "array([[ 0.27170905, -0.79406184, -0.68758032, -0.33265806, -0.58185171,\n",
              "        -0.21987711],\n",
              "       [-1.15110476,  1.4860546 ,  1.48450715,  1.50450766,  1.38753374,\n",
              "        -1.06267868],\n",
              "       [-0.5457552 ,  0.42267351,  0.34041756, -0.08748493,  0.35748557,\n",
              "         0.39483563],\n",
              "       [ 1.49880624, -0.83925889, -0.91438555, -0.92262421, -1.06325834,\n",
              "         0.28678896],\n",
              "       [ 0.51463748, -0.80622457, -0.78659702, -0.86369054, -0.63127023,\n",
              "         1.5782325 ]])"
            ]
          },
          "metadata": {
            "tags": []
          },
          "execution_count": 9
        }
      ]
    },
    {
      "cell_type": "code",
      "metadata": {
        "colab": {
          "base_uri": "https://localhost:8080/"
        },
        "id": "0HH2orWjozHo",
        "outputId": "74c11814-d552-4841-d45e-2e46f6f3cd58"
      },
      "source": [
        "kmeans[\"kmeans\"].inertia_"
      ],
      "execution_count": null,
      "outputs": [
        {
          "output_type": "execute_result",
          "data": {
            "text/plain": [
              "423.2448635122313"
            ]
          },
          "metadata": {
            "tags": []
          },
          "execution_count": 10
        }
      ]
    },
    {
      "cell_type": "code",
      "metadata": {
        "colab": {
          "base_uri": "https://localhost:8080/"
        },
        "id": "0XPBRbAaphTG",
        "outputId": "b82b3150-a7a2-4ebf-e59f-e3453352aa37"
      },
      "source": [
        "kmeans.predict(mpg)"
      ],
      "execution_count": null,
      "outputs": [
        {
          "output_type": "execute_result",
          "data": {
            "text/plain": [
              "array([1, 1, 1, 1, 1, 1, 1, 1, 1, 1, 1, 1, 1, 1, 0, 2, 2, 2, 0, 4, 0, 0,\n",
              "       0, 0, 2, 1, 1, 1, 1, 0, 0, 0, 4, 2, 2, 2, 2, 2, 1, 1, 1, 1, 1, 1,\n",
              "       1, 2, 4, 2, 2, 0, 0, 4, 0, 4, 3, 4, 4, 0, 0, 4, 4, 0, 1, 1, 1, 1,\n",
              "       1, 1, 1, 1, 1, 0, 1, 1, 1, 1, 0, 4, 4, 4, 0, 0, 0, 0, 0, 1, 1, 1,\n",
              "       1, 1, 1, 1, 1, 1, 1, 1, 1, 2, 2, 2, 2, 2, 4, 1, 1, 1, 1, 2, 4, 4,\n",
              "       0, 0, 4, 0, 0, 1, 1, 4, 0, 0, 0, 1, 0, 2, 1, 2, 2, 2, 2, 4, 0, 4,\n",
              "       0, 2, 2, 2, 1, 1, 1, 1, 1, 0, 0, 0, 3, 4, 0, 0, 0, 0, 0, 3, 2, 2,\n",
              "       2, 2, 1, 1, 1, 1, 2, 2, 2, 2, 2, 2, 1, 3, 0, 2, 4, 0, 0, 0, 2, 0,\n",
              "       2, 0, 0, 0, 0, 3, 0, 0, 0, 4, 0, 1, 1, 1, 1, 2, 2, 2, 2, 4, 4, 0,\n",
              "       3, 2, 2, 2, 2, 0, 3, 0, 0, 0, 1, 4, 2, 2, 1, 1, 1, 1, 4, 0, 3, 0,\n",
              "       3, 1, 2, 1, 1, 2, 2, 2, 2, 1, 1, 1, 1, 0, 0, 4, 0, 3, 3, 3, 0, 2,\n",
              "       0, 0, 3, 3, 4, 3, 3, 2, 1, 1, 2, 2, 2, 0, 2, 2, 2, 2, 2, 2, 1, 1,\n",
              "       1, 1, 3, 0, 0, 0, 0, 0, 0, 0, 0, 2, 0, 2, 3, 3, 2, 2, 0, 2, 2, 1,\n",
              "       1, 1, 1, 1, 1, 2, 1, 3, 3, 3, 0, 4, 2, 4, 2, 3, 3, 4, 3, 0, 0, 0,\n",
              "       0, 3, 3, 3, 3, 0, 4, 4, 2, 3, 0, 3, 3, 3, 3, 0, 3, 3, 4, 4, 4, 3,\n",
              "       3, 3, 3, 0, 0, 3, 0, 3, 0, 0, 0, 0, 0, 3, 3, 3, 3, 3, 3, 3, 3, 3,\n",
              "       4, 3, 3, 3, 3, 0, 4, 4, 4, 0, 0, 2, 2, 2, 2, 4, 4, 3, 0, 0, 4, 0,\n",
              "       4, 3, 3, 3, 3, 3, 3, 3, 3, 3, 3, 3, 2, 3, 0, 2, 0, 3, 0, 0, 4, 0,\n",
              "       4, 4], dtype=int32)"
            ]
          },
          "metadata": {
            "tags": []
          },
          "execution_count": 11
        }
      ]
    },
    {
      "cell_type": "markdown",
      "metadata": {
        "id": "BIMFQbg1qg1T"
      },
      "source": [
        "\n",
        "##### ¿Cómo determinamos cuantos K?\n",
        "\n",
        "El algoritmo agrupa los datos en *k* grupos, incluso si *k* no es el número correcto de grupos para usar.\n",
        "\n",
        "Un método para validar el número de grupos es el ***método del codo***. La idea del método del codo es ejecutar la agrupación en el set de datos para un rango determinado de *k*, y para cada valor de *k* calcular la suma de los errores al cuadrado (SSE).\n",
        "\n",
        "[yellowbricks clustering](https://www.scikit-yb.org/en/latest/api/cluster/index.html)"
      ]
    },
    {
      "cell_type": "code",
      "metadata": {
        "id": "ysKrfrcisLOo"
      },
      "source": [
        "mpg = preprocessor.fit_transform(mpg)"
      ],
      "execution_count": null,
      "outputs": []
    },
    {
      "cell_type": "code",
      "metadata": {
        "id": "Dx1novWqse8n"
      },
      "source": [
        "n_clusters = np.linspace(start=2, stop=18, num=9, dtype=int)\n",
        "\n",
        "\n",
        "models = [KMeans(n_clusters=n, random_state=42).fit(mpg) for n in n_clusters]\n",
        "\n",
        "inertia = [model.inertia_ for model in models]"
      ],
      "execution_count": null,
      "outputs": []
    },
    {
      "cell_type": "code",
      "metadata": {
        "colab": {
          "base_uri": "https://localhost:8080/"
        },
        "id": "UfDMH9Borz10",
        "outputId": "8b002a3b-e4ba-4d5c-f44c-def028effeac"
      },
      "source": [
        "inertia"
      ],
      "execution_count": null,
      "outputs": [
        {
          "output_type": "execute_result",
          "data": {
            "text/plain": [
              "[944.8714649940939,\n",
              " 491.5304264663056,\n",
              " 365.33552176312327,\n",
              " 300.43657854697176,\n",
              " 267.5685459318797,\n",
              " 239.87524800652778,\n",
              " 215.06665781719914,\n",
              " 198.00775168746935,\n",
              " 179.60194547626202]"
            ]
          },
          "metadata": {
            "tags": []
          },
          "execution_count": 14
        }
      ]
    },
    {
      "cell_type": "code",
      "metadata": {
        "colab": {
          "base_uri": "https://localhost:8080/",
          "height": 361
        },
        "id": "XgVLpSHHtTay",
        "outputId": "475c27af-9b2b-488c-82ff-6ce134658aab"
      },
      "source": [
        "plt.plot(n_clusters, inertia, marker=\"o\")\n",
        "plt.xticks(n_clusters)\n",
        "plt.xlabel(\"Numero de clusters\")\n",
        "plt.ylabel(\"SSE\")\n",
        "plt.show()"
      ],
      "execution_count": null,
      "outputs": [
        {
          "output_type": "display_data",
          "data": {
            "image/png": "[encoded data removed]",
            "text/plain": [
              "<Figure size 576x396 with 1 Axes>"
            ]
          },
          "metadata": {
            "tags": []
          }
        }
      ]
    },
    {
      "cell_type": "code",
      "metadata": {
        "colab": {
          "base_uri": "https://localhost:8080/",
          "height": 35
        },
        "id": "Ml6QQ7YBtngu",
        "outputId": "f5f33df3-9e99-415b-f51c-e41968e6f2f8"
      },
      "source": [
        "import yellowbrick\n",
        "\n",
        "yellowbrick.__version__"
      ],
      "execution_count": null,
      "outputs": [
        {
          "output_type": "execute_result",
          "data": {
            "application/vnd.google.colaboratory.intrinsic+json": {
              "type": "string"
            },
            "text/plain": [
              "'0.9.1'"
            ]
          },
          "metadata": {
            "tags": []
          },
          "execution_count": 16
        }
      ]
    },
    {
      "cell_type": "code",
      "metadata": {
        "colab": {
          "base_uri": "https://localhost:8080/"
        },
        "id": "I6MmCF4fu7PF",
        "outputId": "d50950af-b0c8-4a3c-91fc-4e1845742fc1"
      },
      "source": [
        "!pip install scikit-plot"
      ],
      "execution_count": null,
      "outputs": [
        {
          "output_type": "stream",
          "text": [
            "Collecting scikit-plot\n",
            "  Downloading https://files.pythonhosted.org/packages/7c/47/32520e259340c140a4ad27c1b97050dd3254fdc517b1d59974d47037510e/scikit_plot-0.3.7-py3-none-any.whl\n",
            "Requirement already satisfied: scipy>=0.9 in /usr/local/lib/python3.7/dist-packages (from scikit-plot) (1.4.1)\n",
            "Requirement already satisfied: joblib>=0.10 in /usr/local/lib/python3.7/dist-packages (from scikit-plot) (1.0.1)\n",
            "Requirement already satisfied: matplotlib>=1.4.0 in /usr/local/lib/python3.7/dist-packages (from scikit-plot) (3.2.2)\n",
            "Requirement already satisfied: scikit-learn>=0.18 in /usr/local/lib/python3.7/dist-packages (from scikit-plot) (0.22.2.post1)\n",
            "Requirement already satisfied: numpy>=1.13.3 in /usr/local/lib/python3.7/dist-packages (from scipy>=0.9->scikit-plot) (1.19.5)\n",
            "Requirement already satisfied: pyparsing!=2.0.4,!=2.1.2,!=2.1.6,>=2.0.1 in /usr/local/lib/python3.7/dist-packages (from matplotlib>=1.4.0->scikit-plot) (2.4.7)\n",
            "Requirement already satisfied: kiwisolver>=1.0.1 in /usr/local/lib/python3.7/dist-packages (from matplotlib>=1.4.0->scikit-plot) (1.3.1)\n",
            "Requirement already satisfied: python-dateutil>=2.1 in /usr/local/lib/python3.7/dist-packages (from matplotlib>=1.4.0->scikit-plot) (2.8.1)\n",
            "Requirement already satisfied: cycler>=0.10 in /usr/local/lib/python3.7/dist-packages (from matplotlib>=1.4.0->scikit-plot) (0.10.0)\n",
            "Requirement already satisfied: six>=1.5 in /usr/local/lib/python3.7/dist-packages (from python-dateutil>=2.1->matplotlib>=1.4.0->scikit-plot) (1.15.0)\n",
            "Installing collected packages: scikit-plot\n",
            "Successfully installed scikit-plot-0.3.7\n"
          ],
          "name": "stdout"
        }
      ]
    },
    {
      "cell_type": "code",
      "metadata": {
        "colab": {
          "base_uri": "https://localhost:8080/"
        },
        "id": "mhtrBi8lvcp0",
        "outputId": "689a35f2-bbd4-4f4f-c2cc-346c1e1ccad4"
      },
      "source": [
        "silhouette = [silhouette_score(mpg, model.labels_) for model in models]\n",
        "\n",
        "silhouette"
      ],
      "execution_count": null,
      "outputs": [
        {
          "output_type": "execute_result",
          "data": {
            "text/plain": [
              "[0.5456087277841829,\n",
              " 0.3800178468075375,\n",
              " 0.33404105425253744,\n",
              " 0.29895354454529893,\n",
              " 0.27044363427067414,\n",
              " 0.28514412378214965,\n",
              " 0.2549138089765812,\n",
              " 0.25330565268247873,\n",
              " 0.25863723584371145]"
            ]
          },
          "metadata": {
            "tags": []
          },
          "execution_count": 19
        }
      ]
    },
    {
      "cell_type": "code",
      "metadata": {
        "colab": {
          "base_uri": "https://localhost:8080/",
          "height": 361
        },
        "id": "GXOXwI8Ev0Cs",
        "outputId": "06ad50f2-d26e-47ce-fa80-7e7d00db6d7a"
      },
      "source": [
        "plt.plot(n_clusters, silhouette, marker=\"o\")\n",
        "plt.xticks(n_clusters)\n",
        "plt.xlabel(\"Numero de clusters\")\n",
        "plt.ylabel(\"Silhouette Score\")\n",
        "plt.show()"
      ],
      "execution_count": null,
      "outputs": [
        {
          "output_type": "display_data",
          "data": {
            "image/png": "[encoded data removed]",
            "text/plain": [
              "<Figure size 576x396 with 1 Axes>"
            ]
          },
          "metadata": {
            "tags": []
          }
        }
      ]
    },
    {
      "cell_type": "code",
      "metadata": {
        "id": "ZGTD_unAvQcX"
      },
      "source": [
        "from scikitplot.metrics import plot_silhouette"
      ],
      "execution_count": null,
      "outputs": []
    },
    {
      "cell_type": "code",
      "metadata": {
        "colab": {
          "base_uri": "https://localhost:8080/",
          "height": 399
        },
        "id": "P8tf4yL3wTu4",
        "outputId": "bbbba796-61e1-4c41-f043-bb653c92e641"
      },
      "source": [
        "kmeans = KMeans(n_clusters=6).fit(mpg)\n",
        "\n",
        "plot_silhouette(X=mpg, cluster_labels=kmeans.predict(mpg))"
      ],
      "execution_count": null,
      "outputs": [
        {
          "output_type": "execute_result",
          "data": {
            "text/plain": [
              "<matplotlib.axes._subplots.AxesSubplot at 0x7f563333f7d0>"
            ]
          },
          "metadata": {
            "tags": []
          },
          "execution_count": 22
        },
        {
          "output_type": "display_data",
          "data": {
            "image/png": "[encoded data removed]",
            "text/plain": [
              "<Figure size 576x396 with 1 Axes>"
            ]
          },
          "metadata": {
            "tags": []
          }
        }
      ]
    },
    {
      "cell_type": "code",
      "metadata": {
        "id": "MhHnz5QywmKp"
      },
      "source": [
        "mpg = pd.DataFrame(mpg, columns=numerical_features)"
      ],
      "execution_count": null,
      "outputs": []
    },
    {
      "cell_type": "code",
      "metadata": {
        "colab": {
          "base_uri": "https://localhost:8080/",
          "height": 419
        },
        "id": "-8FHYoscxHH1",
        "outputId": "d798cc1c-a6f9-4fb4-ef73-9d5e8fd5335f"
      },
      "source": [
        "mpg[\"cluster\"] = pd.Series(kmeans.predict(mpg)).apply(lambda x: f\"cluster_{int(x + 1)}\")\n",
        "\n",
        "mpg"
      ],
      "execution_count": null,
      "outputs": [
        {
          "output_type": "execute_result",
          "data": {
            "text/html": [
              "<div>\n",
              "<style scoped>\n",
              "    .dataframe tbody tr th:only-of-type {\n",
              "        vertical-align: middle;\n",
              "    }\n",
              "\n",
              "    .dataframe tbody tr th {\n",
              "        vertical-align: top;\n",
              "    }\n",
              "\n",
              "    .dataframe thead th {\n",
              "        text-align: right;\n",
              "    }\n",
              "</style>\n",
              "<table border=\"1\" class=\"dataframe\">\n",
              "  <thead>\n",
              "    <tr style=\"text-align: right;\">\n",
              "      <th></th>\n",
              "      <th>mpg</th>\n",
              "      <th>cylinders</th>\n",
              "      <th>displacement</th>\n",
              "      <th>horsepower</th>\n",
              "      <th>weight</th>\n",
              "      <th>acceleration</th>\n",
              "      <th>cluster</th>\n",
              "    </tr>\n",
              "  </thead>\n",
              "  <tbody>\n",
              "    <tr>\n",
              "      <th>0</th>\n",
              "      <td>-0.706439</td>\n",
              "      <td>1.498191</td>\n",
              "      <td>1.090604</td>\n",
              "      <td>0.674230</td>\n",
              "      <td>0.630870</td>\n",
              "      <td>-1.295498</td>\n",
              "      <td>cluster_6</td>\n",
              "    </tr>\n",
              "    <tr>\n",
              "      <th>1</th>\n",
              "      <td>-1.090751</td>\n",
              "      <td>1.498191</td>\n",
              "      <td>1.503514</td>\n",
              "      <td>1.587939</td>\n",
              "      <td>0.854333</td>\n",
              "      <td>-1.477038</td>\n",
              "      <td>cluster_6</td>\n",
              "    </tr>\n",
              "    <tr>\n",
              "      <th>2</th>\n",
              "      <td>-0.706439</td>\n",
              "      <td>1.498191</td>\n",
              "      <td>1.196232</td>\n",
              "      <td>1.196349</td>\n",
              "      <td>0.550470</td>\n",
              "      <td>-1.658577</td>\n",
              "      <td>cluster_6</td>\n",
              "    </tr>\n",
              "    <tr>\n",
              "      <th>3</th>\n",
              "      <td>-0.962647</td>\n",
              "      <td>1.498191</td>\n",
              "      <td>1.061796</td>\n",
              "      <td>1.196349</td>\n",
              "      <td>0.546923</td>\n",
              "      <td>-1.295498</td>\n",
              "      <td>cluster_6</td>\n",
              "    </tr>\n",
              "    <tr>\n",
              "      <th>4</th>\n",
              "      <td>-0.834543</td>\n",
              "      <td>1.498191</td>\n",
              "      <td>1.042591</td>\n",
              "      <td>0.935290</td>\n",
              "      <td>0.565841</td>\n",
              "      <td>-1.840117</td>\n",
              "      <td>cluster_6</td>\n",
              "    </tr>\n",
              "    <tr>\n",
              "      <th>...</th>\n",
              "      <td>...</td>\n",
              "      <td>...</td>\n",
              "      <td>...</td>\n",
              "      <td>...</td>\n",
              "      <td>...</td>\n",
              "      <td>...</td>\n",
              "      <td>...</td>\n",
              "    </tr>\n",
              "    <tr>\n",
              "      <th>393</th>\n",
              "      <td>0.446497</td>\n",
              "      <td>-0.856321</td>\n",
              "      <td>-0.513026</td>\n",
              "      <td>-0.474434</td>\n",
              "      <td>-0.213324</td>\n",
              "      <td>0.011586</td>\n",
              "      <td>cluster_4</td>\n",
              "    </tr>\n",
              "    <tr>\n",
              "      <th>394</th>\n",
              "      <td>2.624265</td>\n",
              "      <td>-0.856321</td>\n",
              "      <td>-0.925936</td>\n",
              "      <td>-1.362037</td>\n",
              "      <td>-0.993671</td>\n",
              "      <td>3.279296</td>\n",
              "      <td>cluster_5</td>\n",
              "    </tr>\n",
              "    <tr>\n",
              "      <th>395</th>\n",
              "      <td>1.087017</td>\n",
              "      <td>-0.856321</td>\n",
              "      <td>-0.561039</td>\n",
              "      <td>-0.526646</td>\n",
              "      <td>-0.798585</td>\n",
              "      <td>-1.440730</td>\n",
              "      <td>cluster_4</td>\n",
              "    </tr>\n",
              "    <tr>\n",
              "      <th>396</th>\n",
              "      <td>0.574601</td>\n",
              "      <td>-0.856321</td>\n",
              "      <td>-0.705077</td>\n",
              "      <td>-0.657176</td>\n",
              "      <td>-0.408411</td>\n",
              "      <td>1.100822</td>\n",
              "      <td>cluster_5</td>\n",
              "    </tr>\n",
              "    <tr>\n",
              "      <th>397</th>\n",
              "      <td>0.958913</td>\n",
              "      <td>-0.856321</td>\n",
              "      <td>-0.714680</td>\n",
              "      <td>-0.578858</td>\n",
              "      <td>-0.296088</td>\n",
              "      <td>1.391285</td>\n",
              "      <td>cluster_5</td>\n",
              "    </tr>\n",
              "  </tbody>\n",
              "</table>\n",
              "<p>398 rows × 7 columns</p>\n",
              "</div>"
            ],
            "text/plain": [
              "          mpg  cylinders  displacement  ...    weight  acceleration    cluster\n",
              "0   -0.706439   1.498191      1.090604  ...  0.630870     -1.295498  cluster_6\n",
              "1   -1.090751   1.498191      1.503514  ...  0.854333     -1.477038  cluster_6\n",
              "2   -0.706439   1.498191      1.196232  ...  0.550470     -1.658577  cluster_6\n",
              "3   -0.962647   1.498191      1.061796  ...  0.546923     -1.295498  cluster_6\n",
              "4   -0.834543   1.498191      1.042591  ...  0.565841     -1.840117  cluster_6\n",
              "..        ...        ...           ...  ...       ...           ...        ...\n",
              "393  0.446497  -0.856321     -0.513026  ... -0.213324      0.011586  cluster_4\n",
              "394  2.624265  -0.856321     -0.925936  ... -0.993671      3.279296  cluster_5\n",
              "395  1.087017  -0.856321     -0.561039  ... -0.798585     -1.440730  cluster_4\n",
              "396  0.574601  -0.856321     -0.705077  ... -0.408411      1.100822  cluster_5\n",
              "397  0.958913  -0.856321     -0.714680  ... -0.296088      1.391285  cluster_5\n",
              "\n",
              "[398 rows x 7 columns]"
            ]
          },
          "metadata": {
            "tags": []
          },
          "execution_count": 25
        }
      ]
    },
    {
      "cell_type": "code",
      "metadata": {
        "id": "dXNfB93qxrgX"
      },
      "source": [
        "mpg.loc[:, numerical_features] = preprocessor.named_transformers_[\"pipeline\"][\"standardscaler\"].inverse_transform(mpg[numerical_features])"
      ],
      "execution_count": null,
      "outputs": []
    },
    {
      "cell_type": "code",
      "metadata": {
        "colab": {
          "base_uri": "https://localhost:8080/",
          "height": 419
        },
        "id": "7ml2ipXBxyuU",
        "outputId": "bab97dc0-b970-4973-c4ad-d87b3ad14b87"
      },
      "source": [
        "mpg"
      ],
      "execution_count": null,
      "outputs": [
        {
          "output_type": "execute_result",
          "data": {
            "text/html": [
              "<div>\n",
              "<style scoped>\n",
              "    .dataframe tbody tr th:only-of-type {\n",
              "        vertical-align: middle;\n",
              "    }\n",
              "\n",
              "    .dataframe tbody tr th {\n",
              "        vertical-align: top;\n",
              "    }\n",
              "\n",
              "    .dataframe thead th {\n",
              "        text-align: right;\n",
              "    }\n",
              "</style>\n",
              "<table border=\"1\" class=\"dataframe\">\n",
              "  <thead>\n",
              "    <tr style=\"text-align: right;\">\n",
              "      <th></th>\n",
              "      <th>mpg</th>\n",
              "      <th>cylinders</th>\n",
              "      <th>displacement</th>\n",
              "      <th>horsepower</th>\n",
              "      <th>weight</th>\n",
              "      <th>acceleration</th>\n",
              "      <th>cluster</th>\n",
              "    </tr>\n",
              "  </thead>\n",
              "  <tbody>\n",
              "    <tr>\n",
              "      <th>0</th>\n",
              "      <td>18.0</td>\n",
              "      <td>8.0</td>\n",
              "      <td>307.0</td>\n",
              "      <td>130.0</td>\n",
              "      <td>3504.0</td>\n",
              "      <td>12.0</td>\n",
              "      <td>cluster_6</td>\n",
              "    </tr>\n",
              "    <tr>\n",
              "      <th>1</th>\n",
              "      <td>15.0</td>\n",
              "      <td>8.0</td>\n",
              "      <td>350.0</td>\n",
              "      <td>165.0</td>\n",
              "      <td>3693.0</td>\n",
              "      <td>11.5</td>\n",
              "      <td>cluster_6</td>\n",
              "    </tr>\n",
              "    <tr>\n",
              "      <th>2</th>\n",
              "      <td>18.0</td>\n",
              "      <td>8.0</td>\n",
              "      <td>318.0</td>\n",
              "      <td>150.0</td>\n",
              "      <td>3436.0</td>\n",
              "      <td>11.0</td>\n",
              "      <td>cluster_6</td>\n",
              "    </tr>\n",
              "    <tr>\n",
              "      <th>3</th>\n",
              "      <td>16.0</td>\n",
              "      <td>8.0</td>\n",
              "      <td>304.0</td>\n",
              "      <td>150.0</td>\n",
              "      <td>3433.0</td>\n",
              "      <td>12.0</td>\n",
              "      <td>cluster_6</td>\n",
              "    </tr>\n",
              "    <tr>\n",
              "      <th>4</th>\n",
              "      <td>17.0</td>\n",
              "      <td>8.0</td>\n",
              "      <td>302.0</td>\n",
              "      <td>140.0</td>\n",
              "      <td>3449.0</td>\n",
              "      <td>10.5</td>\n",
              "      <td>cluster_6</td>\n",
              "    </tr>\n",
              "    <tr>\n",
              "      <th>...</th>\n",
              "      <td>...</td>\n",
              "      <td>...</td>\n",
              "      <td>...</td>\n",
              "      <td>...</td>\n",
              "      <td>...</td>\n",
              "      <td>...</td>\n",
              "      <td>...</td>\n",
              "    </tr>\n",
              "    <tr>\n",
              "      <th>393</th>\n",
              "      <td>27.0</td>\n",
              "      <td>4.0</td>\n",
              "      <td>140.0</td>\n",
              "      <td>86.0</td>\n",
              "      <td>2790.0</td>\n",
              "      <td>15.6</td>\n",
              "      <td>cluster_4</td>\n",
              "    </tr>\n",
              "    <tr>\n",
              "      <th>394</th>\n",
              "      <td>44.0</td>\n",
              "      <td>4.0</td>\n",
              "      <td>97.0</td>\n",
              "      <td>52.0</td>\n",
              "      <td>2130.0</td>\n",
              "      <td>24.6</td>\n",
              "      <td>cluster_5</td>\n",
              "    </tr>\n",
              "    <tr>\n",
              "      <th>395</th>\n",
              "      <td>32.0</td>\n",
              "      <td>4.0</td>\n",
              "      <td>135.0</td>\n",
              "      <td>84.0</td>\n",
              "      <td>2295.0</td>\n",
              "      <td>11.6</td>\n",
              "      <td>cluster_4</td>\n",
              "    </tr>\n",
              "    <tr>\n",
              "      <th>396</th>\n",
              "      <td>28.0</td>\n",
              "      <td>4.0</td>\n",
              "      <td>120.0</td>\n",
              "      <td>79.0</td>\n",
              "      <td>2625.0</td>\n",
              "      <td>18.6</td>\n",
              "      <td>cluster_5</td>\n",
              "    </tr>\n",
              "    <tr>\n",
              "      <th>397</th>\n",
              "      <td>31.0</td>\n",
              "      <td>4.0</td>\n",
              "      <td>119.0</td>\n",
              "      <td>82.0</td>\n",
              "      <td>2720.0</td>\n",
              "      <td>19.4</td>\n",
              "      <td>cluster_5</td>\n",
              "    </tr>\n",
              "  </tbody>\n",
              "</table>\n",
              "<p>398 rows × 7 columns</p>\n",
              "</div>"
            ],
            "text/plain": [
              "      mpg  cylinders  displacement  horsepower  weight  acceleration    cluster\n",
              "0    18.0        8.0         307.0       130.0  3504.0          12.0  cluster_6\n",
              "1    15.0        8.0         350.0       165.0  3693.0          11.5  cluster_6\n",
              "2    18.0        8.0         318.0       150.0  3436.0          11.0  cluster_6\n",
              "3    16.0        8.0         304.0       150.0  3433.0          12.0  cluster_6\n",
              "4    17.0        8.0         302.0       140.0  3449.0          10.5  cluster_6\n",
              "..    ...        ...           ...         ...     ...           ...        ...\n",
              "393  27.0        4.0         140.0        86.0  2790.0          15.6  cluster_4\n",
              "394  44.0        4.0          97.0        52.0  2130.0          24.6  cluster_5\n",
              "395  32.0        4.0         135.0        84.0  2295.0          11.6  cluster_4\n",
              "396  28.0        4.0         120.0        79.0  2625.0          18.6  cluster_5\n",
              "397  31.0        4.0         119.0        82.0  2720.0          19.4  cluster_5\n",
              "\n",
              "[398 rows x 7 columns]"
            ]
          },
          "metadata": {
            "tags": []
          },
          "execution_count": 37
        }
      ]
    },
    {
      "cell_type": "code",
      "metadata": {
        "colab": {
          "base_uri": "https://localhost:8080/",
          "height": 265
        },
        "id": "24fwD8qCyhkt",
        "outputId": "4bb0f4c5-3422-4387-fdf8-6031deb57a95"
      },
      "source": [
        "mpg.groupby(by=\"cluster\").median()"
      ],
      "execution_count": null,
      "outputs": [
        {
          "output_type": "execute_result",
          "data": {
            "text/html": [
              "<div>\n",
              "<style scoped>\n",
              "    .dataframe tbody tr th:only-of-type {\n",
              "        vertical-align: middle;\n",
              "    }\n",
              "\n",
              "    .dataframe tbody tr th {\n",
              "        vertical-align: top;\n",
              "    }\n",
              "\n",
              "    .dataframe thead th {\n",
              "        text-align: right;\n",
              "    }\n",
              "</style>\n",
              "<table border=\"1\" class=\"dataframe\">\n",
              "  <thead>\n",
              "    <tr style=\"text-align: right;\">\n",
              "      <th></th>\n",
              "      <th>mpg</th>\n",
              "      <th>cylinders</th>\n",
              "      <th>displacement</th>\n",
              "      <th>horsepower</th>\n",
              "      <th>weight</th>\n",
              "      <th>acceleration</th>\n",
              "    </tr>\n",
              "    <tr>\n",
              "      <th>cluster</th>\n",
              "      <th></th>\n",
              "      <th></th>\n",
              "      <th></th>\n",
              "      <th></th>\n",
              "      <th></th>\n",
              "      <th></th>\n",
              "    </tr>\n",
              "  </thead>\n",
              "  <tbody>\n",
              "    <tr>\n",
              "      <th>cluster_1</th>\n",
              "      <td>19.0</td>\n",
              "      <td>6.0</td>\n",
              "      <td>231.0</td>\n",
              "      <td>100.0</td>\n",
              "      <td>3278.0</td>\n",
              "      <td>16.5</td>\n",
              "    </tr>\n",
              "    <tr>\n",
              "      <th>cluster_2</th>\n",
              "      <td>13.0</td>\n",
              "      <td>8.0</td>\n",
              "      <td>400.0</td>\n",
              "      <td>180.0</td>\n",
              "      <td>4380.0</td>\n",
              "      <td>11.5</td>\n",
              "    </tr>\n",
              "    <tr>\n",
              "      <th>cluster_3</th>\n",
              "      <td>34.0</td>\n",
              "      <td>4.0</td>\n",
              "      <td>97.0</td>\n",
              "      <td>70.0</td>\n",
              "      <td>2065.0</td>\n",
              "      <td>16.0</td>\n",
              "    </tr>\n",
              "    <tr>\n",
              "      <th>cluster_4</th>\n",
              "      <td>25.0</td>\n",
              "      <td>4.0</td>\n",
              "      <td>121.0</td>\n",
              "      <td>92.0</td>\n",
              "      <td>2556.0</td>\n",
              "      <td>15.0</td>\n",
              "    </tr>\n",
              "    <tr>\n",
              "      <th>cluster_5</th>\n",
              "      <td>27.1</td>\n",
              "      <td>4.0</td>\n",
              "      <td>98.0</td>\n",
              "      <td>70.0</td>\n",
              "      <td>2294.5</td>\n",
              "      <td>19.5</td>\n",
              "    </tr>\n",
              "    <tr>\n",
              "      <th>cluster_6</th>\n",
              "      <td>15.0</td>\n",
              "      <td>8.0</td>\n",
              "      <td>318.0</td>\n",
              "      <td>148.0</td>\n",
              "      <td>4054.0</td>\n",
              "      <td>13.5</td>\n",
              "    </tr>\n",
              "  </tbody>\n",
              "</table>\n",
              "</div>"
            ],
            "text/plain": [
              "            mpg  cylinders  displacement  horsepower  weight  acceleration\n",
              "cluster                                                                   \n",
              "cluster_1  19.0        6.0         231.0       100.0  3278.0          16.5\n",
              "cluster_2  13.0        8.0         400.0       180.0  4380.0          11.5\n",
              "cluster_3  34.0        4.0          97.0        70.0  2065.0          16.0\n",
              "cluster_4  25.0        4.0         121.0        92.0  2556.0          15.0\n",
              "cluster_5  27.1        4.0          98.0        70.0  2294.5          19.5\n",
              "cluster_6  15.0        8.0         318.0       148.0  4054.0          13.5"
            ]
          },
          "metadata": {
            "tags": []
          },
          "execution_count": 39
        }
      ]
    },
    {
      "cell_type": "code",
      "metadata": {
        "colab": {
          "base_uri": "https://localhost:8080/",
          "height": 265
        },
        "id": "uTL6tdYQyrBa",
        "outputId": "b0eb173d-b571-441d-b62d-61646fa9dcbe"
      },
      "source": [
        "mpg.groupby(by=\"cluster\").std()"
      ],
      "execution_count": null,
      "outputs": [
        {
          "output_type": "execute_result",
          "data": {
            "text/html": [
              "<div>\n",
              "<style scoped>\n",
              "    .dataframe tbody tr th:only-of-type {\n",
              "        vertical-align: middle;\n",
              "    }\n",
              "\n",
              "    .dataframe tbody tr th {\n",
              "        vertical-align: top;\n",
              "    }\n",
              "\n",
              "    .dataframe thead th {\n",
              "        text-align: right;\n",
              "    }\n",
              "</style>\n",
              "<table border=\"1\" class=\"dataframe\">\n",
              "  <thead>\n",
              "    <tr style=\"text-align: right;\">\n",
              "      <th></th>\n",
              "      <th>mpg</th>\n",
              "      <th>cylinders</th>\n",
              "      <th>displacement</th>\n",
              "      <th>horsepower</th>\n",
              "      <th>weight</th>\n",
              "      <th>acceleration</th>\n",
              "    </tr>\n",
              "    <tr>\n",
              "      <th>cluster</th>\n",
              "      <th></th>\n",
              "      <th></th>\n",
              "      <th></th>\n",
              "      <th></th>\n",
              "      <th></th>\n",
              "      <th></th>\n",
              "    </tr>\n",
              "  </thead>\n",
              "  <tbody>\n",
              "    <tr>\n",
              "      <th>cluster_1</th>\n",
              "      <td>2.361821</td>\n",
              "      <td>0.446755</td>\n",
              "      <td>30.250509</td>\n",
              "      <td>11.498606</td>\n",
              "      <td>325.423058</td>\n",
              "      <td>1.820997</td>\n",
              "    </tr>\n",
              "    <tr>\n",
              "      <th>cluster_2</th>\n",
              "      <td>1.694697</td>\n",
              "      <td>0.000000</td>\n",
              "      <td>39.477024</td>\n",
              "      <td>22.526028</td>\n",
              "      <td>440.732083</td>\n",
              "      <td>1.546113</td>\n",
              "    </tr>\n",
              "    <tr>\n",
              "      <th>cluster_3</th>\n",
              "      <td>3.841959</td>\n",
              "      <td>0.226455</td>\n",
              "      <td>21.975768</td>\n",
              "      <td>8.268838</td>\n",
              "      <td>222.127441</td>\n",
              "      <td>1.473094</td>\n",
              "    </tr>\n",
              "    <tr>\n",
              "      <th>cluster_4</th>\n",
              "      <td>3.171598</td>\n",
              "      <td>0.618403</td>\n",
              "      <td>23.158690</td>\n",
              "      <td>11.953457</td>\n",
              "      <td>258.107211</td>\n",
              "      <td>1.453202</td>\n",
              "    </tr>\n",
              "    <tr>\n",
              "      <th>cluster_5</th>\n",
              "      <td>6.196030</td>\n",
              "      <td>0.340468</td>\n",
              "      <td>26.420956</td>\n",
              "      <td>13.613576</td>\n",
              "      <td>466.240163</td>\n",
              "      <td>1.706894</td>\n",
              "    </tr>\n",
              "    <tr>\n",
              "      <th>cluster_6</th>\n",
              "      <td>2.475984</td>\n",
              "      <td>0.251976</td>\n",
              "      <td>27.064619</td>\n",
              "      <td>12.149563</td>\n",
              "      <td>402.646211</td>\n",
              "      <td>1.464833</td>\n",
              "    </tr>\n",
              "  </tbody>\n",
              "</table>\n",
              "</div>"
            ],
            "text/plain": [
              "                mpg  cylinders  ...      weight  acceleration\n",
              "cluster                         ...                          \n",
              "cluster_1  2.361821   0.446755  ...  325.423058      1.820997\n",
              "cluster_2  1.694697   0.000000  ...  440.732083      1.546113\n",
              "cluster_3  3.841959   0.226455  ...  222.127441      1.473094\n",
              "cluster_4  3.171598   0.618403  ...  258.107211      1.453202\n",
              "cluster_5  6.196030   0.340468  ...  466.240163      1.706894\n",
              "cluster_6  2.475984   0.251976  ...  402.646211      1.464833\n",
              "\n",
              "[6 rows x 6 columns]"
            ]
          },
          "metadata": {
            "tags": []
          },
          "execution_count": 41
        }
      ]
    },
    {
      "cell_type": "code",
      "metadata": {
        "id": "dPrkqCGSzHYM"
      },
      "source": [
        "from sklearn.manifold import TSNE"
      ],
      "execution_count": null,
      "outputs": []
    },
    {
      "cell_type": "code",
      "metadata": {
        "id": "4kiDyamv2lcH"
      },
      "source": [
        "scaler = StandardScaler()\n",
        "\n",
        "X = scaler.fit_transform(mpg[numerical_features])"
      ],
      "execution_count": null,
      "outputs": []
    },
    {
      "cell_type": "code",
      "metadata": {
        "id": "FWmiNRrC25_k"
      },
      "source": [
        "tsne = TSNE(n_components=2, random_state=42)\n",
        "\n",
        "tsne_out = tsne.fit_transform(X)"
      ],
      "execution_count": null,
      "outputs": []
    },
    {
      "cell_type": "code",
      "metadata": {
        "colab": {
          "base_uri": "https://localhost:8080/",
          "height": 419
        },
        "id": "BGOR33ZQ3FZL",
        "outputId": "f0efc03d-e08c-4fb3-a3a9-5ec0c5910e40"
      },
      "source": [
        "tsne_df = pd.concat(objs=[pd.DataFrame(tsne_out, columns=[\"x\", \"y\"]),\n",
        "                          mpg[\"cluster\"]], axis=1)\n",
        "\n",
        "tsne_df"
      ],
      "execution_count": null,
      "outputs": [
        {
          "output_type": "execute_result",
          "data": {
            "text/html": [
              "<div>\n",
              "<style scoped>\n",
              "    .dataframe tbody tr th:only-of-type {\n",
              "        vertical-align: middle;\n",
              "    }\n",
              "\n",
              "    .dataframe tbody tr th {\n",
              "        vertical-align: top;\n",
              "    }\n",
              "\n",
              "    .dataframe thead th {\n",
              "        text-align: right;\n",
              "    }\n",
              "</style>\n",
              "<table border=\"1\" class=\"dataframe\">\n",
              "  <thead>\n",
              "    <tr style=\"text-align: right;\">\n",
              "      <th></th>\n",
              "      <th>x</th>\n",
              "      <th>y</th>\n",
              "      <th>cluster</th>\n",
              "    </tr>\n",
              "  </thead>\n",
              "  <tbody>\n",
              "    <tr>\n",
              "      <th>0</th>\n",
              "      <td>-5.489828</td>\n",
              "      <td>30.340000</td>\n",
              "      <td>cluster_6</td>\n",
              "    </tr>\n",
              "    <tr>\n",
              "      <th>1</th>\n",
              "      <td>-9.213550</td>\n",
              "      <td>33.559254</td>\n",
              "      <td>cluster_6</td>\n",
              "    </tr>\n",
              "    <tr>\n",
              "      <th>2</th>\n",
              "      <td>-7.356521</td>\n",
              "      <td>30.727953</td>\n",
              "      <td>cluster_6</td>\n",
              "    </tr>\n",
              "    <tr>\n",
              "      <th>3</th>\n",
              "      <td>-6.468780</td>\n",
              "      <td>31.000259</td>\n",
              "      <td>cluster_6</td>\n",
              "    </tr>\n",
              "    <tr>\n",
              "      <th>4</th>\n",
              "      <td>-7.523090</td>\n",
              "      <td>30.237774</td>\n",
              "      <td>cluster_6</td>\n",
              "    </tr>\n",
              "    <tr>\n",
              "      <th>...</th>\n",
              "      <td>...</td>\n",
              "      <td>...</td>\n",
              "      <td>...</td>\n",
              "    </tr>\n",
              "    <tr>\n",
              "      <th>393</th>\n",
              "      <td>-1.230065</td>\n",
              "      <td>-14.265833</td>\n",
              "      <td>cluster_4</td>\n",
              "    </tr>\n",
              "    <tr>\n",
              "      <th>394</th>\n",
              "      <td>0.670924</td>\n",
              "      <td>-33.036171</td>\n",
              "      <td>cluster_5</td>\n",
              "    </tr>\n",
              "    <tr>\n",
              "      <th>395</th>\n",
              "      <td>-12.017209</td>\n",
              "      <td>-21.118668</td>\n",
              "      <td>cluster_4</td>\n",
              "    </tr>\n",
              "    <tr>\n",
              "      <th>396</th>\n",
              "      <td>4.157040</td>\n",
              "      <td>-20.242855</td>\n",
              "      <td>cluster_5</td>\n",
              "    </tr>\n",
              "    <tr>\n",
              "      <th>397</th>\n",
              "      <td>4.672412</td>\n",
              "      <td>-21.549036</td>\n",
              "      <td>cluster_5</td>\n",
              "    </tr>\n",
              "  </tbody>\n",
              "</table>\n",
              "<p>398 rows × 3 columns</p>\n",
              "</div>"
            ],
            "text/plain": [
              "             x          y    cluster\n",
              "0    -5.489828  30.340000  cluster_6\n",
              "1    -9.213550  33.559254  cluster_6\n",
              "2    -7.356521  30.727953  cluster_6\n",
              "3    -6.468780  31.000259  cluster_6\n",
              "4    -7.523090  30.237774  cluster_6\n",
              "..         ...        ...        ...\n",
              "393  -1.230065 -14.265833  cluster_4\n",
              "394   0.670924 -33.036171  cluster_5\n",
              "395 -12.017209 -21.118668  cluster_4\n",
              "396   4.157040 -20.242855  cluster_5\n",
              "397   4.672412 -21.549036  cluster_5\n",
              "\n",
              "[398 rows x 3 columns]"
            ]
          },
          "metadata": {
            "tags": []
          },
          "execution_count": 46
        }
      ]
    },
    {
      "cell_type": "code",
      "metadata": {
        "id": "Q4WNxX9c3ICZ"
      },
      "source": [
        "import seaborn as sns"
      ],
      "execution_count": null,
      "outputs": []
    },
    {
      "cell_type": "code",
      "metadata": {
        "colab": {
          "base_uri": "https://localhost:8080/",
          "height": 379
        },
        "id": "3jTrno6R3xod",
        "outputId": "e17d74be-af8b-4530-b0d9-688881d29615"
      },
      "source": [
        "sns.scatterplot(data=tsne_df, x=\"x\", y=\"y\", hue=\"cluster\")"
      ],
      "execution_count": null,
      "outputs": [
        {
          "output_type": "execute_result",
          "data": {
            "text/plain": [
              "<matplotlib.axes._subplots.AxesSubplot at 0x7f5625953e50>"
            ]
          },
          "metadata": {
            "tags": []
          },
          "execution_count": 48
        },
        {
          "output_type": "display_data",
          "data": {
            "image/png": "[encoded data removed]",
            "text/plain": [
              "<Figure size 576x396 with 1 Axes>"
            ]
          },
          "metadata": {
            "tags": []
          }
        }
      ]
    },
    {
      "cell_type": "code",
      "metadata": {
        "colab": {
          "base_uri": "https://localhost:8080/",
          "height": 185
        },
        "id": "XxfpGbpD3556",
        "outputId": "835b038e-d00e-489e-cde5-806e397477d5"
      },
      "source": [
        "mpg.groupby(by=\"cluster\").median().style.background_gradient()"
      ],
      "execution_count": null,
      "outputs": [
        {
          "output_type": "execute_result",
          "data": {
            "text/html": [
              "<style  type=\"text/css\" >\n",
              "#T_4606a378_dc0f_11eb_a294_0242ac1c0002row0_col0{\n",
              "            background-color:  #c4cbe3;\n",
              "            color:  #000000;\n",
              "        }#T_4606a378_dc0f_11eb_a294_0242ac1c0002row0_col1{\n",
              "            background-color:  #73a9cf;\n",
              "            color:  #000000;\n",
              "        }#T_4606a378_dc0f_11eb_a294_0242ac1c0002row0_col2{\n",
              "            background-color:  #8bb2d4;\n",
              "            color:  #000000;\n",
              "        }#T_4606a378_dc0f_11eb_a294_0242ac1c0002row0_col3{\n",
              "            background-color:  #c9cee4;\n",
              "            color:  #000000;\n",
              "        }#T_4606a378_dc0f_11eb_a294_0242ac1c0002row0_col4{\n",
              "            background-color:  #67a4cc;\n",
              "            color:  #000000;\n",
              "        }#T_4606a378_dc0f_11eb_a294_0242ac1c0002row0_col5{\n",
              "            background-color:  #358fc0;\n",
              "            color:  #000000;\n",
              "        }#T_4606a378_dc0f_11eb_a294_0242ac1c0002row1_col0,#T_4606a378_dc0f_11eb_a294_0242ac1c0002row1_col5,#T_4606a378_dc0f_11eb_a294_0242ac1c0002row2_col1,#T_4606a378_dc0f_11eb_a294_0242ac1c0002row2_col2,#T_4606a378_dc0f_11eb_a294_0242ac1c0002row2_col3,#T_4606a378_dc0f_11eb_a294_0242ac1c0002row2_col4,#T_4606a378_dc0f_11eb_a294_0242ac1c0002row3_col1,#T_4606a378_dc0f_11eb_a294_0242ac1c0002row4_col1,#T_4606a378_dc0f_11eb_a294_0242ac1c0002row4_col2,#T_4606a378_dc0f_11eb_a294_0242ac1c0002row4_col3{\n",
              "            background-color:  #fff7fb;\n",
              "            color:  #000000;\n",
              "        }#T_4606a378_dc0f_11eb_a294_0242ac1c0002row1_col1,#T_4606a378_dc0f_11eb_a294_0242ac1c0002row1_col2,#T_4606a378_dc0f_11eb_a294_0242ac1c0002row1_col3,#T_4606a378_dc0f_11eb_a294_0242ac1c0002row1_col4,#T_4606a378_dc0f_11eb_a294_0242ac1c0002row2_col0,#T_4606a378_dc0f_11eb_a294_0242ac1c0002row4_col5,#T_4606a378_dc0f_11eb_a294_0242ac1c0002row5_col1{\n",
              "            background-color:  #023858;\n",
              "            color:  #f1f1f1;\n",
              "        }#T_4606a378_dc0f_11eb_a294_0242ac1c0002row2_col5{\n",
              "            background-color:  #549cc7;\n",
              "            color:  #000000;\n",
              "        }#T_4606a378_dc0f_11eb_a294_0242ac1c0002row3_col0{\n",
              "            background-color:  #509ac6;\n",
              "            color:  #000000;\n",
              "        }#T_4606a378_dc0f_11eb_a294_0242ac1c0002row3_col2{\n",
              "            background-color:  #f3edf5;\n",
              "            color:  #000000;\n",
              "        }#T_4606a378_dc0f_11eb_a294_0242ac1c0002row3_col3{\n",
              "            background-color:  #dbdaeb;\n",
              "            color:  #000000;\n",
              "        }#T_4606a378_dc0f_11eb_a294_0242ac1c0002row3_col4{\n",
              "            background-color:  #d9d8ea;\n",
              "            color:  #000000;\n",
              "        }#T_4606a378_dc0f_11eb_a294_0242ac1c0002row3_col5{\n",
              "            background-color:  #8cb3d5;\n",
              "            color:  #000000;\n",
              "        }#T_4606a378_dc0f_11eb_a294_0242ac1c0002row4_col0{\n",
              "            background-color:  #2484ba;\n",
              "            color:  #000000;\n",
              "        }#T_4606a378_dc0f_11eb_a294_0242ac1c0002row4_col4{\n",
              "            background-color:  #f0eaf4;\n",
              "            color:  #000000;\n",
              "        }#T_4606a378_dc0f_11eb_a294_0242ac1c0002row5_col0{\n",
              "            background-color:  #f1ebf4;\n",
              "            color:  #000000;\n",
              "        }#T_4606a378_dc0f_11eb_a294_0242ac1c0002row5_col2{\n",
              "            background-color:  #0d75b3;\n",
              "            color:  #f1f1f1;\n",
              "        }#T_4606a378_dc0f_11eb_a294_0242ac1c0002row5_col3{\n",
              "            background-color:  #157ab5;\n",
              "            color:  #000000;\n",
              "        }#T_4606a378_dc0f_11eb_a294_0242ac1c0002row5_col4{\n",
              "            background-color:  #045d92;\n",
              "            color:  #f1f1f1;\n",
              "        }#T_4606a378_dc0f_11eb_a294_0242ac1c0002row5_col5{\n",
              "            background-color:  #d0d1e6;\n",
              "            color:  #000000;\n",
              "        }</style><table id=\"T_4606a378_dc0f_11eb_a294_0242ac1c0002\" ><thead>    <tr>        <th class=\"blank level0\" ></th>        <th class=\"col_heading level0 col0\" >mpg</th>        <th class=\"col_heading level0 col1\" >cylinders</th>        <th class=\"col_heading level0 col2\" >displacement</th>        <th class=\"col_heading level0 col3\" >horsepower</th>        <th class=\"col_heading level0 col4\" >weight</th>        <th class=\"col_heading level0 col5\" >acceleration</th>    </tr>    <tr>        <th class=\"index_name level0\" >cluster</th>        <th class=\"blank\" ></th>        <th class=\"blank\" ></th>        <th class=\"blank\" ></th>        <th class=\"blank\" ></th>        <th class=\"blank\" ></th>        <th class=\"blank\" ></th>    </tr></thead><tbody>\n",
              "                <tr>\n",
              "                        <th id=\"T_4606a378_dc0f_11eb_a294_0242ac1c0002level0_row0\" class=\"row_heading level0 row0\" >cluster_1</th>\n",
              "                        <td id=\"T_4606a378_dc0f_11eb_a294_0242ac1c0002row0_col0\" class=\"data row0 col0\" >19.000000</td>\n",
              "                        <td id=\"T_4606a378_dc0f_11eb_a294_0242ac1c0002row0_col1\" class=\"data row0 col1\" >6.000000</td>\n",
              "                        <td id=\"T_4606a378_dc0f_11eb_a294_0242ac1c0002row0_col2\" class=\"data row0 col2\" >231.000000</td>\n",
              "                        <td id=\"T_4606a378_dc0f_11eb_a294_0242ac1c0002row0_col3\" class=\"data row0 col3\" >100.000000</td>\n",
              "                        <td id=\"T_4606a378_dc0f_11eb_a294_0242ac1c0002row0_col4\" class=\"data row0 col4\" >3278.000000</td>\n",
              "                        <td id=\"T_4606a378_dc0f_11eb_a294_0242ac1c0002row0_col5\" class=\"data row0 col5\" >16.500000</td>\n",
              "            </tr>\n",
              "            <tr>\n",
              "                        <th id=\"T_4606a378_dc0f_11eb_a294_0242ac1c0002level0_row1\" class=\"row_heading level0 row1\" >cluster_2</th>\n",
              "                        <td id=\"T_4606a378_dc0f_11eb_a294_0242ac1c0002row1_col0\" class=\"data row1 col0\" >13.000000</td>\n",
              "                        <td id=\"T_4606a378_dc0f_11eb_a294_0242ac1c0002row1_col1\" class=\"data row1 col1\" >8.000000</td>\n",
              "                        <td id=\"T_4606a378_dc0f_11eb_a294_0242ac1c0002row1_col2\" class=\"data row1 col2\" >400.000000</td>\n",
              "                        <td id=\"T_4606a378_dc0f_11eb_a294_0242ac1c0002row1_col3\" class=\"data row1 col3\" >180.000000</td>\n",
              "                        <td id=\"T_4606a378_dc0f_11eb_a294_0242ac1c0002row1_col4\" class=\"data row1 col4\" >4380.000000</td>\n",
              "                        <td id=\"T_4606a378_dc0f_11eb_a294_0242ac1c0002row1_col5\" class=\"data row1 col5\" >11.500000</td>\n",
              "            </tr>\n",
              "            <tr>\n",
              "                        <th id=\"T_4606a378_dc0f_11eb_a294_0242ac1c0002level0_row2\" class=\"row_heading level0 row2\" >cluster_3</th>\n",
              "                        <td id=\"T_4606a378_dc0f_11eb_a294_0242ac1c0002row2_col0\" class=\"data row2 col0\" >34.000000</td>\n",
              "                        <td id=\"T_4606a378_dc0f_11eb_a294_0242ac1c0002row2_col1\" class=\"data row2 col1\" >4.000000</td>\n",
              "                        <td id=\"T_4606a378_dc0f_11eb_a294_0242ac1c0002row2_col2\" class=\"data row2 col2\" >97.000000</td>\n",
              "                        <td id=\"T_4606a378_dc0f_11eb_a294_0242ac1c0002row2_col3\" class=\"data row2 col3\" >70.000000</td>\n",
              "                        <td id=\"T_4606a378_dc0f_11eb_a294_0242ac1c0002row2_col4\" class=\"data row2 col4\" >2065.000000</td>\n",
              "                        <td id=\"T_4606a378_dc0f_11eb_a294_0242ac1c0002row2_col5\" class=\"data row2 col5\" >16.000000</td>\n",
              "            </tr>\n",
              "            <tr>\n",
              "                        <th id=\"T_4606a378_dc0f_11eb_a294_0242ac1c0002level0_row3\" class=\"row_heading level0 row3\" >cluster_4</th>\n",
              "                        <td id=\"T_4606a378_dc0f_11eb_a294_0242ac1c0002row3_col0\" class=\"data row3 col0\" >25.000000</td>\n",
              "                        <td id=\"T_4606a378_dc0f_11eb_a294_0242ac1c0002row3_col1\" class=\"data row3 col1\" >4.000000</td>\n",
              "                        <td id=\"T_4606a378_dc0f_11eb_a294_0242ac1c0002row3_col2\" class=\"data row3 col2\" >121.000000</td>\n",
              "                        <td id=\"T_4606a378_dc0f_11eb_a294_0242ac1c0002row3_col3\" class=\"data row3 col3\" >92.000000</td>\n",
              "                        <td id=\"T_4606a378_dc0f_11eb_a294_0242ac1c0002row3_col4\" class=\"data row3 col4\" >2556.000000</td>\n",
              "                        <td id=\"T_4606a378_dc0f_11eb_a294_0242ac1c0002row3_col5\" class=\"data row3 col5\" >15.000000</td>\n",
              "            </tr>\n",
              "            <tr>\n",
              "                        <th id=\"T_4606a378_dc0f_11eb_a294_0242ac1c0002level0_row4\" class=\"row_heading level0 row4\" >cluster_5</th>\n",
              "                        <td id=\"T_4606a378_dc0f_11eb_a294_0242ac1c0002row4_col0\" class=\"data row4 col0\" >27.100000</td>\n",
              "                        <td id=\"T_4606a378_dc0f_11eb_a294_0242ac1c0002row4_col1\" class=\"data row4 col1\" >4.000000</td>\n",
              "                        <td id=\"T_4606a378_dc0f_11eb_a294_0242ac1c0002row4_col2\" class=\"data row4 col2\" >98.000000</td>\n",
              "                        <td id=\"T_4606a378_dc0f_11eb_a294_0242ac1c0002row4_col3\" class=\"data row4 col3\" >70.000000</td>\n",
              "                        <td id=\"T_4606a378_dc0f_11eb_a294_0242ac1c0002row4_col4\" class=\"data row4 col4\" >2294.500000</td>\n",
              "                        <td id=\"T_4606a378_dc0f_11eb_a294_0242ac1c0002row4_col5\" class=\"data row4 col5\" >19.500000</td>\n",
              "            </tr>\n",
              "            <tr>\n",
              "                        <th id=\"T_4606a378_dc0f_11eb_a294_0242ac1c0002level0_row5\" class=\"row_heading level0 row5\" >cluster_6</th>\n",
              "                        <td id=\"T_4606a378_dc0f_11eb_a294_0242ac1c0002row5_col0\" class=\"data row5 col0\" >15.000000</td>\n",
              "                        <td id=\"T_4606a378_dc0f_11eb_a294_0242ac1c0002row5_col1\" class=\"data row5 col1\" >8.000000</td>\n",
              "                        <td id=\"T_4606a378_dc0f_11eb_a294_0242ac1c0002row5_col2\" class=\"data row5 col2\" >318.000000</td>\n",
              "                        <td id=\"T_4606a378_dc0f_11eb_a294_0242ac1c0002row5_col3\" class=\"data row5 col3\" >148.000000</td>\n",
              "                        <td id=\"T_4606a378_dc0f_11eb_a294_0242ac1c0002row5_col4\" class=\"data row5 col4\" >4054.000000</td>\n",
              "                        <td id=\"T_4606a378_dc0f_11eb_a294_0242ac1c0002row5_col5\" class=\"data row5 col5\" >13.500000</td>\n",
              "            </tr>\n",
              "    </tbody></table>"
            ],
            "text/plain": [
              "<pandas.io.formats.style.Styler at 0x7f56245efc10>"
            ]
          },
          "metadata": {
            "tags": []
          },
          "execution_count": 49
        }
      ]
    },
    {
      "cell_type": "code",
      "metadata": {
        "id": "MRrl04UX4z4O"
      },
      "source": [
        "from sklearn.decomposition import PCA"
      ],
      "execution_count": null,
      "outputs": []
    },
    {
      "cell_type": "code",
      "metadata": {
        "colab": {
          "base_uri": "https://localhost:8080/",
          "height": 419
        },
        "id": "PHxZcAoW5XqV",
        "outputId": "5f3c930f-e17a-49fa-f490-1d76fbff0274"
      },
      "source": [
        "pca = PCA(n_components=2, random_state=42)\n",
        "\n",
        "pca_df = pd.concat(objs=[pd.DataFrame(pca.fit_transform(X), columns=[\"pc_1\", \"pc_2\"]),\n",
        "                         mpg[\"cluster\"]], axis=1)\n",
        "\n",
        "pca_df"
      ],
      "execution_count": null,
      "outputs": [
        {
          "output_type": "execute_result",
          "data": {
            "text/html": [
              "<div>\n",
              "<style scoped>\n",
              "    .dataframe tbody tr th:only-of-type {\n",
              "        vertical-align: middle;\n",
              "    }\n",
              "\n",
              "    .dataframe tbody tr th {\n",
              "        vertical-align: top;\n",
              "    }\n",
              "\n",
              "    .dataframe thead th {\n",
              "        text-align: right;\n",
              "    }\n",
              "</style>\n",
              "<table border=\"1\" class=\"dataframe\">\n",
              "  <thead>\n",
              "    <tr style=\"text-align: right;\">\n",
              "      <th></th>\n",
              "      <th>pc_1</th>\n",
              "      <th>pc_2</th>\n",
              "      <th>cluster</th>\n",
              "    </tr>\n",
              "  </thead>\n",
              "  <tbody>\n",
              "    <tr>\n",
              "      <th>0</th>\n",
              "      <td>2.352876</td>\n",
              "      <td>-0.576288</td>\n",
              "      <td>cluster_6</td>\n",
              "    </tr>\n",
              "    <tr>\n",
              "      <th>1</th>\n",
              "      <td>3.235212</td>\n",
              "      <td>-0.685493</td>\n",
              "      <td>cluster_6</td>\n",
              "    </tr>\n",
              "    <tr>\n",
              "      <th>2</th>\n",
              "      <td>2.697895</td>\n",
              "      <td>-0.998250</td>\n",
              "      <td>cluster_6</td>\n",
              "    </tr>\n",
              "    <tr>\n",
              "      <th>3</th>\n",
              "      <td>2.632850</td>\n",
              "      <td>-0.625733</td>\n",
              "      <td>cluster_6</td>\n",
              "    </tr>\n",
              "    <tr>\n",
              "      <th>4</th>\n",
              "      <td>2.627021</td>\n",
              "      <td>-1.097237</td>\n",
              "      <td>cluster_6</td>\n",
              "    </tr>\n",
              "    <tr>\n",
              "      <th>...</th>\n",
              "      <td>...</td>\n",
              "      <td>...</td>\n",
              "      <td>...</td>\n",
              "    </tr>\n",
              "    <tr>\n",
              "      <th>393</th>\n",
              "      <td>-1.075449</td>\n",
              "      <td>-0.263229</td>\n",
              "      <td>cluster_4</td>\n",
              "    </tr>\n",
              "    <tr>\n",
              "      <th>394</th>\n",
              "      <td>-3.801820</td>\n",
              "      <td>1.989489</td>\n",
              "      <td>cluster_5</td>\n",
              "    </tr>\n",
              "    <tr>\n",
              "      <th>395</th>\n",
              "      <td>-1.202558</td>\n",
              "      <td>-1.882367</td>\n",
              "      <td>cluster_4</td>\n",
              "    </tr>\n",
              "    <tr>\n",
              "      <th>396</th>\n",
              "      <td>-1.692994</td>\n",
              "      <td>0.630904</td>\n",
              "      <td>cluster_5</td>\n",
              "    </tr>\n",
              "    <tr>\n",
              "      <th>397</th>\n",
              "      <td>-1.852890</td>\n",
              "      <td>0.812080</td>\n",
              "      <td>cluster_5</td>\n",
              "    </tr>\n",
              "  </tbody>\n",
              "</table>\n",
              "<p>398 rows × 3 columns</p>\n",
              "</div>"
            ],
            "text/plain": [
              "         pc_1      pc_2    cluster\n",
              "0    2.352876 -0.576288  cluster_6\n",
              "1    3.235212 -0.685493  cluster_6\n",
              "2    2.697895 -0.998250  cluster_6\n",
              "3    2.632850 -0.625733  cluster_6\n",
              "4    2.627021 -1.097237  cluster_6\n",
              "..        ...       ...        ...\n",
              "393 -1.075449 -0.263229  cluster_4\n",
              "394 -3.801820  1.989489  cluster_5\n",
              "395 -1.202558 -1.882367  cluster_4\n",
              "396 -1.692994  0.630904  cluster_5\n",
              "397 -1.852890  0.812080  cluster_5\n",
              "\n",
              "[398 rows x 3 columns]"
            ]
          },
          "metadata": {
            "tags": []
          },
          "execution_count": 51
        }
      ]
    },
    {
      "cell_type": "code",
      "metadata": {
        "colab": {
          "base_uri": "https://localhost:8080/",
          "height": 379
        },
        "id": "vRg-kWGa5vE6",
        "outputId": "40328bd7-822f-4cef-d4e0-da72d09cd081"
      },
      "source": [
        "sns.scatterplot(data=pca_df, x=\"pc_1\", y=\"pc_2\", hue=\"cluster\")"
      ],
      "execution_count": null,
      "outputs": [
        {
          "output_type": "execute_result",
          "data": {
            "text/plain": [
              "<matplotlib.axes._subplots.AxesSubplot at 0x7f5622af85d0>"
            ]
          },
          "metadata": {
            "tags": []
          },
          "execution_count": 52
        },
        {
          "output_type": "display_data",
          "data": {
            "image/png": "[encoded data removed]",
            "text/plain": [
              "<Figure size 576x396 with 1 Axes>"
            ]
          },
          "metadata": {
            "tags": []
          }
        }
      ]
    },
    {
      "cell_type": "code",
      "metadata": {
        "id": "OREIJW_t59Fy"
      },
      "source": [
        ""
      ],
      "execution_count": null,
      "outputs": []
    }
  ]
}